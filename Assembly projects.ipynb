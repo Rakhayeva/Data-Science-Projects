{
 "cells": [
  {
   "cell_type": "markdown",
   "metadata": {},
   "source": [
    "**Описание проекта**\n",
    "\n",
    "Целью проекта является выявление закономерностей, определяющих успешность компьютерных игр на основе исторических данных о продажах, оценках пользователей и критиков, а также жанрах и платформах. Эти знания позволят интернет-магазину «Стримчик» прогнозировать потенциально успешные игры и планировать рекламные кампании на 2017 год.\n",
    "\n",
    "**Цель исследования**\n",
    "\n",
    "Основная цель исследования — анализировать данные продаж игр по всему миру и выявить факторы, которые влияют на их успешность. В частности, важно определить, какие платформы и жанры наиболее перспективны для планирования будущих продаж, а также оценить влияние оценок пользователей и критиков на популярность игр. Анализ будет сосредоточен на данных до 2016 года, чтобы сделать прогнозы на 2017 год.\n",
    "\n",
    "**Ход исследования**\n",
    "\n",
    "**1. [Изучение данных:](#Изучение)**\n",
    "- Открытие и первичный анализ данных, содержащихся в файле games.csv.\n",
    "- Оценка структуры данных и предварительная обработка для устранения ошибок и заполнения пропусков.\n",
    "\n",
    "**2. [Подготовка данных:](#Подготовка)**\n",
    "- Приведение названий столбцов к нижнему регистру для удобства работы с данными.\n",
    "- Преобразование типов данных в столбцах для корректной работы с числами и датами.\n",
    "- Обработка пропусков в данных, в том числе работа с аббревиатурой tbd в оценках пользователей.\n",
    "- Расчёт суммарных продаж по регионам (Северная Америка, Европа, Япония и другие).\n",
    "\n",
    "**3. [Исследовательский анализ данных:](#Исследовательский)**\n",
    "- Анализ количества игр, выпущенных по годам, для определения актуальных временных периодов.\n",
    "- Изучение динамики продаж по различным платформам, выделение платформ с наибольшими продажами.\n",
    "- Оценка жизненного цикла платформ (появление и исчезновение), выбор наиболее перспективных платформ для анализа.\n",
    "- Построение графика распределения глобальных продаж игр по платформам с использованием \"ящика с усами\" для оценки разброса данных.\n",
    "- Анализ влияния оценок критиков и пользователей на продажи внутри популярных платформ с использованием диаграммы рассеяния и расчёта корреляции.\n",
    "- Исследование распределения продаж игр по жанрам для выявления наиболее прибыльных и популярных жанров.\n",
    "\n",
    "**4. [Портрет пользователя по регионам:](#Портрет)**\n",
    "- Определение топ-5 популярных платформ в разных регионах (Северная Америка, Европа, Япония).\n",
    "- Анализ самых популярных жанров в каждом регионе, сравнение предпочтений пользователей.\n",
    "- Исследование влияния возрастных рейтингов ESRB на продажи в каждом из регионов.\n",
    "\n",
    "**5. [Проверка гипотез:](#[Проверка)**\n",
    "- Проверка гипотезы о том, что средние пользовательские рейтинги игр на платформах Xbox One и PC не различаются.\n",
    "- Проверка гипотезы о том, что средние пользовательские рейтинги жанров Action и Sports различны.\n",
    "- Для проверки гипотез используются соответствующие статистические критерии (например, критерий Стьюдента).\n",
    "\n",
    "**6. [Общий вывод:](#Общий)**\n",
    "- На основе анализа данных будут сформулированы выводы о факторах, определяющих успешность игр.\n",
    "\n",
    "**7. [Рекомендации для бизнеса:](#Рекомендации)**\n",
    "-  Будут даны рекомендации по планированию рекламных кампаний для игр в 2017 году."
   ]
  },
  {
   "cell_type": "markdown",
   "metadata": {},
   "source": [
    "**Описание данных** \n",
    "- `Name` — название игры\n",
    "- `Platform` — платформа\n",
    "- `Year_of_Release` — год выпуска\n",
    "- `Genre` — жанр игры\n",
    "- `NA_sales` — продажи в Северной Америке (миллионы проданных копий)\n",
    "- `EU_sales` — продажи в Европе (миллионы проданных копий)\n",
    "- `JP_sales` — продажи в Японии (миллионы проданных копий)\n",
    "- `Other_sales` — продажи в других странах (миллионы проданных копий)\n",
    "- `Critic_Score` — оценка критиков (максимум 100)\n",
    "- `User_Score` — оценка пользователей (максимум 10)\n",
    "- `Rating` — рейтинг от организации ESRB (англ. Entertainment Software Rating Board). Эта ассоциация определяет рейтинг компьютерных игр и присваивает им подходящую возрастную категорию."
   ]
  },
  {
   "cell_type": "markdown",
   "metadata": {},
   "source": [
    "<a id='изучение'></a>\n",
    "## Изучение данных:"
   ]
  },
  {
   "cell_type": "code",
   "execution_count": 1,
   "metadata": {},
   "outputs": [],
   "source": [
    "# Загрузка библиотек\n",
    "import pandas as pd\n",
    "import seaborn as sns\n",
    "import matplotlib.pyplot as plt\n",
    "from scipy import stats"
   ]
  },
  {
   "cell_type": "code",
   "execution_count": 2,
   "metadata": {},
   "outputs": [],
   "source": [
    "# Чтение CSV-файла с данными о продажах игр\n",
    "df = pd.read_csv('/datasets/games.csv')"
   ]
  },
  {
   "cell_type": "code",
   "execution_count": 3,
   "metadata": {},
   "outputs": [
    {
     "name": "stdout",
     "output_type": "stream",
     "text": [
      "Первые 5 строк:\n"
     ]
    },
    {
     "data": {
      "text/html": [
       "<div>\n",
       "<style scoped>\n",
       "    .dataframe tbody tr th:only-of-type {\n",
       "        vertical-align: middle;\n",
       "    }\n",
       "\n",
       "    .dataframe tbody tr th {\n",
       "        vertical-align: top;\n",
       "    }\n",
       "\n",
       "    .dataframe thead th {\n",
       "        text-align: right;\n",
       "    }\n",
       "</style>\n",
       "<table border=\"1\" class=\"dataframe\">\n",
       "  <thead>\n",
       "    <tr style=\"text-align: right;\">\n",
       "      <th></th>\n",
       "      <th>Name</th>\n",
       "      <th>Platform</th>\n",
       "      <th>Year_of_Release</th>\n",
       "      <th>Genre</th>\n",
       "      <th>NA_sales</th>\n",
       "      <th>EU_sales</th>\n",
       "      <th>JP_sales</th>\n",
       "      <th>Other_sales</th>\n",
       "      <th>Critic_Score</th>\n",
       "      <th>User_Score</th>\n",
       "      <th>Rating</th>\n",
       "    </tr>\n",
       "  </thead>\n",
       "  <tbody>\n",
       "    <tr>\n",
       "      <th>0</th>\n",
       "      <td>Wii Sports</td>\n",
       "      <td>Wii</td>\n",
       "      <td>2006.0</td>\n",
       "      <td>Sports</td>\n",
       "      <td>41.36</td>\n",
       "      <td>28.96</td>\n",
       "      <td>3.77</td>\n",
       "      <td>8.45</td>\n",
       "      <td>76.0</td>\n",
       "      <td>8</td>\n",
       "      <td>E</td>\n",
       "    </tr>\n",
       "    <tr>\n",
       "      <th>1</th>\n",
       "      <td>Super Mario Bros.</td>\n",
       "      <td>NES</td>\n",
       "      <td>1985.0</td>\n",
       "      <td>Platform</td>\n",
       "      <td>29.08</td>\n",
       "      <td>3.58</td>\n",
       "      <td>6.81</td>\n",
       "      <td>0.77</td>\n",
       "      <td>NaN</td>\n",
       "      <td>NaN</td>\n",
       "      <td>NaN</td>\n",
       "    </tr>\n",
       "    <tr>\n",
       "      <th>2</th>\n",
       "      <td>Mario Kart Wii</td>\n",
       "      <td>Wii</td>\n",
       "      <td>2008.0</td>\n",
       "      <td>Racing</td>\n",
       "      <td>15.68</td>\n",
       "      <td>12.76</td>\n",
       "      <td>3.79</td>\n",
       "      <td>3.29</td>\n",
       "      <td>82.0</td>\n",
       "      <td>8.3</td>\n",
       "      <td>E</td>\n",
       "    </tr>\n",
       "    <tr>\n",
       "      <th>3</th>\n",
       "      <td>Wii Sports Resort</td>\n",
       "      <td>Wii</td>\n",
       "      <td>2009.0</td>\n",
       "      <td>Sports</td>\n",
       "      <td>15.61</td>\n",
       "      <td>10.93</td>\n",
       "      <td>3.28</td>\n",
       "      <td>2.95</td>\n",
       "      <td>80.0</td>\n",
       "      <td>8</td>\n",
       "      <td>E</td>\n",
       "    </tr>\n",
       "    <tr>\n",
       "      <th>4</th>\n",
       "      <td>Pokemon Red/Pokemon Blue</td>\n",
       "      <td>GB</td>\n",
       "      <td>1996.0</td>\n",
       "      <td>Role-Playing</td>\n",
       "      <td>11.27</td>\n",
       "      <td>8.89</td>\n",
       "      <td>10.22</td>\n",
       "      <td>1.00</td>\n",
       "      <td>NaN</td>\n",
       "      <td>NaN</td>\n",
       "      <td>NaN</td>\n",
       "    </tr>\n",
       "  </tbody>\n",
       "</table>\n",
       "</div>"
      ],
      "text/plain": [
       "                       Name Platform  Year_of_Release         Genre  NA_sales  \\\n",
       "0                Wii Sports      Wii           2006.0        Sports     41.36   \n",
       "1         Super Mario Bros.      NES           1985.0      Platform     29.08   \n",
       "2            Mario Kart Wii      Wii           2008.0        Racing     15.68   \n",
       "3         Wii Sports Resort      Wii           2009.0        Sports     15.61   \n",
       "4  Pokemon Red/Pokemon Blue       GB           1996.0  Role-Playing     11.27   \n",
       "\n",
       "   EU_sales  JP_sales  Other_sales  Critic_Score User_Score Rating  \n",
       "0     28.96      3.77         8.45          76.0          8      E  \n",
       "1      3.58      6.81         0.77           NaN        NaN    NaN  \n",
       "2     12.76      3.79         3.29          82.0        8.3      E  \n",
       "3     10.93      3.28         2.95          80.0          8      E  \n",
       "4      8.89     10.22         1.00           NaN        NaN    NaN  "
      ]
     },
     "metadata": {},
     "output_type": "display_data"
    },
    {
     "name": "stdout",
     "output_type": "stream",
     "text": [
      "\n",
      "Общая информация о DataFrame:\n",
      "\n",
      "<class 'pandas.core.frame.DataFrame'>\n",
      "RangeIndex: 16715 entries, 0 to 16714\n",
      "Data columns (total 11 columns):\n",
      " #   Column           Non-Null Count  Dtype  \n",
      "---  ------           --------------  -----  \n",
      " 0   Name             16713 non-null  object \n",
      " 1   Platform         16715 non-null  object \n",
      " 2   Year_of_Release  16446 non-null  float64\n",
      " 3   Genre            16713 non-null  object \n",
      " 4   NA_sales         16715 non-null  float64\n",
      " 5   EU_sales         16715 non-null  float64\n",
      " 6   JP_sales         16715 non-null  float64\n",
      " 7   Other_sales      16715 non-null  float64\n",
      " 8   Critic_Score     8137 non-null   float64\n",
      " 9   User_Score       10014 non-null  object \n",
      " 10  Rating           9949 non-null   object \n",
      "dtypes: float64(6), object(5)\n",
      "memory usage: 1.4+ MB\n",
      "\n",
      "Статистическое описание:\n"
     ]
    },
    {
     "data": {
      "text/html": [
       "<div>\n",
       "<style scoped>\n",
       "    .dataframe tbody tr th:only-of-type {\n",
       "        vertical-align: middle;\n",
       "    }\n",
       "\n",
       "    .dataframe tbody tr th {\n",
       "        vertical-align: top;\n",
       "    }\n",
       "\n",
       "    .dataframe thead th {\n",
       "        text-align: right;\n",
       "    }\n",
       "</style>\n",
       "<table border=\"1\" class=\"dataframe\">\n",
       "  <thead>\n",
       "    <tr style=\"text-align: right;\">\n",
       "      <th></th>\n",
       "      <th>Year_of_Release</th>\n",
       "      <th>NA_sales</th>\n",
       "      <th>EU_sales</th>\n",
       "      <th>JP_sales</th>\n",
       "      <th>Other_sales</th>\n",
       "      <th>Critic_Score</th>\n",
       "    </tr>\n",
       "  </thead>\n",
       "  <tbody>\n",
       "    <tr>\n",
       "      <th>count</th>\n",
       "      <td>16446.000000</td>\n",
       "      <td>16715.000000</td>\n",
       "      <td>16715.000000</td>\n",
       "      <td>16715.000000</td>\n",
       "      <td>16715.000000</td>\n",
       "      <td>8137.000000</td>\n",
       "    </tr>\n",
       "    <tr>\n",
       "      <th>mean</th>\n",
       "      <td>2006.484616</td>\n",
       "      <td>0.263377</td>\n",
       "      <td>0.145060</td>\n",
       "      <td>0.077617</td>\n",
       "      <td>0.047342</td>\n",
       "      <td>68.967679</td>\n",
       "    </tr>\n",
       "    <tr>\n",
       "      <th>std</th>\n",
       "      <td>5.877050</td>\n",
       "      <td>0.813604</td>\n",
       "      <td>0.503339</td>\n",
       "      <td>0.308853</td>\n",
       "      <td>0.186731</td>\n",
       "      <td>13.938165</td>\n",
       "    </tr>\n",
       "    <tr>\n",
       "      <th>min</th>\n",
       "      <td>1980.000000</td>\n",
       "      <td>0.000000</td>\n",
       "      <td>0.000000</td>\n",
       "      <td>0.000000</td>\n",
       "      <td>0.000000</td>\n",
       "      <td>13.000000</td>\n",
       "    </tr>\n",
       "    <tr>\n",
       "      <th>25%</th>\n",
       "      <td>2003.000000</td>\n",
       "      <td>0.000000</td>\n",
       "      <td>0.000000</td>\n",
       "      <td>0.000000</td>\n",
       "      <td>0.000000</td>\n",
       "      <td>60.000000</td>\n",
       "    </tr>\n",
       "    <tr>\n",
       "      <th>50%</th>\n",
       "      <td>2007.000000</td>\n",
       "      <td>0.080000</td>\n",
       "      <td>0.020000</td>\n",
       "      <td>0.000000</td>\n",
       "      <td>0.010000</td>\n",
       "      <td>71.000000</td>\n",
       "    </tr>\n",
       "    <tr>\n",
       "      <th>75%</th>\n",
       "      <td>2010.000000</td>\n",
       "      <td>0.240000</td>\n",
       "      <td>0.110000</td>\n",
       "      <td>0.040000</td>\n",
       "      <td>0.030000</td>\n",
       "      <td>79.000000</td>\n",
       "    </tr>\n",
       "    <tr>\n",
       "      <th>max</th>\n",
       "      <td>2016.000000</td>\n",
       "      <td>41.360000</td>\n",
       "      <td>28.960000</td>\n",
       "      <td>10.220000</td>\n",
       "      <td>10.570000</td>\n",
       "      <td>98.000000</td>\n",
       "    </tr>\n",
       "  </tbody>\n",
       "</table>\n",
       "</div>"
      ],
      "text/plain": [
       "       Year_of_Release      NA_sales      EU_sales      JP_sales  \\\n",
       "count     16446.000000  16715.000000  16715.000000  16715.000000   \n",
       "mean       2006.484616      0.263377      0.145060      0.077617   \n",
       "std           5.877050      0.813604      0.503339      0.308853   \n",
       "min        1980.000000      0.000000      0.000000      0.000000   \n",
       "25%        2003.000000      0.000000      0.000000      0.000000   \n",
       "50%        2007.000000      0.080000      0.020000      0.000000   \n",
       "75%        2010.000000      0.240000      0.110000      0.040000   \n",
       "max        2016.000000     41.360000     28.960000     10.220000   \n",
       "\n",
       "        Other_sales  Critic_Score  \n",
       "count  16715.000000   8137.000000  \n",
       "mean       0.047342     68.967679  \n",
       "std        0.186731     13.938165  \n",
       "min        0.000000     13.000000  \n",
       "25%        0.000000     60.000000  \n",
       "50%        0.010000     71.000000  \n",
       "75%        0.030000     79.000000  \n",
       "max       10.570000     98.000000  "
      ]
     },
     "metadata": {},
     "output_type": "display_data"
    },
    {
     "name": "stdout",
     "output_type": "stream",
     "text": [
      "\n",
      "Количество дубликатов: 0\n",
      "\n",
      "Пропуски в каждом столбце:\n"
     ]
    },
    {
     "data": {
      "text/plain": [
       "Name                  2\n",
       "Platform              0\n",
       "Year_of_Release     269\n",
       "Genre                 2\n",
       "NA_sales              0\n",
       "EU_sales              0\n",
       "JP_sales              0\n",
       "Other_sales           0\n",
       "Critic_Score       8578\n",
       "User_Score         6701\n",
       "Rating             6766\n",
       "dtype: int64"
      ]
     },
     "metadata": {},
     "output_type": "display_data"
    }
   ],
   "source": [
    "# Функция для вывода общей информации о DataFrame\n",
    "def analyze_dataframe(df):\n",
    "    # Вывод первых 5 строк\n",
    "    print(\"Первые 5 строк:\")\n",
    "    display(df.head())\n",
    "    \n",
    "    # Вывод общей информации о данных\n",
    "    print(\"\\nОбщая информация о DataFrame:\\n\")\n",
    "    df.info()\n",
    "    \n",
    "    # Описание числовых данных\n",
    "    print(\"\\nСтатистическое описание:\")\n",
    "    display(df.describe())\n",
    "    \n",
    "    # Количество дубликатов\n",
    "    duplicates = df.duplicated().sum()\n",
    "    print(f\"\\nКоличество дубликатов: {duplicates}\")\n",
    "    \n",
    "    # Проверка на пропуски в данных\n",
    "    print(\"\\nПропуски в каждом столбце:\")\n",
    "    display(df.isnull().sum())\n",
    "\n",
    "analyze_dataframe(df)"
   ]
  },
  {
   "cell_type": "markdown",
   "metadata": {},
   "source": [
    "**Пропуски в данных:**\n",
    "\n",
    "- Колонки `Name` и `Genre` содержат по 2 пропущенных значения, что можно исправить удалением этих строк, так как их малое количество несущественно.\n",
    "- В колонке `Year_of_Release` 269 пропусков — можно либо удалить строки с пропусками, либо заполнить их числовой заглушкой, но это потребует фильтрации при дальнейших расчетах.\n",
    "- В колонке `Rating` пропуски могут быть важными для анализа, поэтому их стоит заменить на заглушку, например, \"Unknown\".\n",
    "- Пропуски в колонках `Critic_Score` и `User_Score` требуют особого подхода, так как в них пропущено много значений (8578 и 6701). Возможно, стоит заполнить медианными значениями или рассмотреть другие варианты обработки.\n",
    "\n",
    "**Приведение данных в порядок:**\n",
    "\n",
    "- Названия стоблцов разных регистрах.\n",
    "- Столбец `Year_of_Release` должен иметь тип `int`, а не `float`.\n",
    "- Столбец `User_Score` имеет тип `object`, но должен быть числовым. Возможно, присутствуют некорректные значения, такие как `'tbd'`.\n",
    "- Явных дубликатов нет, но надо проверить неявные дубликаты в `Name`, `Year_of_Release` и `'platform'`."
   ]
  },
  {
   "cell_type": "markdown",
   "metadata": {},
   "source": [
    "<a id='Подготовка'></a>\n",
    "## Подготовка данных"
   ]
  },
  {
   "cell_type": "code",
   "execution_count": 4,
   "metadata": {},
   "outputs": [
    {
     "data": {
      "text/plain": [
       "Index(['Name', 'Platform', 'Year_of_Release', 'Genre', 'NA_sales', 'EU_sales',\n",
       "       'JP_sales', 'Other_sales', 'Critic_Score', 'User_Score', 'Rating'],\n",
       "      dtype='object')"
      ]
     },
     "execution_count": 4,
     "metadata": {},
     "output_type": "execute_result"
    }
   ],
   "source": [
    "# Вывод всех столбцов в таблице\n",
    "df.columns"
   ]
  },
  {
   "cell_type": "code",
   "execution_count": 5,
   "metadata": {},
   "outputs": [
    {
     "data": {
      "text/plain": [
       "Index(['name', 'platform', 'year_of_release', 'genre', 'na_sales', 'eu_sales',\n",
       "       'jp_sales', 'other_sales', 'critic_score', 'user_score', 'rating'],\n",
       "      dtype='object')"
      ]
     },
     "execution_count": 5,
     "metadata": {},
     "output_type": "execute_result"
    }
   ],
   "source": [
    "# Создание словаря для переименования столбцов DataFrame\n",
    "columns = {\n",
    "    'Name': 'name', \n",
    "    'Platform': 'platform', \n",
    "    'Year_of_Release': 'year_of_release', \n",
    "    'Genre': 'genre', \n",
    "    'NA_sales': 'na_sales', \n",
    "    'EU_sales': 'eu_sales',\n",
    "    'JP_sales': 'jp_sales', \n",
    "    'Other_sales': 'other_sales', \n",
    "    'Critic_Score': 'critic_score', \n",
    "    'User_Score': 'user_score', \n",
    "    'Rating': 'rating'\n",
    "}\n",
    "\n",
    "# Переименование столбцов DataFrame в соответствии со словарём columns\n",
    "df = df.rename(columns=columns)\n",
    "\n",
    "# Проверка изменения столбцов\n",
    "df.columns"
   ]
  },
  {
   "cell_type": "code",
   "execution_count": 6,
   "metadata": {},
   "outputs": [],
   "source": [
    "# Преобразуем столбец year_of_release в целочисленный формат\n",
    "df['year_of_release'] = df['year_of_release'].astype('Int64')"
   ]
  },
  {
   "cell_type": "code",
   "execution_count": 7,
   "metadata": {},
   "outputs": [
    {
     "data": {
      "text/plain": [
       "array(['8', nan, '8.3', '8.5', '6.6', '8.4', '8.6', '7.7', '6.3', '7.4',\n",
       "       '8.2', '9', '7.9', '8.1', '8.7', '7.1', '3.4', '5.3', '4.8', '3.2',\n",
       "       '8.9', '6.4', '7.8', '7.5', '2.6', '7.2', '9.2', '7', '7.3', '4.3',\n",
       "       '7.6', '5.7', '5', '9.1', '6.5', 'tbd', '8.8', '6.9', '9.4', '6.8',\n",
       "       '6.1', '6.7', '5.4', '4', '4.9', '4.5', '9.3', '6.2', '4.2', '6',\n",
       "       '3.7', '4.1', '5.8', '5.6', '5.5', '4.4', '4.6', '5.9', '3.9',\n",
       "       '3.1', '2.9', '5.2', '3.3', '4.7', '5.1', '3.5', '2.5', '1.9', '3',\n",
       "       '2.7', '2.2', '2', '9.5', '2.1', '3.6', '2.8', '1.8', '3.8', '0',\n",
       "       '1.6', '9.6', '2.4', '1.7', '1.1', '0.3', '1.5', '0.7', '1.2',\n",
       "       '2.3', '0.5', '1.3', '0.2', '0.6', '1.4', '0.9', '1', '9.7'],\n",
       "      dtype=object)"
      ]
     },
     "execution_count": 7,
     "metadata": {},
     "output_type": "execute_result"
    }
   ],
   "source": [
    "# Проверяем на аномалии значения столбца user_score\n",
    "df['user_score'].unique()"
   ]
  },
  {
   "cell_type": "markdown",
   "metadata": {},
   "source": [
    "Столбец `user_score`:\n",
    "- Этот столбец должен содержать числовые значения, но представлен как object, вероятно из-за строковых значений 'tbd' (to be determined).\n",
    "- Решение: сначала заменим 'tbd' на NaN, затем преобразуем данные в тип float64."
   ]
  },
  {
   "cell_type": "code",
   "execution_count": 8,
   "metadata": {},
   "outputs": [],
   "source": [
    "# Заменяем 'tbd' в user_score на NaN и преобразуем в float\n",
    "df['user_score'] = pd.to_numeric(df['user_score'], errors='coerce')"
   ]
  },
  {
   "cell_type": "code",
   "execution_count": 9,
   "metadata": {},
   "outputs": [
    {
     "data": {
      "text/html": [
       "<div>\n",
       "<style scoped>\n",
       "    .dataframe tbody tr th:only-of-type {\n",
       "        vertical-align: middle;\n",
       "    }\n",
       "\n",
       "    .dataframe tbody tr th {\n",
       "        vertical-align: top;\n",
       "    }\n",
       "\n",
       "    .dataframe thead th {\n",
       "        text-align: right;\n",
       "    }\n",
       "</style>\n",
       "<table border=\"1\" class=\"dataframe\">\n",
       "  <thead>\n",
       "    <tr style=\"text-align: right;\">\n",
       "      <th></th>\n",
       "      <th>Missing Values</th>\n",
       "      <th>Percentage</th>\n",
       "    </tr>\n",
       "  </thead>\n",
       "  <tbody>\n",
       "    <tr>\n",
       "      <th>name</th>\n",
       "      <td>2</td>\n",
       "      <td>0.011965</td>\n",
       "    </tr>\n",
       "    <tr>\n",
       "      <th>platform</th>\n",
       "      <td>0</td>\n",
       "      <td>0.000000</td>\n",
       "    </tr>\n",
       "    <tr>\n",
       "      <th>year_of_release</th>\n",
       "      <td>269</td>\n",
       "      <td>1.609333</td>\n",
       "    </tr>\n",
       "    <tr>\n",
       "      <th>genre</th>\n",
       "      <td>2</td>\n",
       "      <td>0.011965</td>\n",
       "    </tr>\n",
       "    <tr>\n",
       "      <th>na_sales</th>\n",
       "      <td>0</td>\n",
       "      <td>0.000000</td>\n",
       "    </tr>\n",
       "    <tr>\n",
       "      <th>eu_sales</th>\n",
       "      <td>0</td>\n",
       "      <td>0.000000</td>\n",
       "    </tr>\n",
       "    <tr>\n",
       "      <th>jp_sales</th>\n",
       "      <td>0</td>\n",
       "      <td>0.000000</td>\n",
       "    </tr>\n",
       "    <tr>\n",
       "      <th>other_sales</th>\n",
       "      <td>0</td>\n",
       "      <td>0.000000</td>\n",
       "    </tr>\n",
       "    <tr>\n",
       "      <th>critic_score</th>\n",
       "      <td>8578</td>\n",
       "      <td>51.319174</td>\n",
       "    </tr>\n",
       "    <tr>\n",
       "      <th>user_score</th>\n",
       "      <td>9125</td>\n",
       "      <td>54.591684</td>\n",
       "    </tr>\n",
       "    <tr>\n",
       "      <th>rating</th>\n",
       "      <td>6766</td>\n",
       "      <td>40.478612</td>\n",
       "    </tr>\n",
       "  </tbody>\n",
       "</table>\n",
       "</div>"
      ],
      "text/plain": [
       "                 Missing Values  Percentage\n",
       "name                          2    0.011965\n",
       "platform                      0    0.000000\n",
       "year_of_release             269    1.609333\n",
       "genre                         2    0.011965\n",
       "na_sales                      0    0.000000\n",
       "eu_sales                      0    0.000000\n",
       "jp_sales                      0    0.000000\n",
       "other_sales                   0    0.000000\n",
       "critic_score               8578   51.319174\n",
       "user_score                 9125   54.591684\n",
       "rating                     6766   40.478612"
      ]
     },
     "execution_count": 9,
     "metadata": {},
     "output_type": "execute_result"
    }
   ],
   "source": [
    "def missing_values(df):\n",
    "    missing_data = df.isnull().sum()  # Количество пропусков в каждом столбце\n",
    "    total_entries = len(df)  # Общее количество строк в DataFrame\n",
    "    missing_percentage = (missing_data / total_entries) * 100  # Процент пропусков\n",
    "    return pd.DataFrame({'Missing Values': missing_data, 'Percentage': missing_percentage})\n",
    "\n",
    "# Проверка пропусков в данных\n",
    "missing_values(df)"
   ]
  },
  {
   "cell_type": "code",
   "execution_count": 10,
   "metadata": {},
   "outputs": [
    {
     "data": {
      "text/html": [
       "<style  type=\"text/css\" >\n",
       "#T_dc219_row0_col0,#T_dc219_row1_col0,#T_dc219_row3_col0,#T_dc219_row4_col0,#T_dc219_row5_col0,#T_dc219_row6_col0,#T_dc219_row7_col0{\n",
       "            background-color:  #3b4cc0;\n",
       "            color:  #f1f1f1;\n",
       "        }#T_dc219_row2_col0{\n",
       "            background-color:  #4358cb;\n",
       "            color:  #f1f1f1;\n",
       "        }#T_dc219_row8_col0{\n",
       "            background-color:  #ca3b37;\n",
       "            color:  #f1f1f1;\n",
       "        }#T_dc219_row9_col0{\n",
       "            background-color:  #b40426;\n",
       "            color:  #f1f1f1;\n",
       "        }#T_dc219_row10_col0{\n",
       "            background-color:  #f59d7e;\n",
       "            color:  #000000;\n",
       "        }</style><table id=\"T_dc219_\" ><thead>    <tr>        <th class=\"blank level0\" ></th>        <th class=\"col_heading level0 col0\" >0</th>    </tr></thead><tbody>\n",
       "                <tr>\n",
       "                        <th id=\"T_dc219_level0_row0\" class=\"row_heading level0 row0\" >name</th>\n",
       "                        <td id=\"T_dc219_row0_col0\" class=\"data row0 col0\" >0.000000</td>\n",
       "            </tr>\n",
       "            <tr>\n",
       "                        <th id=\"T_dc219_level0_row1\" class=\"row_heading level0 row1\" >platform</th>\n",
       "                        <td id=\"T_dc219_row1_col0\" class=\"data row1 col0\" >0.000000</td>\n",
       "            </tr>\n",
       "            <tr>\n",
       "                        <th id=\"T_dc219_level0_row2\" class=\"row_heading level0 row2\" >year_of_release</th>\n",
       "                        <td id=\"T_dc219_row2_col0\" class=\"data row2 col0\" >1.600000</td>\n",
       "            </tr>\n",
       "            <tr>\n",
       "                        <th id=\"T_dc219_level0_row3\" class=\"row_heading level0 row3\" >genre</th>\n",
       "                        <td id=\"T_dc219_row3_col0\" class=\"data row3 col0\" >0.000000</td>\n",
       "            </tr>\n",
       "            <tr>\n",
       "                        <th id=\"T_dc219_level0_row4\" class=\"row_heading level0 row4\" >na_sales</th>\n",
       "                        <td id=\"T_dc219_row4_col0\" class=\"data row4 col0\" >0.000000</td>\n",
       "            </tr>\n",
       "            <tr>\n",
       "                        <th id=\"T_dc219_level0_row5\" class=\"row_heading level0 row5\" >eu_sales</th>\n",
       "                        <td id=\"T_dc219_row5_col0\" class=\"data row5 col0\" >0.000000</td>\n",
       "            </tr>\n",
       "            <tr>\n",
       "                        <th id=\"T_dc219_level0_row6\" class=\"row_heading level0 row6\" >jp_sales</th>\n",
       "                        <td id=\"T_dc219_row6_col0\" class=\"data row6 col0\" >0.000000</td>\n",
       "            </tr>\n",
       "            <tr>\n",
       "                        <th id=\"T_dc219_level0_row7\" class=\"row_heading level0 row7\" >other_sales</th>\n",
       "                        <td id=\"T_dc219_row7_col0\" class=\"data row7 col0\" >0.000000</td>\n",
       "            </tr>\n",
       "            <tr>\n",
       "                        <th id=\"T_dc219_level0_row8\" class=\"row_heading level0 row8\" >critic_score</th>\n",
       "                        <td id=\"T_dc219_row8_col0\" class=\"data row8 col0\" >51.300000</td>\n",
       "            </tr>\n",
       "            <tr>\n",
       "                        <th id=\"T_dc219_level0_row9\" class=\"row_heading level0 row9\" >user_score</th>\n",
       "                        <td id=\"T_dc219_row9_col0\" class=\"data row9 col0\" >54.600000</td>\n",
       "            </tr>\n",
       "            <tr>\n",
       "                        <th id=\"T_dc219_level0_row10\" class=\"row_heading level0 row10\" >rating</th>\n",
       "                        <td id=\"T_dc219_row10_col0\" class=\"data row10 col0\" >40.500000</td>\n",
       "            </tr>\n",
       "    </tbody></table>"
      ],
      "text/plain": [
       "<pandas.io.formats.style.Styler at 0x7f3e13c9c6d0>"
      ]
     },
     "execution_count": 10,
     "metadata": {},
     "output_type": "execute_result"
    }
   ],
   "source": [
    "pd.DataFrame(round(df.isna().mean()*100,1)).style.background_gradient('coolwarm')"
   ]
  },
  {
   "cell_type": "code",
   "execution_count": 11,
   "metadata": {
    "scrolled": true
   },
   "outputs": [
    {
     "data": {
      "text/html": [
       "<div>\n",
       "<style scoped>\n",
       "    .dataframe tbody tr th:only-of-type {\n",
       "        vertical-align: middle;\n",
       "    }\n",
       "\n",
       "    .dataframe tbody tr th {\n",
       "        vertical-align: top;\n",
       "    }\n",
       "\n",
       "    .dataframe thead th {\n",
       "        text-align: right;\n",
       "    }\n",
       "</style>\n",
       "<table border=\"1\" class=\"dataframe\">\n",
       "  <thead>\n",
       "    <tr style=\"text-align: right;\">\n",
       "      <th></th>\n",
       "      <th>Missing Values</th>\n",
       "      <th>Percentage</th>\n",
       "    </tr>\n",
       "  </thead>\n",
       "  <tbody>\n",
       "    <tr>\n",
       "      <th>name</th>\n",
       "      <td>0</td>\n",
       "      <td>0.000000</td>\n",
       "    </tr>\n",
       "    <tr>\n",
       "      <th>platform</th>\n",
       "      <td>0</td>\n",
       "      <td>0.000000</td>\n",
       "    </tr>\n",
       "    <tr>\n",
       "      <th>year_of_release</th>\n",
       "      <td>0</td>\n",
       "      <td>0.000000</td>\n",
       "    </tr>\n",
       "    <tr>\n",
       "      <th>genre</th>\n",
       "      <td>0</td>\n",
       "      <td>0.000000</td>\n",
       "    </tr>\n",
       "    <tr>\n",
       "      <th>na_sales</th>\n",
       "      <td>0</td>\n",
       "      <td>0.000000</td>\n",
       "    </tr>\n",
       "    <tr>\n",
       "      <th>eu_sales</th>\n",
       "      <td>0</td>\n",
       "      <td>0.000000</td>\n",
       "    </tr>\n",
       "    <tr>\n",
       "      <th>jp_sales</th>\n",
       "      <td>0</td>\n",
       "      <td>0.000000</td>\n",
       "    </tr>\n",
       "    <tr>\n",
       "      <th>other_sales</th>\n",
       "      <td>0</td>\n",
       "      <td>0.000000</td>\n",
       "    </tr>\n",
       "    <tr>\n",
       "      <th>critic_score</th>\n",
       "      <td>8461</td>\n",
       "      <td>51.453418</td>\n",
       "    </tr>\n",
       "    <tr>\n",
       "      <th>user_score</th>\n",
       "      <td>8981</td>\n",
       "      <td>54.615665</td>\n",
       "    </tr>\n",
       "    <tr>\n",
       "      <th>rating</th>\n",
       "      <td>0</td>\n",
       "      <td>0.000000</td>\n",
       "    </tr>\n",
       "  </tbody>\n",
       "</table>\n",
       "</div>"
      ],
      "text/plain": [
       "                 Missing Values  Percentage\n",
       "name                          0    0.000000\n",
       "platform                      0    0.000000\n",
       "year_of_release               0    0.000000\n",
       "genre                         0    0.000000\n",
       "na_sales                      0    0.000000\n",
       "eu_sales                      0    0.000000\n",
       "jp_sales                      0    0.000000\n",
       "other_sales                   0    0.000000\n",
       "critic_score               8461   51.453418\n",
       "user_score                 8981   54.615665\n",
       "rating                        0    0.000000"
      ]
     },
     "execution_count": 11,
     "metadata": {},
     "output_type": "execute_result"
    }
   ],
   "source": [
    "# Удаляем строки с пропусками в критически важных столбцах\n",
    "df.dropna(subset=['name', 'genre', 'year_of_release'], inplace=True)\n",
    "\n",
    "# Замена пропусков в столбце rating на \"unknown\"\n",
    "df['rating'] = df['rating'].fillna('unknown')\n",
    "\n",
    "# Проверка пропусков в данных\n",
    "missing_values(df)"
   ]
  },
  {
   "cell_type": "markdown",
   "metadata": {},
   "source": [
    "При изучении данных, явных дубликатов не было обнаружено. Следует проверить неявные дубликаты в столбцах `'name'`, `'platform'`, `'year_of_release'`."
   ]
  },
  {
   "cell_type": "code",
   "execution_count": 12,
   "metadata": {},
   "outputs": [
    {
     "name": "stdout",
     "output_type": "stream",
     "text": [
      "Найдено потенциальных неявных дубликатов: 2\n",
      "                name platform  year_of_release   genre  na_sales  eu_sales  \\\n",
      "604    Madden NFL 13      PS3             2012  Sports      2.11      0.22   \n",
      "16230  Madden NFL 13      PS3             2012  Sports      0.00      0.01   \n",
      "\n",
      "       jp_sales  other_sales  critic_score  user_score rating  \n",
      "604         0.0         0.23          83.0         5.5      E  \n",
      "16230       0.0         0.00          83.0         5.5      E  \n"
     ]
    }
   ],
   "source": [
    "# Проверка на неявные дубликаты\n",
    "potential_duplicates = df[df[['name', 'platform', 'year_of_release']].duplicated(keep=False)]\n",
    "\n",
    "# Вывод результатов проверки на неявные дубликаты\n",
    "print(f\"Найдено потенциальных неявных дубликатов: {len(potential_duplicates)}\")\n",
    "\n",
    "# Отображение примеров неявных дубликатов для анализа\n",
    "if len(potential_duplicates) > 0:\n",
    "    print(potential_duplicates.head())"
   ]
  },
  {
   "cell_type": "markdown",
   "metadata": {},
   "source": [
    "- Одинаковые значения в ключевых столбцах: `name`, `platform`, и `year_of_release` одинаковы для обеих строк.\n",
    "- Отличаются значения в продажах: одна строка имеет больше продаж (на рынке Северной Америки и других регионах), а другая строка имеет почти нулевые продажи.\n",
    "\n",
    "Выполним агрегирование данных: Поскольку это одинаковая игра на той же платформе в тот же год, можно объединить строки, суммируя продажи по регионам (`na_sales`, `eu_sales`, `jp_sales`, `other_sales`) и сохраняя остальные характеристики (например, `critic_score`, `user_score`, и `rating`)."
   ]
  },
  {
   "cell_type": "code",
   "execution_count": 13,
   "metadata": {},
   "outputs": [],
   "source": [
    "# Группировка и суммирование продаж по одинаковым играм\n",
    "df = df.groupby(['name', 'platform', 'year_of_release', 'genre', 'critic_score', 'user_score', 'rating'], as_index=False).agg({\n",
    "    'na_sales': 'sum',\n",
    "    'eu_sales': 'sum',\n",
    "    'jp_sales': 'sum',\n",
    "    'other_sales': 'sum'\n",
    "})"
   ]
  },
  {
   "cell_type": "code",
   "execution_count": 14,
   "metadata": {},
   "outputs": [
    {
     "data": {
      "text/html": [
       "<div>\n",
       "<style scoped>\n",
       "    .dataframe tbody tr th:only-of-type {\n",
       "        vertical-align: middle;\n",
       "    }\n",
       "\n",
       "    .dataframe tbody tr th {\n",
       "        vertical-align: top;\n",
       "    }\n",
       "\n",
       "    .dataframe thead th {\n",
       "        text-align: right;\n",
       "    }\n",
       "</style>\n",
       "<table border=\"1\" class=\"dataframe\">\n",
       "  <thead>\n",
       "    <tr style=\"text-align: right;\">\n",
       "      <th></th>\n",
       "      <th>name</th>\n",
       "      <th>platform</th>\n",
       "      <th>year_of_release</th>\n",
       "      <th>genre</th>\n",
       "      <th>critic_score</th>\n",
       "      <th>user_score</th>\n",
       "      <th>rating</th>\n",
       "      <th>na_sales</th>\n",
       "      <th>eu_sales</th>\n",
       "      <th>jp_sales</th>\n",
       "      <th>other_sales</th>\n",
       "      <th>total_sales</th>\n",
       "    </tr>\n",
       "  </thead>\n",
       "  <tbody>\n",
       "    <tr>\n",
       "      <th>0</th>\n",
       "      <td>Tales of Xillia 2</td>\n",
       "      <td>PS3</td>\n",
       "      <td>2012</td>\n",
       "      <td>Role-Playing</td>\n",
       "      <td>71.0</td>\n",
       "      <td>7.9</td>\n",
       "      <td>T</td>\n",
       "      <td>0.20</td>\n",
       "      <td>0.12</td>\n",
       "      <td>0.45</td>\n",
       "      <td>0.07</td>\n",
       "      <td>0.84</td>\n",
       "    </tr>\n",
       "    <tr>\n",
       "      <th>1</th>\n",
       "      <td>.hack//Infection Part 1</td>\n",
       "      <td>PS2</td>\n",
       "      <td>2002</td>\n",
       "      <td>Role-Playing</td>\n",
       "      <td>75.0</td>\n",
       "      <td>8.5</td>\n",
       "      <td>T</td>\n",
       "      <td>0.49</td>\n",
       "      <td>0.38</td>\n",
       "      <td>0.26</td>\n",
       "      <td>0.13</td>\n",
       "      <td>1.26</td>\n",
       "    </tr>\n",
       "    <tr>\n",
       "      <th>2</th>\n",
       "      <td>.hack//Mutation Part 2</td>\n",
       "      <td>PS2</td>\n",
       "      <td>2002</td>\n",
       "      <td>Role-Playing</td>\n",
       "      <td>76.0</td>\n",
       "      <td>8.9</td>\n",
       "      <td>T</td>\n",
       "      <td>0.23</td>\n",
       "      <td>0.18</td>\n",
       "      <td>0.20</td>\n",
       "      <td>0.06</td>\n",
       "      <td>0.67</td>\n",
       "    </tr>\n",
       "    <tr>\n",
       "      <th>3</th>\n",
       "      <td>.hack//Outbreak Part 3</td>\n",
       "      <td>PS2</td>\n",
       "      <td>2002</td>\n",
       "      <td>Role-Playing</td>\n",
       "      <td>70.0</td>\n",
       "      <td>8.7</td>\n",
       "      <td>T</td>\n",
       "      <td>0.14</td>\n",
       "      <td>0.11</td>\n",
       "      <td>0.17</td>\n",
       "      <td>0.04</td>\n",
       "      <td>0.46</td>\n",
       "    </tr>\n",
       "    <tr>\n",
       "      <th>4</th>\n",
       "      <td>007 Racing</td>\n",
       "      <td>PS</td>\n",
       "      <td>2000</td>\n",
       "      <td>Racing</td>\n",
       "      <td>51.0</td>\n",
       "      <td>4.6</td>\n",
       "      <td>T</td>\n",
       "      <td>0.30</td>\n",
       "      <td>0.20</td>\n",
       "      <td>0.00</td>\n",
       "      <td>0.03</td>\n",
       "      <td>0.53</td>\n",
       "    </tr>\n",
       "  </tbody>\n",
       "</table>\n",
       "</div>"
      ],
      "text/plain": [
       "                      name platform  year_of_release         genre  \\\n",
       "0        Tales of Xillia 2      PS3             2012  Role-Playing   \n",
       "1  .hack//Infection Part 1      PS2             2002  Role-Playing   \n",
       "2   .hack//Mutation Part 2      PS2             2002  Role-Playing   \n",
       "3   .hack//Outbreak Part 3      PS2             2002  Role-Playing   \n",
       "4               007 Racing       PS             2000        Racing   \n",
       "\n",
       "   critic_score  user_score rating  na_sales  eu_sales  jp_sales  other_sales  \\\n",
       "0          71.0         7.9      T      0.20      0.12      0.45         0.07   \n",
       "1          75.0         8.5      T      0.49      0.38      0.26         0.13   \n",
       "2          76.0         8.9      T      0.23      0.18      0.20         0.06   \n",
       "3          70.0         8.7      T      0.14      0.11      0.17         0.04   \n",
       "4          51.0         4.6      T      0.30      0.20      0.00         0.03   \n",
       "\n",
       "   total_sales  \n",
       "0         0.84  \n",
       "1         1.26  \n",
       "2         0.67  \n",
       "3         0.46  \n",
       "4         0.53  "
      ]
     },
     "execution_count": 14,
     "metadata": {},
     "output_type": "execute_result"
    }
   ],
   "source": [
    "# Создаём новый столбец с суммарными продажами\n",
    "df['total_sales'] = df[['na_sales','eu_sales','jp_sales', 'other_sales']].sum(axis = 1)\n",
    "\n",
    "# Выводим первые пять строк df\n",
    "df.head()"
   ]
  },
  {
   "cell_type": "markdown",
   "metadata": {},
   "source": [
    "В ходе подготовки данных мы выполнили следующие шаги:\n",
    "\n",
    "- Обработка пропусков: Были проанализированы и удалены пропуски в ключевых столбцах, таких как `year_of_release`, `genre`, `name`. Пропуски в`rating` были заменены на заглушки `NaN` и `unknown`.\n",
    "- Преобразование типов данных: Столбец `user_score` был преобразован в float, a `year_of_release` в int.\n",
    "- Проверка и анализ неявных дубликатов: Была проведена проверка на основе ключевых полей `name`, `platform`, `year_of_release` и было выявлено несколько потенциальных неявных дубликатов. Эти строки, хотя и имеют одинаковые значения по указанным столбцам, отличаются в некоторых других показателях, таких как продажи в различных регионах. Я сохранила эти строки для дальнейшего анализа, так как различия в показателях могут быть результатом различий в сборах данных по продажам, а не ошибками дублирования.\n",
    "- Приведение столбцов к единому формату: Для унификации и удобства работы с данными были приведены названия столбцов к нижнему регистру, что упрощает дальнейшие манипуляции с DataFrame."
   ]
  },
  {
   "cell_type": "markdown",
   "metadata": {},
   "source": [
    "<a id='Исследовательский'></a>\n",
    "## Исследовательский анализ данных"
   ]
  },
  {
   "cell_type": "code",
   "execution_count": 15,
   "metadata": {},
   "outputs": [],
   "source": [
    "# Группируем данные по году выпуска и считаем количество игр в каждом году\n",
    "games_per_year = df.groupby('year_of_release')['name'].count()"
   ]
  },
  {
   "cell_type": "code",
   "execution_count": 16,
   "metadata": {},
   "outputs": [
    {
     "data": {
      "image/png": "[encoded data removed]",
      "text/plain": [
       "<Figure size 864x432 with 1 Axes>"
      ]
     },
     "metadata": {
      "needs_background": "light"
     },
     "output_type": "display_data"
    }
   ],
   "source": [
    "# Построение столбчатой диаграммы для количества выпущенных игр по годам (дискретные значения)\n",
    "games_per_year.plot(kind='bar', figsize=(12, 6), edgecolor='black')\n",
    "\n",
    "# Добавление названий осей и заголовка\n",
    "plt.title('Распределение количества выпущенных игр по годам')\n",
    "plt.xlabel('Год выпуска')\n",
    "plt.ylabel('Количество игр')\n",
    "\n",
    "# Показать график\n",
    "plt.show()"
   ]
  },
  {
   "cell_type": "markdown",
   "metadata": {},
   "source": [
    "**Анализ количества выпущенных игр по годам показывает следующие тенденции:**\n",
    "\n",
    "- В ранние годы, с середины 1990-х, количество выпускаемых игр было небольшим — менее 50 игр в год.\n",
    "- С середины 200-х до 2003 года наблюдается значительный рост количества игр, дойдя до 500 в годю\n",
    "- Затем наблюдается небольшие флуктуации с увеличением (2003, 2005) и падением (2004, 2006) в районе 500.\n",
    "- Самые высокие пришлись на 2007 и 2008 годах, чуть менее 600 игр ежегодно.\n",
    "- После 2009 года количество выпущенных игр постепенно начинает снижаться: с 2010 по 2016 год видим устойчивое падение.\n",
    "\n",
    "Данные за все периоды не равнозначны. Для анализа текущих тенденций и построения прогноза лучше сосредоточиться на периоде с 2000 года, так как в этот период рынок видеоигр сформировался, и появились современные платформы."
   ]
  },
  {
   "cell_type": "code",
   "execution_count": 17,
   "metadata": {},
   "outputs": [
    {
     "data": {
      "text/plain": [
       "platform\n",
       "PS2     946.01\n",
       "X360    853.67\n",
       "PS3     785.44\n",
       "Wii     659.23\n",
       "DS      382.88\n",
       "PS4     244.27\n",
       "XB      212.22\n",
       "PS      209.98\n",
       "PC      189.85\n",
       "PSP     187.68\n",
       "Name: total_sales, dtype: float64"
      ]
     },
     "execution_count": 17,
     "metadata": {},
     "output_type": "execute_result"
    }
   ],
   "source": [
    "# Группируем данные по платформам и считаем суммарные продажи для каждой платформы\n",
    "platform_sales = df.groupby('platform')['total_sales'].sum().sort_values(ascending=False)\n",
    "platform_sales.head(10)"
   ]
  },
  {
   "cell_type": "code",
   "execution_count": 18,
   "metadata": {},
   "outputs": [
    {
     "data": {
      "image/png": "[encoded data removed]",
      "text/plain": [
       "<Figure size 720x432 with 1 Axes>"
      ]
     },
     "metadata": {
      "needs_background": "light"
     },
     "output_type": "display_data"
    }
   ],
   "source": [
    "# Построение столбчатой диаграммы\n",
    "plt.figure(figsize=(10, 6))\n",
    "platform_sales.plot(kind='bar')\n",
    "plt.title('Суммарные продажи по платформам')\n",
    "plt.xlabel('Платформа')\n",
    "plt.ylabel('Продажи')\n",
    "plt.show()"
   ]
  },
  {
   "cell_type": "markdown",
   "metadata": {},
   "source": [
    "Явно выделяются 4 лидера по сумме продаж: `PS2`, `X360`, `PS3`, `Wii`,  но оставим 5."
   ]
  },
  {
   "cell_type": "code",
   "execution_count": 19,
   "metadata": {},
   "outputs": [
    {
     "data": {
      "image/png": "[encoded data removed]",
      "text/plain": [
       "<Figure size 720x432 with 2 Axes>"
      ]
     },
     "metadata": {
      "needs_background": "light"
     },
     "output_type": "display_data"
    }
   ],
   "source": [
    "# Фильтруем данные, начиная с 2000 года\n",
    "df = df[df['year_of_release'] >= 2000]\n",
    "\n",
    "# Выбираем топ-6 платформ\n",
    "top_platforms_sales = platform_sales.head(5).index\n",
    "\n",
    "# Фильтруем данные только для топ-5 платформ\n",
    "top_platform_sales = df[df['platform'].isin(top_platforms_sales)]\n",
    "\n",
    "# Группируем данные по платформам и годам выпуска и считаем суммарные продажи для каждой комбинации\n",
    "platform_sales_per_year = top_platform_sales.pivot_table(\n",
    "    index='platform', \n",
    "    columns='year_of_release', \n",
    "    values='total_sales', \n",
    "    aggfunc='sum',\n",
    ")\n",
    "\n",
    "# Строим тепловую карту с заголовком на русском\n",
    "plt.figure(figsize=(10, 6))  # Устанавливаем размер графика\n",
    "sns.heatmap(platform_sales_per_year, cmap=\"coolwarm\")\n",
    "plt.title(\"Продажи по платформам и годам выпуска\")\n",
    "plt.show()"
   ]
  },
  {
   "cell_type": "markdown",
   "metadata": {},
   "source": [
    "**Анализ тепловой карты продаж по платформам и годам**\n",
    "\n",
    "Тепловая карта предоставляет визуально оценить, как менялись продажи разных игровых платформ с течением времени. По представленной карте можно сделать следующие выводы:\n",
    "\n",
    "**PS2 и PS3:**\n",
    "\n",
    "- Постепенный переход: На тепловой карте наблюдается постепенный переход от PS2 к PS3. Пик продаж PS2 в 2004 году и последующее снижение совпадают с началом роста продаж PS3. Такой плавный переход может быть объяснен несколькими факторами:\n",
    "- Совместное существование: Оба поколения консолей сосуществовали на рынке в течение нескольких лет, предоставляя игрокам выбор.\n",
    "- Каталог игр: Многие разработчики продолжали выпускать игры для PS2 даже после выхода PS3, поддерживая интерес к этой платформе.\n",
    "- Цена: Снижение цены на PS2 делало ее более доступной для широкой аудитории.\n",
    "\n",
    "**DS:**\n",
    "\n",
    "- Стабильная популярность: DS продемонстрировала стабильные продажи на протяжении своего жизненного цикла, особенно в сравнении с другими платформами. Это может быть связано с уникальной концепцией двух экранов и ориентированностью на казуальные игры.\n",
    "- Ранний выход на рынок: DS вышла на рынок раньше, чем PS3 и Xbox 360, и успела завоевать свою аудиторию.\n",
    "\n",
    "**Wii:**\n",
    "\n",
    "- Яркий дебют и быстрый спад: Wii отличилась уникальным дизайном и инновационными контроллерами, что обеспечило ей быстрый рост популярности по сравнению с Xbox 360, который более плавно набрал популярность. Однако, длительность ее жизненного цикла оказалась короче, чем у конкурентов.\n",
    "\n",
    "**X360:**\n",
    "\n",
    "- Рост и спад: Xbox 360 показала типичный жизненный цикл консоли: быстрый рост продаж после запуска, пик и последующее снижение. Это связано с насыщением рынка и появлением нового поколения консолей.\n",
    "\n",
    "**Дополнительные наблюдения:**\n",
    "- Цикличность: Видно, что у каждой платформы есть свой жизненный цикл: период роста, пик продаж и последующий спад.\n",
    "- Конкуренция: Платформы конкурируют друг с другом за долю рынка. Например, рост популярности Wii в середине 2000-х годов сопровождался снижением продаж PS2.\n",
    "- Смена поколений: Смена поколений игровых консолей видна по смене лидеров на рынке."
   ]
  },
  {
   "cell_type": "code",
   "execution_count": 20,
   "metadata": {},
   "outputs": [
    {
     "data": {
      "image/png": "[encoded data removed]",
      "text/plain": [
       "<Figure size 1008x576 with 1 Axes>"
      ]
     },
     "metadata": {
      "needs_background": "light"
     },
     "output_type": "display_data"
    }
   ],
   "source": [
    "# Строим линейный график для топ-5 платформ\n",
    "plt.figure(figsize=(14, 8))\n",
    "for platform in platform_sales_per_year.index:\n",
    "    plt.plot(platform_sales_per_year.columns, platform_sales_per_year.loc[platform], marker='o', label=platform)\n",
    "\n",
    "# Настройка заголовков и подписей\n",
    "plt.title('Продажи по годам для топ-5 платформ')\n",
    "plt.xlabel('Год выпуска')\n",
    "plt.ylabel('Суммарные продажи (млн копий)')\n",
    "plt.legend(title='Платформа', bbox_to_anchor=(1.05, 1), loc='upper left')\n",
    "plt.grid(True)\n",
    "plt.tight_layout()\n",
    "\n",
    "# Показать график\n",
    "plt.show()"
   ]
  },
  {
   "cell_type": "markdown",
   "metadata": {},
   "source": [
    "**Визуально мы можем увидеть по линейному графику жизненный цикл для каждой платформы из топ-5 с 2000 года.**\n",
    "\n",
    "Лидеры продаж: На протяжении всего периода лидерами продаж были PS2 и PS3. Они демонстрировали наиболее высокие показатели и длительный период активных продаж. X360 запустился годом раньше PS3, но также показал схожий стабильный рост, как и PS2, с более высокими пиками в 2008 и 2010, завершив продажи в 2014. Рост и спад:\n",
    "Рост: В начале периода наблюдался стремительный рост продаж Wii с 2006, который несколько позже показал стремительное снижение продаж и завершение в 2012. DS после запуска в 2004 набрал свой пик продаж в 2005, но затем показал стабильное сниженое по всему периоду до 2012, звершив свои продажи.\n",
    "Спад: После достижения пика продажи всех платформ начали снижаться. Это типичный жизненный цикл игровых консолей, связанный с выходом новых поколений и изменением предпочтений геймеров."
   ]
  },
  {
   "cell_type": "code",
   "execution_count": 21,
   "metadata": {},
   "outputs": [
    {
     "data": {
      "text/html": [
       "<div>\n",
       "<style scoped>\n",
       "    .dataframe tbody tr th:only-of-type {\n",
       "        vertical-align: middle;\n",
       "    }\n",
       "\n",
       "    .dataframe tbody tr th {\n",
       "        vertical-align: top;\n",
       "    }\n",
       "\n",
       "    .dataframe thead th {\n",
       "        text-align: right;\n",
       "    }\n",
       "</style>\n",
       "<table border=\"1\" class=\"dataframe\">\n",
       "  <thead>\n",
       "    <tr style=\"text-align: right;\">\n",
       "      <th></th>\n",
       "      <th>Start_Year</th>\n",
       "      <th>End_Year</th>\n",
       "      <th>Duration</th>\n",
       "    </tr>\n",
       "    <tr>\n",
       "      <th>platform</th>\n",
       "      <th></th>\n",
       "      <th></th>\n",
       "      <th></th>\n",
       "    </tr>\n",
       "  </thead>\n",
       "  <tbody>\n",
       "    <tr>\n",
       "      <th>DS</th>\n",
       "      <td>2004</td>\n",
       "      <td>2012</td>\n",
       "      <td>8</td>\n",
       "    </tr>\n",
       "    <tr>\n",
       "      <th>PS2</th>\n",
       "      <td>2000</td>\n",
       "      <td>2010</td>\n",
       "      <td>10</td>\n",
       "    </tr>\n",
       "    <tr>\n",
       "      <th>PS3</th>\n",
       "      <td>2006</td>\n",
       "      <td>2015</td>\n",
       "      <td>9</td>\n",
       "    </tr>\n",
       "    <tr>\n",
       "      <th>Wii</th>\n",
       "      <td>2006</td>\n",
       "      <td>2012</td>\n",
       "      <td>6</td>\n",
       "    </tr>\n",
       "    <tr>\n",
       "      <th>X360</th>\n",
       "      <td>2005</td>\n",
       "      <td>2014</td>\n",
       "      <td>9</td>\n",
       "    </tr>\n",
       "  </tbody>\n",
       "</table>\n",
       "</div>"
      ],
      "text/plain": [
       "          Start_Year  End_Year  Duration\n",
       "platform                                \n",
       "DS              2004      2012         8\n",
       "PS2             2000      2010        10\n",
       "PS3             2006      2015         9\n",
       "Wii             2006      2012         6\n",
       "X360            2005      2014         9"
      ]
     },
     "execution_count": 21,
     "metadata": {},
     "output_type": "execute_result"
    }
   ],
   "source": [
    "# Определяем первый и последний год с ненулевыми данными для каждой платформы\n",
    "def get_first_year(row):\n",
    "    return row.index[row.notna()].min() if not row.dropna().empty else None\n",
    "\n",
    "def get_last_year(row):\n",
    "    return row.index[row.notna()].max() if not row.dropna().empty else None\n",
    "\n",
    "start_years = platform_sales_per_year.apply(get_first_year, axis=1)\n",
    "end_years = platform_sales_per_year.apply(get_last_year, axis=1)\n",
    "\n",
    "# Создаем DataFrame для анализа жизненного цикла платформ\n",
    "platform_life_cycle = pd.DataFrame({\n",
    "    'Start_Year': start_years,\n",
    "    'End_Year': end_years,\n",
    "    'Duration': end_years - start_years\n",
    "})\n",
    "\n",
    "# Вывод результатов\n",
    "platform_life_cycle"
   ]
  },
  {
   "cell_type": "markdown",
   "metadata": {},
   "source": [
    "**Выводы**\n",
    "- Продолжительность жизненного цикла: Большинство платформ имеют жизненный цикл от 6 до 10 лет. Это показывает, что платформы остаются на рынке достаточно долго, прежде чем начинают терять популярность.\n",
    "- Период активных лет: Платформы, такие как `PS2`, `PS3` и `X360` имеют схожий период активности (9–10 лет), что может указывать на совместимость их жизненных циклов с общими трендами в игровой индустрии. `Wii`, с более коротким циклом в 6 лет, и `DS`, с циклом в 8 лет, демонстрируют более ограниченный период активности, возможно, из-за появления новых, более мощных платформ."
   ]
  },
  {
   "cell_type": "markdown",
   "metadata": {},
   "source": [
    "**Рассмотрим последние три года для прогнозироания продаж на следущий 2017 год.**"
   ]
  },
  {
   "cell_type": "code",
   "execution_count": 22,
   "metadata": {},
   "outputs": [],
   "source": [
    "# Фильтрация данных по периодам с 2014 по 2016 года\n",
    "filtered_df = df[(df['year_of_release'] >= 2014) & (df['year_of_release'] <= 2016)]"
   ]
  },
  {
   "cell_type": "code",
   "execution_count": 23,
   "metadata": {},
   "outputs": [
    {
     "data": {
      "image/png": "[encoded data removed]",
      "text/plain": [
       "<Figure size 1008x576 with 1 Axes>"
      ]
     },
     "metadata": {
      "needs_background": "light"
     },
     "output_type": "display_data"
    }
   ],
   "source": [
    "# Построение графика «ящик с усами» в разбивке по платформам\n",
    "plt.figure(figsize=(14, 8))\n",
    "sns.boxplot(x='platform', y='total_sales', data=filtered_df)\n",
    "\n",
    "# Устанавливаем лимит для оси Y, чтобы убрать влияние больших выбросов\n",
    "plt.ylim(0, 2)  # Пределы до 3 млн копий\n",
    "\n",
    "# Настройка заголовков и подписей\n",
    "plt.title('Распределение глобальных продаж для выбранных платформ (2014-2016)')\n",
    "plt.xlabel('Платформа')\n",
    "plt.ylabel('Глобальные продажи (млн копий)')\n",
    "\n",
    "# Показать график\n",
    "plt.show()"
   ]
  },
  {
   "cell_type": "markdown",
   "metadata": {},
   "source": [
    "**Визуальный анализ:**\n",
    "\n",
    "- Медиана Wii U выше: Несмотря на то, что общее впечатление может создавать, что PS4 и Xbox One более успешны, медиана продаж Wii U оказывается выше. Это означает, что типичная игра на Wii U продавалась лучше, чем типичная игра на PS4 или Xbox One в указанный период.\n",
    "- Широкий разброс данных: Для большинства платформ наблюдается значительный разброс данных, что указывает на наличие как очень успешных, так и менее успешных игр. Это говорит о высокой конкуренции на рынке и разнообразии предпочтений игроков.\n",
    "- Выбросы: Наличие выбросов (точек за пределами \"усов\" ящика) свидетельствует о наличии игр с аномально высокими или низкими продажами. Это могут быть как блокбастеры, так и коммерческие провалы.\n",
    "- Высокие максимальные значения PS4 и Xbox One: Хотя медиана Wii U выше, максимальные значения продаж для PS4 и Xbox One существенно выше. Это говорит о наличии на этих платформах игр-блокбастеров, которые значительно превосходят по продажам большинство игр на других платформах.\n",
    "- 3DS и PS3 менее популярны: Платформы 3DS и PS3 демонстрируют более низкие показатели продаж по сравнению с консолями нового поколения (PS4 и Xbox One). Это может быть связано с их ориентацией на другую аудиторию (например, более молодую или предпочитающую портативные игры).\n",
    "- PC и PSV занимают промежуточное положение: Платформы демонстрируют средние показатели продаж, что указывает на их стабильную позицию на рынке.\n",
    "\n",
    "**Общие тренды для продаж в 2017 году:**\n",
    "\n",
    "- Таргетинг на платформы с высокой медианой продаж: Реклама игр для Wii U может привлечь внимание, учитывая их успешные показатели.\n",
    "- Выделение блокбастеров: Продвижение на PS4 и Xbox One должно акцентироваться на популярных играх, которые уже демонстрируют высокие максимальные продажи."
   ]
  },
  {
   "cell_type": "markdown",
   "metadata": {},
   "source": [
    "**Проверка влияния отзывов критиков и пользователей на продажи внутри одной платформы XOne:**"
   ]
  },
  {
   "cell_type": "code",
   "execution_count": 24,
   "metadata": {},
   "outputs": [
    {
     "data": {
      "image/png": "[encoded data removed]",
      "text/plain": [
       "<Figure size 720x360 with 2 Axes>"
      ]
     },
     "metadata": {
      "needs_background": "light"
     },
     "output_type": "display_data"
    }
   ],
   "source": [
    "# Выбираем одну популярную платформу - XOne\n",
    "selected_platforms  = filtered_df[filtered_df['platform'] == 'XOne']\n",
    "\n",
    "# Проверим наличие данных по отзывам пользователей и критиков\n",
    "selected_platforms = selected_platforms[['user_score', 'critic_score', 'total_sales']].dropna()\n",
    "\n",
    "# Строим диаграмму рассеяния для отзывов пользователей и продаж\n",
    "plt.figure(figsize=(10, 5))\n",
    "\n",
    "# Диаграмма для отзывов пользователей\n",
    "plt.subplot(1, 2, 1)\n",
    "plt.scatter(selected_platforms['user_score'], selected_platforms['total_sales'], alpha=0.5)\n",
    "plt.title('Отзывы пользователей и продажи (XOne)')\n",
    "plt.xlabel('Отзывы пользователей')\n",
    "plt.ylabel('Глобальные продажи (млн копий)')\n",
    "\n",
    "# Диаграмма для отзывов критиков\n",
    "plt.subplot(1, 2, 2)\n",
    "plt.scatter(selected_platforms['critic_score'], selected_platforms['total_sales'], alpha=0.5)\n",
    "plt.title('Отзывы критиков и продажи (XOne)')\n",
    "plt.xlabel('Отзывы критиков')\n",
    "plt.ylabel('Глобальные продажи (млн копий)')\n",
    "\n",
    "plt.tight_layout()\n",
    "plt.show()"
   ]
  },
  {
   "cell_type": "markdown",
   "metadata": {},
   "source": [
    "**Анализ диаграмм рассеяния:** Отзывы пользователей и критиков vs. Продажи игр на платформе XOne\n",
    "\n",
    "1. Диаграмма \"Отзывы пользователей и продажи\":\n",
    "\n",
    "- Отрицательная корреляция: Точки на графике сильно разбросаны, что свидетельствует о том, что мнение пользователей не является определяющим фактором продаж. Множество игр с высокими оценками пользователей имеют относительно низкие продажи, и наоборот.\n",
    "- Выбросы: Наблюдаются отдельные игры с очень высокими продажами при средних оценках пользователей. Это может быть связано с сильными маркетинговыми кампаниями, уникальностью игры или другими факторами.\n",
    "\n",
    "2. Диаграмма \"Отзывы критиков и продажи\":\n",
    "\n",
    "- Более выраженная положительная корреляция: Существует более заметная тенденция к увеличению продаж при повышении оценок критиков. Это говорит о том, что мнение профессиональных критиков оказывает большее влияние на продажи игр, чем мнение обычных пользователей.\n",
    "- Меньше разброса: Точки на графике расположены более компактно, что подтверждает более сильную связь между оценками критиков и продажами. Однако, также присутствуют выбросы, что указывает на то, что и здесь есть исключения из общего правила."
   ]
  },
  {
   "cell_type": "code",
   "execution_count": 25,
   "metadata": {},
   "outputs": [
    {
     "name": "stdout",
     "output_type": "stream",
     "text": [
      "Корреляция между отзывами пользователей и продажами: -0.09\n",
      "Корреляция между отзывами критиков и продажами: 0.42\n"
     ]
    }
   ],
   "source": [
    "# Считаем корреляцию между отзывами пользователей и продажами для XOne\n",
    "user_corr_xone= selected_platforms['user_score'].corr(selected_platforms['total_sales'])\n",
    "critic_corr_xone = selected_platforms['critic_score'].corr(selected_platforms['total_sales'])\n",
    "\n",
    "print(f\"Корреляция между отзывами пользователей и продажами: {user_corr_xone:.2f}\")\n",
    "print(f\"Корреляция между отзывами критиков и продажами: {critic_corr_xone:.2f}\")"
   ]
  },
  {
   "cell_type": "markdown",
   "metadata": {},
   "source": [
    "**Анализ коэффициентов корреляции**\n",
    "- Отзывы пользователей: Коэффициент корреляции -0.09 свидетельствует об отрицательной связи между оценками пользователей и продажами. Это подтверждает визуальный анализ диаграммы.\n",
    "- Отзывы критиков: Коэффициент корреляции 0.42 указывает на умеренную положительную связь между оценками критиков и продажами. Это согласуется с визуальным анализом и говорит о том, что мнение критиков играет более важную роль в формировании продаж, чем мнение пользователей.\n",
    "\n",
    "**Выводы:**\n",
    "- Мнение критиков более значимо: Оценки профессиональных критиков оказывают более существенное влияние на продажи игр на платформе XOne по сравнению с оценками пользователей.\n",
    "- Другие факторы: На продажи игр влияют не только отзывы критиков и пользователей, но и множество других факторов, таких как маркетинговые кампании, жанр игры, эксклюзивность для платформы и т.д.\n",
    "- Нелинейная зависимость: Зависимость между оценками и продажами может быть нелинейной. Например, может существовать порог, ниже которого низкие оценки существенно влияют на продажи, а выше которого влияние оценок становится менее значимым."
   ]
  },
  {
   "cell_type": "markdown",
   "metadata": {},
   "source": [
    "**Проверка влияния отзывов критиков и пользователей на продажи внутри одной платформы PS4:**"
   ]
  },
  {
   "cell_type": "code",
   "execution_count": 26,
   "metadata": {},
   "outputs": [
    {
     "data": {
      "image/png": "[encoded data removed]",
      "text/plain": [
       "<Figure size 720x360 with 2 Axes>"
      ]
     },
     "metadata": {
      "needs_background": "light"
     },
     "output_type": "display_data"
    }
   ],
   "source": [
    "# Выбираем одну популярную платформу - PS4\n",
    "selected_platforms  = filtered_df[filtered_df['platform'] == 'PS4']\n",
    "\n",
    "# Проверим наличие данных по отзывам пользователей и критиков\n",
    "selected_platforms = selected_platforms[['user_score', 'critic_score', 'total_sales']].dropna()\n",
    "\n",
    "# Строим диаграмму рассеяния для отзывов пользователей и продаж\n",
    "plt.figure(figsize=(10, 5))\n",
    "\n",
    "# Диаграмма для отзывов пользователей\n",
    "plt.subplot(1, 2, 1)\n",
    "plt.scatter(selected_platforms['user_score'], selected_platforms['total_sales'], alpha=0.5)\n",
    "plt.title('Отзывы пользователей и продажи (PS4)')\n",
    "plt.xlabel('Отзывы пользователей')\n",
    "plt.ylabel('Глобальные продажи (млн копий)')\n",
    "\n",
    "# Диаграмма для отзывов критиков\n",
    "plt.subplot(1, 2, 2)\n",
    "plt.scatter(selected_platforms['critic_score'], selected_platforms['total_sales'], alpha=0.5)\n",
    "plt.title('Отзывы критиков и продажи (PS4)')\n",
    "plt.xlabel('Отзывы критиков')\n",
    "plt.ylabel('Глобальные продажи (млн копий)')\n",
    "\n",
    "plt.tight_layout()\n",
    "plt.show()"
   ]
  },
  {
   "cell_type": "markdown",
   "metadata": {},
   "source": [
    "**Анализ диаграмм рассеяния:** Отзывы пользователей и критиков vs. Продажи игр на платформе PS4\n",
    "\n",
    "1. Диаграмма \"Отзывы пользователей и продажи\":\n",
    "\n",
    "- Отрицательная корреляция: Точки на графике сильно разбросаны, что свидетельствует о том, что мнение пользователей не является определяющим фактором продаж. Множество игр с высокими оценками пользователей имеют относительно низкие продажи, и наоборот.\n",
    "- Выбросы: Наблюдаются отдельные игры с очень высокими продажами при средних оценках пользователей. Это может быть связано с сильными маркетинговыми кампаниями, уникальностью игры или другими факторами.\n",
    "\n",
    "2. Диаграмма \"Отзывы критиков и продажи\":\n",
    "\n",
    "- Более выраженная положительная корреляция: Существует более заметная тенденция к увеличению продаж при повышении оценок критиков. Это говорит о том, что мнение профессиональных критиков оказывает влияние на продажи игр, чем мнение обычных пользователей.\n",
    "- Меньше разброса: Точки на графике расположены более компактно, что подтверждает более сильную связь между оценками критиков и продажами. Однако, также присутствуют выбросы, что указывает на то, что и здесь есть исключения из общего правила."
   ]
  },
  {
   "cell_type": "code",
   "execution_count": 27,
   "metadata": {
    "scrolled": true
   },
   "outputs": [
    {
     "name": "stdout",
     "output_type": "stream",
     "text": [
      "Корреляция между отзывами пользователей и продажами: -0.04\n",
      "Корреляция между отзывами критиков и продажами: 0.40\n"
     ]
    }
   ],
   "source": [
    "# Считаем корреляцию между отзывами пользователей и продажами для PS4\n",
    "user_corr_ps4= selected_platforms['user_score'].corr(selected_platforms['total_sales'])\n",
    "critic_corr_ps4 = selected_platforms['critic_score'].corr(selected_platforms['total_sales'])\n",
    "\n",
    "print(f\"Корреляция между отзывами пользователей и продажами: {user_corr_ps4:.2f}\")\n",
    "print(f\"Корреляция между отзывами критиков и продажами: {critic_corr_ps4:.2f}\")"
   ]
  },
  {
   "cell_type": "markdown",
   "metadata": {},
   "source": [
    "**Анализ коэффициентов корреляции:**\n",
    "- Отзывы пользователей: Коэффициент корреляции -0.09 свидетельствует об отрицательной связи между оценками пользователей и продажами. Это подтверждает визуальный анализ диаграммы.\n",
    "- Отзывы критиков: Коэффициент корреляции 0.42 указывает на умеренную положительную связь между оценками критиков и продажами. Это согласуется с визуальным анализом и говорит о том, что мнение критиков играет более важную роль в формировании продаж, чем мнение пользователей.\n",
    "\n",
    "**Выводы**\n",
    "- Мнение критиков более значимо: Оценки профессиональных критиков оказывают более существенное влияние на продажи игр на платформе PS4 по сравнению с оценками пользователей.\n",
    "- Другие факторы: На продажи игр влияют не только отзывы критиков и пользователей, но и множество других факторов, таких как маркетинговые кампании, жанр игры, эксклюзивность для платформы и т.д.\n",
    "- Нелинейная зависимость: Зависимость между оценками и продажами может быть нелинейной. Например, может существовать порог, ниже которого низкие оценки существенно влияют на продажи, а выше которого влияние оценок становится менее значимым."
   ]
  },
  {
   "cell_type": "markdown",
   "metadata": {},
   "source": [
    "**Подсчет суммарных продаж по жанрам c 2014 по 2016:**"
   ]
  },
  {
   "cell_type": "code",
   "execution_count": 28,
   "metadata": {},
   "outputs": [],
   "source": [
    "# Группируем данные по жанрам и считаем медианные продажи\n",
    "genre_sales = filtered_df.groupby('genre')['total_sales'].median().sort_values(ascending=False)"
   ]
  },
  {
   "cell_type": "code",
   "execution_count": 29,
   "metadata": {},
   "outputs": [
    {
     "data": {
      "image/png": "[encoded data removed]",
      "text/plain": [
       "<Figure size 720x432 with 1 Axes>"
      ]
     },
     "metadata": {
      "needs_background": "light"
     },
     "output_type": "display_data"
    }
   ],
   "source": [
    "# Столбчатая диаграмма суммарных продаж по жанрам\n",
    "plt.figure(figsize=(10, 6))\n",
    "genre_sales.plot(kind='bar')\n",
    "plt.title('Суммарные продажи по жанрам (2014-2016)')\n",
    "plt.xlabel('Жанр')\n",
    "plt.ylabel('Суммарные продажи (млн копий)')\n",
    "plt.xticks(rotation=45)\n",
    "plt.show()"
   ]
  },
  {
   "cell_type": "markdown",
   "metadata": {},
   "source": [
    "Ключевые выводы на основе представленной диаграммы:\n",
    "\n",
    "- Доминирование нескольких жанров: Жанры `\"Shooter\"`, `\"Sports\"`, `\"Misc\"` демонстрируют значительно более высокие продажи по сравнению с другими жанрами. Это может свидетельствовать о том, что эти жанры наиболее востребованы широкой аудиторией или же о наличии в этих категориях крайне успешных игр-блокбастеров.\n",
    "- Средний уровень продаж: Жанры `Action`, `Role-Playing`, `Platform`, `Fighting`, `'Simulation'` занимают промежуточное положение и демонстрируют относительно стабильные продажи.\n",
    "- Низкие продажи: Жанры `Racing`, `Strategy`, `Adventure` и `Puzzle` показывают наименьшие объемы продаж. Это может указывать на меньшую популярность этих жанров у массовой аудитории или на более узкую нишу для этих игр."
   ]
  },
  {
   "cell_type": "code",
   "execution_count": 30,
   "metadata": {},
   "outputs": [
    {
     "data": {
      "image/png": "[encoded data removed]",
      "text/plain": [
       "<Figure size 864x576 with 1 Axes>"
      ]
     },
     "metadata": {
      "needs_background": "light"
     },
     "output_type": "display_data"
    }
   ],
   "source": [
    "# Увеличиваем размер графика\n",
    "plt.figure(figsize=(12, 8))\n",
    "\n",
    "# Строим боксплот продаж по жанрам\n",
    "sns.boxplot(x='genre', y='total_sales', data=filtered_df)\n",
    "\n",
    "# Устанавливаем лимит для оси Y, чтобы убрать влияние больших выбросов\n",
    "plt.ylim(0, 2)  # Пределы до 2 млн копий\n",
    "\n",
    "# Добавляем заголовок и подписи к осям\n",
    "plt.title('Распределение продаж по жанрам')\n",
    "plt.xlabel('Жанр')\n",
    "plt.ylabel('Продажи (млн копий)')\n",
    "plt.xticks(rotation=45)\n",
    "\n",
    "# Отображаем график\n",
    "plt.show()"
   ]
  },
  {
   "cell_type": "markdown",
   "metadata": {},
   "source": [
    "Данные боксплотов подтверждаются с выводами предыдущей диаграммы:\n",
    "- Медианы жанров `\"Shooter\"`, `\"Sports\"`, `\"Misc\"` демонстрируют более высокие продажи по сравнению с другими жанрами. \n",
    "- Vенее низкие средние значения у `\"Action\"`, `\"Role-playing\"`, `\"Platform\"`, `\"Stimulation\"` и `\"Fighting\"`.\n",
    "- Жанры \"`Strategy\"`, `\"Adventure\"` и `\"Puzzle\"` демонстрируют более низкие медианы продаж.\n",
    "- Присутствует большой размах, это значит, что продажи игр в этом жанре распределены неравномерно, и существует значительная разница между играми, находящимися в нижней и верхней половине распределения."
   ]
  },
  {
   "cell_type": "markdown",
   "metadata": {},
   "source": [
    "<a id='Составление'></a>\n",
    "## Составление портрета пользователя каждого региона:"
   ]
  },
  {
   "cell_type": "markdown",
   "metadata": {},
   "source": [
    "Самые популярные платформы по регионам:"
   ]
  },
  {
   "cell_type": "code",
   "execution_count": 31,
   "metadata": {},
   "outputs": [
    {
     "data": {
      "image/png": "[encoded data removed]",
      "text/plain": [
       "<Figure size 1080x360 with 3 Axes>"
      ]
     },
     "metadata": {},
     "output_type": "display_data"
    }
   ],
   "source": [
    "# Определение топ-5 платформ и их долей для каждого региона\n",
    "platform_sales_share = {}\n",
    "for region in ['NA', 'EU', 'JP']:\n",
    "    top_platforms = filtered_df.groupby('platform')[f'{region.lower()}_sales'].sum().nlargest(5)\n",
    "    total_sales = filtered_df[f'{region.lower()}_sales'].sum()\n",
    "    shares = (top_platforms / total_sales) * 100  # Доля в процентах\n",
    "    platform_sales_share[region] = shares\n",
    "\n",
    "# Визуализация долей продаж с помощью круговой диаграммы\n",
    "plt.figure(figsize=(15, 5))  # Размер фигуры для трех графиков\n",
    "\n",
    "for i, (region, shares) in enumerate(platform_sales_share.items()):\n",
    "    plt.subplot(1, 3, i + 1)  # Один ряд и три столбца\n",
    "    shares.plot(kind='pie', autopct='%1.1f%%', startangle=90)\n",
    "    plt.title(f'Доли продаж топ-5 платформ в {region}')\n",
    "    plt.ylabel('')  # Убираем ylabel для чистоты графика\n",
    "\n",
    "plt.tight_layout()  # Убираем лишние отступы\n",
    "plt.show()"
   ]
  },
  {
   "cell_type": "markdown",
   "metadata": {},
   "source": [
    "**Сравнение регионов**\n",
    "\n",
    "**Северная Америка (NA):**\n",
    "\n",
    "- В Северной Америке наибольшую долю рынка занимают платформы PS4 (43,7%) и Xbox One (39%), что свидетельствует о сильной привязанности геймеров к этим консолям.\n",
    "- Wii U также имеет свою популярность, но с меньшей долей рынка, составляющей 8,7%.\n",
    "- PC и 3DS демонстрируют значительно меньшую долю, обе платформы имеют менее 5%.\n",
    "\n",
    "**Европа (EU):**\n",
    "\n",
    "- Европейский рынок выделяется выраженной привязанностью к платформе PS4, которая занимает 59,5% рынка.\n",
    "- Xbox One занимает значительную долю в 22,3%.\n",
    "- Замыкают пятёрку лидеров PC с 8,9%, Wii U с 6,2% и 3DS с около 3%.\n",
    "\n",
    "**Япония (JP):**\n",
    "\n",
    "- В Японии на первом месте находится 3DS с долей 33,1%.\n",
    "- PlayStation 4 занимает второе место с 28,3%.\n",
    "- Wii U (19,2%) и PlayStation Vita (13,5%) также пользуются популярностью, хотя их доля ниже.\n",
    "- PlayStation 3 имеет значительно меньшую долю рынка — всего 5,9%."
   ]
  },
  {
   "cell_type": "markdown",
   "metadata": {},
   "source": [
    "**Самые популярные жанры по регионам:**"
   ]
  },
  {
   "cell_type": "code",
   "execution_count": 32,
   "metadata": {},
   "outputs": [
    {
     "data": {
      "image/png": "[encoded data removed]",
      "text/plain": [
       "<Figure size 1080x360 with 3 Axes>"
      ]
     },
     "metadata": {},
     "output_type": "display_data"
    }
   ],
   "source": [
    "# Определение топ-5 жанров и их долей для каждого региона\n",
    "genre_sales_share = {}\n",
    "for region in ['NA', 'EU', 'JP']:\n",
    "    top_genres = filtered_df.groupby('genre')[f'{region.lower()}_sales'].sum().nlargest(5)  # Топ-5 жанров\n",
    "    total_sales = filtered_df[f'{region.lower()}_sales'].sum()  # Общие продажи в регионе\n",
    "    shares = (top_genres / total_sales) * 100  # Доля в процентах\n",
    "    genre_sales_share[region] = shares\n",
    "    \n",
    "# Визуализация долей продаж с помощью круговой диаграммы\n",
    "plt.figure(figsize=(15, 5))  # Размер фигуры для трех графиков\n",
    "\n",
    "for i, (region, shares) in enumerate(genre_sales_share.items()):\n",
    "    plt.subplot(1, 3, i + 1)  # Один ряд и три столбца\n",
    "    shares.plot(kind='pie', autopct='%1.1f%%', startangle=90)\n",
    "    plt.title(f'Доли продаж топ-5 жанров в {region}')\n",
    "    plt.ylabel('')  # Убираем ylabel для чистоты графика\n",
    "\n",
    "plt.tight_layout()  # Убираем лишние отступы\n",
    "plt.show()"
   ]
  },
  {
   "cell_type": "markdown",
   "metadata": {},
   "source": [
    "**Ключевые выводы:**\n",
    "\n",
    "- Глобальная популярность экшена: Жанр Action занимает лидирующие позицию по продажам во всех трех регионах, демонстрируя универсальную привлекательность динамичных игр.\n",
    "\n",
    "- Региональные особенности: Несмотря на общую тенденцию, в каждом регионе есть свои предпочтения:\n",
    "\n",
    " - Северная Америка (NA): Помимо экшена (31.4%), популярны шутеры (31.9%) и спортивные симуляторы (20.6%). Игры жанра Misc и Racing имеют значительно меншую долю рынка.\n",
    " - Европа (EU): В Европе также популярны экшен (33.7%),  шутеры (27.2%) спортивные симуляторы (21.4%). Доля игр  жанра Misc и Racing имеют значительно меншую долю рынка.\n",
    " - Япония (JP): Японский рынок демонстрирует наиболее ярко выраженную специфику. Здесь лидируют игры жанра Role-Playing (36.6%), что отражает традиционную любовь японских геймеров к ролевым играм. Экшен (30.2%) также популярен. Игры жанра Shooter (15.2%) немного популярнее, чем Platform и Simulation, которые тоже имеют значительно меньшую долю рынка."
   ]
  },
  {
   "cell_type": "markdown",
   "metadata": {},
   "source": [
    "**Влияние рейтинга ESRB на продажи:**"
   ]
  },
  {
   "cell_type": "code",
   "execution_count": 33,
   "metadata": {},
   "outputs": [],
   "source": [
    "# Подсчет суммарных продаж по рейтингу ESRB для каждого региона\n",
    "esrb_sales = filtered_df.groupby('rating')[['na_sales', 'eu_sales', 'jp_sales']].sum()"
   ]
  },
  {
   "cell_type": "code",
   "execution_count": 34,
   "metadata": {},
   "outputs": [
    {
     "data": {
      "image/png": "[encoded data removed]",
      "text/plain": [
       "<Figure size 864x432 with 1 Axes>"
      ]
     },
     "metadata": {
      "needs_background": "light"
     },
     "output_type": "display_data"
    }
   ],
   "source": [
    "# Визуализация продаж по рейтингу ESRB\n",
    "esrb_sales.plot(kind='bar', figsize=(12, 6))\n",
    "plt.title('Суммарные продажи по рейтингу ESRB в разных регионах')\n",
    "plt.xlabel('Рейтинг ESRB')\n",
    "plt.ylabel('Суммарные продажи (млн копий)')\n",
    "plt.xticks(rotation=45)\n",
    "plt.legend(title='Регион', loc='upper left')\n",
    "plt.tight_layout()\n",
    "plt.show()"
   ]
  },
  {
   "cell_type": "markdown",
   "metadata": {},
   "source": [
    "**Общая картина:**\n",
    "\n",
    "- Доминирование рейтинга \"M\" (Mature): В двух регионах (Северная Америка и Европа) игры с рейтингом \"M\" (для взрослых) демонстрируют наибольшие суммарные продажи. Это говорит о том, что игры с более взрослым контентом пользуются наибольшей популярностью у геймеров.\n",
    "- Различия между регионами: Несмотря на общую тенденцию, наблюдаются существенные различия в предпочтениях геймеров в разных регионах:\n",
    " - Северная Америка: Здесь игры с рейтингом \"M\" имеют значительное преимущество над другими рейтингами.\n",
    " - Европа: В Европе также преобладают игры с рейтингом \"M\", но игры с рейтингом \"E\" чуть более поплярны, чем в Северной Америке.\n",
    " - Япония: В Японии игры с рейтингом \"M\" занимают третье место после T(подростки) и E (для всех).\n",
    "- Низкая популярность рейтинга \"E10+\" (старше 10 лет и выше): Игры с этим рейтингом демонстрируют наименьшие продажи во всех регионах. Это может быть связано с тем, что данный рейтинг часто ассоциируется с более простыми и детскими играми.\n",
    "\n",
    "**Детальный анализ по рейтингам:**\n",
    "- Рейтинг \"M\" (Mature): Занимает первое место в Северной Америке и Европе, но его доля меньше в Японии, чем игр с рейтингом \"T\". Это свидетельствует о том, что существует значительная аудитория взрослых геймеров, предпочитающих игры с более зрелым контентом.\n",
    "- Рейтинг \"E\": Занимает второе место во всех трех регионах. Игры с этим рейтингом часто представляют собой семейные развлечения, спортивные симуляторы и казуальные игры.\n",
    "- Рейтинг \"T\": В Японии игры с рейтингом \"T\" занимают лидирующую позицию. Это объясняется популярностью японских RPG (Japanese Role-Playing Game), которые часто имеют этот рейтинг. В других регионах доля игр с рейтингом \"T\" также значительна и занимает третье место.\n",
    "- Рейтинг \"E10+\": Занимает 4 место во всех трех регионах. \n",
    "- Рейтинг \"unknown\": Игры с этим рейтингом имеет значительно меньшую долю рынка, что говорит о его нишевом характере.\n",
    "\n"
   ]
  },
  {
   "cell_type": "markdown",
   "metadata": {},
   "source": [
    "<a id='Проверка'></a>\n",
    "## Проверка гипотез:"
   ]
  },
  {
   "cell_type": "markdown",
   "metadata": {},
   "source": [
    "**Гипотеза о рейтингах платформ Xbox One и PC:**\n",
    "\n",
    "- Нулевая гипотеза (H0): Средние пользовательские рейтинги платформ Xbox One и PC одинаковые.\n",
    "- Альтернативная гипотеза (H1): Средние пользовательские рейтинги платформ Xbox One и PC различаются."
   ]
  },
  {
   "cell_type": "markdown",
   "metadata": {},
   "source": [
    "**Выбор порогового значения alpha**\n",
    "\n",
    "Зададим уровень значимости α = 0.05, что является стандартной практикой в статистике. Это означает, что мы готовы принять риск ошибиться в 5% случаев."
   ]
  },
  {
   "cell_type": "markdown",
   "metadata": {},
   "source": [
    "**Критерий для проверки гипотез**\n",
    "\n",
    "- Тест t: Это подходящий метод для сравнения средних значений двух групп. Поскольку мы сравниваем пользовательские рейтинги двух платформ и двух жанров, t-тест позволяет определить, есть ли статистически значимые различия между средними значениями.\n",
    "\n",
    "- Проверка равенства дисперсий: Согласно рекомендациям, в Спринт 7/25 → Тема 7/9: Проверка гипотез → Урок 11/14 мы не будем проверять равенство дисперсий отдельно. Вместо этого, используем параметр equal_var=False в t-тесте, что учтет возможность неравенства дисперсий."
   ]
  },
  {
   "cell_type": "code",
   "execution_count": 35,
   "metadata": {
    "scrolled": true
   },
   "outputs": [
    {
     "name": "stdout",
     "output_type": "stream",
     "text": [
      "T-статистика: 1.4799068252288436\n",
      "P-значение: 0.14037851868269774\n",
      "Среднее Xbox One: 6.620529801324504\n",
      "Среднее PC: 6.3417391304347825\n",
      "Не отвергаем нулевую гипотезу: средние пользовательские рейтинги Xbox One и PC одинаковые.\n"
     ]
    }
   ],
   "source": [
    "# Подготовка данных \n",
    "xbox_ratings = filtered_df[filtered_df['platform'] == 'XOne']['user_score'].dropna()\n",
    "pc_ratings = filtered_df[filtered_df['platform'] == 'PC']['user_score'].dropna()\n",
    "\n",
    "# t-тест для платформ\n",
    "t_statistic_platforms, p_value_platforms = stats.ttest_ind(xbox_ratings, pc_ratings, equal_var=False)\n",
    "\n",
    "# Вычисление средних значений\n",
    "mean_xbox = xbox_ratings.mean()\n",
    "mean_pc = pc_ratings.mean()\n",
    "\n",
    "# Вывод статистики и средних значений на разных строках\n",
    "output = (\n",
    "    f\"T-статистика: {t_statistic_platforms}\\n\"\n",
    "    f\"P-значение: {p_value_platforms}\\n\"\n",
    "    f\"Среднее Xbox One: {mean_xbox}\\n\"\n",
    "    f\"Среднее PC: {mean_pc}\"\n",
    ")\n",
    "print(output)\n",
    "\n",
    "# Проверка гипотезы для платформ\n",
    "if p_value_platforms < 0.05:\n",
    "    print(\"Отвергаем нулевую гипотезу: средние пользовательские рейтинги Xbox One и PC различаются.\")\n",
    "else:\n",
    "    print(\"Не отвергаем нулевую гипотезу: средние пользовательские рейтинги Xbox One и PC одинаковые.\")\n"
   ]
  },
  {
   "cell_type": "markdown",
   "metadata": {},
   "source": [
    "Поскольку p-value значительно ниже уровня значимости (0.05), мы отвергаем нулевую гипотезу. Это свидетельствует о том, что средние пользовательские рейтинги платформ Xbox One и PC одинаковые, что указывает на отсутствие статистически значимых различий между ними."
   ]
  },
  {
   "cell_type": "markdown",
   "metadata": {},
   "source": [
    "**Гипотеза о рейтингах жанров Action и Sports:**\n",
    "\n",
    "- Нулевая гипотеза (H0): Средние пользовательские рейтинги жанров Action и Sports одинаковые.\n",
    "- Альтернативная гипотеза (H1): Средние пользовательские рейтинги жанров Action и Sports различаются."
   ]
  },
  {
   "cell_type": "code",
   "execution_count": 36,
   "metadata": {},
   "outputs": [
    {
     "name": "stdout",
     "output_type": "stream",
     "text": [
      "T-статистика: 6.151884688583734\n",
      "P-значение: 8.327612976032319e-09\n",
      "Среднее Action: 6.83259911894273\n",
      "Среднее Sports: 5.68433734939759\n",
      "Отвергаем нулевую гипотезу: средние пользовательские рейтинги жанров Action и Sports различаются.\n"
     ]
    }
   ],
   "source": [
    "# Подготовка данных для жанров\n",
    "action_ratings = filtered_df[filtered_df['genre'] == 'Action']['user_score'].dropna()\n",
    "sports_ratings = filtered_df[filtered_df['genre'] == 'Sports']['user_score'].dropna()\n",
    "\n",
    "# Вычисление средних значений\n",
    "mean_action = action_ratings.mean()\n",
    "mean_sports = sports_ratings.mean()\n",
    "\n",
    "# t-тест для платформ\n",
    "t_statistic_genres, p_value_genres = stats.ttest_ind(action_ratings, sports_ratings, equal_var=False)\n",
    "\n",
    "# Вывод статистики и средних значений на разных строках\n",
    "output = (\n",
    "    f\"T-статистика: {t_statistic_genres}\\n\"\n",
    "    f\"P-значение: {p_value_genres}\\n\"\n",
    "    f\"Среднее Action: {mean_action}\\n\"\n",
    "    f\"Среднее Sports: {mean_sports}\"\n",
    ")\n",
    "print(output)\n",
    "\n",
    "# Проверка гипотезы для жанров\n",
    "if p_value_genres < 0.05:\n",
    "    print(\"Отвергаем нулевую гипотезу: средние пользовательские рейтинги жанров Action и Sports различаются.\")\n",
    "else:\n",
    "    print(\"Не отвергаем нулевую гипотезу: средние пользовательские рейтинги жанров Action и Sports одинаковые.\")"
   ]
  },
  {
   "cell_type": "markdown",
   "metadata": {},
   "source": [
    "Поскольку p-value значительно ниже уровня значимости (0.05), мы отвергаем нулевую гипотезу. Это свидетельствует о том, что средние пользовательские рейтинги жанров Action и Sports различаются, что подтверждает различие между ними."
   ]
  },
  {
   "cell_type": "markdown",
   "metadata": {},
   "source": [
    "<a id='Общий'></a>\n",
    "## Общий вывод по проекту:"
   ]
  },
  {
   "cell_type": "markdown",
   "metadata": {},
   "source": [
    "Данное исследование направлено на анализ данных продаж видеоигр с целью выявления факторов, влияющих на их успешность. Был выбран период с 2014 по 2016 годы для анализа продаж видеоигр, поскольку он представляет собой оптимальный временной интервал, который позволяет избежать устаревших трендов и одновременно предоставляет достаточные данные для выявления актуальных факторов успешности в динамично меняющейся индустрии видеоигр. \n",
    "\n",
    "Проведенный анализ количества выпущенных игр по годам показал следующие ключевые тенденции:\n",
    "\n",
    "\n",
    "- **Динамика выпуска игр:** В начале 1990-х годов количество новых игр было низким (менее 50 в год), однако с начала 2000-х годов наблюдается резкий рост, достигнув пика в 2007-2008 годах (около 600 игр в год). С 2010 года началось устойчивое снижение количества выпущенных игр, что говорит о зрелости рынка.\n",
    "\n",
    "\n",
    "- **Продолжительность жизненного цикла:** Большинство платформ имеют жизненный цикл от 6 до 10 лет. Платформы PS2, PS3 и X360 имеют схожий период активности (9–10 лет), в то время как Wii и DS имеют более короткие циклы.\n",
    "\n",
    "\n",
    "- **Лидеры по продажам по платформам:** \n",
    " - *Выделяются 4 платформы* — PS2, X360, PS3 и Wii, которые демонстрируют наибольшие суммы продаж с 2000, но после своего жизненного цикла от 6 до 10 лет, они начинают терять свою актуадьность и продажи идут на спад или вовсе прекращаются для некоторых.\n",
    " - *В период с 2014 по 2016*: Несмотря на то, что пиковые продажи игр на PS4 и Xbox One были выше, средние продажи игр на Wii U оказались более высокими. Это свидетельствует о стабильном спросе на контент для этой платформы. \n",
    "\n",
    "\n",
    "\n",
    "- **Влияние оценок на продажи (2014-2016):** Анализ показал, что оценки критиков имеют более значительное влияние на продажи, чем отзывы пользователей. Это подчеркивает важность фокуса на качестве игр и их восприятии критиками.\n",
    "\n",
    "\n",
    "- **Региональные предпочтения (2014-2016):** В Северной Америке и Европе доминирует платформа PS4, с 43,7% и 59,5% доли рынка соответственно, в то время как Xbox One также занимает значительную позицию, особенно в Северной Америке. В Японии же предпочтения геймеров смещены к 3DS, которая лидирует с долей 33,1%, в то время как PlayStation 4 занимает лишь второе место с 28,3%.\n",
    "\n",
    "\n",
    "- **Лидеры продаж по жанрам (2014-2016):** Жанр Action занимает лидирующие позиции по продажам во всех трех регионах, подчеркивая его универсальную привлекательность среди геймеров. Однако каждый регион демонстрирует свои уникальные предпочтения: в Северной Америке и Европе Action сочетается с Shooter и Sports Simulation, тогда как в Японии наиболее популярны Role-Playing игры, что отражает традиционные интересы японских игроков.\n",
    "\n",
    "\n",
    "\n",
    "- **Влияние рейтинга ESRB (2014-2016):** Игры с рейтингом \"M\" (Mature) демонстрируют наибольшие суммарные продажи в Северной Америке (46,2%) и Европе (47,3%), что указывает на популярность контента для взрослых среди геймеров. В то же время Япония предпочитает игры с рейтингом \"T\" (36,4%) и \"E\" (27,1%), что свидетельствует о региональных различиях в предпочтениях, где рейтинг \"E10+\" показывает наименьшие продажи во всех регионах (менее 5%), вероятно, из-за ассоциации с более простыми играми.\n",
    "\n",
    "\n",
    "\n",
    "- **Статистические гипотезы (2014-2016):** Проведенные t-тесты подтвердили схожесть в пользовательских рейтингах между платформами Xbox One и PC. Однако гипотеза о равенстве пользовательских рейтингов жанров Action и Sports не подтвердилась."
   ]
  },
  {
   "cell_type": "markdown",
   "metadata": {},
   "source": [
    "<a id='Рекомендации'></a>\n",
    "## Рекомендации для бизнеса:"
   ]
  },
  {
   "cell_type": "markdown",
   "metadata": {},
   "source": [
    "На основе проведенного анализа данных о продажах видеоигр, оценках пользователей и критиков, а также жанрах и платформах, можно выделить несколько ключевых рекомендаций для интернет-магазина «Стримчик», направленных на прогнозирование успешности игр и эффективное планирование рекламных кампаний в 2017 году.\n",
    "\n",
    "- **Фокус на платформы с высокой популярностью:** Учитывая, что платформа PS4 занимает доминирующую позицию в Северной Америке (43,7%) и Европе (59,5%), стоит сосредоточить маркетинговые усилия на играх, выпущенных для этой платформы. Однако в Японии предпочтения геймеров смещены к 3DS, которая занимает 33,1% доли рынка, что говорит о необходимости включения игр для этой платформы в ассортимент. Также необходимо учитывать, что несмотря на высокие пиковые продажи PS4 и Xbox One, Wii U продемонстрировала стабильный спрос, что может указывать на уникальную целевую аудиторию, заинтересованную в играх для данной платформы.\n",
    "\n",
    "\n",
    "- **Ориентация на жанры с высоким спросом:** Жанр Action показал высокие продажи во всех регионах, что подчеркивает его универсальную привлекательность. Рекомендуется сосредоточиться на продвижении игр в этом жанре, одновременно учитывая региональные предпочтения: в Северной Америке и Европе можно рассмотреть комбинации с жанрами Shooter и Sports Simulation, в то время как в Японии стоит акцентировать внимание на Role-Playing играх.\n",
    "\n",
    "\n",
    "- **Учет влияния оценок на продажи:** : Анализ показал, что оценки критиков имеют более значительное влияние на продажи, чем отзывы пользователей. Рекомендуется активно работать с рецензентами и критиками для повышения видимости игр, что может существенно повысить их продажи.\n",
    "\n",
    "\n",
    "- **Адаптация к региональным предпочтениям:** ажно учитывать различия в предпочтениях игроков в разных регионах. В Северной Америке и Европе игры с рейтингом \"M\" (Mature) демонстрируют высокие продажи (46,2% и 47,3% соответственно), в то время как в Японии более популярны игры с рейтингами \"T\" (36,4%) и \"E\" (27,1%). Необходимо адаптировать контент и маркетинговые стратегии с учетом этих различий для каждой аудитории.\n",
    "\n",
    "\n",
    "- **Углубленный анализ временных трендов:** Т Поскольку рынок видеоигр постоянно меняется, важно регулярно пересматривать стратегии на основе последних данных и трендов. Это позволит интернет-магазину «Стримчик» оставаться конкурентоспособным и предлагать актуальные продукты."
   ]
  }
 ],
 "metadata": {
  "ExecuteTimeLog": [
   {
    "duration": 665,
    "start_time": "2024-09-18T07:07:17.686Z"
   },
   {
    "duration": 25,
    "start_time": "2024-09-18T07:08:19.712Z"
   },
   {
    "duration": 15,
    "start_time": "2024-09-18T07:17:05.285Z"
   },
   {
    "duration": 66,
    "start_time": "2024-09-18T07:17:09.852Z"
   },
   {
    "duration": 7,
    "start_time": "2024-09-19T09:55:03.820Z"
   },
   {
    "duration": 9,
    "start_time": "2024-09-19T09:59:36.311Z"
   },
   {
    "duration": 4,
    "start_time": "2024-09-19T10:02:32.422Z"
   },
   {
    "duration": 7,
    "start_time": "2024-09-19T10:02:34.009Z"
   },
   {
    "duration": 20,
    "start_time": "2024-09-19T10:05:54.062Z"
   },
   {
    "duration": 5,
    "start_time": "2024-09-19T10:07:55.566Z"
   },
   {
    "duration": 5,
    "start_time": "2024-09-19T10:08:59.206Z"
   },
   {
    "duration": 9,
    "start_time": "2024-09-19T10:09:21.715Z"
   },
   {
    "duration": 7,
    "start_time": "2024-09-19T10:10:08.823Z"
   },
   {
    "duration": 19,
    "start_time": "2024-09-19T10:15:28.799Z"
   },
   {
    "duration": 10,
    "start_time": "2024-09-19T10:16:55.493Z"
   },
   {
    "duration": 7,
    "start_time": "2024-09-19T10:18:14.285Z"
   },
   {
    "duration": 69,
    "start_time": "2024-09-19T10:18:19.136Z"
   },
   {
    "duration": 15,
    "start_time": "2024-09-19T10:18:23.070Z"
   },
   {
    "duration": 4,
    "start_time": "2024-09-19T10:18:27.997Z"
   },
   {
    "duration": 1117,
    "start_time": "2024-09-19T10:18:32.107Z"
   },
   {
    "duration": 8,
    "start_time": "2024-09-19T10:19:00.505Z"
   },
   {
    "duration": 5,
    "start_time": "2024-09-19T10:19:02.651Z"
   },
   {
    "duration": 4,
    "start_time": "2024-09-19T10:19:05.874Z"
   },
   {
    "duration": 6,
    "start_time": "2024-09-19T10:19:08.081Z"
   },
   {
    "duration": 9,
    "start_time": "2024-09-19T10:19:11.327Z"
   },
   {
    "duration": 57,
    "start_time": "2024-09-19T10:22:15.292Z"
   },
   {
    "duration": 20,
    "start_time": "2024-09-19T10:23:19.909Z"
   },
   {
    "duration": 6,
    "start_time": "2024-09-19T10:23:41.751Z"
   },
   {
    "duration": 25,
    "start_time": "2024-09-19T10:23:48.331Z"
   },
   {
    "duration": 17,
    "start_time": "2024-09-19T10:24:16.447Z"
   },
   {
    "duration": 11,
    "start_time": "2024-09-19T10:28:30.758Z"
   },
   {
    "duration": 638,
    "start_time": "2024-09-19T10:31:13.408Z"
   },
   {
    "duration": 68,
    "start_time": "2024-09-19T10:31:43.597Z"
   },
   {
    "duration": 1031,
    "start_time": "2024-09-19T10:31:49.945Z"
   },
   {
    "duration": 5061,
    "start_time": "2024-09-19T10:32:03.174Z"
   },
   {
    "duration": 740,
    "start_time": "2024-09-19T10:32:29.001Z"
   },
   {
    "duration": 16,
    "start_time": "2024-09-19T10:32:29.742Z"
   },
   {
    "duration": 5,
    "start_time": "2024-09-19T10:32:29.760Z"
   },
   {
    "duration": 14,
    "start_time": "2024-09-19T10:32:29.767Z"
   },
   {
    "duration": 11,
    "start_time": "2024-09-19T10:32:29.783Z"
   },
   {
    "duration": 6,
    "start_time": "2024-09-19T10:32:29.804Z"
   },
   {
    "duration": 16,
    "start_time": "2024-09-19T10:32:29.811Z"
   },
   {
    "duration": 18,
    "start_time": "2024-09-19T10:32:29.829Z"
   },
   {
    "duration": 26,
    "start_time": "2024-09-19T10:32:29.848Z"
   },
   {
    "duration": 29,
    "start_time": "2024-09-19T10:32:29.876Z"
   },
   {
    "duration": 9,
    "start_time": "2024-09-19T10:32:29.907Z"
   },
   {
    "duration": 226,
    "start_time": "2024-09-19T10:32:29.918Z"
   },
   {
    "duration": 201,
    "start_time": "2024-09-19T10:33:40.058Z"
   },
   {
    "duration": 349,
    "start_time": "2024-09-19T10:35:09.730Z"
   },
   {
    "duration": 426,
    "start_time": "2024-09-19T10:36:44.826Z"
   },
   {
    "duration": 10,
    "start_time": "2024-09-19T10:42:41.436Z"
   },
   {
    "duration": 13,
    "start_time": "2024-09-19T10:44:24.373Z"
   },
   {
    "duration": 8,
    "start_time": "2024-09-19T10:48:39.510Z"
   },
   {
    "duration": 9,
    "start_time": "2024-09-19T11:17:44.277Z"
   },
   {
    "duration": 590,
    "start_time": "2024-09-19T11:18:53.811Z"
   },
   {
    "duration": 8,
    "start_time": "2024-09-19T11:20:54.491Z"
   },
   {
    "duration": 26,
    "start_time": "2024-09-19T11:21:15.162Z"
   },
   {
    "duration": 75,
    "start_time": "2024-09-19T11:22:54.190Z"
   },
   {
    "duration": 13,
    "start_time": "2024-09-19T11:22:59.356Z"
   },
   {
    "duration": 6,
    "start_time": "2024-09-19T11:30:36.363Z"
   },
   {
    "duration": 7,
    "start_time": "2024-09-19T11:30:48.390Z"
   },
   {
    "duration": 7,
    "start_time": "2024-09-19T11:30:54.504Z"
   },
   {
    "duration": 11,
    "start_time": "2024-09-19T11:32:23.828Z"
   },
   {
    "duration": 4,
    "start_time": "2024-09-19T11:34:14.076Z"
   },
   {
    "duration": 1339,
    "start_time": "2024-09-19T11:34:31.809Z"
   },
   {
    "duration": 271,
    "start_time": "2024-09-19T11:37:47.222Z"
   },
   {
    "duration": 755,
    "start_time": "2024-09-19T11:40:32.872Z"
   },
   {
    "duration": 54,
    "start_time": "2024-09-19T11:41:16.709Z"
   },
   {
    "duration": 10,
    "start_time": "2024-09-19T11:50:17.339Z"
   },
   {
    "duration": 498,
    "start_time": "2024-09-19T11:50:39.402Z"
   },
   {
    "duration": 473,
    "start_time": "2024-09-19T11:56:49.466Z"
   },
   {
    "duration": 480,
    "start_time": "2024-09-19T11:59:03.204Z"
   },
   {
    "duration": 506,
    "start_time": "2024-09-19T12:01:06.769Z"
   },
   {
    "duration": 503,
    "start_time": "2024-09-19T12:06:52.524Z"
   },
   {
    "duration": 15,
    "start_time": "2024-09-19T12:10:55.548Z"
   },
   {
    "duration": 6,
    "start_time": "2024-09-19T12:11:50.955Z"
   },
   {
    "duration": 14,
    "start_time": "2024-09-19T12:11:56.634Z"
   },
   {
    "duration": 7,
    "start_time": "2024-09-19T12:12:29.865Z"
   },
   {
    "duration": 14,
    "start_time": "2024-09-19T12:12:39.542Z"
   },
   {
    "duration": 762,
    "start_time": "2024-09-19T12:14:13.025Z"
   },
   {
    "duration": 21,
    "start_time": "2024-09-19T12:14:13.789Z"
   },
   {
    "duration": 14,
    "start_time": "2024-09-19T12:14:13.812Z"
   },
   {
    "duration": 38,
    "start_time": "2024-09-19T12:14:13.828Z"
   },
   {
    "duration": 91,
    "start_time": "2024-09-19T12:14:13.868Z"
   },
   {
    "duration": 117,
    "start_time": "2024-09-19T12:14:13.961Z"
   },
   {
    "duration": 31,
    "start_time": "2024-09-19T12:14:14.079Z"
   },
   {
    "duration": 33,
    "start_time": "2024-09-19T12:14:14.112Z"
   },
   {
    "duration": 41,
    "start_time": "2024-09-19T12:14:14.146Z"
   },
   {
    "duration": 41,
    "start_time": "2024-09-19T12:14:14.190Z"
   },
   {
    "duration": 34,
    "start_time": "2024-09-19T12:14:14.232Z"
   },
   {
    "duration": 390,
    "start_time": "2024-09-19T12:14:14.268Z"
   },
   {
    "duration": 5,
    "start_time": "2024-09-19T12:14:14.660Z"
   },
   {
    "duration": 13,
    "start_time": "2024-09-19T12:14:28.458Z"
   },
   {
    "duration": 82,
    "start_time": "2024-09-19T12:21:16.890Z"
   },
   {
    "duration": 661,
    "start_time": "2024-09-19T12:21:40.864Z"
   },
   {
    "duration": 45,
    "start_time": "2024-09-19T12:21:52.163Z"
   },
   {
    "duration": 14,
    "start_time": "2024-09-19T12:22:02.497Z"
   },
   {
    "duration": 13,
    "start_time": "2024-09-19T12:22:15.634Z"
   },
   {
    "duration": 12,
    "start_time": "2024-09-19T12:23:15.718Z"
   },
   {
    "duration": 12,
    "start_time": "2024-09-19T12:23:21.065Z"
   },
   {
    "duration": 92,
    "start_time": "2024-09-19T12:23:27.454Z"
   },
   {
    "duration": 18,
    "start_time": "2024-09-19T12:23:27.549Z"
   },
   {
    "duration": 22,
    "start_time": "2024-09-19T12:23:27.569Z"
   },
   {
    "duration": 34,
    "start_time": "2024-09-19T12:23:27.593Z"
   },
   {
    "duration": 24,
    "start_time": "2024-09-19T12:23:27.629Z"
   },
   {
    "duration": 26,
    "start_time": "2024-09-19T12:23:27.654Z"
   },
   {
    "duration": 34,
    "start_time": "2024-09-19T12:23:27.682Z"
   },
   {
    "duration": 45,
    "start_time": "2024-09-19T12:23:27.717Z"
   },
   {
    "duration": 32,
    "start_time": "2024-09-19T12:23:27.763Z"
   },
   {
    "duration": 34,
    "start_time": "2024-09-19T12:23:27.798Z"
   },
   {
    "duration": 5,
    "start_time": "2024-09-19T12:23:27.834Z"
   },
   {
    "duration": 347,
    "start_time": "2024-09-19T12:23:27.840Z"
   },
   {
    "duration": 6,
    "start_time": "2024-09-19T12:23:28.189Z"
   },
   {
    "duration": 2015,
    "start_time": "2024-09-19T12:23:28.196Z"
   },
   {
    "duration": 1873,
    "start_time": "2024-09-19T12:24:35.301Z"
   },
   {
    "duration": 13,
    "start_time": "2024-09-19T12:29:49.795Z"
   },
   {
    "duration": 500,
    "start_time": "2024-09-19T12:30:14.270Z"
   },
   {
    "duration": 7,
    "start_time": "2024-09-19T12:31:15.010Z"
   },
   {
    "duration": 9,
    "start_time": "2024-09-19T12:34:36.954Z"
   },
   {
    "duration": 231,
    "start_time": "2024-09-19T12:36:40.512Z"
   },
   {
    "duration": 5,
    "start_time": "2024-09-19T12:39:36.455Z"
   },
   {
    "duration": 9,
    "start_time": "2024-09-19T12:41:11.048Z"
   },
   {
    "duration": 232,
    "start_time": "2024-09-19T12:41:49.939Z"
   },
   {
    "duration": 6,
    "start_time": "2024-09-19T12:46:33.065Z"
   },
   {
    "duration": 7,
    "start_time": "2024-09-19T12:46:47.869Z"
   },
   {
    "duration": 5,
    "start_time": "2024-09-19T12:47:08.087Z"
   },
   {
    "duration": 9,
    "start_time": "2024-09-19T12:47:11.380Z"
   },
   {
    "duration": 8,
    "start_time": "2024-09-19T12:47:39.908Z"
   },
   {
    "duration": 16,
    "start_time": "2024-09-19T12:48:44.022Z"
   },
   {
    "duration": 518,
    "start_time": "2024-09-19T12:50:12.559Z"
   },
   {
    "duration": 13,
    "start_time": "2024-09-19T13:00:15.672Z"
   },
   {
    "duration": 49,
    "start_time": "2024-09-19T13:02:22.068Z"
   },
   {
    "duration": 465,
    "start_time": "2024-09-19T13:03:34.468Z"
   },
   {
    "duration": 19,
    "start_time": "2024-09-19T13:18:06.900Z"
   },
   {
    "duration": 424,
    "start_time": "2024-09-19T13:24:55.793Z"
   },
   {
    "duration": 501,
    "start_time": "2024-09-19T13:25:58.895Z"
   },
   {
    "duration": 15,
    "start_time": "2024-09-19T13:31:02.469Z"
   },
   {
    "duration": 12,
    "start_time": "2024-09-19T13:31:34.237Z"
   },
   {
    "duration": 7,
    "start_time": "2024-09-19T13:33:24.316Z"
   },
   {
    "duration": 7,
    "start_time": "2024-09-19T13:33:31.342Z"
   },
   {
    "duration": 16,
    "start_time": "2024-09-19T13:33:35.086Z"
   },
   {
    "duration": 12,
    "start_time": "2024-09-19T13:33:43.398Z"
   },
   {
    "duration": 29,
    "start_time": "2024-09-19T13:34:07.044Z"
   },
   {
    "duration": 15,
    "start_time": "2024-09-19T13:34:19.659Z"
   },
   {
    "duration": 81,
    "start_time": "2024-09-19T13:34:31.280Z"
   },
   {
    "duration": 15,
    "start_time": "2024-09-19T13:34:31.363Z"
   },
   {
    "duration": 22,
    "start_time": "2024-09-19T13:34:31.380Z"
   },
   {
    "duration": 10,
    "start_time": "2024-09-19T13:34:31.406Z"
   },
   {
    "duration": 19,
    "start_time": "2024-09-19T13:34:31.418Z"
   },
   {
    "duration": 23,
    "start_time": "2024-09-19T13:34:31.439Z"
   },
   {
    "duration": 35,
    "start_time": "2024-09-19T13:34:31.464Z"
   },
   {
    "duration": 21,
    "start_time": "2024-09-19T13:34:31.502Z"
   },
   {
    "duration": 81,
    "start_time": "2024-09-19T13:34:31.524Z"
   },
   {
    "duration": 18,
    "start_time": "2024-09-19T13:34:31.608Z"
   },
   {
    "duration": 21,
    "start_time": "2024-09-19T13:34:31.628Z"
   },
   {
    "duration": 357,
    "start_time": "2024-09-19T13:34:31.650Z"
   },
   {
    "duration": 6,
    "start_time": "2024-09-19T13:34:32.010Z"
   },
   {
    "duration": 71,
    "start_time": "2024-09-19T13:34:32.017Z"
   },
   {
    "duration": 223,
    "start_time": "2024-09-19T13:34:32.089Z"
   },
   {
    "duration": 375,
    "start_time": "2024-09-19T13:34:32.314Z"
   },
   {
    "duration": 377,
    "start_time": "2024-09-19T13:34:32.691Z"
   },
   {
    "duration": 12,
    "start_time": "2024-09-19T13:34:33.070Z"
   },
   {
    "duration": 541,
    "start_time": "2024-09-19T13:34:33.083Z"
   },
   {
    "duration": 12,
    "start_time": "2024-09-19T13:34:33.627Z"
   },
   {
    "duration": 11,
    "start_time": "2024-09-19T13:35:49.391Z"
   },
   {
    "duration": 11,
    "start_time": "2024-09-19T13:36:54.221Z"
   },
   {
    "duration": 12,
    "start_time": "2024-09-19T13:37:37.622Z"
   },
   {
    "duration": 12,
    "start_time": "2024-09-19T13:37:57.791Z"
   },
   {
    "duration": 10,
    "start_time": "2024-09-19T13:46:37.737Z"
   },
   {
    "duration": 15,
    "start_time": "2024-09-19T13:49:25.162Z"
   },
   {
    "duration": 21,
    "start_time": "2024-09-19T14:22:40.080Z"
   },
   {
    "duration": 21,
    "start_time": "2024-09-19T14:23:49.968Z"
   },
   {
    "duration": 1318,
    "start_time": "2024-09-19T14:29:38.156Z"
   },
   {
    "duration": 18,
    "start_time": "2024-09-19T14:29:39.476Z"
   },
   {
    "duration": 4,
    "start_time": "2024-09-19T14:29:39.495Z"
   },
   {
    "duration": 21,
    "start_time": "2024-09-19T14:29:39.501Z"
   },
   {
    "duration": 25,
    "start_time": "2024-09-19T14:29:39.524Z"
   },
   {
    "duration": 17,
    "start_time": "2024-09-19T14:29:39.551Z"
   },
   {
    "duration": 9,
    "start_time": "2024-09-19T14:29:39.569Z"
   },
   {
    "duration": 18,
    "start_time": "2024-09-19T14:29:39.579Z"
   },
   {
    "duration": 33,
    "start_time": "2024-09-19T14:29:39.598Z"
   },
   {
    "duration": 17,
    "start_time": "2024-09-19T14:29:39.633Z"
   },
   {
    "duration": 70,
    "start_time": "2024-09-19T14:29:39.652Z"
   },
   {
    "duration": 430,
    "start_time": "2024-09-19T14:29:39.723Z"
   },
   {
    "duration": 2,
    "start_time": "2024-09-19T14:29:40.155Z"
   },
   {
    "duration": 32,
    "start_time": "2024-09-19T14:29:40.160Z"
   },
   {
    "duration": 359,
    "start_time": "2024-09-19T14:29:40.194Z"
   },
   {
    "duration": 477,
    "start_time": "2024-09-19T14:29:40.555Z"
   },
   {
    "duration": 437,
    "start_time": "2024-09-19T14:29:41.034Z"
   },
   {
    "duration": 17,
    "start_time": "2024-09-19T14:29:41.473Z"
   },
   {
    "duration": 6,
    "start_time": "2024-09-19T14:30:41.464Z"
   },
   {
    "duration": 72,
    "start_time": "2024-09-19T14:30:47.750Z"
   },
   {
    "duration": 13,
    "start_time": "2024-09-19T14:30:47.824Z"
   },
   {
    "duration": 31,
    "start_time": "2024-09-19T14:30:47.839Z"
   },
   {
    "duration": 7,
    "start_time": "2024-09-19T14:30:47.872Z"
   },
   {
    "duration": 5,
    "start_time": "2024-09-19T14:30:47.881Z"
   },
   {
    "duration": 6,
    "start_time": "2024-09-19T14:30:47.888Z"
   },
   {
    "duration": 20,
    "start_time": "2024-09-19T14:30:47.896Z"
   },
   {
    "duration": 15,
    "start_time": "2024-09-19T14:30:47.919Z"
   },
   {
    "duration": 18,
    "start_time": "2024-09-19T14:30:47.936Z"
   },
   {
    "duration": 17,
    "start_time": "2024-09-19T14:30:47.956Z"
   },
   {
    "duration": 38,
    "start_time": "2024-09-19T14:30:47.974Z"
   },
   {
    "duration": 354,
    "start_time": "2024-09-19T14:30:48.015Z"
   },
   {
    "duration": 5,
    "start_time": "2024-09-19T14:30:48.370Z"
   },
   {
    "duration": 18,
    "start_time": "2024-09-19T14:30:48.376Z"
   },
   {
    "duration": 293,
    "start_time": "2024-09-19T14:30:48.396Z"
   },
   {
    "duration": 500,
    "start_time": "2024-09-19T14:30:48.691Z"
   },
   {
    "duration": 401,
    "start_time": "2024-09-19T14:30:49.192Z"
   },
   {
    "duration": 23,
    "start_time": "2024-09-19T14:30:49.595Z"
   },
   {
    "duration": 457,
    "start_time": "2024-09-19T14:31:41.096Z"
   },
   {
    "duration": 418,
    "start_time": "2024-09-19T14:34:00.721Z"
   },
   {
    "duration": 19,
    "start_time": "2024-09-19T14:34:16.834Z"
   },
   {
    "duration": 373,
    "start_time": "2024-09-19T14:38:32.401Z"
   },
   {
    "duration": 391,
    "start_time": "2024-09-19T14:38:55.027Z"
   },
   {
    "duration": 171,
    "start_time": "2024-09-19T14:47:56.186Z"
   },
   {
    "duration": 25,
    "start_time": "2024-09-19T14:48:58.710Z"
   },
   {
    "duration": 36,
    "start_time": "2024-09-19T14:49:34.780Z"
   },
   {
    "duration": 332,
    "start_time": "2024-09-19T14:50:45.116Z"
   },
   {
    "duration": 347,
    "start_time": "2024-09-19T14:51:35.568Z"
   },
   {
    "duration": 7,
    "start_time": "2024-09-19T14:52:12.379Z"
   },
   {
    "duration": 1190,
    "start_time": "2024-09-19T14:53:35.938Z"
   },
   {
    "duration": 16,
    "start_time": "2024-09-19T14:53:37.130Z"
   },
   {
    "duration": 17,
    "start_time": "2024-09-19T14:53:37.148Z"
   },
   {
    "duration": 30,
    "start_time": "2024-09-19T14:53:37.167Z"
   },
   {
    "duration": 4,
    "start_time": "2024-09-19T14:53:37.198Z"
   },
   {
    "duration": 5,
    "start_time": "2024-09-19T14:53:37.204Z"
   },
   {
    "duration": 9,
    "start_time": "2024-09-19T14:53:37.210Z"
   },
   {
    "duration": 17,
    "start_time": "2024-09-19T14:53:37.220Z"
   },
   {
    "duration": 19,
    "start_time": "2024-09-19T14:53:37.239Z"
   },
   {
    "duration": 17,
    "start_time": "2024-09-19T14:53:37.261Z"
   },
   {
    "duration": 30,
    "start_time": "2024-09-19T14:53:37.279Z"
   },
   {
    "duration": 348,
    "start_time": "2024-09-19T14:53:37.311Z"
   },
   {
    "duration": 8,
    "start_time": "2024-09-19T14:53:37.661Z"
   },
   {
    "duration": 360,
    "start_time": "2024-09-19T14:53:37.670Z"
   },
   {
    "duration": 424,
    "start_time": "2024-09-19T14:53:38.032Z"
   },
   {
    "duration": 398,
    "start_time": "2024-09-19T14:53:38.457Z"
   },
   {
    "duration": 16,
    "start_time": "2024-09-19T14:53:38.857Z"
   },
   {
    "duration": 359,
    "start_time": "2024-09-19T14:53:38.875Z"
   },
   {
    "duration": 447,
    "start_time": "2024-09-19T14:54:21.623Z"
   },
   {
    "duration": 502,
    "start_time": "2024-09-19T14:54:29.783Z"
   },
   {
    "duration": 326,
    "start_time": "2024-09-19T14:54:48.380Z"
   },
   {
    "duration": 318,
    "start_time": "2024-09-19T14:54:54.299Z"
   },
   {
    "duration": 322,
    "start_time": "2024-09-19T14:55:02.889Z"
   },
   {
    "duration": 340,
    "start_time": "2024-09-19T14:55:17.941Z"
   },
   {
    "duration": 17,
    "start_time": "2024-09-19T14:55:29.008Z"
   },
   {
    "duration": 446,
    "start_time": "2024-09-19T14:57:43.747Z"
   },
   {
    "duration": 402,
    "start_time": "2024-09-19T15:02:09.049Z"
   },
   {
    "duration": 399,
    "start_time": "2024-09-19T15:02:15.861Z"
   },
   {
    "duration": 339,
    "start_time": "2024-09-19T15:03:53.678Z"
   },
   {
    "duration": 320,
    "start_time": "2024-09-19T15:03:57.036Z"
   },
   {
    "duration": 170,
    "start_time": "2024-09-19T15:08:44.457Z"
   },
   {
    "duration": 6,
    "start_time": "2024-09-19T15:10:31.706Z"
   },
   {
    "duration": 105,
    "start_time": "2024-09-19T15:12:49.256Z"
   },
   {
    "duration": 17,
    "start_time": "2024-09-19T15:12:58.367Z"
   },
   {
    "duration": 15,
    "start_time": "2024-09-19T15:16:44.597Z"
   },
   {
    "duration": 36,
    "start_time": "2024-09-19T15:17:14.012Z"
   },
   {
    "duration": 131,
    "start_time": "2024-09-19T15:18:10.397Z"
   },
   {
    "duration": 14,
    "start_time": "2024-09-19T15:18:59.677Z"
   },
   {
    "duration": 36,
    "start_time": "2024-09-19T15:19:53.219Z"
   },
   {
    "duration": 39,
    "start_time": "2024-09-19T15:25:03.030Z"
   },
   {
    "duration": 1281,
    "start_time": "2024-09-19T15:25:11.903Z"
   },
   {
    "duration": 17,
    "start_time": "2024-09-19T15:25:13.186Z"
   },
   {
    "duration": 4,
    "start_time": "2024-09-19T15:25:13.204Z"
   },
   {
    "duration": 13,
    "start_time": "2024-09-19T15:25:13.210Z"
   },
   {
    "duration": 4,
    "start_time": "2024-09-19T15:25:13.225Z"
   },
   {
    "duration": 10,
    "start_time": "2024-09-19T15:25:13.231Z"
   },
   {
    "duration": 10,
    "start_time": "2024-09-19T15:25:13.242Z"
   },
   {
    "duration": 20,
    "start_time": "2024-09-19T15:25:13.254Z"
   },
   {
    "duration": 36,
    "start_time": "2024-09-19T15:25:13.276Z"
   },
   {
    "duration": 16,
    "start_time": "2024-09-19T15:25:13.314Z"
   },
   {
    "duration": 5,
    "start_time": "2024-09-19T15:25:13.331Z"
   },
   {
    "duration": 354,
    "start_time": "2024-09-19T15:25:13.337Z"
   },
   {
    "duration": 18,
    "start_time": "2024-09-19T15:25:13.693Z"
   },
   {
    "duration": 294,
    "start_time": "2024-09-19T15:25:13.712Z"
   },
   {
    "duration": 128,
    "start_time": "2024-09-19T15:25:14.008Z"
   },
   {
    "duration": 0,
    "start_time": "2024-09-19T15:25:14.138Z"
   },
   {
    "duration": 0,
    "start_time": "2024-09-19T15:25:14.139Z"
   },
   {
    "duration": 0,
    "start_time": "2024-09-19T15:25:14.140Z"
   },
   {
    "duration": 9,
    "start_time": "2024-09-19T15:26:56.933Z"
   },
   {
    "duration": 7,
    "start_time": "2024-09-19T15:28:15.610Z"
   },
   {
    "duration": 476,
    "start_time": "2024-09-19T15:30:13.212Z"
   },
   {
    "duration": 431,
    "start_time": "2024-09-19T15:31:13.641Z"
   },
   {
    "duration": 357,
    "start_time": "2024-09-19T15:31:58.126Z"
   },
   {
    "duration": 13,
    "start_time": "2024-09-19T15:33:28.659Z"
   },
   {
    "duration": 468,
    "start_time": "2024-09-19T15:34:13.147Z"
   },
   {
    "duration": 14,
    "start_time": "2024-09-19T15:34:17.858Z"
   },
   {
    "duration": 12,
    "start_time": "2024-09-19T15:34:24.792Z"
   },
   {
    "duration": 375,
    "start_time": "2024-09-19T15:34:37.707Z"
   },
   {
    "duration": 353,
    "start_time": "2024-09-19T15:34:42.529Z"
   },
   {
    "duration": 392,
    "start_time": "2024-09-19T15:34:48.285Z"
   },
   {
    "duration": 380,
    "start_time": "2024-09-19T15:35:01.621Z"
   },
   {
    "duration": 1304,
    "start_time": "2024-09-19T15:35:22.710Z"
   },
   {
    "duration": 18,
    "start_time": "2024-09-19T15:35:24.016Z"
   },
   {
    "duration": 12,
    "start_time": "2024-09-19T15:35:24.035Z"
   },
   {
    "duration": 22,
    "start_time": "2024-09-19T15:35:24.048Z"
   },
   {
    "duration": 15,
    "start_time": "2024-09-19T15:35:24.072Z"
   },
   {
    "duration": 13,
    "start_time": "2024-09-19T15:35:24.089Z"
   },
   {
    "duration": 9,
    "start_time": "2024-09-19T15:35:24.104Z"
   },
   {
    "duration": 30,
    "start_time": "2024-09-19T15:35:24.114Z"
   },
   {
    "duration": 29,
    "start_time": "2024-09-19T15:35:24.146Z"
   },
   {
    "duration": 32,
    "start_time": "2024-09-19T15:35:24.176Z"
   },
   {
    "duration": 35,
    "start_time": "2024-09-19T15:35:24.209Z"
   },
   {
    "duration": 360,
    "start_time": "2024-09-19T15:35:24.246Z"
   },
   {
    "duration": 8,
    "start_time": "2024-09-19T15:35:24.607Z"
   },
   {
    "duration": 299,
    "start_time": "2024-09-19T15:35:24.618Z"
   },
   {
    "duration": 381,
    "start_time": "2024-09-19T15:35:24.918Z"
   },
   {
    "duration": 377,
    "start_time": "2024-09-19T15:35:25.304Z"
   },
   {
    "duration": 17,
    "start_time": "2024-09-19T15:35:25.683Z"
   },
   {
    "duration": 393,
    "start_time": "2024-09-19T15:35:25.702Z"
   },
   {
    "duration": 404,
    "start_time": "2024-09-19T15:36:15.756Z"
   },
   {
    "duration": 353,
    "start_time": "2024-09-19T15:36:21.699Z"
   },
   {
    "duration": 1262,
    "start_time": "2024-09-19T15:36:35.670Z"
   },
   {
    "duration": 17,
    "start_time": "2024-09-19T15:36:36.934Z"
   },
   {
    "duration": 37,
    "start_time": "2024-09-19T15:36:36.952Z"
   },
   {
    "duration": 7,
    "start_time": "2024-09-19T15:36:36.991Z"
   },
   {
    "duration": 25,
    "start_time": "2024-09-19T15:36:37.000Z"
   },
   {
    "duration": 6,
    "start_time": "2024-09-19T15:36:37.026Z"
   },
   {
    "duration": 11,
    "start_time": "2024-09-19T15:36:37.034Z"
   },
   {
    "duration": 27,
    "start_time": "2024-09-19T15:36:37.046Z"
   },
   {
    "duration": 20,
    "start_time": "2024-09-19T15:36:37.074Z"
   },
   {
    "duration": 17,
    "start_time": "2024-09-19T15:36:37.095Z"
   },
   {
    "duration": 8,
    "start_time": "2024-09-19T15:36:37.113Z"
   },
   {
    "duration": 370,
    "start_time": "2024-09-19T15:36:37.123Z"
   },
   {
    "duration": 13,
    "start_time": "2024-09-19T15:36:37.494Z"
   },
   {
    "duration": 295,
    "start_time": "2024-09-19T15:36:37.510Z"
   },
   {
    "duration": 387,
    "start_time": "2024-09-19T15:36:37.806Z"
   },
   {
    "duration": 371,
    "start_time": "2024-09-19T15:36:38.194Z"
   },
   {
    "duration": 15,
    "start_time": "2024-09-19T15:36:38.567Z"
   },
   {
    "duration": 369,
    "start_time": "2024-09-19T15:36:38.583Z"
   },
   {
    "duration": 461,
    "start_time": "2024-09-19T15:40:36.444Z"
   },
   {
    "duration": 17,
    "start_time": "2024-09-19T15:40:47.445Z"
   },
   {
    "duration": 425,
    "start_time": "2024-09-19T15:41:30.752Z"
   },
   {
    "duration": 15,
    "start_time": "2024-09-19T15:41:33.870Z"
   },
   {
    "duration": 17,
    "start_time": "2024-09-19T15:50:16.340Z"
   },
   {
    "duration": 15,
    "start_time": "2024-09-19T15:50:50.085Z"
   },
   {
    "duration": 489,
    "start_time": "2024-09-19T15:57:45.474Z"
   },
   {
    "duration": 138,
    "start_time": "2024-09-19T16:07:55.994Z"
   },
   {
    "duration": 157,
    "start_time": "2024-09-19T16:08:12.511Z"
   },
   {
    "duration": 422,
    "start_time": "2024-09-19T16:08:46.361Z"
   },
   {
    "duration": 599,
    "start_time": "2024-09-19T16:10:59.450Z"
   },
   {
    "duration": 16,
    "start_time": "2024-09-19T16:14:29.788Z"
   },
   {
    "duration": 10,
    "start_time": "2024-09-19T16:14:47.724Z"
   },
   {
    "duration": 27,
    "start_time": "2024-09-19T16:15:07.561Z"
   },
   {
    "duration": 66,
    "start_time": "2024-09-19T16:17:04.968Z"
   },
   {
    "duration": 124,
    "start_time": "2024-09-19T16:18:13.366Z"
   },
   {
    "duration": 13,
    "start_time": "2024-09-19T16:18:21.395Z"
   },
   {
    "duration": 14,
    "start_time": "2024-09-19T16:18:26.942Z"
   },
   {
    "duration": 499,
    "start_time": "2024-09-19T16:19:03.120Z"
   },
   {
    "duration": 17,
    "start_time": "2024-09-19T16:20:22.472Z"
   },
   {
    "duration": 26,
    "start_time": "2024-09-19T16:20:46.668Z"
   },
   {
    "duration": 155,
    "start_time": "2024-09-19T16:21:23.596Z"
   },
   {
    "duration": 25,
    "start_time": "2024-09-19T16:21:48.074Z"
   },
   {
    "duration": 9,
    "start_time": "2024-09-19T16:22:19.367Z"
   },
   {
    "duration": 6,
    "start_time": "2024-09-19T16:22:37.637Z"
   },
   {
    "duration": 1597,
    "start_time": "2024-09-23T03:43:45.125Z"
   },
   {
    "duration": 18,
    "start_time": "2024-09-23T03:43:46.724Z"
   },
   {
    "duration": 4,
    "start_time": "2024-09-23T03:43:46.744Z"
   },
   {
    "duration": 8,
    "start_time": "2024-09-23T03:43:46.750Z"
   },
   {
    "duration": 5,
    "start_time": "2024-09-23T03:43:46.759Z"
   },
   {
    "duration": 6,
    "start_time": "2024-09-23T03:43:46.766Z"
   },
   {
    "duration": 10,
    "start_time": "2024-09-23T03:43:46.773Z"
   },
   {
    "duration": 50,
    "start_time": "2024-09-23T03:43:46.784Z"
   },
   {
    "duration": 21,
    "start_time": "2024-09-23T03:43:46.836Z"
   },
   {
    "duration": 18,
    "start_time": "2024-09-23T03:43:46.859Z"
   },
   {
    "duration": 5,
    "start_time": "2024-09-23T03:43:46.879Z"
   },
   {
    "duration": 380,
    "start_time": "2024-09-23T03:43:46.885Z"
   },
   {
    "duration": 8,
    "start_time": "2024-09-23T03:43:47.266Z"
   },
   {
    "duration": 290,
    "start_time": "2024-09-23T03:43:47.276Z"
   },
   {
    "duration": 499,
    "start_time": "2024-09-23T03:43:47.568Z"
   },
   {
    "duration": 16,
    "start_time": "2024-09-23T03:43:48.068Z"
   },
   {
    "duration": 425,
    "start_time": "2024-09-23T03:43:48.085Z"
   },
   {
    "duration": 158,
    "start_time": "2024-09-23T03:43:48.512Z"
   },
   {
    "duration": 23,
    "start_time": "2024-09-23T03:43:48.673Z"
   },
   {
    "duration": 429,
    "start_time": "2024-09-23T03:43:48.698Z"
   },
   {
    "duration": 24,
    "start_time": "2024-09-23T03:44:02.258Z"
   },
   {
    "duration": 104,
    "start_time": "2024-09-23T03:47:20.472Z"
   },
   {
    "duration": 242,
    "start_time": "2024-09-23T03:48:49.882Z"
   },
   {
    "duration": 165,
    "start_time": "2024-09-23T03:51:06.493Z"
   },
   {
    "duration": 8,
    "start_time": "2024-09-23T03:51:14.070Z"
   },
   {
    "duration": 177,
    "start_time": "2024-09-23T03:53:52.382Z"
   },
   {
    "duration": 425,
    "start_time": "2024-09-23T03:57:15.384Z"
   },
   {
    "duration": 176,
    "start_time": "2024-09-23T03:58:50.580Z"
   },
   {
    "duration": 432,
    "start_time": "2024-09-23T03:59:01.924Z"
   },
   {
    "duration": 220,
    "start_time": "2024-09-23T04:07:04.850Z"
   },
   {
    "duration": 326,
    "start_time": "2024-09-23T04:07:40.175Z"
   },
   {
    "duration": 8,
    "start_time": "2024-09-23T04:08:10.015Z"
   },
   {
    "duration": 185,
    "start_time": "2024-09-23T04:08:20.900Z"
   },
   {
    "duration": 218,
    "start_time": "2024-09-23T04:19:52.764Z"
   },
   {
    "duration": 200,
    "start_time": "2024-09-23T04:20:00.549Z"
   },
   {
    "duration": 13,
    "start_time": "2024-09-23T04:32:26.578Z"
   },
   {
    "duration": 108,
    "start_time": "2024-09-23T04:32:39.367Z"
   },
   {
    "duration": 402,
    "start_time": "2024-09-23T04:33:02.528Z"
   },
   {
    "duration": 6,
    "start_time": "2024-09-23T04:34:47.496Z"
   },
   {
    "duration": 429,
    "start_time": "2024-09-23T04:49:17.202Z"
   },
   {
    "duration": 416,
    "start_time": "2024-09-23T04:52:35.553Z"
   },
   {
    "duration": 6,
    "start_time": "2024-09-23T04:53:41.256Z"
   },
   {
    "duration": 5,
    "start_time": "2024-09-23T04:54:58.562Z"
   },
   {
    "duration": 1222,
    "start_time": "2024-09-23T04:55:14.920Z"
   },
   {
    "duration": 17,
    "start_time": "2024-09-23T04:55:16.144Z"
   },
   {
    "duration": 4,
    "start_time": "2024-09-23T04:55:16.163Z"
   },
   {
    "duration": 12,
    "start_time": "2024-09-23T04:55:16.169Z"
   },
   {
    "duration": 5,
    "start_time": "2024-09-23T04:55:16.183Z"
   },
   {
    "duration": 5,
    "start_time": "2024-09-23T04:55:16.189Z"
   },
   {
    "duration": 32,
    "start_time": "2024-09-23T04:55:16.195Z"
   },
   {
    "duration": 15,
    "start_time": "2024-09-23T04:55:16.228Z"
   },
   {
    "duration": 18,
    "start_time": "2024-09-23T04:55:16.244Z"
   },
   {
    "duration": 15,
    "start_time": "2024-09-23T04:55:16.264Z"
   },
   {
    "duration": 10,
    "start_time": "2024-09-23T04:55:16.281Z"
   },
   {
    "duration": 347,
    "start_time": "2024-09-23T04:55:16.292Z"
   },
   {
    "duration": 8,
    "start_time": "2024-09-23T04:55:16.640Z"
   },
   {
    "duration": 285,
    "start_time": "2024-09-23T04:55:16.649Z"
   },
   {
    "duration": 398,
    "start_time": "2024-09-23T04:55:16.936Z"
   },
   {
    "duration": 15,
    "start_time": "2024-09-23T04:55:17.336Z"
   },
   {
    "duration": 430,
    "start_time": "2024-09-23T04:55:17.352Z"
   },
   {
    "duration": 174,
    "start_time": "2024-09-23T04:55:17.784Z"
   },
   {
    "duration": 7,
    "start_time": "2024-09-23T04:55:17.960Z"
   },
   {
    "duration": 194,
    "start_time": "2024-09-23T04:55:17.969Z"
   },
   {
    "duration": 234,
    "start_time": "2024-09-23T04:55:18.164Z"
   },
   {
    "duration": 525,
    "start_time": "2024-09-23T04:55:18.400Z"
   },
   {
    "duration": 5,
    "start_time": "2024-09-23T04:55:18.927Z"
   },
   {
    "duration": 423,
    "start_time": "2024-09-23T04:55:18.934Z"
   },
   {
    "duration": 5,
    "start_time": "2024-09-23T04:56:08.695Z"
   },
   {
    "duration": 384,
    "start_time": "2024-09-23T04:56:13.814Z"
   },
   {
    "duration": 5,
    "start_time": "2024-09-23T04:56:17.787Z"
   },
   {
    "duration": 5,
    "start_time": "2024-09-23T04:57:03.623Z"
   },
   {
    "duration": 6,
    "start_time": "2024-09-23T04:59:00.471Z"
   },
   {
    "duration": 394,
    "start_time": "2024-09-23T05:06:36.339Z"
   },
   {
    "duration": 6,
    "start_time": "2024-09-23T05:07:10.760Z"
   },
   {
    "duration": 14,
    "start_time": "2024-09-23T05:19:10.922Z"
   },
   {
    "duration": 5,
    "start_time": "2024-09-23T05:20:40.893Z"
   },
   {
    "duration": 194,
    "start_time": "2024-09-23T05:21:04.985Z"
   },
   {
    "duration": 112,
    "start_time": "2024-09-23T05:42:51.541Z"
   },
   {
    "duration": 8,
    "start_time": "2024-09-23T05:43:26.012Z"
   },
   {
    "duration": 17,
    "start_time": "2024-09-23T05:44:38.079Z"
   },
   {
    "duration": 14,
    "start_time": "2024-09-23T05:45:34.841Z"
   },
   {
    "duration": 14,
    "start_time": "2024-09-23T05:46:53.350Z"
   },
   {
    "duration": 14,
    "start_time": "2024-09-23T05:48:06.782Z"
   },
   {
    "duration": 11,
    "start_time": "2024-09-23T05:48:58.950Z"
   },
   {
    "duration": 9,
    "start_time": "2024-09-23T05:49:11.411Z"
   },
   {
    "duration": 541,
    "start_time": "2024-09-23T05:52:44.942Z"
   },
   {
    "duration": 5,
    "start_time": "2024-09-23T06:00:47.713Z"
   },
   {
    "duration": 4,
    "start_time": "2024-09-23T06:00:51.249Z"
   },
   {
    "duration": 494,
    "start_time": "2024-09-23T06:04:18.312Z"
   },
   {
    "duration": 506,
    "start_time": "2024-09-23T06:04:29.098Z"
   },
   {
    "duration": 385,
    "start_time": "2024-09-23T06:04:50.724Z"
   },
   {
    "duration": 308,
    "start_time": "2024-09-23T06:05:06.875Z"
   },
   {
    "duration": 278,
    "start_time": "2024-09-23T06:05:14.778Z"
   },
   {
    "duration": 293,
    "start_time": "2024-09-23T06:05:24.842Z"
   },
   {
    "duration": 501,
    "start_time": "2024-09-23T06:07:15.359Z"
   },
   {
    "duration": 463,
    "start_time": "2024-09-23T06:10:26.827Z"
   },
   {
    "duration": 417,
    "start_time": "2024-09-23T06:10:30.586Z"
   },
   {
    "duration": 457,
    "start_time": "2024-09-23T06:21:16.935Z"
   },
   {
    "duration": 13,
    "start_time": "2024-09-23T06:30:26.885Z"
   },
   {
    "duration": 419,
    "start_time": "2024-09-23T06:30:45.895Z"
   },
   {
    "duration": 7,
    "start_time": "2024-09-23T06:40:03.485Z"
   },
   {
    "duration": 345,
    "start_time": "2024-09-23T06:40:16.343Z"
   },
   {
    "duration": 7,
    "start_time": "2024-09-23T06:40:37.603Z"
   },
   {
    "duration": 5,
    "start_time": "2024-09-23T06:40:56.723Z"
   },
   {
    "duration": 538,
    "start_time": "2024-09-23T06:45:45.762Z"
   },
   {
    "duration": 16,
    "start_time": "2024-09-23T07:32:02.733Z"
   },
   {
    "duration": 68,
    "start_time": "2024-09-23T07:32:26.316Z"
   },
   {
    "duration": 820,
    "start_time": "2024-09-23T07:32:33.145Z"
   },
   {
    "duration": 890,
    "start_time": "2024-09-23T07:32:42.928Z"
   },
   {
    "duration": 1096,
    "start_time": "2024-09-23T07:33:49.708Z"
   },
   {
    "duration": 4,
    "start_time": "2024-09-23T07:34:16.742Z"
   },
   {
    "duration": 69,
    "start_time": "2024-09-23T07:34:33.244Z"
   },
   {
    "duration": 13,
    "start_time": "2024-09-23T07:34:33.315Z"
   },
   {
    "duration": 13,
    "start_time": "2024-09-23T07:34:33.330Z"
   },
   {
    "duration": 10,
    "start_time": "2024-09-23T07:34:33.345Z"
   },
   {
    "duration": 9,
    "start_time": "2024-09-23T07:34:33.356Z"
   },
   {
    "duration": 6,
    "start_time": "2024-09-23T07:34:33.367Z"
   },
   {
    "duration": 9,
    "start_time": "2024-09-23T07:34:33.375Z"
   },
   {
    "duration": 15,
    "start_time": "2024-09-23T07:34:33.385Z"
   },
   {
    "duration": 41,
    "start_time": "2024-09-23T07:34:33.402Z"
   },
   {
    "duration": 64,
    "start_time": "2024-09-23T07:34:33.445Z"
   },
   {
    "duration": 16,
    "start_time": "2024-09-23T07:34:33.510Z"
   },
   {
    "duration": 336,
    "start_time": "2024-09-23T07:34:33.528Z"
   },
   {
    "duration": 8,
    "start_time": "2024-09-23T07:34:33.865Z"
   },
   {
    "duration": 294,
    "start_time": "2024-09-23T07:34:33.875Z"
   },
   {
    "duration": 441,
    "start_time": "2024-09-23T07:34:34.170Z"
   },
   {
    "duration": 15,
    "start_time": "2024-09-23T07:34:34.613Z"
   },
   {
    "duration": 522,
    "start_time": "2024-09-23T07:34:34.630Z"
   },
   {
    "duration": 188,
    "start_time": "2024-09-23T07:34:35.154Z"
   },
   {
    "duration": 8,
    "start_time": "2024-09-23T07:34:35.344Z"
   },
   {
    "duration": 204,
    "start_time": "2024-09-23T07:34:35.354Z"
   },
   {
    "duration": 231,
    "start_time": "2024-09-23T07:34:35.559Z"
   },
   {
    "duration": 436,
    "start_time": "2024-09-23T07:34:35.792Z"
   },
   {
    "duration": 5,
    "start_time": "2024-09-23T07:34:36.230Z"
   },
   {
    "duration": 521,
    "start_time": "2024-09-23T07:34:36.237Z"
   },
   {
    "duration": 5,
    "start_time": "2024-09-23T07:34:36.760Z"
   },
   {
    "duration": 439,
    "start_time": "2024-09-23T07:34:36.767Z"
   },
   {
    "duration": 6,
    "start_time": "2024-09-23T07:34:37.208Z"
   },
   {
    "duration": 5,
    "start_time": "2024-09-23T07:34:37.226Z"
   },
   {
    "duration": 211,
    "start_time": "2024-09-23T07:34:37.232Z"
   },
   {
    "duration": 448,
    "start_time": "2024-09-23T07:34:37.445Z"
   },
   {
    "duration": 430,
    "start_time": "2024-09-23T07:34:37.895Z"
   },
   {
    "duration": 6,
    "start_time": "2024-09-23T07:34:38.327Z"
   },
   {
    "duration": 390,
    "start_time": "2024-09-23T07:34:38.335Z"
   },
   {
    "duration": 11,
    "start_time": "2024-09-23T07:34:38.727Z"
   },
   {
    "duration": 13,
    "start_time": "2024-09-23T07:34:38.739Z"
   },
   {
    "duration": 3,
    "start_time": "2024-09-23T07:35:12.558Z"
   },
   {
    "duration": 12,
    "start_time": "2024-09-23T07:36:54.486Z"
   },
   {
    "duration": 3,
    "start_time": "2024-09-23T07:37:07.006Z"
   },
   {
    "duration": 10,
    "start_time": "2024-09-23T07:42:05.551Z"
   },
   {
    "duration": 10,
    "start_time": "2024-09-23T07:42:07.642Z"
   },
   {
    "duration": 3,
    "start_time": "2024-09-23T07:42:09.515Z"
   },
   {
    "duration": 11,
    "start_time": "2024-09-23T07:42:23.505Z"
   },
   {
    "duration": 3,
    "start_time": "2024-09-23T07:42:29.369Z"
   },
   {
    "duration": 4,
    "start_time": "2024-09-23T07:42:32.286Z"
   },
   {
    "duration": 4,
    "start_time": "2024-09-23T07:42:48.046Z"
   },
   {
    "duration": 70,
    "start_time": "2024-09-23T10:17:04.968Z"
   },
   {
    "duration": 806,
    "start_time": "2024-09-23T10:25:16.161Z"
   },
   {
    "duration": 67,
    "start_time": "2024-09-23T10:25:47.035Z"
   },
   {
    "duration": 14,
    "start_time": "2024-09-23T10:25:47.104Z"
   },
   {
    "duration": 4,
    "start_time": "2024-09-23T10:25:47.119Z"
   },
   {
    "duration": 6,
    "start_time": "2024-09-23T10:25:47.126Z"
   },
   {
    "duration": 6,
    "start_time": "2024-09-23T10:25:47.133Z"
   },
   {
    "duration": 6,
    "start_time": "2024-09-23T10:25:47.140Z"
   },
   {
    "duration": 8,
    "start_time": "2024-09-23T10:25:47.148Z"
   },
   {
    "duration": 14,
    "start_time": "2024-09-23T10:25:47.158Z"
   },
   {
    "duration": 60,
    "start_time": "2024-09-23T10:25:47.173Z"
   },
   {
    "duration": 17,
    "start_time": "2024-09-23T10:25:47.236Z"
   },
   {
    "duration": 7,
    "start_time": "2024-09-23T10:25:47.255Z"
   },
   {
    "duration": 345,
    "start_time": "2024-09-23T10:25:47.264Z"
   },
   {
    "duration": 16,
    "start_time": "2024-09-23T10:25:47.611Z"
   },
   {
    "duration": 297,
    "start_time": "2024-09-23T10:25:47.628Z"
   },
   {
    "duration": 511,
    "start_time": "2024-09-23T10:25:47.927Z"
   },
   {
    "duration": 16,
    "start_time": "2024-09-23T10:25:48.439Z"
   },
   {
    "duration": 430,
    "start_time": "2024-09-23T10:25:48.457Z"
   },
   {
    "duration": 182,
    "start_time": "2024-09-23T10:25:48.889Z"
   },
   {
    "duration": 8,
    "start_time": "2024-09-23T10:25:49.073Z"
   },
   {
    "duration": 201,
    "start_time": "2024-09-23T10:25:49.082Z"
   },
   {
    "duration": 217,
    "start_time": "2024-09-23T10:25:49.285Z"
   },
   {
    "duration": 446,
    "start_time": "2024-09-23T10:25:49.504Z"
   },
   {
    "duration": 6,
    "start_time": "2024-09-23T10:25:49.952Z"
   },
   {
    "duration": 441,
    "start_time": "2024-09-23T10:25:49.959Z"
   },
   {
    "duration": 6,
    "start_time": "2024-09-23T10:25:50.402Z"
   },
   {
    "duration": 396,
    "start_time": "2024-09-23T10:25:50.409Z"
   },
   {
    "duration": 6,
    "start_time": "2024-09-23T10:25:50.807Z"
   },
   {
    "duration": 5,
    "start_time": "2024-09-23T10:25:50.827Z"
   },
   {
    "duration": 204,
    "start_time": "2024-09-23T10:25:50.833Z"
   },
   {
    "duration": 458,
    "start_time": "2024-09-23T10:25:51.038Z"
   },
   {
    "duration": 515,
    "start_time": "2024-09-23T10:25:51.497Z"
   },
   {
    "duration": 12,
    "start_time": "2024-09-23T10:25:52.014Z"
   },
   {
    "duration": 336,
    "start_time": "2024-09-23T10:25:52.027Z"
   },
   {
    "duration": 10,
    "start_time": "2024-09-23T10:25:52.365Z"
   },
   {
    "duration": 6,
    "start_time": "2024-09-23T10:25:52.376Z"
   },
   {
    "duration": 17,
    "start_time": "2024-09-23T10:25:52.383Z"
   },
   {
    "duration": 4,
    "start_time": "2024-09-23T10:25:52.401Z"
   },
   {
    "duration": 1590,
    "start_time": "2024-09-23T11:32:28.863Z"
   },
   {
    "duration": 30,
    "start_time": "2024-09-23T11:32:30.456Z"
   },
   {
    "duration": 5,
    "start_time": "2024-09-23T11:32:30.488Z"
   },
   {
    "duration": 8,
    "start_time": "2024-09-23T11:32:30.495Z"
   },
   {
    "duration": 14,
    "start_time": "2024-09-23T11:32:30.505Z"
   },
   {
    "duration": 18,
    "start_time": "2024-09-23T11:32:30.520Z"
   },
   {
    "duration": 40,
    "start_time": "2024-09-23T11:32:30.539Z"
   },
   {
    "duration": 17,
    "start_time": "2024-09-23T11:32:30.581Z"
   },
   {
    "duration": 27,
    "start_time": "2024-09-23T11:32:30.600Z"
   },
   {
    "duration": 15,
    "start_time": "2024-09-23T11:32:30.629Z"
   },
   {
    "duration": 23,
    "start_time": "2024-09-23T11:32:30.646Z"
   },
   {
    "duration": 409,
    "start_time": "2024-09-23T11:32:30.671Z"
   },
   {
    "duration": 9,
    "start_time": "2024-09-23T11:32:31.081Z"
   },
   {
    "duration": 297,
    "start_time": "2024-09-23T11:32:31.092Z"
   },
   {
    "duration": 517,
    "start_time": "2024-09-23T11:32:31.391Z"
   },
   {
    "duration": 16,
    "start_time": "2024-09-23T11:32:31.911Z"
   },
   {
    "duration": 447,
    "start_time": "2024-09-23T11:32:31.929Z"
   },
   {
    "duration": 189,
    "start_time": "2024-09-23T11:32:32.379Z"
   },
   {
    "duration": 8,
    "start_time": "2024-09-23T11:32:32.570Z"
   },
   {
    "duration": 211,
    "start_time": "2024-09-23T11:32:32.580Z"
   },
   {
    "duration": 229,
    "start_time": "2024-09-23T11:32:32.793Z"
   },
   {
    "duration": 544,
    "start_time": "2024-09-23T11:32:33.024Z"
   },
   {
    "duration": 6,
    "start_time": "2024-09-23T11:32:33.570Z"
   },
   {
    "duration": 401,
    "start_time": "2024-09-23T11:32:33.578Z"
   },
   {
    "duration": 6,
    "start_time": "2024-09-23T11:32:33.981Z"
   },
   {
    "duration": 450,
    "start_time": "2024-09-23T11:32:33.988Z"
   },
   {
    "duration": 7,
    "start_time": "2024-09-23T11:32:34.441Z"
   },
   {
    "duration": 10,
    "start_time": "2024-09-23T11:32:34.467Z"
   },
   {
    "duration": 243,
    "start_time": "2024-09-23T11:32:34.479Z"
   },
   {
    "duration": 431,
    "start_time": "2024-09-23T11:32:34.724Z"
   },
   {
    "duration": 488,
    "start_time": "2024-09-23T11:32:35.156Z"
   },
   {
    "duration": 7,
    "start_time": "2024-09-23T11:32:35.645Z"
   },
   {
    "duration": 385,
    "start_time": "2024-09-23T11:32:35.654Z"
   },
   {
    "duration": 12,
    "start_time": "2024-09-23T11:32:36.040Z"
   },
   {
    "duration": 18,
    "start_time": "2024-09-23T11:32:36.054Z"
   },
   {
    "duration": 15,
    "start_time": "2024-09-23T11:32:36.074Z"
   },
   {
    "duration": 4,
    "start_time": "2024-09-23T11:32:36.091Z"
   },
   {
    "duration": 1328,
    "start_time": "2024-09-24T06:25:09.662Z"
   },
   {
    "duration": 219,
    "start_time": "2024-09-24T06:25:17.899Z"
   },
   {
    "duration": 2,
    "start_time": "2024-09-24T06:36:29.155Z"
   },
   {
    "duration": 68,
    "start_time": "2024-09-24T06:36:29.160Z"
   },
   {
    "duration": 18,
    "start_time": "2024-09-24T06:36:29.231Z"
   },
   {
    "duration": 4,
    "start_time": "2024-09-24T06:36:29.252Z"
   },
   {
    "duration": 12,
    "start_time": "2024-09-24T06:36:29.259Z"
   },
   {
    "duration": 4,
    "start_time": "2024-09-24T06:36:29.272Z"
   },
   {
    "duration": 5,
    "start_time": "2024-09-24T06:36:29.277Z"
   },
   {
    "duration": 12,
    "start_time": "2024-09-24T06:36:29.284Z"
   },
   {
    "duration": 14,
    "start_time": "2024-09-24T06:36:29.297Z"
   },
   {
    "duration": 51,
    "start_time": "2024-09-24T06:36:29.312Z"
   },
   {
    "duration": 16,
    "start_time": "2024-09-24T06:36:29.365Z"
   },
   {
    "duration": 5,
    "start_time": "2024-09-24T06:36:29.382Z"
   },
   {
    "duration": 365,
    "start_time": "2024-09-24T06:36:29.388Z"
   },
   {
    "duration": 8,
    "start_time": "2024-09-24T06:36:29.755Z"
   },
   {
    "duration": 276,
    "start_time": "2024-09-24T06:36:29.764Z"
   },
   {
    "duration": 441,
    "start_time": "2024-09-24T06:36:30.041Z"
   },
   {
    "duration": 15,
    "start_time": "2024-09-24T06:36:30.483Z"
   },
   {
    "duration": 421,
    "start_time": "2024-09-24T06:36:30.499Z"
   },
   {
    "duration": 165,
    "start_time": "2024-09-24T06:36:30.922Z"
   },
   {
    "duration": 8,
    "start_time": "2024-09-24T06:36:31.088Z"
   },
   {
    "duration": 190,
    "start_time": "2024-09-24T06:36:31.097Z"
   },
   {
    "duration": 219,
    "start_time": "2024-09-24T06:36:31.289Z"
   },
   {
    "duration": 531,
    "start_time": "2024-09-24T06:36:31.509Z"
   },
   {
    "duration": 5,
    "start_time": "2024-09-24T06:36:32.041Z"
   },
   {
    "duration": 378,
    "start_time": "2024-09-24T06:36:32.052Z"
   },
   {
    "duration": 6,
    "start_time": "2024-09-24T06:36:32.432Z"
   },
   {
    "duration": 477,
    "start_time": "2024-09-24T06:36:32.439Z"
   },
   {
    "duration": 6,
    "start_time": "2024-09-24T06:36:32.917Z"
   },
   {
    "duration": 17,
    "start_time": "2024-09-24T06:36:32.926Z"
   },
   {
    "duration": 200,
    "start_time": "2024-09-24T06:36:32.944Z"
   },
   {
    "duration": 451,
    "start_time": "2024-09-24T06:36:33.145Z"
   },
   {
    "duration": 464,
    "start_time": "2024-09-24T06:36:33.598Z"
   },
   {
    "duration": 11,
    "start_time": "2024-09-24T06:36:34.065Z"
   },
   {
    "duration": 354,
    "start_time": "2024-09-24T06:36:34.079Z"
   },
   {
    "duration": 21,
    "start_time": "2024-09-24T06:36:34.435Z"
   },
   {
    "duration": 81,
    "start_time": "2024-09-24T06:36:34.458Z"
   },
   {
    "duration": 15,
    "start_time": "2024-09-24T06:36:34.541Z"
   },
   {
    "duration": 4,
    "start_time": "2024-09-24T06:36:34.558Z"
   },
   {
    "duration": 14,
    "start_time": "2024-09-24T06:37:40.053Z"
   },
   {
    "duration": 126,
    "start_time": "2024-09-24T06:40:36.380Z"
   },
   {
    "duration": 119,
    "start_time": "2024-09-24T06:40:57.725Z"
   },
   {
    "duration": 55,
    "start_time": "2024-09-24T06:41:51.333Z"
   },
   {
    "duration": 67,
    "start_time": "2024-09-24T06:42:18.341Z"
   },
   {
    "duration": 62,
    "start_time": "2024-09-24T06:43:45.868Z"
   },
   {
    "duration": 920,
    "start_time": "2024-09-24T06:58:34.700Z"
   },
   {
    "duration": 3,
    "start_time": "2024-09-24T06:58:40.774Z"
   },
   {
    "duration": 60,
    "start_time": "2024-09-24T06:58:40.779Z"
   },
   {
    "duration": 81,
    "start_time": "2024-09-24T06:58:40.840Z"
   },
   {
    "duration": 4,
    "start_time": "2024-09-24T06:58:40.922Z"
   },
   {
    "duration": 80,
    "start_time": "2024-09-24T06:58:40.928Z"
   },
   {
    "duration": 4,
    "start_time": "2024-09-24T06:58:41.010Z"
   },
   {
    "duration": 5,
    "start_time": "2024-09-24T06:58:41.015Z"
   },
   {
    "duration": 7,
    "start_time": "2024-09-24T06:58:41.022Z"
   },
   {
    "duration": 14,
    "start_time": "2024-09-24T06:58:41.032Z"
   },
   {
    "duration": 20,
    "start_time": "2024-09-24T06:58:41.048Z"
   },
   {
    "duration": 19,
    "start_time": "2024-09-24T06:58:41.069Z"
   },
   {
    "duration": 19,
    "start_time": "2024-09-24T06:58:41.090Z"
   },
   {
    "duration": 22,
    "start_time": "2024-09-24T06:58:41.111Z"
   },
   {
    "duration": 430,
    "start_time": "2024-09-24T06:58:41.134Z"
   },
   {
    "duration": 8,
    "start_time": "2024-09-24T06:58:41.565Z"
   },
   {
    "duration": 283,
    "start_time": "2024-09-24T06:58:41.574Z"
   },
   {
    "duration": 390,
    "start_time": "2024-09-24T06:58:41.859Z"
   },
   {
    "duration": 15,
    "start_time": "2024-09-24T06:58:42.252Z"
   },
   {
    "duration": 414,
    "start_time": "2024-09-24T06:58:42.269Z"
   },
   {
    "duration": 170,
    "start_time": "2024-09-24T06:58:42.685Z"
   },
   {
    "duration": 9,
    "start_time": "2024-09-24T06:58:42.857Z"
   },
   {
    "duration": 207,
    "start_time": "2024-09-24T06:58:42.870Z"
   },
   {
    "duration": 207,
    "start_time": "2024-09-24T06:58:43.079Z"
   },
   {
    "duration": 441,
    "start_time": "2024-09-24T06:58:43.288Z"
   },
   {
    "duration": 6,
    "start_time": "2024-09-24T06:58:43.731Z"
   },
   {
    "duration": 394,
    "start_time": "2024-09-24T06:58:43.739Z"
   },
   {
    "duration": 5,
    "start_time": "2024-09-24T06:58:44.135Z"
   },
   {
    "duration": 399,
    "start_time": "2024-09-24T06:58:44.152Z"
   },
   {
    "duration": 5,
    "start_time": "2024-09-24T06:58:44.553Z"
   },
   {
    "duration": 11,
    "start_time": "2024-09-24T06:58:44.560Z"
   },
   {
    "duration": 294,
    "start_time": "2024-09-24T06:58:44.572Z"
   },
   {
    "duration": 438,
    "start_time": "2024-09-24T06:58:44.867Z"
   },
   {
    "duration": 428,
    "start_time": "2024-09-24T06:58:45.306Z"
   },
   {
    "duration": 6,
    "start_time": "2024-09-24T06:58:45.735Z"
   },
   {
    "duration": 312,
    "start_time": "2024-09-24T06:58:45.742Z"
   },
   {
    "duration": 10,
    "start_time": "2024-09-24T06:58:46.056Z"
   },
   {
    "duration": 44,
    "start_time": "2024-09-24T06:58:46.067Z"
   },
   {
    "duration": 11,
    "start_time": "2024-09-24T06:58:46.113Z"
   },
   {
    "duration": 18,
    "start_time": "2024-09-24T06:58:46.126Z"
   },
   {
    "duration": 21,
    "start_time": "2024-09-24T07:05:38.391Z"
   },
   {
    "duration": 16,
    "start_time": "2024-09-24T07:11:14.469Z"
   },
   {
    "duration": 14,
    "start_time": "2024-09-24T07:18:24.243Z"
   },
   {
    "duration": 16,
    "start_time": "2024-09-24T07:21:28.482Z"
   },
   {
    "duration": 23,
    "start_time": "2024-09-24T07:24:53.942Z"
   },
   {
    "duration": 1423,
    "start_time": "2024-09-24T13:37:58.759Z"
   },
   {
    "duration": 217,
    "start_time": "2024-09-24T13:38:00.184Z"
   },
   {
    "duration": 97,
    "start_time": "2024-09-24T13:38:00.403Z"
   },
   {
    "duration": 4,
    "start_time": "2024-09-24T13:38:00.502Z"
   },
   {
    "duration": 25,
    "start_time": "2024-09-24T13:38:00.508Z"
   },
   {
    "duration": 17,
    "start_time": "2024-09-24T13:38:00.535Z"
   },
   {
    "duration": 14,
    "start_time": "2024-09-24T13:38:00.554Z"
   },
   {
    "duration": 12,
    "start_time": "2024-09-24T13:38:00.570Z"
   },
   {
    "duration": 51,
    "start_time": "2024-09-24T13:38:00.584Z"
   },
   {
    "duration": 56,
    "start_time": "2024-09-24T13:38:00.638Z"
   },
   {
    "duration": 21,
    "start_time": "2024-09-24T13:38:00.696Z"
   },
   {
    "duration": 45,
    "start_time": "2024-09-24T13:38:00.719Z"
   },
   {
    "duration": 17,
    "start_time": "2024-09-24T13:38:00.765Z"
   },
   {
    "duration": 23,
    "start_time": "2024-09-24T13:38:00.784Z"
   },
   {
    "duration": 377,
    "start_time": "2024-09-24T13:38:00.808Z"
   },
   {
    "duration": 17,
    "start_time": "2024-09-24T13:38:01.187Z"
   },
   {
    "duration": 294,
    "start_time": "2024-09-24T13:38:01.205Z"
   },
   {
    "duration": 449,
    "start_time": "2024-09-24T13:38:01.501Z"
   },
   {
    "duration": 15,
    "start_time": "2024-09-24T13:38:01.952Z"
   },
   {
    "duration": 445,
    "start_time": "2024-09-24T13:38:01.969Z"
   },
   {
    "duration": 189,
    "start_time": "2024-09-24T13:38:02.416Z"
   },
   {
    "duration": 8,
    "start_time": "2024-09-24T13:38:02.607Z"
   },
   {
    "duration": 207,
    "start_time": "2024-09-24T13:38:02.617Z"
   },
   {
    "duration": 324,
    "start_time": "2024-09-24T13:38:02.825Z"
   },
   {
    "duration": 453,
    "start_time": "2024-09-24T13:38:03.151Z"
   },
   {
    "duration": 7,
    "start_time": "2024-09-24T13:38:03.606Z"
   },
   {
    "duration": 456,
    "start_time": "2024-09-24T13:38:03.615Z"
   },
   {
    "duration": 6,
    "start_time": "2024-09-24T13:38:04.074Z"
   },
   {
    "duration": 425,
    "start_time": "2024-09-24T13:38:04.082Z"
   },
   {
    "duration": 6,
    "start_time": "2024-09-24T13:38:04.509Z"
   },
   {
    "duration": 15,
    "start_time": "2024-09-24T13:38:04.516Z"
   },
   {
    "duration": 213,
    "start_time": "2024-09-24T13:38:04.533Z"
   },
   {
    "duration": 442,
    "start_time": "2024-09-24T13:38:04.748Z"
   },
   {
    "duration": 484,
    "start_time": "2024-09-24T13:38:05.191Z"
   },
   {
    "duration": 7,
    "start_time": "2024-09-24T13:38:05.677Z"
   },
   {
    "duration": 446,
    "start_time": "2024-09-24T13:38:05.685Z"
   },
   {
    "duration": 11,
    "start_time": "2024-09-24T13:38:06.133Z"
   },
   {
    "duration": 20,
    "start_time": "2024-09-24T13:38:06.146Z"
   },
   {
    "duration": 11,
    "start_time": "2024-09-24T13:38:06.168Z"
   },
   {
    "duration": 4,
    "start_time": "2024-09-24T13:38:06.181Z"
   },
   {
    "duration": 48,
    "start_time": "2024-09-24T13:40:51.496Z"
   },
   {
    "duration": 35,
    "start_time": "2024-09-24T13:47:00.861Z"
   },
   {
    "duration": 45,
    "start_time": "2024-09-24T13:48:50.364Z"
   },
   {
    "duration": 36,
    "start_time": "2024-09-24T13:49:03.703Z"
   },
   {
    "duration": 20,
    "start_time": "2024-09-24T14:02:59.388Z"
   },
   {
    "duration": 1395,
    "start_time": "2024-09-24T14:11:21.213Z"
   },
   {
    "duration": 60,
    "start_time": "2024-09-24T14:11:22.610Z"
   },
   {
    "duration": 117,
    "start_time": "2024-09-24T14:11:22.672Z"
   },
   {
    "duration": 9,
    "start_time": "2024-09-24T14:11:22.791Z"
   },
   {
    "duration": 14,
    "start_time": "2024-09-24T14:11:22.802Z"
   },
   {
    "duration": 14,
    "start_time": "2024-09-24T14:11:22.818Z"
   },
   {
    "duration": 9,
    "start_time": "2024-09-24T14:11:22.834Z"
   },
   {
    "duration": 9,
    "start_time": "2024-09-24T14:11:22.845Z"
   },
   {
    "duration": 17,
    "start_time": "2024-09-24T14:11:22.856Z"
   },
   {
    "duration": 59,
    "start_time": "2024-09-24T14:11:22.897Z"
   },
   {
    "duration": 21,
    "start_time": "2024-09-24T14:11:22.957Z"
   },
   {
    "duration": 33,
    "start_time": "2024-09-24T14:11:22.980Z"
   },
   {
    "duration": 151,
    "start_time": "2024-09-24T14:11:23.015Z"
   },
   {
    "duration": 0,
    "start_time": "2024-09-24T14:11:23.168Z"
   },
   {
    "duration": 0,
    "start_time": "2024-09-24T14:11:23.169Z"
   },
   {
    "duration": 0,
    "start_time": "2024-09-24T14:11:23.170Z"
   },
   {
    "duration": 0,
    "start_time": "2024-09-24T14:11:23.172Z"
   },
   {
    "duration": 0,
    "start_time": "2024-09-24T14:11:23.173Z"
   },
   {
    "duration": 0,
    "start_time": "2024-09-24T14:11:23.174Z"
   },
   {
    "duration": 0,
    "start_time": "2024-09-24T14:11:23.176Z"
   },
   {
    "duration": 0,
    "start_time": "2024-09-24T14:11:23.177Z"
   },
   {
    "duration": 0,
    "start_time": "2024-09-24T14:11:23.178Z"
   },
   {
    "duration": 1,
    "start_time": "2024-09-24T14:11:23.179Z"
   },
   {
    "duration": 0,
    "start_time": "2024-09-24T14:11:23.198Z"
   },
   {
    "duration": 0,
    "start_time": "2024-09-24T14:11:23.199Z"
   },
   {
    "duration": 0,
    "start_time": "2024-09-24T14:11:23.201Z"
   },
   {
    "duration": 0,
    "start_time": "2024-09-24T14:11:23.202Z"
   },
   {
    "duration": 0,
    "start_time": "2024-09-24T14:11:23.204Z"
   },
   {
    "duration": 0,
    "start_time": "2024-09-24T14:11:23.205Z"
   },
   {
    "duration": 0,
    "start_time": "2024-09-24T14:11:23.206Z"
   },
   {
    "duration": 0,
    "start_time": "2024-09-24T14:11:23.208Z"
   },
   {
    "duration": 0,
    "start_time": "2024-09-24T14:11:23.210Z"
   },
   {
    "duration": 0,
    "start_time": "2024-09-24T14:11:23.212Z"
   },
   {
    "duration": 0,
    "start_time": "2024-09-24T14:11:23.213Z"
   },
   {
    "duration": 0,
    "start_time": "2024-09-24T14:11:23.215Z"
   },
   {
    "duration": 0,
    "start_time": "2024-09-24T14:11:23.216Z"
   },
   {
    "duration": 0,
    "start_time": "2024-09-24T14:11:23.218Z"
   },
   {
    "duration": 0,
    "start_time": "2024-09-24T14:11:23.219Z"
   },
   {
    "duration": 0,
    "start_time": "2024-09-24T14:11:23.220Z"
   },
   {
    "duration": 0,
    "start_time": "2024-09-24T14:11:23.221Z"
   },
   {
    "duration": 0,
    "start_time": "2024-09-24T14:11:23.223Z"
   },
   {
    "duration": 9,
    "start_time": "2024-09-24T14:11:44.525Z"
   },
   {
    "duration": 3,
    "start_time": "2024-09-24T14:11:54.427Z"
   },
   {
    "duration": 61,
    "start_time": "2024-09-24T14:11:54.432Z"
   },
   {
    "duration": 76,
    "start_time": "2024-09-24T14:11:54.495Z"
   },
   {
    "duration": 4,
    "start_time": "2024-09-24T14:11:54.597Z"
   },
   {
    "duration": 7,
    "start_time": "2024-09-24T14:11:54.604Z"
   },
   {
    "duration": 6,
    "start_time": "2024-09-24T14:11:54.612Z"
   },
   {
    "duration": 6,
    "start_time": "2024-09-24T14:11:54.620Z"
   },
   {
    "duration": 9,
    "start_time": "2024-09-24T14:11:54.627Z"
   },
   {
    "duration": 15,
    "start_time": "2024-09-24T14:11:54.637Z"
   },
   {
    "duration": 56,
    "start_time": "2024-09-24T14:11:54.653Z"
   },
   {
    "duration": 21,
    "start_time": "2024-09-24T14:11:54.712Z"
   },
   {
    "duration": 15,
    "start_time": "2024-09-24T14:11:54.734Z"
   },
   {
    "duration": 14,
    "start_time": "2024-09-24T14:11:54.751Z"
   },
   {
    "duration": 0,
    "start_time": "2024-09-24T14:11:54.766Z"
   },
   {
    "duration": 0,
    "start_time": "2024-09-24T14:11:54.798Z"
   },
   {
    "duration": 0,
    "start_time": "2024-09-24T14:11:54.799Z"
   },
   {
    "duration": 0,
    "start_time": "2024-09-24T14:11:54.801Z"
   },
   {
    "duration": 0,
    "start_time": "2024-09-24T14:11:54.802Z"
   },
   {
    "duration": 0,
    "start_time": "2024-09-24T14:11:54.803Z"
   },
   {
    "duration": 0,
    "start_time": "2024-09-24T14:11:54.804Z"
   },
   {
    "duration": 0,
    "start_time": "2024-09-24T14:11:54.806Z"
   },
   {
    "duration": 0,
    "start_time": "2024-09-24T14:11:54.807Z"
   },
   {
    "duration": 0,
    "start_time": "2024-09-24T14:11:54.808Z"
   },
   {
    "duration": 0,
    "start_time": "2024-09-24T14:11:54.809Z"
   },
   {
    "duration": 0,
    "start_time": "2024-09-24T14:11:54.810Z"
   },
   {
    "duration": 0,
    "start_time": "2024-09-24T14:11:54.811Z"
   },
   {
    "duration": 0,
    "start_time": "2024-09-24T14:11:54.812Z"
   },
   {
    "duration": 0,
    "start_time": "2024-09-24T14:11:54.813Z"
   },
   {
    "duration": 0,
    "start_time": "2024-09-24T14:11:54.815Z"
   },
   {
    "duration": 0,
    "start_time": "2024-09-24T14:11:54.816Z"
   },
   {
    "duration": 0,
    "start_time": "2024-09-24T14:11:54.817Z"
   },
   {
    "duration": 0,
    "start_time": "2024-09-24T14:11:54.818Z"
   },
   {
    "duration": 0,
    "start_time": "2024-09-24T14:11:54.819Z"
   },
   {
    "duration": 0,
    "start_time": "2024-09-24T14:11:54.820Z"
   },
   {
    "duration": 0,
    "start_time": "2024-09-24T14:11:54.821Z"
   },
   {
    "duration": 0,
    "start_time": "2024-09-24T14:11:54.823Z"
   },
   {
    "duration": 0,
    "start_time": "2024-09-24T14:11:54.823Z"
   },
   {
    "duration": 0,
    "start_time": "2024-09-24T14:11:54.824Z"
   },
   {
    "duration": 0,
    "start_time": "2024-09-24T14:11:54.826Z"
   },
   {
    "duration": 0,
    "start_time": "2024-09-24T14:11:54.827Z"
   },
   {
    "duration": 0,
    "start_time": "2024-09-24T14:11:54.828Z"
   },
   {
    "duration": 6,
    "start_time": "2024-09-24T14:12:06.776Z"
   },
   {
    "duration": 344,
    "start_time": "2024-09-24T14:12:08.194Z"
   },
   {
    "duration": 48,
    "start_time": "2024-09-24T14:16:49.886Z"
   },
   {
    "duration": 15,
    "start_time": "2024-09-24T14:18:50.784Z"
   },
   {
    "duration": 3,
    "start_time": "2024-09-24T14:18:58.023Z"
   },
   {
    "duration": 62,
    "start_time": "2024-09-24T14:18:58.029Z"
   },
   {
    "duration": 83,
    "start_time": "2024-09-24T14:18:58.094Z"
   },
   {
    "duration": 5,
    "start_time": "2024-09-24T14:18:58.198Z"
   },
   {
    "duration": 7,
    "start_time": "2024-09-24T14:18:58.205Z"
   },
   {
    "duration": 6,
    "start_time": "2024-09-24T14:18:58.214Z"
   },
   {
    "duration": 6,
    "start_time": "2024-09-24T14:18:58.221Z"
   },
   {
    "duration": 17,
    "start_time": "2024-09-24T14:18:58.229Z"
   },
   {
    "duration": 56,
    "start_time": "2024-09-24T14:18:58.249Z"
   },
   {
    "duration": 24,
    "start_time": "2024-09-24T14:18:58.307Z"
   },
   {
    "duration": 32,
    "start_time": "2024-09-24T14:18:58.334Z"
   },
   {
    "duration": 35,
    "start_time": "2024-09-24T14:18:58.368Z"
   },
   {
    "duration": 64,
    "start_time": "2024-09-24T14:18:58.405Z"
   },
   {
    "duration": 40,
    "start_time": "2024-09-24T14:18:58.472Z"
   },
   {
    "duration": 5,
    "start_time": "2024-09-24T14:18:58.514Z"
   },
   {
    "duration": 279,
    "start_time": "2024-09-24T14:18:58.520Z"
   },
   {
    "duration": 12,
    "start_time": "2024-09-24T14:18:58.801Z"
   },
   {
    "duration": 230,
    "start_time": "2024-09-24T14:18:58.815Z"
   },
   {
    "duration": 426,
    "start_time": "2024-09-24T14:18:59.046Z"
   },
   {
    "duration": 23,
    "start_time": "2024-09-24T14:18:59.474Z"
   },
   {
    "duration": 446,
    "start_time": "2024-09-24T14:18:59.500Z"
   },
   {
    "duration": 186,
    "start_time": "2024-09-24T14:18:59.948Z"
   },
   {
    "duration": 10,
    "start_time": "2024-09-24T14:19:00.136Z"
   },
   {
    "duration": 321,
    "start_time": "2024-09-24T14:19:00.147Z"
   },
   {
    "duration": 226,
    "start_time": "2024-09-24T14:19:00.470Z"
   },
   {
    "duration": 429,
    "start_time": "2024-09-24T14:19:00.698Z"
   },
   {
    "duration": 6,
    "start_time": "2024-09-24T14:19:01.129Z"
   },
   {
    "duration": 528,
    "start_time": "2024-09-24T14:19:01.136Z"
   },
   {
    "duration": 6,
    "start_time": "2024-09-24T14:19:01.667Z"
   },
   {
    "duration": 414,
    "start_time": "2024-09-24T14:19:01.676Z"
   },
   {
    "duration": 10,
    "start_time": "2024-09-24T14:19:02.092Z"
   },
   {
    "duration": 24,
    "start_time": "2024-09-24T14:19:02.104Z"
   },
   {
    "duration": 197,
    "start_time": "2024-09-24T14:19:02.130Z"
   },
   {
    "duration": 462,
    "start_time": "2024-09-24T14:19:02.329Z"
   },
   {
    "duration": 483,
    "start_time": "2024-09-24T14:19:02.793Z"
   },
   {
    "duration": 6,
    "start_time": "2024-09-24T14:19:03.278Z"
   },
   {
    "duration": 370,
    "start_time": "2024-09-24T14:19:03.286Z"
   },
   {
    "duration": 10,
    "start_time": "2024-09-24T14:19:03.657Z"
   },
   {
    "duration": 41,
    "start_time": "2024-09-24T14:19:03.669Z"
   },
   {
    "duration": 15,
    "start_time": "2024-09-24T14:19:03.711Z"
   },
   {
    "duration": 4,
    "start_time": "2024-09-24T14:19:03.727Z"
   },
   {
    "duration": 472,
    "start_time": "2024-09-24T14:42:31.695Z"
   },
   {
    "duration": 370,
    "start_time": "2024-09-24T14:44:09.487Z"
   },
   {
    "duration": 380,
    "start_time": "2024-09-24T14:44:17.385Z"
   },
   {
    "duration": 1224,
    "start_time": "2024-09-24T14:44:31.537Z"
   },
   {
    "duration": 60,
    "start_time": "2024-09-24T14:44:32.763Z"
   },
   {
    "duration": 90,
    "start_time": "2024-09-24T14:44:32.825Z"
   },
   {
    "duration": 4,
    "start_time": "2024-09-24T14:44:32.917Z"
   },
   {
    "duration": 13,
    "start_time": "2024-09-24T14:44:32.922Z"
   },
   {
    "duration": 4,
    "start_time": "2024-09-24T14:44:32.937Z"
   },
   {
    "duration": 19,
    "start_time": "2024-09-24T14:44:32.942Z"
   },
   {
    "duration": 8,
    "start_time": "2024-09-24T14:44:32.963Z"
   },
   {
    "duration": 34,
    "start_time": "2024-09-24T14:44:32.972Z"
   },
   {
    "duration": 67,
    "start_time": "2024-09-24T14:44:33.009Z"
   },
   {
    "duration": 22,
    "start_time": "2024-09-24T14:44:33.077Z"
   },
   {
    "duration": 15,
    "start_time": "2024-09-24T14:44:33.101Z"
   },
   {
    "duration": 56,
    "start_time": "2024-09-24T14:44:33.117Z"
   },
   {
    "duration": 30,
    "start_time": "2024-09-24T14:44:33.175Z"
   },
   {
    "duration": 4,
    "start_time": "2024-09-24T14:44:33.207Z"
   },
   {
    "duration": 281,
    "start_time": "2024-09-24T14:44:33.212Z"
   },
   {
    "duration": 8,
    "start_time": "2024-09-24T14:44:33.498Z"
   },
   {
    "duration": 208,
    "start_time": "2024-09-24T14:44:33.507Z"
   },
   {
    "duration": 368,
    "start_time": "2024-09-24T14:44:33.717Z"
   },
   {
    "duration": 20,
    "start_time": "2024-09-24T14:44:34.086Z"
   },
   {
    "duration": 462,
    "start_time": "2024-09-24T14:44:34.108Z"
   },
   {
    "duration": 176,
    "start_time": "2024-09-24T14:44:34.572Z"
   },
   {
    "duration": 8,
    "start_time": "2024-09-24T14:44:34.750Z"
   },
   {
    "duration": 199,
    "start_time": "2024-09-24T14:44:34.760Z"
   },
   {
    "duration": 213,
    "start_time": "2024-09-24T14:44:34.961Z"
   },
   {
    "duration": 425,
    "start_time": "2024-09-24T14:44:35.176Z"
   },
   {
    "duration": 6,
    "start_time": "2024-09-24T14:44:35.603Z"
   },
   {
    "duration": 513,
    "start_time": "2024-09-24T14:44:35.613Z"
   },
   {
    "duration": 7,
    "start_time": "2024-09-24T14:44:36.127Z"
   },
   {
    "duration": 463,
    "start_time": "2024-09-24T14:44:36.136Z"
   },
   {
    "duration": 5,
    "start_time": "2024-09-24T14:44:36.601Z"
   },
   {
    "duration": 14,
    "start_time": "2024-09-24T14:44:36.608Z"
   },
   {
    "duration": 197,
    "start_time": "2024-09-24T14:44:36.631Z"
   },
   {
    "duration": 448,
    "start_time": "2024-09-24T14:44:36.830Z"
   },
   {
    "duration": 474,
    "start_time": "2024-09-24T14:44:37.280Z"
   },
   {
    "duration": 6,
    "start_time": "2024-09-24T14:44:37.756Z"
   },
   {
    "duration": 367,
    "start_time": "2024-09-24T14:44:37.763Z"
   },
   {
    "duration": 9,
    "start_time": "2024-09-24T14:44:38.131Z"
   },
   {
    "duration": 5,
    "start_time": "2024-09-24T14:44:38.141Z"
   },
   {
    "duration": 13,
    "start_time": "2024-09-24T14:44:38.147Z"
   },
   {
    "duration": 7,
    "start_time": "2024-09-24T14:44:38.161Z"
   },
   {
    "duration": 368,
    "start_time": "2024-09-24T14:44:56.296Z"
   },
   {
    "duration": 401,
    "start_time": "2024-09-24T14:45:24.071Z"
   },
   {
    "duration": 17,
    "start_time": "2024-09-25T05:40:16.078Z"
   },
   {
    "duration": 401,
    "start_time": "2024-09-25T05:46:25.382Z"
   },
   {
    "duration": 1200,
    "start_time": "2024-09-25T05:46:39.762Z"
   },
   {
    "duration": 62,
    "start_time": "2024-09-25T05:46:40.963Z"
   },
   {
    "duration": 87,
    "start_time": "2024-09-25T05:46:41.026Z"
   },
   {
    "duration": 4,
    "start_time": "2024-09-25T05:46:41.115Z"
   },
   {
    "duration": 8,
    "start_time": "2024-09-25T05:46:41.120Z"
   },
   {
    "duration": 12,
    "start_time": "2024-09-25T05:46:41.130Z"
   },
   {
    "duration": 5,
    "start_time": "2024-09-25T05:46:41.144Z"
   },
   {
    "duration": 10,
    "start_time": "2024-09-25T05:46:41.151Z"
   },
   {
    "duration": 65,
    "start_time": "2024-09-25T05:46:41.162Z"
   },
   {
    "duration": 52,
    "start_time": "2024-09-25T05:46:41.229Z"
   },
   {
    "duration": 21,
    "start_time": "2024-09-25T05:46:41.282Z"
   },
   {
    "duration": 16,
    "start_time": "2024-09-25T05:46:41.304Z"
   },
   {
    "duration": 45,
    "start_time": "2024-09-25T05:46:41.322Z"
   },
   {
    "duration": 39,
    "start_time": "2024-09-25T05:46:41.369Z"
   },
   {
    "duration": 7,
    "start_time": "2024-09-25T05:46:41.410Z"
   },
   {
    "duration": 286,
    "start_time": "2024-09-25T05:46:41.418Z"
   },
   {
    "duration": 8,
    "start_time": "2024-09-25T05:46:41.706Z"
   },
   {
    "duration": 205,
    "start_time": "2024-09-25T05:46:41.715Z"
   },
   {
    "duration": 357,
    "start_time": "2024-09-25T05:46:41.922Z"
   },
   {
    "duration": 20,
    "start_time": "2024-09-25T05:46:42.280Z"
   },
   {
    "duration": 396,
    "start_time": "2024-09-25T05:46:42.302Z"
   },
   {
    "duration": 178,
    "start_time": "2024-09-25T05:46:42.700Z"
   },
   {
    "duration": 21,
    "start_time": "2024-09-25T05:46:42.879Z"
   },
   {
    "duration": 195,
    "start_time": "2024-09-25T05:46:42.902Z"
   },
   {
    "duration": 215,
    "start_time": "2024-09-25T05:46:43.099Z"
   },
   {
    "duration": 421,
    "start_time": "2024-09-25T05:46:43.316Z"
   },
   {
    "duration": 6,
    "start_time": "2024-09-25T05:46:43.738Z"
   },
   {
    "duration": 510,
    "start_time": "2024-09-25T05:46:43.747Z"
   },
   {
    "duration": 5,
    "start_time": "2024-09-25T05:46:44.259Z"
   },
   {
    "duration": 399,
    "start_time": "2024-09-25T05:46:44.266Z"
   },
   {
    "duration": 5,
    "start_time": "2024-09-25T05:46:44.667Z"
   },
   {
    "duration": 4,
    "start_time": "2024-09-25T05:46:44.674Z"
   },
   {
    "duration": 201,
    "start_time": "2024-09-25T05:46:44.680Z"
   },
   {
    "duration": 441,
    "start_time": "2024-09-25T05:46:44.883Z"
   },
   {
    "duration": 448,
    "start_time": "2024-09-25T05:46:45.325Z"
   },
   {
    "duration": 6,
    "start_time": "2024-09-25T05:46:45.774Z"
   },
   {
    "duration": 346,
    "start_time": "2024-09-25T05:46:45.782Z"
   },
   {
    "duration": 9,
    "start_time": "2024-09-25T05:46:46.129Z"
   },
   {
    "duration": 12,
    "start_time": "2024-09-25T05:46:46.140Z"
   },
   {
    "duration": 9,
    "start_time": "2024-09-25T05:46:46.153Z"
   },
   {
    "duration": 3,
    "start_time": "2024-09-25T05:46:46.163Z"
   },
   {
    "duration": 8,
    "start_time": "2024-09-25T06:11:42.708Z"
   },
   {
    "duration": 108,
    "start_time": "2024-09-25T06:11:45.226Z"
   },
   {
    "duration": 10,
    "start_time": "2024-09-25T06:13:23.337Z"
   },
   {
    "duration": 182,
    "start_time": "2024-09-25T06:14:38.178Z"
   },
   {
    "duration": 160,
    "start_time": "2024-09-25T06:16:28.935Z"
   },
   {
    "duration": 265,
    "start_time": "2024-09-25T06:16:37.226Z"
   },
   {
    "duration": 210,
    "start_time": "2024-09-25T06:20:01.312Z"
   },
   {
    "duration": 424,
    "start_time": "2024-09-25T06:27:12.695Z"
   },
   {
    "duration": 6,
    "start_time": "2024-09-25T06:27:38.473Z"
   },
   {
    "duration": 7,
    "start_time": "2024-09-25T06:32:29.321Z"
   },
   {
    "duration": 198,
    "start_time": "2024-09-25T06:32:36.151Z"
   },
   {
    "duration": 288,
    "start_time": "2024-09-25T06:33:08.489Z"
   },
   {
    "duration": 9,
    "start_time": "2024-09-25T06:33:45.098Z"
   },
   {
    "duration": 16,
    "start_time": "2024-09-25T06:34:07.411Z"
   },
   {
    "duration": 16,
    "start_time": "2024-09-25T06:34:10.840Z"
   },
   {
    "duration": 5,
    "start_time": "2024-09-25T06:34:23.288Z"
   },
   {
    "duration": 8,
    "start_time": "2024-09-25T06:34:27.415Z"
   },
   {
    "duration": 17,
    "start_time": "2024-09-25T06:34:28.955Z"
   },
   {
    "duration": 278,
    "start_time": "2024-09-25T06:35:47.958Z"
   },
   {
    "duration": 9,
    "start_time": "2024-09-25T06:36:21.000Z"
   },
   {
    "duration": 393,
    "start_time": "2024-09-25T06:37:02.451Z"
   },
   {
    "duration": 304,
    "start_time": "2024-09-25T06:37:49.312Z"
   },
   {
    "duration": 460,
    "start_time": "2024-09-25T06:55:38.831Z"
   },
   {
    "duration": 6,
    "start_time": "2024-09-25T07:06:41.882Z"
   },
   {
    "duration": 335,
    "start_time": "2024-09-25T07:06:43.192Z"
   },
   {
    "duration": 10,
    "start_time": "2024-09-25T07:10:35.213Z"
   },
   {
    "duration": 3,
    "start_time": "2024-09-25T07:10:44.307Z"
   },
   {
    "duration": 11,
    "start_time": "2024-09-25T07:10:55.461Z"
   },
   {
    "duration": 3,
    "start_time": "2024-09-25T07:10:57.288Z"
   },
   {
    "duration": 13,
    "start_time": "2024-09-25T07:14:43.548Z"
   },
   {
    "duration": 10,
    "start_time": "2024-09-25T07:16:03.794Z"
   },
   {
    "duration": 4,
    "start_time": "2024-09-25T07:16:05.913Z"
   },
   {
    "duration": 74,
    "start_time": "2024-09-25T08:30:59.999Z"
   },
   {
    "duration": 10,
    "start_time": "2024-09-25T08:34:22.971Z"
   },
   {
    "duration": 10,
    "start_time": "2024-09-25T08:42:52.610Z"
   },
   {
    "duration": 9,
    "start_time": "2024-09-25T08:46:43.622Z"
   },
   {
    "duration": 11,
    "start_time": "2024-09-25T08:51:28.527Z"
   },
   {
    "duration": 387,
    "start_time": "2024-09-25T12:30:56.496Z"
   },
   {
    "duration": 90,
    "start_time": "2024-09-25T12:34:02.311Z"
   },
   {
    "duration": 303,
    "start_time": "2024-09-25T12:34:30.018Z"
   },
   {
    "duration": 451,
    "start_time": "2024-09-25T12:35:07.461Z"
   },
   {
    "duration": 1248,
    "start_time": "2024-09-25T17:45:13.322Z"
   },
   {
    "duration": 55,
    "start_time": "2024-09-25T17:45:14.572Z"
   },
   {
    "duration": 71,
    "start_time": "2024-09-25T17:45:14.628Z"
   },
   {
    "duration": 3,
    "start_time": "2024-09-25T17:45:14.701Z"
   },
   {
    "duration": 7,
    "start_time": "2024-09-25T17:45:14.705Z"
   },
   {
    "duration": 4,
    "start_time": "2024-09-25T17:45:14.713Z"
   },
   {
    "duration": 26,
    "start_time": "2024-09-25T17:45:14.718Z"
   },
   {
    "duration": 8,
    "start_time": "2024-09-25T17:45:14.746Z"
   },
   {
    "duration": 16,
    "start_time": "2024-09-25T17:45:14.756Z"
   },
   {
    "duration": 79,
    "start_time": "2024-09-25T17:45:14.775Z"
   },
   {
    "duration": 19,
    "start_time": "2024-09-25T17:45:14.856Z"
   },
   {
    "duration": 70,
    "start_time": "2024-09-25T17:45:14.877Z"
   },
   {
    "duration": 45,
    "start_time": "2024-09-25T17:45:14.949Z"
   },
   {
    "duration": 17,
    "start_time": "2024-09-25T17:45:14.995Z"
   },
   {
    "duration": 38,
    "start_time": "2024-09-25T17:45:15.013Z"
   },
   {
    "duration": 259,
    "start_time": "2024-09-25T17:45:15.052Z"
   },
   {
    "duration": 8,
    "start_time": "2024-09-25T17:45:15.314Z"
   },
   {
    "duration": 204,
    "start_time": "2024-09-25T17:45:15.323Z"
   },
   {
    "duration": 363,
    "start_time": "2024-09-25T17:45:15.529Z"
   },
   {
    "duration": 15,
    "start_time": "2024-09-25T17:45:15.894Z"
   },
   {
    "duration": 408,
    "start_time": "2024-09-25T17:45:15.911Z"
   },
   {
    "duration": 11,
    "start_time": "2024-09-25T17:45:16.320Z"
   },
   {
    "duration": 174,
    "start_time": "2024-09-25T17:45:16.332Z"
   },
   {
    "duration": 210,
    "start_time": "2024-09-25T17:45:16.508Z"
   },
   {
    "duration": 443,
    "start_time": "2024-09-25T17:45:16.721Z"
   },
   {
    "duration": 5,
    "start_time": "2024-09-25T17:45:17.166Z"
   },
   {
    "duration": 408,
    "start_time": "2024-09-25T17:45:17.173Z"
   },
   {
    "duration": 5,
    "start_time": "2024-09-25T17:45:17.586Z"
   },
   {
    "duration": 512,
    "start_time": "2024-09-25T17:45:17.593Z"
   },
   {
    "duration": 6,
    "start_time": "2024-09-25T17:45:18.107Z"
   },
   {
    "duration": 14,
    "start_time": "2024-09-25T17:45:18.115Z"
   },
   {
    "duration": 197,
    "start_time": "2024-09-25T17:45:18.130Z"
   },
   {
    "duration": 304,
    "start_time": "2024-09-25T17:45:18.329Z"
   },
   {
    "duration": 444,
    "start_time": "2024-09-25T17:45:18.634Z"
   },
   {
    "duration": 455,
    "start_time": "2024-09-25T17:45:19.080Z"
   },
   {
    "duration": 8,
    "start_time": "2024-09-25T17:45:19.537Z"
   },
   {
    "duration": 430,
    "start_time": "2024-09-25T17:45:19.547Z"
   },
   {
    "duration": 11,
    "start_time": "2024-09-25T17:45:19.978Z"
   },
   {
    "duration": 100,
    "start_time": "2024-09-25T17:45:19.991Z"
   },
   {
    "duration": 113,
    "start_time": "2024-09-25T17:45:20.092Z"
   },
   {
    "duration": 52,
    "start_time": "2024-09-26T12:32:17.713Z"
   },
   {
    "duration": 1374,
    "start_time": "2024-09-26T12:32:24.158Z"
   },
   {
    "duration": 232,
    "start_time": "2024-09-26T12:32:25.534Z"
   },
   {
    "duration": 83,
    "start_time": "2024-09-26T12:32:25.767Z"
   },
   {
    "duration": 4,
    "start_time": "2024-09-26T12:32:25.852Z"
   },
   {
    "duration": 7,
    "start_time": "2024-09-26T12:32:25.858Z"
   },
   {
    "duration": 6,
    "start_time": "2024-09-26T12:32:25.867Z"
   },
   {
    "duration": 8,
    "start_time": "2024-09-26T12:32:25.874Z"
   },
   {
    "duration": 26,
    "start_time": "2024-09-26T12:32:25.883Z"
   },
   {
    "duration": 16,
    "start_time": "2024-09-26T12:32:25.925Z"
   },
   {
    "duration": 146,
    "start_time": "2024-09-26T12:32:25.944Z"
   },
   {
    "duration": 23,
    "start_time": "2024-09-26T12:32:26.092Z"
   },
   {
    "duration": 23,
    "start_time": "2024-09-26T12:32:26.117Z"
   },
   {
    "duration": 49,
    "start_time": "2024-09-26T12:32:26.141Z"
   },
   {
    "duration": 36,
    "start_time": "2024-09-26T12:32:26.191Z"
   },
   {
    "duration": 5,
    "start_time": "2024-09-26T12:32:26.229Z"
   },
   {
    "duration": 300,
    "start_time": "2024-09-26T12:32:26.235Z"
   },
   {
    "duration": 9,
    "start_time": "2024-09-26T12:32:26.537Z"
   },
   {
    "duration": 226,
    "start_time": "2024-09-26T12:32:26.548Z"
   },
   {
    "duration": 466,
    "start_time": "2024-09-26T12:32:26.775Z"
   },
   {
    "duration": 16,
    "start_time": "2024-09-26T12:32:27.243Z"
   },
   {
    "duration": 457,
    "start_time": "2024-09-26T12:32:27.261Z"
   },
   {
    "duration": 11,
    "start_time": "2024-09-26T12:32:27.720Z"
   },
   {
    "duration": 195,
    "start_time": "2024-09-26T12:32:27.733Z"
   },
   {
    "duration": 235,
    "start_time": "2024-09-26T12:32:27.929Z"
   },
   {
    "duration": 458,
    "start_time": "2024-09-26T12:32:28.166Z"
   },
   {
    "duration": 6,
    "start_time": "2024-09-26T12:32:28.626Z"
   },
   {
    "duration": 500,
    "start_time": "2024-09-26T12:32:28.634Z"
   },
   {
    "duration": 5,
    "start_time": "2024-09-26T12:32:29.138Z"
   },
   {
    "duration": 551,
    "start_time": "2024-09-26T12:32:29.145Z"
   },
   {
    "duration": 5,
    "start_time": "2024-09-26T12:32:29.698Z"
   },
   {
    "duration": 21,
    "start_time": "2024-09-26T12:32:29.705Z"
   },
   {
    "duration": 215,
    "start_time": "2024-09-26T12:32:29.727Z"
   },
   {
    "duration": 374,
    "start_time": "2024-09-26T12:32:29.944Z"
   },
   {
    "duration": 504,
    "start_time": "2024-09-26T12:32:30.320Z"
   },
   {
    "duration": 483,
    "start_time": "2024-09-26T12:32:30.826Z"
   },
   {
    "duration": 14,
    "start_time": "2024-09-26T12:32:31.311Z"
   },
   {
    "duration": 366,
    "start_time": "2024-09-26T12:32:31.327Z"
   },
   {
    "duration": 11,
    "start_time": "2024-09-26T12:32:31.695Z"
   },
   {
    "duration": 46,
    "start_time": "2024-09-26T12:32:31.707Z"
   },
   {
    "duration": 89,
    "start_time": "2024-09-26T12:32:31.755Z"
   },
   {
    "duration": 18,
    "start_time": "2024-09-26T12:34:11.945Z"
   },
   {
    "duration": 15,
    "start_time": "2024-09-26T12:34:37.405Z"
   },
   {
    "duration": 11,
    "start_time": "2024-09-26T12:34:45.415Z"
   },
   {
    "duration": 15,
    "start_time": "2024-09-26T12:35:22.659Z"
   },
   {
    "duration": 15,
    "start_time": "2024-09-26T12:35:28.055Z"
   },
   {
    "duration": 289,
    "start_time": "2024-09-26T12:35:30.526Z"
   },
   {
    "duration": 193,
    "start_time": "2024-09-26T12:36:13.423Z"
   },
   {
    "duration": 192,
    "start_time": "2024-09-26T12:36:18.815Z"
   },
   {
    "duration": 187,
    "start_time": "2024-09-26T12:36:58.973Z"
   },
   {
    "duration": 200,
    "start_time": "2024-09-26T12:37:36.406Z"
   },
   {
    "duration": 191,
    "start_time": "2024-09-26T12:37:45.117Z"
   },
   {
    "duration": 195,
    "start_time": "2024-09-26T12:37:53.294Z"
   },
   {
    "duration": 198,
    "start_time": "2024-09-26T12:37:59.609Z"
   },
   {
    "duration": 194,
    "start_time": "2024-09-26T12:38:07.724Z"
   },
   {
    "duration": 191,
    "start_time": "2024-09-26T12:38:23.163Z"
   },
   {
    "duration": 205,
    "start_time": "2024-09-26T12:38:51.908Z"
   },
   {
    "duration": 11,
    "start_time": "2024-09-26T12:40:47.446Z"
   },
   {
    "duration": 271,
    "start_time": "2024-09-26T12:40:51.893Z"
   },
   {
    "duration": 198,
    "start_time": "2024-09-26T12:41:01.352Z"
   },
   {
    "duration": 12,
    "start_time": "2024-09-26T12:41:29.686Z"
   },
   {
    "duration": 181,
    "start_time": "2024-09-26T12:42:56.360Z"
   },
   {
    "duration": 16,
    "start_time": "2024-09-26T12:43:34.063Z"
   },
   {
    "duration": 186,
    "start_time": "2024-09-26T12:43:37.492Z"
   },
   {
    "duration": 10,
    "start_time": "2024-09-26T12:43:56.757Z"
   },
   {
    "duration": 197,
    "start_time": "2024-09-26T12:44:02.013Z"
   },
   {
    "duration": 187,
    "start_time": "2024-09-26T12:44:13.108Z"
   },
   {
    "duration": 13,
    "start_time": "2024-09-26T12:46:59.997Z"
   },
   {
    "duration": 193,
    "start_time": "2024-09-26T12:47:07.975Z"
   },
   {
    "duration": 11,
    "start_time": "2024-09-26T12:47:23.784Z"
   },
   {
    "duration": 176,
    "start_time": "2024-09-26T12:47:27.364Z"
   },
   {
    "duration": 12,
    "start_time": "2024-09-26T12:47:39.031Z"
   },
   {
    "duration": 178,
    "start_time": "2024-09-26T12:47:42.651Z"
   },
   {
    "duration": 195,
    "start_time": "2024-09-26T12:54:45.523Z"
   },
   {
    "duration": 453,
    "start_time": "2024-09-26T13:16:45.864Z"
   },
   {
    "duration": 3,
    "start_time": "2024-09-26T13:21:10.248Z"
   },
   {
    "duration": 7,
    "start_time": "2024-09-26T13:21:21.219Z"
   },
   {
    "duration": 288,
    "start_time": "2024-09-26T13:21:39.072Z"
   },
   {
    "duration": 7,
    "start_time": "2024-09-26T13:22:24.273Z"
   },
   {
    "duration": 738,
    "start_time": "2024-09-26T13:25:10.218Z"
   },
   {
    "duration": 11,
    "start_time": "2024-09-26T13:25:47.863Z"
   },
   {
    "duration": 6,
    "start_time": "2024-09-26T13:26:25.151Z"
   },
   {
    "duration": 333,
    "start_time": "2024-09-26T13:32:26.363Z"
   },
   {
    "duration": 480,
    "start_time": "2024-09-26T13:40:48.968Z"
   },
   {
    "duration": 447,
    "start_time": "2024-09-26T13:58:32.788Z"
   },
   {
    "duration": 7,
    "start_time": "2024-09-26T14:04:48.824Z"
   },
   {
    "duration": 377,
    "start_time": "2024-09-26T14:04:50.651Z"
   },
   {
    "duration": 10,
    "start_time": "2024-09-26T14:21:00.339Z"
   },
   {
    "duration": 15,
    "start_time": "2024-09-26T14:21:54.176Z"
   },
   {
    "duration": 13,
    "start_time": "2024-09-26T14:22:17.966Z"
   },
   {
    "duration": 9,
    "start_time": "2024-09-26T14:23:52.153Z"
   },
   {
    "duration": 14,
    "start_time": "2024-09-26T14:25:40.638Z"
   },
   {
    "duration": 289,
    "start_time": "2024-09-26T14:55:25.334Z"
   },
   {
    "duration": 13,
    "start_time": "2024-09-26T14:55:37.511Z"
   },
   {
    "duration": 298,
    "start_time": "2024-09-26T14:55:41.172Z"
   },
   {
    "duration": 5,
    "start_time": "2024-09-26T14:56:03.628Z"
   },
   {
    "duration": 396,
    "start_time": "2024-09-26T15:01:14.504Z"
   },
   {
    "duration": 249,
    "start_time": "2024-09-26T15:01:24.131Z"
   },
   {
    "duration": 264,
    "start_time": "2024-09-26T15:01:39.088Z"
   },
   {
    "duration": 255,
    "start_time": "2024-09-26T15:03:42.615Z"
   },
   {
    "duration": 15,
    "start_time": "2024-09-26T15:14:15.710Z"
   },
   {
    "duration": 430,
    "start_time": "2024-09-26T15:14:33.611Z"
   },
   {
    "duration": 5,
    "start_time": "2024-09-26T15:14:43.563Z"
   },
   {
    "duration": 456,
    "start_time": "2024-09-26T15:15:19.089Z"
   },
   {
    "duration": 453,
    "start_time": "2024-09-26T15:15:36.687Z"
   },
   {
    "duration": 6,
    "start_time": "2024-09-26T15:15:41.371Z"
   },
   {
    "duration": 477,
    "start_time": "2024-09-26T15:23:46.491Z"
   },
   {
    "duration": 637,
    "start_time": "2024-09-26T15:25:40.859Z"
   },
   {
    "duration": 12,
    "start_time": "2024-09-26T15:25:45.431Z"
   },
   {
    "duration": 6,
    "start_time": "2024-09-26T15:26:14.555Z"
   },
   {
    "duration": 453,
    "start_time": "2024-09-26T15:29:08.340Z"
   },
   {
    "duration": 471,
    "start_time": "2024-09-26T15:29:16.050Z"
   },
   {
    "duration": 441,
    "start_time": "2024-09-26T15:29:23.804Z"
   },
   {
    "duration": 441,
    "start_time": "2024-09-26T15:30:07.856Z"
   },
   {
    "duration": 5,
    "start_time": "2024-09-26T15:30:17.074Z"
   },
   {
    "duration": 481,
    "start_time": "2024-09-26T15:30:36.089Z"
   },
   {
    "duration": 7,
    "start_time": "2024-09-26T15:30:40.165Z"
   },
   {
    "duration": 8,
    "start_time": "2024-09-26T15:30:44.541Z"
   },
   {
    "duration": 504,
    "start_time": "2024-09-26T15:31:15.469Z"
   },
   {
    "duration": 6,
    "start_time": "2024-09-26T15:32:49.412Z"
   },
   {
    "duration": 1302,
    "start_time": "2024-09-26T16:39:23.591Z"
   },
   {
    "duration": 215,
    "start_time": "2024-09-26T16:39:24.895Z"
   },
   {
    "duration": 69,
    "start_time": "2024-09-26T16:39:25.111Z"
   },
   {
    "duration": 3,
    "start_time": "2024-09-26T16:39:25.181Z"
   },
   {
    "duration": 6,
    "start_time": "2024-09-26T16:39:25.190Z"
   },
   {
    "duration": 4,
    "start_time": "2024-09-26T16:39:25.197Z"
   },
   {
    "duration": 21,
    "start_time": "2024-09-26T16:39:25.202Z"
   },
   {
    "duration": 16,
    "start_time": "2024-09-26T16:39:25.224Z"
   },
   {
    "duration": 29,
    "start_time": "2024-09-26T16:39:25.241Z"
   },
   {
    "duration": 49,
    "start_time": "2024-09-26T16:39:25.271Z"
   },
   {
    "duration": 18,
    "start_time": "2024-09-26T16:39:25.321Z"
   },
   {
    "duration": 13,
    "start_time": "2024-09-26T16:39:25.340Z"
   },
   {
    "duration": 58,
    "start_time": "2024-09-26T16:39:25.354Z"
   },
   {
    "duration": 16,
    "start_time": "2024-09-26T16:39:25.415Z"
   },
   {
    "duration": 4,
    "start_time": "2024-09-26T16:39:25.433Z"
   },
   {
    "duration": 266,
    "start_time": "2024-09-26T16:39:25.438Z"
   },
   {
    "duration": 8,
    "start_time": "2024-09-26T16:39:25.705Z"
   },
   {
    "duration": 193,
    "start_time": "2024-09-26T16:39:25.714Z"
   },
   {
    "duration": 372,
    "start_time": "2024-09-26T16:39:25.908Z"
   },
   {
    "duration": 376,
    "start_time": "2024-09-26T16:39:26.282Z"
   },
   {
    "duration": 13,
    "start_time": "2024-09-26T16:39:26.660Z"
   },
   {
    "duration": 6,
    "start_time": "2024-09-26T16:39:26.675Z"
   },
   {
    "duration": 232,
    "start_time": "2024-09-26T16:39:26.682Z"
   },
   {
    "duration": 430,
    "start_time": "2024-09-26T16:39:26.916Z"
   },
   {
    "duration": 103,
    "start_time": "2024-09-26T16:39:27.348Z"
   },
   {
    "duration": 0,
    "start_time": "2024-09-26T16:39:27.453Z"
   },
   {
    "duration": 0,
    "start_time": "2024-09-26T16:39:27.455Z"
   },
   {
    "duration": 0,
    "start_time": "2024-09-26T16:39:27.456Z"
   },
   {
    "duration": 0,
    "start_time": "2024-09-26T16:39:27.457Z"
   },
   {
    "duration": 0,
    "start_time": "2024-09-26T16:39:27.459Z"
   },
   {
    "duration": 0,
    "start_time": "2024-09-26T16:39:27.460Z"
   },
   {
    "duration": 0,
    "start_time": "2024-09-26T16:39:27.461Z"
   },
   {
    "duration": 0,
    "start_time": "2024-09-26T16:39:27.463Z"
   },
   {
    "duration": 0,
    "start_time": "2024-09-26T16:39:27.464Z"
   },
   {
    "duration": 0,
    "start_time": "2024-09-26T16:39:27.465Z"
   },
   {
    "duration": 0,
    "start_time": "2024-09-26T16:39:27.467Z"
   },
   {
    "duration": 1358,
    "start_time": "2024-09-27T09:41:00.917Z"
   },
   {
    "duration": 239,
    "start_time": "2024-09-27T09:41:02.278Z"
   },
   {
    "duration": 98,
    "start_time": "2024-09-27T09:41:02.519Z"
   },
   {
    "duration": 5,
    "start_time": "2024-09-27T09:41:02.619Z"
   },
   {
    "duration": 89,
    "start_time": "2024-09-27T09:41:02.626Z"
   },
   {
    "duration": 34,
    "start_time": "2024-09-27T09:41:02.717Z"
   },
   {
    "duration": 34,
    "start_time": "2024-09-27T09:41:02.752Z"
   },
   {
    "duration": 46,
    "start_time": "2024-09-27T09:41:02.787Z"
   },
   {
    "duration": 67,
    "start_time": "2024-09-27T09:41:02.835Z"
   },
   {
    "duration": 77,
    "start_time": "2024-09-27T09:41:02.906Z"
   },
   {
    "duration": 21,
    "start_time": "2024-09-27T09:41:02.984Z"
   },
   {
    "duration": 20,
    "start_time": "2024-09-27T09:41:03.007Z"
   },
   {
    "duration": 90,
    "start_time": "2024-09-27T09:41:03.029Z"
   },
   {
    "duration": 18,
    "start_time": "2024-09-27T09:41:03.120Z"
   },
   {
    "duration": 18,
    "start_time": "2024-09-27T09:41:03.140Z"
   },
   {
    "duration": 279,
    "start_time": "2024-09-27T09:41:03.159Z"
   },
   {
    "duration": 7,
    "start_time": "2024-09-27T09:41:03.441Z"
   },
   {
    "duration": 209,
    "start_time": "2024-09-27T09:41:03.450Z"
   },
   {
    "duration": 462,
    "start_time": "2024-09-27T09:41:03.661Z"
   },
   {
    "duration": 424,
    "start_time": "2024-09-27T09:41:04.124Z"
   },
   {
    "duration": 16,
    "start_time": "2024-09-27T09:41:04.549Z"
   },
   {
    "duration": 21,
    "start_time": "2024-09-27T09:41:04.567Z"
   },
   {
    "duration": 251,
    "start_time": "2024-09-27T09:41:04.589Z"
   },
   {
    "duration": 459,
    "start_time": "2024-09-27T09:41:04.842Z"
   },
   {
    "duration": 113,
    "start_time": "2024-09-27T09:41:05.303Z"
   },
   {
    "duration": 0,
    "start_time": "2024-09-27T09:41:05.418Z"
   },
   {
    "duration": 0,
    "start_time": "2024-09-27T09:41:05.420Z"
   },
   {
    "duration": 0,
    "start_time": "2024-09-27T09:41:05.421Z"
   },
   {
    "duration": 0,
    "start_time": "2024-09-27T09:41:05.423Z"
   },
   {
    "duration": 0,
    "start_time": "2024-09-27T09:41:05.424Z"
   },
   {
    "duration": 0,
    "start_time": "2024-09-27T09:41:05.426Z"
   },
   {
    "duration": 0,
    "start_time": "2024-09-27T09:41:05.428Z"
   },
   {
    "duration": 0,
    "start_time": "2024-09-27T09:41:05.429Z"
   },
   {
    "duration": 0,
    "start_time": "2024-09-27T09:41:05.431Z"
   },
   {
    "duration": 0,
    "start_time": "2024-09-27T09:41:05.432Z"
   },
   {
    "duration": 0,
    "start_time": "2024-09-27T09:41:05.433Z"
   },
   {
    "duration": 6,
    "start_time": "2024-09-27T09:41:47.482Z"
   },
   {
    "duration": 11,
    "start_time": "2024-09-27T09:42:20.477Z"
   },
   {
    "duration": 6,
    "start_time": "2024-09-27T09:42:25.955Z"
   },
   {
    "duration": 1122,
    "start_time": "2024-09-27T10:15:18.323Z"
   },
   {
    "duration": 191,
    "start_time": "2024-09-27T10:15:19.447Z"
   },
   {
    "duration": 75,
    "start_time": "2024-09-27T10:15:19.639Z"
   },
   {
    "duration": 4,
    "start_time": "2024-09-27T10:15:19.716Z"
   },
   {
    "duration": 6,
    "start_time": "2024-09-27T10:15:19.722Z"
   },
   {
    "duration": 4,
    "start_time": "2024-09-27T10:15:19.730Z"
   },
   {
    "duration": 9,
    "start_time": "2024-09-27T10:15:19.735Z"
   },
   {
    "duration": 32,
    "start_time": "2024-09-27T10:15:19.745Z"
   },
   {
    "duration": 30,
    "start_time": "2024-09-27T10:15:19.779Z"
   },
   {
    "duration": 53,
    "start_time": "2024-09-27T10:15:19.810Z"
   },
   {
    "duration": 28,
    "start_time": "2024-09-27T10:15:19.864Z"
   },
   {
    "duration": 15,
    "start_time": "2024-09-27T10:15:19.893Z"
   },
   {
    "duration": 45,
    "start_time": "2024-09-27T10:15:19.909Z"
   },
   {
    "duration": 34,
    "start_time": "2024-09-27T10:15:19.956Z"
   },
   {
    "duration": 5,
    "start_time": "2024-09-27T10:15:19.991Z"
   },
   {
    "duration": 276,
    "start_time": "2024-09-27T10:15:19.997Z"
   },
   {
    "duration": 7,
    "start_time": "2024-09-27T10:15:20.275Z"
   },
   {
    "duration": 198,
    "start_time": "2024-09-27T10:15:20.284Z"
   },
   {
    "duration": 372,
    "start_time": "2024-09-27T10:15:20.484Z"
   },
   {
    "duration": 422,
    "start_time": "2024-09-27T10:15:20.858Z"
   },
   {
    "duration": 16,
    "start_time": "2024-09-27T10:15:21.282Z"
   },
   {
    "duration": 6,
    "start_time": "2024-09-27T10:15:21.300Z"
   },
   {
    "duration": 259,
    "start_time": "2024-09-27T10:15:21.308Z"
   },
   {
    "duration": 433,
    "start_time": "2024-09-27T10:15:21.569Z"
   },
   {
    "duration": 6,
    "start_time": "2024-09-27T10:15:22.004Z"
   },
   {
    "duration": 453,
    "start_time": "2024-09-27T10:15:22.012Z"
   },
   {
    "duration": 12,
    "start_time": "2024-09-27T10:15:22.466Z"
   },
   {
    "duration": 5,
    "start_time": "2024-09-27T10:15:22.479Z"
   },
   {
    "duration": 272,
    "start_time": "2024-09-27T10:15:22.485Z"
   },
   {
    "duration": 314,
    "start_time": "2024-09-27T10:15:22.758Z"
   },
   {
    "duration": 465,
    "start_time": "2024-09-27T10:15:23.076Z"
   },
   {
    "duration": 447,
    "start_time": "2024-09-27T10:15:23.542Z"
   },
   {
    "duration": 5,
    "start_time": "2024-09-27T10:15:23.991Z"
   },
   {
    "duration": 382,
    "start_time": "2024-09-27T10:15:23.997Z"
   },
   {
    "duration": 8,
    "start_time": "2024-09-27T10:15:24.380Z"
   },
   {
    "duration": 121,
    "start_time": "2024-09-27T10:15:24.390Z"
   },
   {
    "duration": 1462,
    "start_time": "2024-09-30T06:49:22.117Z"
   },
   {
    "duration": 216,
    "start_time": "2024-09-30T06:49:23.581Z"
   },
   {
    "duration": 80,
    "start_time": "2024-09-30T06:49:23.799Z"
   },
   {
    "duration": 3,
    "start_time": "2024-09-30T06:49:23.881Z"
   },
   {
    "duration": 30,
    "start_time": "2024-09-30T06:49:23.886Z"
   },
   {
    "duration": 27,
    "start_time": "2024-09-30T06:49:23.917Z"
   },
   {
    "duration": 61,
    "start_time": "2024-09-30T06:49:23.946Z"
   },
   {
    "duration": 46,
    "start_time": "2024-09-30T06:49:24.008Z"
   },
   {
    "duration": 75,
    "start_time": "2024-09-30T06:49:24.056Z"
   },
   {
    "duration": 53,
    "start_time": "2024-09-30T06:49:24.133Z"
   },
   {
    "duration": 28,
    "start_time": "2024-09-30T06:49:24.188Z"
   },
   {
    "duration": 15,
    "start_time": "2024-09-30T06:49:24.218Z"
   },
   {
    "duration": 46,
    "start_time": "2024-09-30T06:49:24.234Z"
   },
   {
    "duration": 34,
    "start_time": "2024-09-30T06:49:24.282Z"
   },
   {
    "duration": 5,
    "start_time": "2024-09-30T06:49:24.318Z"
   },
   {
    "duration": 281,
    "start_time": "2024-09-30T06:49:24.324Z"
   },
   {
    "duration": 9,
    "start_time": "2024-09-30T06:49:24.607Z"
   },
   {
    "duration": 208,
    "start_time": "2024-09-30T06:49:24.618Z"
   },
   {
    "duration": 433,
    "start_time": "2024-09-30T06:49:24.827Z"
   },
   {
    "duration": 442,
    "start_time": "2024-09-30T06:49:25.262Z"
   },
   {
    "duration": 15,
    "start_time": "2024-09-30T06:49:25.706Z"
   },
   {
    "duration": 30,
    "start_time": "2024-09-30T06:49:25.723Z"
   },
   {
    "duration": 286,
    "start_time": "2024-09-30T06:49:25.755Z"
   },
   {
    "duration": 460,
    "start_time": "2024-09-30T06:49:26.043Z"
   },
   {
    "duration": 5,
    "start_time": "2024-09-30T06:49:26.505Z"
   },
   {
    "duration": 439,
    "start_time": "2024-09-30T06:49:26.515Z"
   },
   {
    "duration": 5,
    "start_time": "2024-09-30T06:49:26.955Z"
   },
   {
    "duration": 20,
    "start_time": "2024-09-30T06:49:26.963Z"
   },
   {
    "duration": 323,
    "start_time": "2024-09-30T06:49:26.984Z"
   },
   {
    "duration": 320,
    "start_time": "2024-09-30T06:49:27.309Z"
   },
   {
    "duration": 471,
    "start_time": "2024-09-30T06:49:27.631Z"
   },
   {
    "duration": 461,
    "start_time": "2024-09-30T06:49:28.103Z"
   },
   {
    "duration": 5,
    "start_time": "2024-09-30T06:49:28.566Z"
   },
   {
    "duration": 357,
    "start_time": "2024-09-30T06:49:28.573Z"
   },
   {
    "duration": 8,
    "start_time": "2024-09-30T06:49:28.932Z"
   },
   {
    "duration": 9,
    "start_time": "2024-09-30T06:49:28.942Z"
   }
  ],
  "kernelspec": {
   "display_name": "Python 3 (ipykernel)",
   "language": "python",
   "name": "python3"
  },
  "language_info": {
   "codemirror_mode": {
    "name": "ipython",
    "version": 3
   },
   "file_extension": ".py",
   "mimetype": "text/x-python",
   "name": "python",
   "nbconvert_exporter": "python",
   "pygments_lexer": "ipython3",
   "version": "3.12.4"
  },
  "toc": {
   "base_numbering": 1,
   "nav_menu": {},
   "number_sections": true,
   "sideBar": true,
   "skip_h1_title": true,
   "title_cell": "Table of Contents",
   "title_sidebar": "Contents",
   "toc_cell": false,
   "toc_position": {
    "height": "441.091px",
    "left": "218px",
    "top": "271.318px",
    "width": "212px"
   },
   "toc_section_display": true,
   "toc_window_display": false
  }
 },
 "nbformat": 4,
 "nbformat_minor": 4
}
