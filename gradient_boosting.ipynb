{
 "cells": [
  {
   "cell_type": "markdown",
   "metadata": {},
   "source": [
    "# Определение стоимости автомобилей"
   ]
  },
  {
   "cell_type": "markdown",
   "metadata": {},
   "source": [
    "**Описание проекта:**\n",
    "\n",
    "Сервис по продаже автомобилей с пробегом «Не бит, не крашен» разрабатывает приложение для привлечения новых клиентов. В нём можно быстро узнать рыночную стоимость своего автомобиля. В вашем распоряжении исторические данные: технические характеристики, комплектации и цены автомобилей. Вам нужно построить модель для определения стоимости. \n",
    "\n",
    "Заказчику важны:\n",
    "\n",
    "- качество предсказания;\n",
    "- скорость предсказания;\n",
    "- время обучения.\n",
    "\n",
    "**Цель проекта:**\n",
    "\n",
    "Разработать модель машинного обучения для предсказания рыночной стоимости автомобилей по их характеристикам, учитывая качество предсказаний (RMSE < 2500), а также скорость обучения и предсказания модели.\n",
    "\n",
    "**Ход исследования:**\n",
    "\n",
    "- [Загрузка данных](#загрузка) – откроем файл /datasets/autos.csv и изучим его.\n",
    "- [Предобработка данных](#предобработка) – обработаем пропуски, аномалии и удалим неинформативные признаки.\n",
    "- [Подготовка данных](#подготовка) – разделим выборки на обучающую, валидационную и тестовую.\n",
    "- [Обучение моделей](#обучение) – протестируем разные алгоритмы, включая `LightGBM`, `RndomForestRegressor` и не-бустинговую модель `LinearRegression`.\n",
    "- [Анализ моделей](#анализ) – оценим RMSE, время обучения и предсказания и выберем наиболее подходящую по критериям заказчика.\n",
    "- [Общий вывод](#общий)\n",
    "\n",
    "**Описание данных:**\n",
    "\n",
    "- `DateCrawled` — дата скачивания анкеты из базы\n",
    "- `VehicleType` — тип автомобильного кузова\n",
    "- `RegistrationYear` — год регистрации автомобиля\n",
    "- `Gearbox` — тип коробки передач\n",
    "- `Power` — мощность (л. с.)\n",
    "- `Model` — модель автомобиля\n",
    "- `Kilometer` — пробег (км)\n",
    "- `RegistrationMonth` — месяц регистрации автомобиля\n",
    "- `FuelType` — тип топлива\n",
    "- `Brand` — марка автомобиля\n",
    "- `Repaired` — была машина в ремонте или нет\n",
    "- `DateCreated` — дата создания анкеты\n",
    "- `NumberOfPictures` — количество фотографий автомобиля\n",
    "-`PostalCode` — почтовый индекс владельца анкеты (пользователя)\n",
    "- `LastSeen` — дата последней активности пользователя\n",
    "\n",
    "**Целевой признак**\n",
    "- `Price` — цена (евро)"
   ]
  },
  {
   "cell_type": "markdown",
   "metadata": {},
   "source": [
    "<a id='загрузка'></a>\n",
    "## Загрузка данных\n",
    "**Загрузка билиотек и модулей:**"
   ]
  },
  {
   "cell_type": "code",
   "execution_count": 1,
   "metadata": {},
   "outputs": [],
   "source": [
    "# Установим LightGBM\n",
    "!pip install lightgbm -q"
   ]
  },
  {
   "cell_type": "code",
   "execution_count": 2,
   "metadata": {},
   "outputs": [],
   "source": [
    "import time\n",
    "import lightgbm\n",
    "import numpy as np \n",
    "import pandas as pd   \n",
    "import seaborn as sns\n",
    "import matplotlib.pyplot as plt\n",
    "from catboost import CatBoostRegressor\n",
    "from sklearn.linear_model import LinearRegression\n",
    "from sklearn.ensemble import RandomForestRegressor \n",
    "from sklearn.model_selection import cross_val_score\n",
    "from lightgbm import LGBMRegressor, plot_importance\n",
    "from sklearn.metrics import mean_squared_error, make_scorer\n",
    "from sklearn.preprocessing import OneHotEncoder, StandardScaler, OrdinalEncoder\n",
    "from sklearn.model_selection import train_test_split, GridSearchCV  "
   ]
  },
  {
   "cell_type": "markdown",
   "metadata": {},
   "source": [
    "**Загрузка данных:**"
   ]
  },
  {
   "cell_type": "code",
   "execution_count": 3,
   "metadata": {},
   "outputs": [],
   "source": [
    "df = pd.read_csv('/datasets/autos.csv')"
   ]
  },
  {
   "cell_type": "code",
   "execution_count": 4,
   "metadata": {},
   "outputs": [
    {
     "data": {
      "text/html": [
       "<div>\n",
       "<style scoped>\n",
       "    .dataframe tbody tr th:only-of-type {\n",
       "        vertical-align: middle;\n",
       "    }\n",
       "\n",
       "    .dataframe tbody tr th {\n",
       "        vertical-align: top;\n",
       "    }\n",
       "\n",
       "    .dataframe thead th {\n",
       "        text-align: right;\n",
       "    }\n",
       "</style>\n",
       "<table border=\"1\" class=\"dataframe\">\n",
       "  <thead>\n",
       "    <tr style=\"text-align: right;\">\n",
       "      <th></th>\n",
       "      <th>DateCrawled</th>\n",
       "      <th>Price</th>\n",
       "      <th>VehicleType</th>\n",
       "      <th>RegistrationYear</th>\n",
       "      <th>Gearbox</th>\n",
       "      <th>Power</th>\n",
       "      <th>Model</th>\n",
       "      <th>Kilometer</th>\n",
       "      <th>RegistrationMonth</th>\n",
       "      <th>FuelType</th>\n",
       "      <th>Brand</th>\n",
       "      <th>Repaired</th>\n",
       "      <th>DateCreated</th>\n",
       "      <th>NumberOfPictures</th>\n",
       "      <th>PostalCode</th>\n",
       "      <th>LastSeen</th>\n",
       "    </tr>\n",
       "  </thead>\n",
       "  <tbody>\n",
       "    <tr>\n",
       "      <th>0</th>\n",
       "      <td>2016-03-24 11:52:17</td>\n",
       "      <td>480</td>\n",
       "      <td>NaN</td>\n",
       "      <td>1993</td>\n",
       "      <td>manual</td>\n",
       "      <td>0</td>\n",
       "      <td>golf</td>\n",
       "      <td>150000</td>\n",
       "      <td>0</td>\n",
       "      <td>petrol</td>\n",
       "      <td>volkswagen</td>\n",
       "      <td>NaN</td>\n",
       "      <td>2016-03-24 00:00:00</td>\n",
       "      <td>0</td>\n",
       "      <td>70435</td>\n",
       "      <td>2016-04-07 03:16:57</td>\n",
       "    </tr>\n",
       "    <tr>\n",
       "      <th>1</th>\n",
       "      <td>2016-03-24 10:58:45</td>\n",
       "      <td>18300</td>\n",
       "      <td>coupe</td>\n",
       "      <td>2011</td>\n",
       "      <td>manual</td>\n",
       "      <td>190</td>\n",
       "      <td>NaN</td>\n",
       "      <td>125000</td>\n",
       "      <td>5</td>\n",
       "      <td>gasoline</td>\n",
       "      <td>audi</td>\n",
       "      <td>yes</td>\n",
       "      <td>2016-03-24 00:00:00</td>\n",
       "      <td>0</td>\n",
       "      <td>66954</td>\n",
       "      <td>2016-04-07 01:46:50</td>\n",
       "    </tr>\n",
       "    <tr>\n",
       "      <th>2</th>\n",
       "      <td>2016-03-14 12:52:21</td>\n",
       "      <td>9800</td>\n",
       "      <td>suv</td>\n",
       "      <td>2004</td>\n",
       "      <td>auto</td>\n",
       "      <td>163</td>\n",
       "      <td>grand</td>\n",
       "      <td>125000</td>\n",
       "      <td>8</td>\n",
       "      <td>gasoline</td>\n",
       "      <td>jeep</td>\n",
       "      <td>NaN</td>\n",
       "      <td>2016-03-14 00:00:00</td>\n",
       "      <td>0</td>\n",
       "      <td>90480</td>\n",
       "      <td>2016-04-05 12:47:46</td>\n",
       "    </tr>\n",
       "    <tr>\n",
       "      <th>3</th>\n",
       "      <td>2016-03-17 16:54:04</td>\n",
       "      <td>1500</td>\n",
       "      <td>small</td>\n",
       "      <td>2001</td>\n",
       "      <td>manual</td>\n",
       "      <td>75</td>\n",
       "      <td>golf</td>\n",
       "      <td>150000</td>\n",
       "      <td>6</td>\n",
       "      <td>petrol</td>\n",
       "      <td>volkswagen</td>\n",
       "      <td>no</td>\n",
       "      <td>2016-03-17 00:00:00</td>\n",
       "      <td>0</td>\n",
       "      <td>91074</td>\n",
       "      <td>2016-03-17 17:40:17</td>\n",
       "    </tr>\n",
       "    <tr>\n",
       "      <th>4</th>\n",
       "      <td>2016-03-31 17:25:20</td>\n",
       "      <td>3600</td>\n",
       "      <td>small</td>\n",
       "      <td>2008</td>\n",
       "      <td>manual</td>\n",
       "      <td>69</td>\n",
       "      <td>fabia</td>\n",
       "      <td>90000</td>\n",
       "      <td>7</td>\n",
       "      <td>gasoline</td>\n",
       "      <td>skoda</td>\n",
       "      <td>no</td>\n",
       "      <td>2016-03-31 00:00:00</td>\n",
       "      <td>0</td>\n",
       "      <td>60437</td>\n",
       "      <td>2016-04-06 10:17:21</td>\n",
       "    </tr>\n",
       "  </tbody>\n",
       "</table>\n",
       "</div>"
      ],
      "text/plain": [
       "           DateCrawled  Price VehicleType  RegistrationYear Gearbox  Power  \\\n",
       "0  2016-03-24 11:52:17    480         NaN              1993  manual      0   \n",
       "1  2016-03-24 10:58:45  18300       coupe              2011  manual    190   \n",
       "2  2016-03-14 12:52:21   9800         suv              2004    auto    163   \n",
       "3  2016-03-17 16:54:04   1500       small              2001  manual     75   \n",
       "4  2016-03-31 17:25:20   3600       small              2008  manual     69   \n",
       "\n",
       "   Model  Kilometer  RegistrationMonth  FuelType       Brand Repaired  \\\n",
       "0   golf     150000                  0    petrol  volkswagen      NaN   \n",
       "1    NaN     125000                  5  gasoline        audi      yes   \n",
       "2  grand     125000                  8  gasoline        jeep      NaN   \n",
       "3   golf     150000                  6    petrol  volkswagen       no   \n",
       "4  fabia      90000                  7  gasoline       skoda       no   \n",
       "\n",
       "           DateCreated  NumberOfPictures  PostalCode             LastSeen  \n",
       "0  2016-03-24 00:00:00                 0       70435  2016-04-07 03:16:57  \n",
       "1  2016-03-24 00:00:00                 0       66954  2016-04-07 01:46:50  \n",
       "2  2016-03-14 00:00:00                 0       90480  2016-04-05 12:47:46  \n",
       "3  2016-03-17 00:00:00                 0       91074  2016-03-17 17:40:17  \n",
       "4  2016-03-31 00:00:00                 0       60437  2016-04-06 10:17:21  "
      ]
     },
     "execution_count": 4,
     "metadata": {},
     "output_type": "execute_result"
    }
   ],
   "source": [
    "# Проверим первые 10 строк\n",
    "df.head()"
   ]
  },
  {
   "cell_type": "code",
   "execution_count": 5,
   "metadata": {},
   "outputs": [
    {
     "name": "stdout",
     "output_type": "stream",
     "text": [
      "<class 'pandas.core.frame.DataFrame'>\n",
      "RangeIndex: 354369 entries, 0 to 354368\n",
      "Data columns (total 16 columns):\n",
      " #   Column             Non-Null Count   Dtype \n",
      "---  ------             --------------   ----- \n",
      " 0   DateCrawled        354369 non-null  object\n",
      " 1   Price              354369 non-null  int64 \n",
      " 2   VehicleType        316879 non-null  object\n",
      " 3   RegistrationYear   354369 non-null  int64 \n",
      " 4   Gearbox            334536 non-null  object\n",
      " 5   Power              354369 non-null  int64 \n",
      " 6   Model              334664 non-null  object\n",
      " 7   Kilometer          354369 non-null  int64 \n",
      " 8   RegistrationMonth  354369 non-null  int64 \n",
      " 9   FuelType           321474 non-null  object\n",
      " 10  Brand              354369 non-null  object\n",
      " 11  Repaired           283215 non-null  object\n",
      " 12  DateCreated        354369 non-null  object\n",
      " 13  NumberOfPictures   354369 non-null  int64 \n",
      " 14  PostalCode         354369 non-null  int64 \n",
      " 15  LastSeen           354369 non-null  object\n",
      "dtypes: int64(7), object(9)\n",
      "memory usage: 43.3+ MB\n"
     ]
    },
    {
     "data": {
      "text/html": [
       "<div>\n",
       "<style scoped>\n",
       "    .dataframe tbody tr th:only-of-type {\n",
       "        vertical-align: middle;\n",
       "    }\n",
       "\n",
       "    .dataframe tbody tr th {\n",
       "        vertical-align: top;\n",
       "    }\n",
       "\n",
       "    .dataframe thead th {\n",
       "        text-align: right;\n",
       "    }\n",
       "</style>\n",
       "<table border=\"1\" class=\"dataframe\">\n",
       "  <thead>\n",
       "    <tr style=\"text-align: right;\">\n",
       "      <th></th>\n",
       "      <th>Price</th>\n",
       "      <th>RegistrationYear</th>\n",
       "      <th>Power</th>\n",
       "      <th>Kilometer</th>\n",
       "      <th>RegistrationMonth</th>\n",
       "      <th>NumberOfPictures</th>\n",
       "      <th>PostalCode</th>\n",
       "    </tr>\n",
       "  </thead>\n",
       "  <tbody>\n",
       "    <tr>\n",
       "      <th>count</th>\n",
       "      <td>354369.000000</td>\n",
       "      <td>354369.000000</td>\n",
       "      <td>354369.000000</td>\n",
       "      <td>354369.000000</td>\n",
       "      <td>354369.000000</td>\n",
       "      <td>354369.0</td>\n",
       "      <td>354369.000000</td>\n",
       "    </tr>\n",
       "    <tr>\n",
       "      <th>mean</th>\n",
       "      <td>4416.656776</td>\n",
       "      <td>2004.234448</td>\n",
       "      <td>110.094337</td>\n",
       "      <td>128211.172535</td>\n",
       "      <td>5.714645</td>\n",
       "      <td>0.0</td>\n",
       "      <td>50508.689087</td>\n",
       "    </tr>\n",
       "    <tr>\n",
       "      <th>std</th>\n",
       "      <td>4514.158514</td>\n",
       "      <td>90.227958</td>\n",
       "      <td>189.850405</td>\n",
       "      <td>37905.341530</td>\n",
       "      <td>3.726421</td>\n",
       "      <td>0.0</td>\n",
       "      <td>25783.096248</td>\n",
       "    </tr>\n",
       "    <tr>\n",
       "      <th>min</th>\n",
       "      <td>0.000000</td>\n",
       "      <td>1000.000000</td>\n",
       "      <td>0.000000</td>\n",
       "      <td>5000.000000</td>\n",
       "      <td>0.000000</td>\n",
       "      <td>0.0</td>\n",
       "      <td>1067.000000</td>\n",
       "    </tr>\n",
       "    <tr>\n",
       "      <th>25%</th>\n",
       "      <td>1050.000000</td>\n",
       "      <td>1999.000000</td>\n",
       "      <td>69.000000</td>\n",
       "      <td>125000.000000</td>\n",
       "      <td>3.000000</td>\n",
       "      <td>0.0</td>\n",
       "      <td>30165.000000</td>\n",
       "    </tr>\n",
       "    <tr>\n",
       "      <th>50%</th>\n",
       "      <td>2700.000000</td>\n",
       "      <td>2003.000000</td>\n",
       "      <td>105.000000</td>\n",
       "      <td>150000.000000</td>\n",
       "      <td>6.000000</td>\n",
       "      <td>0.0</td>\n",
       "      <td>49413.000000</td>\n",
       "    </tr>\n",
       "    <tr>\n",
       "      <th>75%</th>\n",
       "      <td>6400.000000</td>\n",
       "      <td>2008.000000</td>\n",
       "      <td>143.000000</td>\n",
       "      <td>150000.000000</td>\n",
       "      <td>9.000000</td>\n",
       "      <td>0.0</td>\n",
       "      <td>71083.000000</td>\n",
       "    </tr>\n",
       "    <tr>\n",
       "      <th>max</th>\n",
       "      <td>20000.000000</td>\n",
       "      <td>9999.000000</td>\n",
       "      <td>20000.000000</td>\n",
       "      <td>150000.000000</td>\n",
       "      <td>12.000000</td>\n",
       "      <td>0.0</td>\n",
       "      <td>99998.000000</td>\n",
       "    </tr>\n",
       "  </tbody>\n",
       "</table>\n",
       "</div>"
      ],
      "text/plain": [
       "               Price  RegistrationYear          Power      Kilometer  \\\n",
       "count  354369.000000     354369.000000  354369.000000  354369.000000   \n",
       "mean     4416.656776       2004.234448     110.094337  128211.172535   \n",
       "std      4514.158514         90.227958     189.850405   37905.341530   \n",
       "min         0.000000       1000.000000       0.000000    5000.000000   \n",
       "25%      1050.000000       1999.000000      69.000000  125000.000000   \n",
       "50%      2700.000000       2003.000000     105.000000  150000.000000   \n",
       "75%      6400.000000       2008.000000     143.000000  150000.000000   \n",
       "max     20000.000000       9999.000000   20000.000000  150000.000000   \n",
       "\n",
       "       RegistrationMonth  NumberOfPictures     PostalCode  \n",
       "count      354369.000000          354369.0  354369.000000  \n",
       "mean            5.714645               0.0   50508.689087  \n",
       "std             3.726421               0.0   25783.096248  \n",
       "min             0.000000               0.0    1067.000000  \n",
       "25%             3.000000               0.0   30165.000000  \n",
       "50%             6.000000               0.0   49413.000000  \n",
       "75%             9.000000               0.0   71083.000000  \n",
       "max            12.000000               0.0   99998.000000  "
      ]
     },
     "execution_count": 5,
     "metadata": {},
     "output_type": "execute_result"
    }
   ],
   "source": [
    "# Проверка основной и статистической информации\n",
    "df.info()\n",
    "df.describe()"
   ]
  },
  {
   "cell_type": "markdown",
   "metadata": {},
   "source": [
    "- В параметрах `VehicleType`, `Gearbox`, `Model`, `FuelType`, `Repaired` есть пропуски, вохможно эти поля были необязательны к заполнению.\n",
    "- Похоже в параметре `Power` есть выбросы, так как максимальное значение больше третьего квартиля в 13 раз, а в параметре `Price` максимальное значение больше третьего квартиля в три раза. `В RegistrationYear` указан минимальный год 1000, а макс 9999 нужно порверить выбросы.\n",
    "- Ненужные параметры, которые не влияют на целевой признак нужно удалить: `DateCrawled`, `RegistrationMonth`, `DateCreated`, `NumberOfPictures`, `PostalCode`, `LastSeen`."
   ]
  },
  {
   "cell_type": "markdown",
   "metadata": {},
   "source": [
    "<a id='предобработка'></a>\n",
    "## Предобработка данных"
   ]
  },
  {
   "cell_type": "code",
   "execution_count": 6,
   "metadata": {
    "scrolled": true
   },
   "outputs": [
    {
     "name": "stdout",
     "output_type": "stream",
     "text": [
      "2016-03-05 14:06:22 2016-04-07 14:36:58\n"
     ]
    }
   ],
   "source": [
    "# Посмотрим вначале дату выгрузки анкет, преобразовав ее вначале в формат datetime\n",
    "df['DateCrawled'] = pd.to_datetime(df['DateCrawled'])\n",
    "print(df['DateCrawled'].min(), df['DateCrawled'].max())"
   ]
  },
  {
   "cell_type": "code",
   "execution_count": 7,
   "metadata": {},
   "outputs": [
    {
     "data": {
      "text/plain": [
       "4"
      ]
     },
     "execution_count": 7,
     "metadata": {},
     "output_type": "execute_result"
    }
   ],
   "source": [
    "# Проверим дубликаты\n",
    "df.duplicated().sum()"
   ]
  },
  {
   "cell_type": "code",
   "execution_count": 8,
   "metadata": {},
   "outputs": [],
   "source": [
    "# Удаляем дубликаты\n",
    "df.drop_duplicates(inplace=True)"
   ]
  },
  {
   "cell_type": "code",
   "execution_count": 9,
   "metadata": {},
   "outputs": [
    {
     "data": {
      "text/plain": [
       "DateCrawled           0.000000\n",
       "Price                 0.000000\n",
       "VehicleType          10.579487\n",
       "RegistrationYear      0.000000\n",
       "Gearbox               5.596772\n",
       "Power                 0.000000\n",
       "Model                 5.560651\n",
       "Kilometer             0.000000\n",
       "RegistrationMonth     0.000000\n",
       "FuelType              9.282802\n",
       "Brand                 0.000000\n",
       "Repaired             20.079297\n",
       "DateCreated           0.000000\n",
       "NumberOfPictures      0.000000\n",
       "PostalCode            0.000000\n",
       "LastSeen              0.000000\n",
       "dtype: float64"
      ]
     },
     "execution_count": 9,
     "metadata": {},
     "output_type": "execute_result"
    }
   ],
   "source": [
    "# Проверим долю пропусков\n",
    "df.isna().mean() * 100"
   ]
  },
  {
   "cell_type": "code",
   "execution_count": 10,
   "metadata": {
    "scrolled": true
   },
   "outputs": [
    {
     "data": {
      "text/plain": [
       "sedan          91457\n",
       "small          79830\n",
       "wagon          65165\n",
       "bus            28775\n",
       "convertible    20203\n",
       "coupe          16161\n",
       "suv            11996\n",
       "other           3288\n",
       "Name: VehicleType, dtype: int64"
      ]
     },
     "execution_count": 10,
     "metadata": {},
     "output_type": "execute_result"
    }
   ],
   "source": [
    "# Проверим уникальные значения параметра VehicleType\n",
    "df['VehicleType'].value_counts()"
   ]
  },
  {
   "cell_type": "code",
   "execution_count": 11,
   "metadata": {},
   "outputs": [],
   "source": [
    "# Заменим пропуски на other\n",
    "df['VehicleType'].fillna('other', inplace=True)"
   ]
  },
  {
   "cell_type": "code",
   "execution_count": 12,
   "metadata": {},
   "outputs": [
    {
     "data": {
      "text/plain": [
       "manual    268249\n",
       "auto       66283\n",
       "Name: Gearbox, dtype: int64"
      ]
     },
     "execution_count": 12,
     "metadata": {},
     "output_type": "execute_result"
    }
   ],
   "source": [
    "# Проверим уникальные значения Gearbox\n",
    "df['Gearbox'].value_counts()"
   ]
  },
  {
   "cell_type": "code",
   "execution_count": 13,
   "metadata": {},
   "outputs": [],
   "source": [
    "# Тогда заменим пропуски на unknown\n",
    "df['Gearbox'].fillna('unknown', inplace=True)"
   ]
  },
  {
   "cell_type": "code",
   "execution_count": 14,
   "metadata": {},
   "outputs": [
    {
     "data": {
      "text/plain": [
       "golf                  29232\n",
       "other                 24420\n",
       "3er                   19761\n",
       "polo                  13066\n",
       "corsa                 12570\n",
       "                      ...  \n",
       "serie_2                   8\n",
       "rangerover                4\n",
       "serie_3                   4\n",
       "range_rover_evoque        2\n",
       "serie_1                   2\n",
       "Name: Model, Length: 250, dtype: int64"
      ]
     },
     "execution_count": 14,
     "metadata": {},
     "output_type": "execute_result"
    }
   ],
   "source": [
    "# Проверим уникальные значения Model\n",
    "df['Model'].value_counts()"
   ]
  },
  {
   "cell_type": "code",
   "execution_count": 15,
   "metadata": {},
   "outputs": [],
   "source": [
    "# Тогда заменим пропуски на other\n",
    "df['Model'].fillna('other', inplace=True)"
   ]
  },
  {
   "cell_type": "code",
   "execution_count": 16,
   "metadata": {},
   "outputs": [
    {
     "data": {
      "text/plain": [
       "petrol      216349\n",
       "gasoline     98719\n",
       "lpg           5310\n",
       "cng            565\n",
       "hybrid         233\n",
       "other          204\n",
       "electric        90\n",
       "Name: FuelType, dtype: int64"
      ]
     },
     "execution_count": 16,
     "metadata": {},
     "output_type": "execute_result"
    }
   ],
   "source": [
    "# Проверим уникальные значения FuelType\n",
    "df['FuelType'].value_counts()"
   ]
  },
  {
   "cell_type": "code",
   "execution_count": 17,
   "metadata": {},
   "outputs": [],
   "source": [
    "# Переименуем gasoline в petrol, поскольку оба означают \"бензин\"\n",
    "df['FuelType'] = df['FuelType'].replace(['gasoline'], 'petrol')\n",
    "\n",
    "# Заполним пропуски значением other\n",
    "df['FuelType'].fillna('other', inplace=True)"
   ]
  },
  {
   "cell_type": "code",
   "execution_count": 18,
   "metadata": {},
   "outputs": [],
   "source": [
    "# Заполним пропуски значением other в параметре Repaired\n",
    "df['Repaired'].fillna('other', inplace=True)"
   ]
  },
  {
   "cell_type": "code",
   "execution_count": 19,
   "metadata": {
    "scrolled": true
   },
   "outputs": [
    {
     "data": {
      "text/plain": [
       "DateCrawled          0\n",
       "Price                0\n",
       "VehicleType          0\n",
       "RegistrationYear     0\n",
       "Gearbox              0\n",
       "Power                0\n",
       "Model                0\n",
       "Kilometer            0\n",
       "RegistrationMonth    0\n",
       "FuelType             0\n",
       "Brand                0\n",
       "Repaired             0\n",
       "DateCreated          0\n",
       "NumberOfPictures     0\n",
       "PostalCode           0\n",
       "LastSeen             0\n",
       "dtype: int64"
      ]
     },
     "execution_count": 19,
     "metadata": {},
     "output_type": "execute_result"
    }
   ],
   "source": [
    "# Повторная проверка пропусков\n",
    "df.isna().sum()"
   ]
  },
  {
   "cell_type": "code",
   "execution_count": 20,
   "metadata": {},
   "outputs": [
    {
     "data": {
      "text/plain": [
       "array([1993, 2011, 2004, 2001, 2008, 1995, 1980, 2014, 1998, 2005, 1910,\n",
       "       2016, 2007, 2009, 2002, 2018, 1997, 1990, 2017, 1981, 2003, 1994,\n",
       "       1991, 1984, 2006, 1999, 2012, 2010, 2000, 1992, 2013, 1996, 1985,\n",
       "       1989, 2015, 1982, 1976, 1983, 1973, 1111, 1969, 1971, 1987, 1986,\n",
       "       1988, 1970, 1965, 1945, 1925, 1974, 1979, 1955, 1978, 1972, 1968,\n",
       "       1977, 1961, 1960, 1966, 1975, 1963, 1964, 5000, 1954, 1958, 1967,\n",
       "       1959, 9999, 1956, 3200, 1000, 1941, 8888, 1500, 2200, 4100, 1962,\n",
       "       1929, 1957, 1940, 3000, 2066, 1949, 2019, 1937, 1951, 1800, 1953,\n",
       "       1234, 8000, 5300, 9000, 2900, 6000, 5900, 5911, 1933, 1400, 1950,\n",
       "       4000, 1948, 1952, 1200, 8500, 1932, 1255, 3700, 3800, 4800, 1942,\n",
       "       7000, 1935, 1936, 6500, 1923, 2290, 2500, 1930, 1001, 9450, 1944,\n",
       "       1943, 1934, 1938, 1688, 2800, 1253, 1928, 1919, 5555, 5600, 1600,\n",
       "       2222, 1039, 9996, 1300, 8455, 1931, 1915, 4500, 1920, 1602, 7800,\n",
       "       9229, 1947, 1927, 7100, 8200, 1946, 7500, 3500])"
      ]
     },
     "execution_count": 20,
     "metadata": {},
     "output_type": "execute_result"
    }
   ],
   "source": [
    "# Проверим уникальные значения RegistrationYear\n",
    "df['RegistrationYear'].unique()"
   ]
  },
  {
   "cell_type": "code",
   "execution_count": 21,
   "metadata": {
    "scrolled": false
   },
   "outputs": [
    {
     "data": {
      "text/plain": [
       "array([1993, 2011, 2004, 2001, 2008, 1995, 1980, 2014, 1998, 2005, 1910,\n",
       "       2016, 2007, 2009, 2002, 1997, 1990, 1981, 2003, 1994, 1991, 1984,\n",
       "       2006, 1999, 2012, 2010, 2000, 1992, 2013, 1996, 1985, 1989, 2015,\n",
       "       1982, 1976, 1983, 1973, 1969, 1971, 1987, 1986, 1988, 1970, 1965,\n",
       "       1945, 1925, 1974, 1979, 1955, 1978, 1972, 1968, 1977, 1961, 1960,\n",
       "       1966, 1975, 1963, 1964, 1954, 1958, 1967, 1959, 1956, 1941, 1962,\n",
       "       1929, 1957, 1940, 1949, 1937, 1951, 1953, 1933, 1950, 1948, 1952,\n",
       "       1932, 1942, 1935, 1936, 1923, 1930, 1944, 1943, 1934, 1938, 1928,\n",
       "       1919, 1931, 1915, 1920, 1947, 1927, 1946])"
      ]
     },
     "execution_count": 21,
     "metadata": {},
     "output_type": "execute_result"
    }
   ],
   "source": [
    "# Удалим данные до 1900 и после 2016\n",
    "df = df.loc[(df['RegistrationYear'] <= 2016) & (df['RegistrationYear'] >= 1900)]\n",
    "\n",
    "# Снова проверим уникальные значения RegistrationYear\n",
    "df['RegistrationYear'].unique()"
   ]
  },
  {
   "cell_type": "markdown",
   "metadata": {},
   "source": [
    "У нас разный возраст машин. Есть гипотеза, что для разных возрастов - своё ценообразование. Поэтому определим возраст машин и посмотрим на распределение, чтобы выделить категории для нового параметра."
   ]
  },
  {
   "cell_type": "code",
   "execution_count": 22,
   "metadata": {},
   "outputs": [],
   "source": [
    "# Преобразуем RegistrationYear в datetime\n",
    "df['RegistrationYear'] = pd.to_datetime(df['RegistrationYear'], format='%Y')\n",
    "\n",
    "# Вводим новый признак Age (теперь вычитаем datetime из datetime)\n",
    "df['Age'] = (df['DateCrawled'] - df['RegistrationYear']).dt.days / 365.25 # в годах"
   ]
  },
  {
   "cell_type": "code",
   "execution_count": 23,
   "metadata": {},
   "outputs": [
    {
     "data": {
      "image/png": "[encoded data removed]",
      "text/plain": [
       "<Figure size 720x432 with 1 Axes>"
      ]
     },
     "metadata": {
      "needs_background": "light"
     },
     "output_type": "display_data"
    }
   ],
   "source": [
    "plt.figure(figsize=(10, 6))\n",
    "sns.histplot(df['Age'], bins=30)  # bins - количество интервалов\n",
    "plt.title('Распределение возраста автомобилей')\n",
    "plt.xlabel('Возраст (годы)')\n",
    "plt.ylabel('Количество автомобилей')\n",
    "plt.show()"
   ]
  },
  {
   "cell_type": "markdown",
   "metadata": {},
   "source": [
    "- Выраженный пик в диапазоне 0-20 лет, значит большинство автомобилей в выборке относительно \"молодые\".\n",
    "- Несколько менее выраженных пиков или подъемов можно заметить в районе 20-40 лет и далее.\n",
    "- Длинный \"хвост\" вправо, что указывает на наличие небольшого количества автомобилей очень почтенного возраста."
   ]
  },
  {
   "cell_type": "code",
   "execution_count": 24,
   "metadata": {},
   "outputs": [],
   "source": [
    "# Создадим новые категории для Age\n",
    "bins = [0, 4, 8, 12, 21, 31, df['Age'].max()]  # Границы категорий\n",
    "labels = ['new', 'fresh', 'used', 'used +', 'old', 'retro']  # Названия категорий\n",
    "\n",
    "df['Age'] = pd.cut(df['Age'], bins=bins, labels=labels, right=False)"
   ]
  },
  {
   "cell_type": "markdown",
   "metadata": {},
   "source": [
    "Тогда удалим RegistrationYear, чтобы избежать мультиколлеарности."
   ]
  },
  {
   "cell_type": "code",
   "execution_count": 25,
   "metadata": {},
   "outputs": [],
   "source": [
    "df = df.drop('RegistrationYear', axis=1)"
   ]
  },
  {
   "cell_type": "code",
   "execution_count": 26,
   "metadata": {
    "scrolled": false
   },
   "outputs": [
    {
     "data": {
      "text/plain": [
       "DateCrawled          0\n",
       "Price                0\n",
       "VehicleType          0\n",
       "Gearbox              0\n",
       "Power                0\n",
       "Model                0\n",
       "Kilometer            0\n",
       "RegistrationMonth    0\n",
       "FuelType             0\n",
       "Brand                0\n",
       "Repaired             0\n",
       "DateCreated          0\n",
       "NumberOfPictures     0\n",
       "PostalCode           0\n",
       "LastSeen             0\n",
       "Age                  1\n",
       "dtype: int64"
      ]
     },
     "execution_count": 26,
     "metadata": {},
     "output_type": "execute_result"
    }
   ],
   "source": [
    "# Повторная проверка пропусков\n",
    "df.isna().sum()"
   ]
  },
  {
   "cell_type": "code",
   "execution_count": 27,
   "metadata": {},
   "outputs": [],
   "source": [
    "# Удаляем строки с пропущенными значениями в столбце 'Age'\n",
    "df.dropna(subset=['Age'], inplace=True)"
   ]
  },
  {
   "cell_type": "code",
   "execution_count": 28,
   "metadata": {
    "scrolled": true
   },
   "outputs": [
    {
     "data": {
      "image/png": "[encoded data removed]",
      "text/plain": [
       "<Figure size 576x432 with 1 Axes>"
      ]
     },
     "metadata": {
      "needs_background": "light"
     },
     "output_type": "display_data"
    }
   ],
   "source": [
    "# Проверим параметр Power на выбросы с помощью Боксплот\n",
    "plt.figure(figsize=(8, 6))\n",
    "sns.boxplot(x=df['Power'], color='lightgreen')\n",
    "\n",
    "plt.title('Боксплот для Power')\n",
    "plt.xlabel('Мощность')\n",
    "plt.show()"
   ]
  },
  {
   "cell_type": "code",
   "execution_count": 29,
   "metadata": {},
   "outputs": [],
   "source": [
    "# Заполняем 0 медианой\n",
    "df['Power'] = df['Power'].mask(df['Power'] == 0, df['Power'].median())"
   ]
  },
  {
   "cell_type": "code",
   "execution_count": 30,
   "metadata": {},
   "outputs": [],
   "source": [
    "# Теперь ограничим данные до 1000 л.с., так как значения выше это суперкары, и аномалий\n",
    "# Удаляем значения выше 1500\n",
    "df = df.query('Power <= 1000')"
   ]
  },
  {
   "cell_type": "code",
   "execution_count": 31,
   "metadata": {
    "scrolled": true
   },
   "outputs": [
    {
     "data": {
      "image/png": "[encoded data removed]",
      "text/plain": [
       "<Figure size 576x432 with 1 Axes>"
      ]
     },
     "metadata": {
      "needs_background": "light"
     },
     "output_type": "display_data"
    }
   ],
   "source": [
    "plt.figure(figsize=(8, 6))\n",
    "sns.boxplot(x=df['Power'], color='lightgreen')\n",
    "\n",
    "plt.title('Боксплот для Power')\n",
    "plt.xlabel('Мощность')\n",
    "plt.show()"
   ]
  },
  {
   "cell_type": "code",
   "execution_count": 32,
   "metadata": {},
   "outputs": [
    {
     "data": {
      "text/plain": [
       "<AxesSubplot:>"
      ]
     },
     "execution_count": 32,
     "metadata": {},
     "output_type": "execute_result"
    },
    {
     "data": {
      "image/png": "[encoded data removed]",
      "text/plain": [
       "<Figure size 1440x360 with 1 Axes>"
      ]
     },
     "metadata": {
      "needs_background": "light"
     },
     "output_type": "display_data"
    }
   ],
   "source": [
    "# Удалим 0 из целевого признака\n",
    "df = df.query('Price > 0')\n",
    "\n",
    "# Посмотрим на распределение целевого признака \n",
    "df['Price'].hist(bins=300, figsize=(20,5))"
   ]
  },
  {
   "cell_type": "code",
   "execution_count": 33,
   "metadata": {
    "scrolled": true
   },
   "outputs": [
    {
     "data": {
      "text/plain": [
       "<function matplotlib.pyplot.show(close=None, block=None)>"
      ]
     },
     "execution_count": 33,
     "metadata": {},
     "output_type": "execute_result"
    },
    {
     "data": {
      "image/png": "[encoded data removed]",
      "text/plain": [
       "<Figure size 576x432 with 1 Axes>"
      ]
     },
     "metadata": {
      "needs_background": "light"
     },
     "output_type": "display_data"
    }
   ],
   "source": [
    "# Построим боксплот\n",
    "plt.figure(figsize=(8, 6))\n",
    "sns.boxplot(x=df['Price'], color='lightgreen')\n",
    "           \n",
    "plt.title('Боксплот для Price')\n",
    "plt.xlabel('Цена')\n",
    "plt.show"
   ]
  },
  {
   "cell_type": "markdown",
   "metadata": {},
   "source": [
    "Присутсвуют выбросы после 1500, но оставим их."
   ]
  },
  {
   "cell_type": "code",
   "execution_count": 34,
   "metadata": {},
   "outputs": [],
   "source": [
    "# Удалим ненужные параметры\n",
    "df.drop(columns=['DateCrawled', 'RegistrationMonth', 'DateCreated', 'NumberOfPictures', 'PostalCode', 'LastSeen'], axis=1, inplace=True)"
   ]
  },
  {
   "cell_type": "code",
   "execution_count": 35,
   "metadata": {},
   "outputs": [
    {
     "data": {
      "text/plain": [
       "65342"
      ]
     },
     "execution_count": 35,
     "metadata": {},
     "output_type": "execute_result"
    }
   ],
   "source": [
    "# Проверим снова на дубликаты\n",
    "df.duplicated().sum()"
   ]
  },
  {
   "cell_type": "code",
   "execution_count": 36,
   "metadata": {},
   "outputs": [
    {
     "data": {
      "text/plain": [
       "0"
      ]
     },
     "execution_count": 36,
     "metadata": {},
     "output_type": "execute_result"
    }
   ],
   "source": [
    "# Удалим дубликаты и сбросим старую индексикацию\n",
    "df = df.drop_duplicates().reset_index(drop=True)\n",
    "df.duplicated().sum()"
   ]
  },
  {
   "cell_type": "markdown",
   "metadata": {},
   "source": [
    "**Выводы:**\n",
    "- Были проверены и удалены дубликаты.\n",
    "- Были обнаружены пропуски в `VehicleType`, `Gearbox`, `Model`, `FuelType`, `Repaired`, где пропуски были заменены на `other` в `VehicleType`, `Model`, `FuelType`, `Repaired`, и на `unknown` в `Gearbox`.\n",
    "- Были ограничены значения параметра `Power` между 25 и 1000 л.с.\n",
    "- Были огранечены значения параметра `RegistrationYear` между 1900 и 2016. Затем `DateCrawled` и `RegistrationYear` были переведены в формат даты с помощью to_datetime, чтобы найти их разницу и добавить новый признак `Age` с категорями 'new', 'fresh', 'used', 'used +', 'old', 'retro', после изучения распределения `Age`.\n",
    "- Была удалена 0.05 нижней квантили параметра `Price`.\n",
    "- Были удалены ненужные признаки, которые никак не влияют на целевой - `DateCrawled`, `RegistrationMonth`, `DateCreated`, `NumberOfPictures`, `PostalCode`, `LastSeen`.\n",
    "- Были проверены и удалены дубликаты."
   ]
  },
  {
   "cell_type": "markdown",
   "metadata": {},
   "source": [
    "<a id='подготовка'></a>\n",
    "## Подготовка данных"
   ]
  },
  {
   "cell_type": "markdown",
   "metadata": {},
   "source": [
    "Модель LinearRegression требует кодировки категориальных данных с помощью One-Hot Encoding (OHE) и масштабирования числовых данных с помощью StandardScaler, потому что она чувствительна к масштабу признаков и не работает с категориальными переменными в текстовом формате."
   ]
  },
  {
   "cell_type": "code",
   "execution_count": 37,
   "metadata": {},
   "outputs": [],
   "source": [
    "# Отделим таргет от целевой переменной\n",
    "X = df.drop('Price', axis=1)\n",
    "y = df['Price']\n",
    "\n",
    "# Закодируем номинальные категориальные данные с помощью OneHotEncoder\n",
    "# Создаем лист из категориальных праметров\n",
    "categorical_features = ['VehicleType', 'Age', 'Gearbox', 'Model', 'FuelType', 'Brand', 'Repaired']\n",
    "\n",
    "# Создаем список из числовых признаков\n",
    "numerical_features = ['Power', 'Kilometer']\n",
    "\n",
    "# Разделяем данные на обучающую и тестовую выборки (test_size=0.25)\n",
    "X_train, X_test, y_train, y_test = train_test_split(X, y, test_size=0.25, random_state=12345)\n",
    "\n",
    "ohe_encoder = OneHotEncoder(sparse=False, handle_unknown='ignore')\n",
    "\n",
    "# Кодируем только на train, затем transform для test\n",
    "X_train_ohe = ohe_encoder.fit_transform(X_train[categorical_features])\n",
    "X_test_ohe = ohe_encoder.transform(X_test[categorical_features])\n",
    "\n",
    "# Преобразуем в DataFrame\n",
    "X_train_ohe = pd.DataFrame(X_train_ohe, columns=ohe_encoder.get_feature_names(), index=X_train.index)\n",
    "X_test_ohe = pd.DataFrame(X_test_ohe, columns=ohe_encoder.get_feature_names(), index=X_test.index)\n",
    "\n",
    "# Удаляем старые категориальные признаки и добавляем закодированные\n",
    "X_train_linear = X_train.drop(columns=categorical_features)\n",
    "X_test_linear = X_test.drop(columns=categorical_features)\n",
    "\n",
    "X_train_linear = pd.concat([X_train_linear, X_train_ohe], axis=1)\n",
    "X_test_linear = pd.concat([X_test_linear, X_test_ohe], axis=1)\n",
    "\n",
    "# Стандартизация числовых признаков\n",
    "scaler = StandardScaler()\n",
    "X_train_linear[numerical_features] = scaler.fit_transform(X_train_linear[numerical_features])\n",
    "X_test_linear[numerical_features] = scaler.transform(X_test_linear[numerical_features])"
   ]
  },
  {
   "cell_type": "code",
   "execution_count": 38,
   "metadata": {},
   "outputs": [],
   "source": [
    "# OrdinalEncoder для моделей деревьев\n",
    "ordinal_encoder = OrdinalEncoder(handle_unknown='use_encoded_value', unknown_value=-1)\n",
    "\n",
    "# Кодируем train и transform для test\n",
    "X_train_oe = X_train.copy()\n",
    "X_test_oe = X_test.copy()\n",
    "\n",
    "X_train_oe[categorical_features] = ordinal_encoder.fit_transform(X_train[categorical_features])\n",
    "X_test_oe[categorical_features] = ordinal_encoder.transform(X_test[categorical_features])"
   ]
  },
  {
   "cell_type": "markdown",
   "metadata": {},
   "source": [
    "<a id='обучение'></a>\n",
    "## Обучение моделей"
   ]
  },
  {
   "cell_type": "markdown",
   "metadata": {},
   "source": [
    "**Модель Linear Regression**"
   ]
  },
  {
   "cell_type": "code",
   "execution_count": 39,
   "metadata": {
    "scrolled": true
   },
   "outputs": [
    {
     "name": "stdout",
     "output_type": "stream",
     "text": [
      "Время обучения: 19.93 сек\n",
      "Время предсказания: 0.20 сек\n",
      "Среднее RMSE на кросс-валидации: 27560660200.31\n"
     ]
    }
   ],
   "source": [
    "# Обучим модель линейной регрессии и замерим время\n",
    "start_time = time.time()\n",
    "model_lr = LinearRegression()\n",
    "model_lr.fit(X_train_linear, y_train)\n",
    "train_time_lr = time.time() - start_time\n",
    "\n",
    "# Время предсказания\n",
    "start_time = time.time()\n",
    "y_pred = model_lr.predict(X_train_linear)\n",
    "predict_time_lr = time.time() - start_time\n",
    "\n",
    "# Создаем кастомную метрику RMSE\n",
    "rmse_scorer = make_scorer(mean_squared_error, squared=False)\n",
    "\n",
    "# # RMSE на кросс-валидации \n",
    "cv_scores_lr = cross_val_score(model_lr, X_train_linear, y_train, cv=5, scoring=rmse_scorer)\n",
    "cv_rmse_lr = np.mean(cv_scores_lr)\n",
    "\n",
    "# Вывод результатов\n",
    "print(f\"Время обучения: {train_time_lr:.2f} сек\")\n",
    "print(f\"Время предсказания: {predict_time_lr:.2f} сек\")\n",
    "print(f\"Среднее RMSE на кросс-валидации: {cv_rmse_lr:.2f}\")"
   ]
  },
  {
   "cell_type": "markdown",
   "metadata": {},
   "source": [
    "Какой-то нереальный показатель средней RMSE..."
   ]
  },
  {
   "cell_type": "markdown",
   "metadata": {},
   "source": [
    "**Модель RandomForestRegressor**"
   ]
  },
  {
   "cell_type": "code",
   "execution_count": 40,
   "metadata": {},
   "outputs": [
    {
     "name": "stdout",
     "output_type": "stream",
     "text": [
      "Время обучения: 46.48 сек\n",
      "Время предсказания: 8.36 сек\n",
      "RMSE: 1947.65\n"
     ]
    }
   ],
   "source": [
    "# Замеряем время обучения\n",
    "start_time = time.time()\n",
    "\n",
    "# Испозуем сперва RandomForestRegressor с параметрами по умолчанию\n",
    "rf = RandomForestRegressor(random_state=12345, n_jobs=-1)\n",
    "rf.fit(X_train_oe, y_train)\n",
    "train_time_rf = time.time() - start_time\n",
    "\n",
    "# Замеряем время предсказания\n",
    "start_time = time.time()\n",
    "rf.predict(X_train_oe)\n",
    "pred_time_rf = time.time() - start_time\n",
    "\n",
    "# Оценка качества модели\n",
    "# Кросс-валидация RMSE\n",
    "cv_scores_rfr = cross_val_score(rf, X_train_oe, y_train, cv=5, scoring=rmse_scorer)\n",
    "cv_rmse_rfr = np.mean(cv_scores_rfr)\n",
    "\n",
    "print(f\"Время обучения: {train_time_rf:.2f} сек\")\n",
    "print(f\"Время предсказания: {pred_time_rf:.2f} сек\")\n",
    "print(f\"RMSE: {cv_rmse_rfr:.2f}\")"
   ]
  },
  {
   "cell_type": "markdown",
   "metadata": {},
   "source": [
    "Тут у RandomForestRegressor дела получше, RMSE: 1947.65, что ниже 2500."
   ]
  },
  {
   "cell_type": "markdown",
   "metadata": {},
   "source": [
    "**Модель LightGBM**"
   ]
  },
  {
   "cell_type": "code",
   "execution_count": 41,
   "metadata": {
    "scrolled": true
   },
   "outputs": [
    {
     "name": "stdout",
     "output_type": "stream",
     "text": [
      "Лучшие параметры: {'learning_rate': 0.2, 'num_leaves': 150, 'random_state': 12345}\n",
      "Время подбора гиперпараметров: 2123.63 сек\n"
     ]
    }
   ],
   "source": [
    "# Определяем модель\n",
    "model_lgbmr = LGBMRegressor()\n",
    "\n",
    "# Гиперпараметры для подбора\n",
    "parameters = {\n",
    "    'num_leaves': [100, 150],  \n",
    "    'learning_rate': [0.2, 0.4, 0.5, 0.8],  \n",
    "    'random_state': [12345]\n",
    "}\n",
    "\n",
    "# Подбор гиперпараметров\n",
    "clf = GridSearchCV(model_lgbmr, parameters, scoring='neg_mean_squared_error', cv=5, n_jobs=-1)\n",
    "\n",
    "# Замер времени обучения GridSearch\n",
    "start_time = time.time()\n",
    "clf.fit(X_train_oe, y_train)\n",
    "gridsearch_time_gbm = time.time() - start_time\n",
    "\n",
    "# Вывод лучших параметров\n",
    "best_params_gbm = clf.best_params_\n",
    "print(f\"Лучшие параметры: {best_params_gbm}\")\n",
    "print(f\"Время подбора гиперпараметров: {gridsearch_time_gbm:.2f} сек\")"
   ]
  },
  {
   "cell_type": "code",
   "execution_count": 42,
   "metadata": {
    "scrolled": true
   },
   "outputs": [
    {
     "name": "stdout",
     "output_type": "stream",
     "text": [
      "Время обучения модели: 9.40 сек\n",
      "Время предсказания: 1.81 сек\n",
      "RMSE модели LightGBM: 1865.20\n"
     ]
    }
   ],
   "source": [
    "# Обучение модели с найденными параметрами\n",
    "best_model = LGBMRegressor(**best_params_gbm)\n",
    "\n",
    "start_train_time = time.time()\n",
    "best_model.fit(X_train_oe, y_train)\n",
    "train_time_gbm = time.time() - start_train_time\n",
    "\n",
    "# Замер времени предсказания\n",
    "start_pred_time = time.time()\n",
    "best_model.predict(X_train_oe)\n",
    "pred_time_gbm = time.time() - start_pred_time\n",
    "\n",
    "# Оценка качества модели\n",
    "# Кросс-валидация RMSE\n",
    "cv_scores_gbm = cross_val_score(best_model, X_train_oe, y_train, cv=5, scoring=rmse_scorer)\n",
    "cv_rmse_gbm = np.mean(cv_scores_gbm)\n",
    "\n",
    "\n",
    "print(f\"Время обучения модели: {train_time_gbm:.2f} сек\")\n",
    "print(f\"Время предсказания: {pred_time_gbm:.2f} сек\")\n",
    "print(f\"RMSE модели LightGBM: {cv_rmse_gbm:.2f}\")"
   ]
  },
  {
   "cell_type": "markdown",
   "metadata": {},
   "source": [
    "<a id='анализ'></a>\n",
    "## Анализ моделей"
   ]
  },
  {
   "cell_type": "markdown",
   "metadata": {},
   "source": [
    "Создадим таблицу для сравнения моделей по критериям."
   ]
  },
  {
   "cell_type": "code",
   "execution_count": 43,
   "metadata": {
    "scrolled": true
   },
   "outputs": [
    {
     "data": {
      "text/html": [
       "<div>\n",
       "<style scoped>\n",
       "    .dataframe tbody tr th:only-of-type {\n",
       "        vertical-align: middle;\n",
       "    }\n",
       "\n",
       "    .dataframe tbody tr th {\n",
       "        vertical-align: top;\n",
       "    }\n",
       "\n",
       "    .dataframe thead th {\n",
       "        text-align: right;\n",
       "    }\n",
       "</style>\n",
       "<table border=\"1\" class=\"dataframe\">\n",
       "  <thead>\n",
       "    <tr style=\"text-align: right;\">\n",
       "      <th></th>\n",
       "      <th>Модель</th>\n",
       "      <th>Время обучения (сек)</th>\n",
       "      <th>Время предсказания (сек)</th>\n",
       "      <th>RMSE</th>\n",
       "    </tr>\n",
       "  </thead>\n",
       "  <tbody>\n",
       "    <tr>\n",
       "      <th>0</th>\n",
       "      <td>Linear Regression</td>\n",
       "      <td>19.93</td>\n",
       "      <td>0.20</td>\n",
       "      <td>27560660200.31</td>\n",
       "    </tr>\n",
       "    <tr>\n",
       "      <th>1</th>\n",
       "      <td>RandomForestRegressor</td>\n",
       "      <td>46.48</td>\n",
       "      <td>8.36</td>\n",
       "      <td>1947.65</td>\n",
       "    </tr>\n",
       "    <tr>\n",
       "      <th>2</th>\n",
       "      <td>LightGBM</td>\n",
       "      <td>9.40</td>\n",
       "      <td>1.81</td>\n",
       "      <td>1865.20</td>\n",
       "    </tr>\n",
       "  </tbody>\n",
       "</table>\n",
       "</div>"
      ],
      "text/plain": [
       "                  Модель  Время обучения (сек)  Время предсказания (сек)  \\\n",
       "0      Linear Regression                 19.93                      0.20   \n",
       "1  RandomForestRegressor                 46.48                      8.36   \n",
       "2               LightGBM                  9.40                      1.81   \n",
       "\n",
       "            RMSE  \n",
       "0 27560660200.31  \n",
       "1        1947.65  \n",
       "2        1865.20  "
      ]
     },
     "execution_count": 43,
     "metadata": {},
     "output_type": "execute_result"
    }
   ],
   "source": [
    "# Устанавливаем формат отображения чисел с плавающей точкой\n",
    "pd.set_option('display.float_format', '{:.2f}'.format)  # 2 знака после запятой\n",
    "\n",
    "# Данные\n",
    "data = {\n",
    "    \"Модель\": [\"Linear Regression\", \"RandomForestRegressor\", \"LightGBM\"],\n",
    "    \"Время обучения (сек)\": [train_time_lr, train_time_rf, train_time_gbm],\n",
    "    \"Время предсказания (сек)\": [predict_time_lr, pred_time_rf, pred_time_gbm],\n",
    "    \"RMSE\": [cv_rmse_lr, cv_rmse_rfr, cv_rmse_gbm]\n",
    "}\n",
    "\n",
    "# Создание таблицы\n",
    "data_df= pd.DataFrame(data)\n",
    "data_df"
   ]
  },
  {
   "cell_type": "markdown",
   "metadata": {},
   "source": [
    "**Качество предсказания (RMSE):**\n",
    "\n",
    "- Наилучшее качество демонстрирует модель LightGBM с RMSE 1865.20.\n",
    "- RandomForestRegressor незначительно уступает LightGBM, показывая RMSE 1947.65.\n",
    "- Модель Linear Regression демонстрирует значительно худшее качество (RMSE 27560660200.31) и, следовательно, неприемлема для данной задачи.\n",
    "\n",
    "**Время обучения:**\n",
    "\n",
    "- Самая быстрая модель — LightGBM (7.59\t сек).\n",
    "- Linear Regression (19.18 сек) обучается быстрее, чем RandomForestRegressor (40.62 сек).\n",
    "\n",
    "**Время предсказания:**\n",
    "\n",
    "- Linear Regression работает быстрее всех (0.11 сек), но из-за низкого качества предсказаний это не даёт преимуществ.\n",
    "- LightGBM предсказывает в 4 раза быстрее, чем RandomForestRegressor (1.80 сек против 7.15 сек).\n",
    "\n",
    "По критериям заказчика (качество предсказания, скорость предсказания, время обучения) наилучшей моделью является LightGBM. Linear Regression не подходит, так как RMSE слишком высокое. RandomForestRegressor показывает хороший результат, но проигрывает LightGBM по скорости предсказания и обучению."
   ]
  },
  {
   "cell_type": "code",
   "execution_count": 44,
   "metadata": {
    "scrolled": false
   },
   "outputs": [
    {
     "data": {
      "text/plain": [
       "'RMSE на тестовых данных: 1853.32'"
      ]
     },
     "execution_count": 44,
     "metadata": {},
     "output_type": "execute_result"
    }
   ],
   "source": [
    "# Теперь сделаем предсказание на основе тестовых данных и посмотрим на RMSE\n",
    "y_pred_test = best_model.predict(X_test_oe)\n",
    "rmse_test = mean_squared_error(y_test, y_pred_test, squared=False)\n",
    "f\"RMSE на тестовых данных: {rmse_test:.2f}\""
   ]
  },
  {
   "cell_type": "markdown",
   "metadata": {},
   "source": [
    "Отлично, это удовлетворяет условие задачи RMSE < 2500. Теперь посмотрим на важность признаков."
   ]
  },
  {
   "cell_type": "code",
   "execution_count": 45,
   "metadata": {
    "scrolled": true
   },
   "outputs": [
    {
     "data": {
      "image/png": "[encoded data removed]",
      "text/plain": [
       "<Figure size 432x288 with 1 Axes>"
      ]
     },
     "metadata": {
      "needs_background": "light"
     },
     "output_type": "display_data"
    }
   ],
   "source": [
    "# Важность признаков\n",
    "plot_importance(best_model, height=0.5)\n",
    "plt.title('Важность признаков LightGBM')\n",
    "plt.show()"
   ]
  },
  {
   "cell_type": "markdown",
   "metadata": {},
   "source": [
    "- Лидирующий параметр `Power`\n",
    "- Далее по убываниб с небольшим отрывом идут признаки: `Model`, `Brand`, `Age`, `Kilometer`, `VehicleType`.\n",
    "- Наименее важные признаки `Repaired`, `Gearbox`, `FuelType`."
   ]
  },
  {
   "cell_type": "markdown",
   "metadata": {},
   "source": [
    "<a id='общий'></a>\n",
    "## Общий вывод"
   ]
  },
  {
   "cell_type": "markdown",
   "metadata": {},
   "source": [
    "В ходе исследования был проведен анализ данных о продаже подержанных автомобилей с целью разработки модели для определения их рыночной стоимости.\n",
    "\n",
    "**Предобработка данных:**\n",
    "\n",
    "- Выявлены и обработаны пропуски в признаках `VehicleType`, `Gearbox`, `Model`, `FuelType` и `Repaired` путем заполнения их значениями 'other' или 'unknown'.\n",
    "- Обработаны выбросы в признаках `Power` (ограничение сверху до 1000 л.с.) и `Price` (удаление 0.05 нижней квантили), учитывая, что максимальные значения могли быть корректными, но редкими случаями.\n",
    "- Проверены и удалены выбросы в `RegistrationYear` (значения до 1900 и после 2016 года).\n",
    "- На основе `RegistrationYear` и `DateCrawled` (год скачивания анкеты) был создан новый признак `Age` (возраст автомобиля), категоризированный на группы 'new', 'fresh', 'used', 'used +', 'old' и 'retro' после изучения распределения возраста. \n",
    "- Для дальнейшего анализа были удалены неинформативные признаки, такие как `DateCrawled`, `RegistrationYear`, `RegistrationMonth`, `DateCreated`, `NumberOfPictures`, `PostalCode` и `LastSeen`.\n",
    "- Дубликаты записей были проверены и удалены.\n",
    "\n",
    "**Обучение моделей:**\n",
    "\n",
    "- Данные были разделены на обучающую и тестовую выборки в соотношении 75:25.\n",
    "- Для обучения и анализа были использованы модели `Linear Regression`, `RandomForestRegressor` и `LightGBM`.\n",
    "- Для `Linear Regression` было применено `One-Hot Encoding` категориальных признаков и масштабирование числовых признаков.\n",
    "- Для `RandomForestRegressor` использовано кодирование категориальных признаков.\n",
    "- Модель `LightGBM` обучалась на категориальных признаках, приведенных к типу category.\n",
    "\n",
    "**Анализ моделей и результаты:**\n",
    "\n",
    "- *Качество предсказания (RMSE)*: Лучшее качество показала модель `LightGBM (RMSE 1865.20)`, незначительно опередив `RandomForestRegressor (RMSE 1947.65)`. `Linear Regression` показала неприемлемо высокий `RMSE (27560660200.31)`.\n",
    "- *Время обучения*: `LightGBM` обучается быстрее всего (7.59 сек), опережая `RandomForestRegressor` (40.62 сек) и `Linear Regression` (19.18 сек).\n",
    "- *Время предсказания*: `Linear Regression` предсказывает быстрее всех (0.11 сек), однако, учитывая низкое качество, это преимущество нерелевантно. `LightGBM` предсказывает значительно быстрее (1.80 сек), чем `RandomForestRegressor` (7.15 сек).\n",
    "- На тестовых данных модель `LightGBM` показала `RMSE 1853.32`.\n",
    "\n",
    "**Важность признаков (LightGBM):**\n",
    "\n",
    "- Наиболее важным признаком оказался `Power`, за которым с небольшим отрывом следуют `Model`, `Brand`, `Age`, `Kilometer` и `VehicleType`. Наименее важными признаками оказались `Repaired`, `Gearbox` и `FuelType`.\n",
    "\n",
    "**Вывод и рекомендации:**\n",
    "\n",
    "По критериям заказчика (качество предсказания, скорость предсказания и время обучения) наилучшей моделью для предсказания стоимости автомобилей является `LightGBM`.  Модель удовлетворяет требованиям по `RMSE (< 2500)` и демонстрирует высокую скорость обучения и предсказания. Рекомендуется использовать LightGBM для решения поставленной задачи."
   ]
  },
  {
   "cell_type": "markdown",
   "metadata": {},
   "source": [
    "## Чек-лист проверки"
   ]
  },
  {
   "cell_type": "markdown",
   "metadata": {},
   "source": [
    "Поставьте 'x' в выполненных пунктах. Далее нажмите Shift+Enter."
   ]
  },
  {
   "cell_type": "markdown",
   "metadata": {},
   "source": [
    "- [x]  Jupyter Notebook открыт\n",
    "- [x]  Весь код выполняется без ошибок\n",
    "- [x]  Ячейки с кодом расположены в порядке исполнения\n",
    "- [x]  Выполнена загрузка и подготовка данных\n",
    "- [x]  Выполнено обучение моделей\n",
    "- [x]  Есть анализ скорости работы и качества моделей"
   ]
  }
 ],
 "metadata": {
  "ExecuteTimeLog": [
   {
    "duration": 1081,
    "start_time": "2025-02-05T11:16:40.100Z"
   },
   {
    "duration": 2,
    "start_time": "2025-02-05T11:16:52.294Z"
   },
   {
    "duration": 44,
    "start_time": "2025-02-05T11:28:04.671Z"
   },
   {
    "duration": 455,
    "start_time": "2025-02-05T11:36:12.649Z"
   },
   {
    "duration": 793,
    "start_time": "2025-02-05T11:36:59.158Z"
   },
   {
    "duration": 146,
    "start_time": "2025-02-05T11:37:12.229Z"
   },
   {
    "duration": 151,
    "start_time": "2025-02-05T11:37:47.556Z"
   },
   {
    "duration": 235,
    "start_time": "2025-02-05T11:38:00.100Z"
   },
   {
    "duration": 225,
    "start_time": "2025-02-05T11:38:18.809Z"
   },
   {
    "duration": 209,
    "start_time": "2025-02-05T11:38:36.727Z"
   },
   {
    "duration": 12,
    "start_time": "2025-02-05T11:39:05.181Z"
   },
   {
    "duration": 214,
    "start_time": "2025-02-05T11:39:12.953Z"
   },
   {
    "duration": 212,
    "start_time": "2025-02-05T11:39:26.927Z"
   },
   {
    "duration": 126,
    "start_time": "2025-02-05T11:57:18.568Z"
   },
   {
    "duration": 422,
    "start_time": "2025-02-05T11:59:32.560Z"
   },
   {
    "duration": 456,
    "start_time": "2025-02-05T11:59:46.007Z"
   },
   {
    "duration": 23,
    "start_time": "2025-02-05T12:01:43.767Z"
   },
   {
    "duration": 86,
    "start_time": "2025-02-05T12:01:49.769Z"
   },
   {
    "duration": 86,
    "start_time": "2025-02-05T12:06:17.840Z"
   },
   {
    "duration": 34,
    "start_time": "2025-02-05T12:09:36.942Z"
   },
   {
    "duration": 18,
    "start_time": "2025-02-05T12:12:49.300Z"
   },
   {
    "duration": 3,
    "start_time": "2025-02-05T12:13:15.115Z"
   },
   {
    "duration": 33,
    "start_time": "2025-02-05T12:13:38.132Z"
   },
   {
    "duration": 19,
    "start_time": "2025-02-05T12:15:02.009Z"
   },
   {
    "duration": 2,
    "start_time": "2025-02-05T12:15:38.761Z"
   },
   {
    "duration": 35,
    "start_time": "2025-02-05T12:15:53.048Z"
   },
   {
    "duration": 19,
    "start_time": "2025-02-05T12:16:32.786Z"
   },
   {
    "duration": 38,
    "start_time": "2025-02-05T12:17:22.925Z"
   },
   {
    "duration": 49,
    "start_time": "2025-02-05T12:20:33.054Z"
   },
   {
    "duration": 20,
    "start_time": "2025-02-05T12:22:40.943Z"
   },
   {
    "duration": 169,
    "start_time": "2025-02-05T12:23:11.900Z"
   },
   {
    "duration": 175,
    "start_time": "2025-02-05T12:25:25.516Z"
   },
   {
    "duration": 1421,
    "start_time": "2025-02-05T12:28:19.446Z"
   },
   {
    "duration": 825,
    "start_time": "2025-02-05T12:28:20.869Z"
   },
   {
    "duration": 16,
    "start_time": "2025-02-05T12:28:21.696Z"
   },
   {
    "duration": 239,
    "start_time": "2025-02-05T12:28:21.714Z"
   },
   {
    "duration": 436,
    "start_time": "2025-02-05T12:28:21.954Z"
   },
   {
    "duration": 487,
    "start_time": "2025-02-05T12:28:22.392Z"
   },
   {
    "duration": 33,
    "start_time": "2025-02-05T12:28:22.880Z"
   },
   {
    "duration": 109,
    "start_time": "2025-02-05T12:28:22.914Z"
   },
   {
    "duration": 40,
    "start_time": "2025-02-05T12:28:23.024Z"
   },
   {
    "duration": 18,
    "start_time": "2025-02-05T12:28:23.066Z"
   },
   {
    "duration": 34,
    "start_time": "2025-02-05T12:28:23.085Z"
   },
   {
    "duration": 52,
    "start_time": "2025-02-05T12:28:23.121Z"
   },
   {
    "duration": 38,
    "start_time": "2025-02-05T12:28:23.174Z"
   },
   {
    "duration": 23,
    "start_time": "2025-02-05T12:28:23.214Z"
   },
   {
    "duration": 35,
    "start_time": "2025-02-05T12:28:23.238Z"
   },
   {
    "duration": 57,
    "start_time": "2025-02-05T12:28:23.275Z"
   },
   {
    "duration": 24,
    "start_time": "2025-02-05T12:28:23.334Z"
   },
   {
    "duration": 97,
    "start_time": "2025-02-05T12:28:23.360Z"
   },
   {
    "duration": 6,
    "start_time": "2025-02-05T12:28:23.458Z"
   },
   {
    "duration": 1538,
    "start_time": "2025-02-05T12:33:20.702Z"
   },
   {
    "duration": 14,
    "start_time": "2025-02-05T12:34:02.895Z"
   },
   {
    "duration": 30,
    "start_time": "2025-02-05T12:34:10.486Z"
   },
   {
    "duration": 79,
    "start_time": "2025-02-05T12:39:58.011Z"
   },
   {
    "duration": 94,
    "start_time": "2025-02-05T12:40:13.504Z"
   },
   {
    "duration": 7779,
    "start_time": "2025-02-05T12:40:32.935Z"
   },
   {
    "duration": 120,
    "start_time": "2025-02-05T12:41:31.413Z"
   },
   {
    "duration": 13,
    "start_time": "2025-02-05T12:48:15.884Z"
   },
   {
    "duration": 105,
    "start_time": "2025-02-05T12:48:39.728Z"
   },
   {
    "duration": 5,
    "start_time": "2025-02-05T12:49:38.676Z"
   },
   {
    "duration": 84,
    "start_time": "2025-02-05T12:49:41.537Z"
   },
   {
    "duration": 1460,
    "start_time": "2025-02-05T12:50:02.633Z"
   },
   {
    "duration": 857,
    "start_time": "2025-02-05T12:50:04.095Z"
   },
   {
    "duration": 15,
    "start_time": "2025-02-05T12:50:04.954Z"
   },
   {
    "duration": 247,
    "start_time": "2025-02-05T12:50:04.970Z"
   },
   {
    "duration": 459,
    "start_time": "2025-02-05T12:50:05.218Z"
   },
   {
    "duration": 528,
    "start_time": "2025-02-05T12:50:05.679Z"
   },
   {
    "duration": 41,
    "start_time": "2025-02-05T12:50:06.209Z"
   },
   {
    "duration": 165,
    "start_time": "2025-02-05T12:50:06.252Z"
   },
   {
    "duration": 110,
    "start_time": "2025-02-05T12:50:06.418Z"
   },
   {
    "duration": 42,
    "start_time": "2025-02-05T12:50:06.530Z"
   },
   {
    "duration": 94,
    "start_time": "2025-02-05T12:50:06.574Z"
   },
   {
    "duration": 66,
    "start_time": "2025-02-05T12:50:06.670Z"
   },
   {
    "duration": 175,
    "start_time": "2025-02-05T12:50:06.737Z"
   },
   {
    "duration": 88,
    "start_time": "2025-02-05T12:50:06.915Z"
   },
   {
    "duration": 111,
    "start_time": "2025-02-05T12:50:07.004Z"
   },
   {
    "duration": 97,
    "start_time": "2025-02-05T12:50:07.118Z"
   },
   {
    "duration": 102,
    "start_time": "2025-02-05T12:50:07.216Z"
   },
   {
    "duration": 107,
    "start_time": "2025-02-05T12:50:07.320Z"
   },
   {
    "duration": 13,
    "start_time": "2025-02-05T12:50:07.429Z"
   },
   {
    "duration": 63,
    "start_time": "2025-02-05T12:50:07.444Z"
   },
   {
    "duration": 7941,
    "start_time": "2025-02-05T12:50:07.509Z"
   },
   {
    "duration": 130,
    "start_time": "2025-02-05T12:50:15.452Z"
   },
   {
    "duration": 30,
    "start_time": "2025-02-05T12:50:15.584Z"
   },
   {
    "duration": 138,
    "start_time": "2025-02-05T12:50:15.616Z"
   },
   {
    "duration": 24,
    "start_time": "2025-02-05T12:52:01.027Z"
   },
   {
    "duration": 114,
    "start_time": "2025-02-05T12:52:02.977Z"
   },
   {
    "duration": 4996,
    "start_time": "2025-02-05T12:52:19.483Z"
   },
   {
    "duration": 51,
    "start_time": "2025-02-07T08:06:16.562Z"
   },
   {
    "duration": 1902,
    "start_time": "2025-02-07T08:06:22.981Z"
   },
   {
    "duration": 996,
    "start_time": "2025-02-07T08:06:24.886Z"
   },
   {
    "duration": 18,
    "start_time": "2025-02-07T08:06:25.884Z"
   },
   {
    "duration": 296,
    "start_time": "2025-02-07T08:06:25.904Z"
   },
   {
    "duration": 548,
    "start_time": "2025-02-07T08:06:26.202Z"
   },
   {
    "duration": 544,
    "start_time": "2025-02-07T08:06:26.753Z"
   },
   {
    "duration": 41,
    "start_time": "2025-02-07T08:06:27.298Z"
   },
   {
    "duration": 134,
    "start_time": "2025-02-07T08:06:27.341Z"
   },
   {
    "duration": 43,
    "start_time": "2025-02-07T08:06:27.477Z"
   },
   {
    "duration": 24,
    "start_time": "2025-02-07T08:06:27.533Z"
   },
   {
    "duration": 57,
    "start_time": "2025-02-07T08:06:27.558Z"
   },
   {
    "duration": 48,
    "start_time": "2025-02-07T08:06:27.618Z"
   },
   {
    "duration": 50,
    "start_time": "2025-02-07T08:06:27.669Z"
   },
   {
    "duration": 31,
    "start_time": "2025-02-07T08:06:27.734Z"
   },
   {
    "duration": 67,
    "start_time": "2025-02-07T08:06:27.767Z"
   },
   {
    "duration": 61,
    "start_time": "2025-02-07T08:06:27.836Z"
   },
   {
    "duration": 35,
    "start_time": "2025-02-07T08:06:27.899Z"
   },
   {
    "duration": 108,
    "start_time": "2025-02-07T08:06:27.937Z"
   },
   {
    "duration": 8,
    "start_time": "2025-02-07T08:06:28.047Z"
   },
   {
    "duration": 38,
    "start_time": "2025-02-07T08:06:28.057Z"
   },
   {
    "duration": 203,
    "start_time": "2025-02-07T08:06:28.097Z"
   },
   {
    "duration": 45,
    "start_time": "2025-02-07T08:06:28.302Z"
   },
   {
    "duration": 141,
    "start_time": "2025-02-07T08:06:28.349Z"
   },
   {
    "duration": 757,
    "start_time": "2025-02-07T08:06:28.492Z"
   },
   {
    "duration": 58,
    "start_time": "2025-02-07T08:37:29.423Z"
   },
   {
    "duration": 157,
    "start_time": "2025-02-07T08:37:36.465Z"
   },
   {
    "duration": 12,
    "start_time": "2025-02-07T08:40:48.198Z"
   },
   {
    "duration": 184,
    "start_time": "2025-02-07T08:56:07.642Z"
   },
   {
    "duration": 1666,
    "start_time": "2025-02-07T08:58:14.668Z"
   },
   {
    "duration": 1038,
    "start_time": "2025-02-07T08:58:16.338Z"
   },
   {
    "duration": 18,
    "start_time": "2025-02-07T08:58:17.378Z"
   },
   {
    "duration": 339,
    "start_time": "2025-02-07T08:58:17.398Z"
   },
   {
    "duration": 577,
    "start_time": "2025-02-07T08:58:17.741Z"
   },
   {
    "duration": 597,
    "start_time": "2025-02-07T08:58:18.320Z"
   },
   {
    "duration": 47,
    "start_time": "2025-02-07T08:58:18.918Z"
   },
   {
    "duration": 121,
    "start_time": "2025-02-07T08:58:18.966Z"
   },
   {
    "duration": 51,
    "start_time": "2025-02-07T08:58:19.089Z"
   },
   {
    "duration": 32,
    "start_time": "2025-02-07T08:58:19.143Z"
   },
   {
    "duration": 63,
    "start_time": "2025-02-07T08:58:19.176Z"
   },
   {
    "duration": 32,
    "start_time": "2025-02-07T08:58:19.241Z"
   },
   {
    "duration": 41,
    "start_time": "2025-02-07T08:58:19.275Z"
   },
   {
    "duration": 32,
    "start_time": "2025-02-07T08:58:19.338Z"
   },
   {
    "duration": 44,
    "start_time": "2025-02-07T08:58:19.371Z"
   },
   {
    "duration": 77,
    "start_time": "2025-02-07T08:58:19.418Z"
   },
   {
    "duration": 24,
    "start_time": "2025-02-07T08:58:19.496Z"
   },
   {
    "duration": 137,
    "start_time": "2025-02-07T08:58:19.533Z"
   },
   {
    "duration": 6,
    "start_time": "2025-02-07T08:58:19.672Z"
   },
   {
    "duration": 35,
    "start_time": "2025-02-07T08:58:19.680Z"
   },
   {
    "duration": 185,
    "start_time": "2025-02-07T08:58:19.734Z"
   },
   {
    "duration": 38,
    "start_time": "2025-02-07T08:58:19.921Z"
   },
   {
    "duration": 149,
    "start_time": "2025-02-07T08:58:19.962Z"
   },
   {
    "duration": 729,
    "start_time": "2025-02-07T08:58:20.113Z"
   },
   {
    "duration": 179,
    "start_time": "2025-02-07T08:58:20.844Z"
   },
   {
    "duration": 27,
    "start_time": "2025-02-07T08:58:21.024Z"
   },
   {
    "duration": 39,
    "start_time": "2025-02-07T08:58:21.054Z"
   },
   {
    "duration": 142,
    "start_time": "2025-02-07T08:58:21.094Z"
   },
   {
    "duration": 323,
    "start_time": "2025-02-07T08:58:21.238Z"
   },
   {
    "duration": 1658,
    "start_time": "2025-02-07T08:58:59.518Z"
   },
   {
    "duration": 1043,
    "start_time": "2025-02-07T08:59:01.178Z"
   },
   {
    "duration": 30,
    "start_time": "2025-02-07T08:59:02.223Z"
   },
   {
    "duration": 311,
    "start_time": "2025-02-07T08:59:02.255Z"
   },
   {
    "duration": 558,
    "start_time": "2025-02-07T08:59:02.568Z"
   },
   {
    "duration": 590,
    "start_time": "2025-02-07T08:59:03.127Z"
   },
   {
    "duration": 45,
    "start_time": "2025-02-07T08:59:03.719Z"
   },
   {
    "duration": 140,
    "start_time": "2025-02-07T08:59:03.766Z"
   },
   {
    "duration": 67,
    "start_time": "2025-02-07T08:59:03.907Z"
   },
   {
    "duration": 22,
    "start_time": "2025-02-07T08:59:03.975Z"
   },
   {
    "duration": 86,
    "start_time": "2025-02-07T08:59:03.999Z"
   },
   {
    "duration": 51,
    "start_time": "2025-02-07T08:59:04.087Z"
   },
   {
    "duration": 60,
    "start_time": "2025-02-07T08:59:04.142Z"
   },
   {
    "duration": 42,
    "start_time": "2025-02-07T08:59:04.205Z"
   },
   {
    "duration": 47,
    "start_time": "2025-02-07T08:59:04.249Z"
   },
   {
    "duration": 89,
    "start_time": "2025-02-07T08:59:04.298Z"
   },
   {
    "duration": 24,
    "start_time": "2025-02-07T08:59:04.389Z"
   },
   {
    "duration": 166,
    "start_time": "2025-02-07T08:59:04.415Z"
   },
   {
    "duration": 15,
    "start_time": "2025-02-07T08:59:04.583Z"
   },
   {
    "duration": 47,
    "start_time": "2025-02-07T08:59:04.600Z"
   },
   {
    "duration": 191,
    "start_time": "2025-02-07T08:59:04.651Z"
   },
   {
    "duration": 30,
    "start_time": "2025-02-07T08:59:04.844Z"
   },
   {
    "duration": 161,
    "start_time": "2025-02-07T08:59:04.876Z"
   },
   {
    "duration": 725,
    "start_time": "2025-02-07T08:59:05.041Z"
   },
   {
    "duration": 195,
    "start_time": "2025-02-07T08:59:05.768Z"
   },
   {
    "duration": 13,
    "start_time": "2025-02-07T08:59:05.965Z"
   },
   {
    "duration": 75,
    "start_time": "2025-02-07T08:59:05.979Z"
   },
   {
    "duration": 147,
    "start_time": "2025-02-07T08:59:06.057Z"
   },
   {
    "duration": 302,
    "start_time": "2025-02-07T08:59:06.206Z"
   },
   {
    "duration": 4,
    "start_time": "2025-02-07T09:41:05.944Z"
   },
   {
    "duration": 133,
    "start_time": "2025-02-07T09:47:06.880Z"
   },
   {
    "duration": 1273,
    "start_time": "2025-02-07T09:47:21.691Z"
   },
   {
    "duration": 1252,
    "start_time": "2025-02-07T09:47:28.029Z"
   },
   {
    "duration": 1281,
    "start_time": "2025-02-07T09:48:04.049Z"
   },
   {
    "duration": 1252,
    "start_time": "2025-02-07T09:48:41.540Z"
   },
   {
    "duration": 1303,
    "start_time": "2025-02-07T09:50:12.321Z"
   },
   {
    "duration": 4033,
    "start_time": "2025-02-07T09:50:54.899Z"
   },
   {
    "duration": 246,
    "start_time": "2025-02-07T09:57:22.597Z"
   },
   {
    "duration": 1617,
    "start_time": "2025-02-07T09:58:09.851Z"
   },
   {
    "duration": 985,
    "start_time": "2025-02-07T09:58:11.470Z"
   },
   {
    "duration": 19,
    "start_time": "2025-02-07T09:58:12.456Z"
   },
   {
    "duration": 285,
    "start_time": "2025-02-07T09:58:12.477Z"
   },
   {
    "duration": 534,
    "start_time": "2025-02-07T09:58:12.765Z"
   },
   {
    "duration": 538,
    "start_time": "2025-02-07T09:58:13.300Z"
   },
   {
    "duration": 44,
    "start_time": "2025-02-07T09:58:13.839Z"
   },
   {
    "duration": 110,
    "start_time": "2025-02-07T09:58:13.885Z"
   },
   {
    "duration": 48,
    "start_time": "2025-02-07T09:58:13.996Z"
   },
   {
    "duration": 37,
    "start_time": "2025-02-07T09:58:14.045Z"
   },
   {
    "duration": 55,
    "start_time": "2025-02-07T09:58:14.083Z"
   },
   {
    "duration": 32,
    "start_time": "2025-02-07T09:58:14.140Z"
   },
   {
    "duration": 90,
    "start_time": "2025-02-07T09:58:14.173Z"
   },
   {
    "duration": 21,
    "start_time": "2025-02-07T09:58:14.266Z"
   },
   {
    "duration": 52,
    "start_time": "2025-02-07T09:58:14.289Z"
   },
   {
    "duration": 81,
    "start_time": "2025-02-07T09:58:14.343Z"
   },
   {
    "duration": 22,
    "start_time": "2025-02-07T09:58:14.426Z"
   },
   {
    "duration": 136,
    "start_time": "2025-02-07T09:58:14.449Z"
   },
   {
    "duration": 27,
    "start_time": "2025-02-07T09:58:14.586Z"
   },
   {
    "duration": 47,
    "start_time": "2025-02-07T09:58:14.615Z"
   },
   {
    "duration": 164,
    "start_time": "2025-02-07T09:58:14.664Z"
   },
   {
    "duration": 28,
    "start_time": "2025-02-07T09:58:14.829Z"
   },
   {
    "duration": 137,
    "start_time": "2025-02-07T09:58:14.859Z"
   },
   {
    "duration": 672,
    "start_time": "2025-02-07T09:58:14.998Z"
   },
   {
    "duration": 173,
    "start_time": "2025-02-07T09:58:15.673Z"
   },
   {
    "duration": 13,
    "start_time": "2025-02-07T09:58:15.848Z"
   },
   {
    "duration": 38,
    "start_time": "2025-02-07T09:58:15.862Z"
   },
   {
    "duration": 135,
    "start_time": "2025-02-07T09:58:15.902Z"
   },
   {
    "duration": 276,
    "start_time": "2025-02-07T09:58:16.039Z"
   },
   {
    "duration": 4009,
    "start_time": "2025-02-07T09:58:16.317Z"
   },
   {
    "duration": 677,
    "start_time": "2025-02-07T09:58:20.328Z"
   },
   {
    "duration": 1475,
    "start_time": "2025-02-07T10:10:14.925Z"
   },
   {
    "duration": 1636,
    "start_time": "2025-02-07T11:05:45.137Z"
   },
   {
    "duration": 1032,
    "start_time": "2025-02-07T11:05:46.776Z"
   },
   {
    "duration": 29,
    "start_time": "2025-02-07T11:05:47.810Z"
   },
   {
    "duration": 363,
    "start_time": "2025-02-07T11:05:47.842Z"
   },
   {
    "duration": 544,
    "start_time": "2025-02-07T11:05:48.206Z"
   },
   {
    "duration": 585,
    "start_time": "2025-02-07T11:05:48.753Z"
   },
   {
    "duration": 36,
    "start_time": "2025-02-07T11:05:49.340Z"
   },
   {
    "duration": 122,
    "start_time": "2025-02-07T11:05:49.378Z"
   },
   {
    "duration": 45,
    "start_time": "2025-02-07T11:05:49.501Z"
   },
   {
    "duration": 22,
    "start_time": "2025-02-07T11:05:49.549Z"
   },
   {
    "duration": 61,
    "start_time": "2025-02-07T11:05:49.573Z"
   },
   {
    "duration": 21,
    "start_time": "2025-02-07T11:05:49.636Z"
   },
   {
    "duration": 43,
    "start_time": "2025-02-07T11:05:49.659Z"
   },
   {
    "duration": 42,
    "start_time": "2025-02-07T11:05:49.704Z"
   },
   {
    "duration": 42,
    "start_time": "2025-02-07T11:05:49.748Z"
   },
   {
    "duration": 71,
    "start_time": "2025-02-07T11:05:49.792Z"
   },
   {
    "duration": 22,
    "start_time": "2025-02-07T11:05:49.865Z"
   },
   {
    "duration": 114,
    "start_time": "2025-02-07T11:05:49.890Z"
   },
   {
    "duration": 6,
    "start_time": "2025-02-07T11:05:50.005Z"
   },
   {
    "duration": 56,
    "start_time": "2025-02-07T11:05:50.013Z"
   },
   {
    "duration": 167,
    "start_time": "2025-02-07T11:05:50.071Z"
   },
   {
    "duration": 36,
    "start_time": "2025-02-07T11:05:50.239Z"
   },
   {
    "duration": 147,
    "start_time": "2025-02-07T11:05:50.276Z"
   },
   {
    "duration": 694,
    "start_time": "2025-02-07T11:05:50.433Z"
   },
   {
    "duration": 168,
    "start_time": "2025-02-07T11:05:51.129Z"
   },
   {
    "duration": 13,
    "start_time": "2025-02-07T11:05:51.298Z"
   },
   {
    "duration": 41,
    "start_time": "2025-02-07T11:05:51.312Z"
   },
   {
    "duration": 141,
    "start_time": "2025-02-07T11:05:51.356Z"
   },
   {
    "duration": 283,
    "start_time": "2025-02-07T11:05:51.499Z"
   },
   {
    "duration": 4115,
    "start_time": "2025-02-07T11:05:51.784Z"
   },
   {
    "duration": 672,
    "start_time": "2025-02-07T11:05:55.902Z"
   },
   {
    "duration": 134,
    "start_time": "2025-02-07T11:05:56.576Z"
   },
   {
    "duration": 5,
    "start_time": "2025-02-07T11:06:40.010Z"
   },
   {
    "duration": 1648,
    "start_time": "2025-02-07T11:07:50.762Z"
   },
   {
    "duration": 1121,
    "start_time": "2025-02-07T11:07:52.412Z"
   },
   {
    "duration": 19,
    "start_time": "2025-02-07T11:07:53.535Z"
   },
   {
    "duration": 578,
    "start_time": "2025-02-07T11:07:53.556Z"
   },
   {
    "duration": 1001,
    "start_time": "2025-02-07T11:07:54.136Z"
   },
   {
    "duration": 588,
    "start_time": "2025-02-07T11:07:55.139Z"
   },
   {
    "duration": 36,
    "start_time": "2025-02-07T11:07:55.732Z"
   },
   {
    "duration": 153,
    "start_time": "2025-02-07T11:07:55.770Z"
   },
   {
    "duration": 56,
    "start_time": "2025-02-07T11:07:55.924Z"
   },
   {
    "duration": 23,
    "start_time": "2025-02-07T11:07:55.983Z"
   },
   {
    "duration": 43,
    "start_time": "2025-02-07T11:07:56.008Z"
   },
   {
    "duration": 33,
    "start_time": "2025-02-07T11:07:56.052Z"
   },
   {
    "duration": 64,
    "start_time": "2025-02-07T11:07:56.088Z"
   },
   {
    "duration": 49,
    "start_time": "2025-02-07T11:07:56.155Z"
   },
   {
    "duration": 44,
    "start_time": "2025-02-07T11:07:56.207Z"
   },
   {
    "duration": 61,
    "start_time": "2025-02-07T11:07:56.254Z"
   },
   {
    "duration": 27,
    "start_time": "2025-02-07T11:07:56.317Z"
   },
   {
    "duration": 118,
    "start_time": "2025-02-07T11:07:56.346Z"
   },
   {
    "duration": 7,
    "start_time": "2025-02-07T11:07:56.466Z"
   },
   {
    "duration": 60,
    "start_time": "2025-02-07T11:07:56.474Z"
   },
   {
    "duration": 162,
    "start_time": "2025-02-07T11:07:56.536Z"
   },
   {
    "duration": 39,
    "start_time": "2025-02-07T11:07:56.699Z"
   },
   {
    "duration": 133,
    "start_time": "2025-02-07T11:07:56.740Z"
   },
   {
    "duration": 672,
    "start_time": "2025-02-07T11:07:56.875Z"
   },
   {
    "duration": 201,
    "start_time": "2025-02-07T11:07:57.550Z"
   },
   {
    "duration": 16,
    "start_time": "2025-02-07T11:07:57.753Z"
   },
   {
    "duration": 28,
    "start_time": "2025-02-07T11:07:57.772Z"
   },
   {
    "duration": 154,
    "start_time": "2025-02-07T11:07:57.804Z"
   },
   {
    "duration": 278,
    "start_time": "2025-02-07T11:07:57.960Z"
   },
   {
    "duration": 4293,
    "start_time": "2025-02-07T11:07:58.239Z"
   },
   {
    "duration": 646,
    "start_time": "2025-02-07T11:08:02.534Z"
   },
   {
    "duration": 125,
    "start_time": "2025-02-07T11:08:03.182Z"
   },
   {
    "duration": 16376,
    "start_time": "2025-02-07T11:16:22.363Z"
   },
   {
    "duration": 4,
    "start_time": "2025-02-07T11:31:22.422Z"
   },
   {
    "duration": 66186,
    "start_time": "2025-02-07T11:33:06.146Z"
   },
   {
    "duration": 3072,
    "start_time": "2025-02-07T11:53:24.343Z"
   },
   {
    "duration": 5,
    "start_time": "2025-02-07T11:56:08.529Z"
   },
   {
    "duration": 0,
    "start_time": "2025-02-07T13:30:36.189Z"
   },
   {
    "duration": 0,
    "start_time": "2025-02-07T13:30:36.192Z"
   },
   {
    "duration": 1632,
    "start_time": "2025-02-07T13:30:41.810Z"
   },
   {
    "duration": 1016,
    "start_time": "2025-02-07T13:30:43.444Z"
   },
   {
    "duration": 18,
    "start_time": "2025-02-07T13:30:44.462Z"
   },
   {
    "duration": 316,
    "start_time": "2025-02-07T13:30:44.483Z"
   },
   {
    "duration": 555,
    "start_time": "2025-02-07T13:30:44.801Z"
   },
   {
    "duration": 599,
    "start_time": "2025-02-07T13:30:45.358Z"
   },
   {
    "duration": 38,
    "start_time": "2025-02-07T13:30:45.959Z"
   },
   {
    "duration": 108,
    "start_time": "2025-02-07T13:30:45.999Z"
   },
   {
    "duration": 58,
    "start_time": "2025-02-07T13:30:46.109Z"
   },
   {
    "duration": 27,
    "start_time": "2025-02-07T13:30:46.170Z"
   },
   {
    "duration": 59,
    "start_time": "2025-02-07T13:30:46.199Z"
   },
   {
    "duration": 22,
    "start_time": "2025-02-07T13:30:46.260Z"
   },
   {
    "duration": 53,
    "start_time": "2025-02-07T13:30:46.284Z"
   },
   {
    "duration": 33,
    "start_time": "2025-02-07T13:30:46.339Z"
   },
   {
    "duration": 49,
    "start_time": "2025-02-07T13:30:46.374Z"
   },
   {
    "duration": 137,
    "start_time": "2025-02-07T13:30:46.425Z"
   },
   {
    "duration": 23,
    "start_time": "2025-02-07T13:30:46.564Z"
   },
   {
    "duration": 107,
    "start_time": "2025-02-07T13:30:46.588Z"
   },
   {
    "duration": 7,
    "start_time": "2025-02-07T13:30:46.697Z"
   },
   {
    "duration": 55,
    "start_time": "2025-02-07T13:30:46.705Z"
   },
   {
    "duration": 172,
    "start_time": "2025-02-07T13:30:46.761Z"
   },
   {
    "duration": 30,
    "start_time": "2025-02-07T13:30:46.935Z"
   },
   {
    "duration": 148,
    "start_time": "2025-02-07T13:30:46.967Z"
   },
   {
    "duration": 732,
    "start_time": "2025-02-07T13:30:47.117Z"
   },
   {
    "duration": 176,
    "start_time": "2025-02-07T13:30:47.852Z"
   },
   {
    "duration": 13,
    "start_time": "2025-02-07T13:30:48.031Z"
   },
   {
    "duration": 26,
    "start_time": "2025-02-07T13:30:48.046Z"
   },
   {
    "duration": 158,
    "start_time": "2025-02-07T13:30:48.077Z"
   },
   {
    "duration": 282,
    "start_time": "2025-02-07T13:30:48.238Z"
   },
   {
    "duration": 4201,
    "start_time": "2025-02-07T13:30:48.522Z"
   },
   {
    "duration": 652,
    "start_time": "2025-02-07T13:30:52.724Z"
   },
   {
    "duration": 127,
    "start_time": "2025-02-07T13:30:53.378Z"
   },
   {
    "duration": 16331,
    "start_time": "2025-02-07T13:30:53.507Z"
   },
   {
    "duration": 71301,
    "start_time": "2025-02-07T13:31:09.840Z"
   },
   {
    "duration": 120,
    "start_time": "2025-02-07T13:32:21.143Z"
   },
   {
    "duration": 0,
    "start_time": "2025-02-07T13:32:21.265Z"
   },
   {
    "duration": 0,
    "start_time": "2025-02-07T13:32:21.266Z"
   },
   {
    "duration": 0,
    "start_time": "2025-02-07T13:32:21.268Z"
   },
   {
    "duration": 341752,
    "start_time": "2025-02-07T13:33:22.490Z"
   },
   {
    "duration": 4,
    "start_time": "2025-02-07T13:39:04.245Z"
   },
   {
    "duration": 1573,
    "start_time": "2025-02-08T08:09:45.317Z"
   },
   {
    "duration": 848,
    "start_time": "2025-02-08T08:09:46.892Z"
   },
   {
    "duration": 26,
    "start_time": "2025-02-08T08:09:47.741Z"
   },
   {
    "duration": 271,
    "start_time": "2025-02-08T08:09:47.769Z"
   },
   {
    "duration": 458,
    "start_time": "2025-02-08T08:09:48.042Z"
   },
   {
    "duration": 501,
    "start_time": "2025-02-08T08:09:48.502Z"
   },
   {
    "duration": 36,
    "start_time": "2025-02-08T08:09:49.004Z"
   },
   {
    "duration": 104,
    "start_time": "2025-02-08T08:09:49.042Z"
   },
   {
    "duration": 37,
    "start_time": "2025-02-08T08:09:49.157Z"
   },
   {
    "duration": 19,
    "start_time": "2025-02-08T08:09:49.198Z"
   },
   {
    "duration": 59,
    "start_time": "2025-02-08T08:09:49.218Z"
   },
   {
    "duration": 20,
    "start_time": "2025-02-08T08:09:49.279Z"
   },
   {
    "duration": 58,
    "start_time": "2025-02-08T08:09:49.301Z"
   },
   {
    "duration": 19,
    "start_time": "2025-02-08T08:09:49.360Z"
   },
   {
    "duration": 41,
    "start_time": "2025-02-08T08:09:49.380Z"
   },
   {
    "duration": 65,
    "start_time": "2025-02-08T08:09:49.423Z"
   },
   {
    "duration": 20,
    "start_time": "2025-02-08T08:09:49.490Z"
   },
   {
    "duration": 103,
    "start_time": "2025-02-08T08:09:49.512Z"
   },
   {
    "duration": 6,
    "start_time": "2025-02-08T08:09:49.616Z"
   },
   {
    "duration": 51,
    "start_time": "2025-02-08T08:09:49.624Z"
   },
   {
    "duration": 148,
    "start_time": "2025-02-08T08:09:49.677Z"
   },
   {
    "duration": 40,
    "start_time": "2025-02-08T08:09:49.827Z"
   },
   {
    "duration": 120,
    "start_time": "2025-02-08T08:09:49.869Z"
   },
   {
    "duration": 610,
    "start_time": "2025-02-08T08:09:49.991Z"
   },
   {
    "duration": 147,
    "start_time": "2025-02-08T08:09:50.603Z"
   },
   {
    "duration": 11,
    "start_time": "2025-02-08T08:09:50.757Z"
   },
   {
    "duration": 20,
    "start_time": "2025-02-08T08:09:50.770Z"
   },
   {
    "duration": 132,
    "start_time": "2025-02-08T08:09:50.793Z"
   },
   {
    "duration": 253,
    "start_time": "2025-02-08T08:09:50.926Z"
   },
   {
    "duration": 3368,
    "start_time": "2025-02-08T08:09:51.180Z"
   },
   {
    "duration": 652,
    "start_time": "2025-02-08T08:09:54.550Z"
   },
   {
    "duration": 112,
    "start_time": "2025-02-08T08:09:55.204Z"
   },
   {
    "duration": 16243,
    "start_time": "2025-02-08T08:09:55.317Z"
   },
   {
    "duration": 64802,
    "start_time": "2025-02-08T08:10:11.562Z"
   },
   {
    "duration": 2798,
    "start_time": "2025-02-08T08:11:16.366Z"
   },
   {
    "duration": 347808,
    "start_time": "2025-02-08T08:11:19.166Z"
   },
   {
    "duration": 85,
    "start_time": "2025-02-08T08:17:06.976Z"
   },
   {
    "duration": 206,
    "start_time": "2025-02-08T08:17:17.698Z"
   },
   {
    "duration": 6,
    "start_time": "2025-02-08T08:18:59.554Z"
   },
   {
    "duration": 133333,
    "start_time": "2025-02-08T08:33:15.357Z"
   },
   {
    "duration": 4,
    "start_time": "2025-02-08T08:42:28.706Z"
   },
   {
    "duration": 837,
    "start_time": "2025-02-08T08:42:28.711Z"
   },
   {
    "duration": 17,
    "start_time": "2025-02-08T08:42:29.550Z"
   },
   {
    "duration": 232,
    "start_time": "2025-02-08T08:42:29.568Z"
   },
   {
    "duration": 417,
    "start_time": "2025-02-08T08:42:29.803Z"
   },
   {
    "duration": 434,
    "start_time": "2025-02-08T08:42:30.221Z"
   },
   {
    "duration": 29,
    "start_time": "2025-02-08T08:42:30.657Z"
   },
   {
    "duration": 100,
    "start_time": "2025-02-08T08:42:30.687Z"
   },
   {
    "duration": 38,
    "start_time": "2025-02-08T08:42:30.789Z"
   },
   {
    "duration": 37,
    "start_time": "2025-02-08T08:42:30.829Z"
   },
   {
    "duration": 54,
    "start_time": "2025-02-08T08:42:30.869Z"
   },
   {
    "duration": 30,
    "start_time": "2025-02-08T08:42:30.925Z"
   },
   {
    "duration": 40,
    "start_time": "2025-02-08T08:42:30.957Z"
   },
   {
    "duration": 19,
    "start_time": "2025-02-08T08:42:30.998Z"
   },
   {
    "duration": 51,
    "start_time": "2025-02-08T08:42:31.019Z"
   },
   {
    "duration": 60,
    "start_time": "2025-02-08T08:42:31.072Z"
   },
   {
    "duration": 27,
    "start_time": "2025-02-08T08:42:31.134Z"
   },
   {
    "duration": 107,
    "start_time": "2025-02-08T08:42:31.163Z"
   },
   {
    "duration": 6,
    "start_time": "2025-02-08T08:42:31.272Z"
   },
   {
    "duration": 32,
    "start_time": "2025-02-08T08:42:31.280Z"
   },
   {
    "duration": 148,
    "start_time": "2025-02-08T08:42:31.314Z"
   },
   {
    "duration": 30,
    "start_time": "2025-02-08T08:42:31.465Z"
   },
   {
    "duration": 159,
    "start_time": "2025-02-08T08:42:31.496Z"
   },
   {
    "duration": 623,
    "start_time": "2025-02-08T08:42:31.658Z"
   },
   {
    "duration": 147,
    "start_time": "2025-02-08T08:42:32.283Z"
   },
   {
    "duration": 11,
    "start_time": "2025-02-08T08:42:32.432Z"
   },
   {
    "duration": 22,
    "start_time": "2025-02-08T08:42:32.457Z"
   },
   {
    "duration": 121,
    "start_time": "2025-02-08T08:42:32.480Z"
   },
   {
    "duration": 241,
    "start_time": "2025-02-08T08:42:32.604Z"
   },
   {
    "duration": 2870,
    "start_time": "2025-02-08T08:42:32.847Z"
   },
   {
    "duration": 638,
    "start_time": "2025-02-08T08:42:35.719Z"
   },
   {
    "duration": 110,
    "start_time": "2025-02-08T08:42:36.359Z"
   },
   {
    "duration": 1541,
    "start_time": "2025-02-08T08:43:00.355Z"
   },
   {
    "duration": 892,
    "start_time": "2025-02-08T08:43:01.898Z"
   },
   {
    "duration": 16,
    "start_time": "2025-02-08T08:43:02.792Z"
   },
   {
    "duration": 250,
    "start_time": "2025-02-08T08:43:02.809Z"
   },
   {
    "duration": 457,
    "start_time": "2025-02-08T08:43:03.061Z"
   },
   {
    "duration": 506,
    "start_time": "2025-02-08T08:43:03.519Z"
   },
   {
    "duration": 37,
    "start_time": "2025-02-08T08:43:04.027Z"
   },
   {
    "duration": 109,
    "start_time": "2025-02-08T08:43:04.066Z"
   },
   {
    "duration": 46,
    "start_time": "2025-02-08T08:43:04.177Z"
   },
   {
    "duration": 22,
    "start_time": "2025-02-08T08:43:04.225Z"
   },
   {
    "duration": 46,
    "start_time": "2025-02-08T08:43:04.249Z"
   },
   {
    "duration": 20,
    "start_time": "2025-02-08T08:43:04.296Z"
   },
   {
    "duration": 53,
    "start_time": "2025-02-08T08:43:04.318Z"
   },
   {
    "duration": 19,
    "start_time": "2025-02-08T08:43:04.375Z"
   },
   {
    "duration": 38,
    "start_time": "2025-02-08T08:43:04.395Z"
   },
   {
    "duration": 85,
    "start_time": "2025-02-08T08:43:04.435Z"
   },
   {
    "duration": 21,
    "start_time": "2025-02-08T08:43:04.521Z"
   },
   {
    "duration": 101,
    "start_time": "2025-02-08T08:43:04.543Z"
   },
   {
    "duration": 18,
    "start_time": "2025-02-08T08:43:04.645Z"
   },
   {
    "duration": 34,
    "start_time": "2025-02-08T08:43:04.665Z"
   },
   {
    "duration": 158,
    "start_time": "2025-02-08T08:43:04.701Z"
   },
   {
    "duration": 25,
    "start_time": "2025-02-08T08:43:04.861Z"
   },
   {
    "duration": 133,
    "start_time": "2025-02-08T08:43:04.887Z"
   },
   {
    "duration": 657,
    "start_time": "2025-02-08T08:43:05.022Z"
   },
   {
    "duration": 155,
    "start_time": "2025-02-08T08:43:05.681Z"
   },
   {
    "duration": 20,
    "start_time": "2025-02-08T08:43:05.839Z"
   },
   {
    "duration": 22,
    "start_time": "2025-02-08T08:43:05.861Z"
   },
   {
    "duration": 134,
    "start_time": "2025-02-08T08:43:05.884Z"
   },
   {
    "duration": 253,
    "start_time": "2025-02-08T08:43:06.020Z"
   },
   {
    "duration": 3220,
    "start_time": "2025-02-08T08:43:06.275Z"
   },
   {
    "duration": 628,
    "start_time": "2025-02-08T08:43:09.497Z"
   },
   {
    "duration": 108,
    "start_time": "2025-02-08T08:43:10.127Z"
   },
   {
    "duration": 80128,
    "start_time": "2025-02-08T08:43:10.237Z"
   },
   {
    "duration": 2591,
    "start_time": "2025-02-08T08:44:30.367Z"
   },
   {
    "duration": 342407,
    "start_time": "2025-02-08T08:44:32.960Z"
   },
   {
    "duration": 9790,
    "start_time": "2025-02-08T08:50:15.369Z"
   },
   {
    "duration": 3,
    "start_time": "2025-02-08T09:15:19.986Z"
   },
   {
    "duration": 1488,
    "start_time": "2025-02-08T09:20:36.564Z"
   },
   {
    "duration": 895,
    "start_time": "2025-02-08T09:20:38.054Z"
   },
   {
    "duration": 21,
    "start_time": "2025-02-08T09:20:38.951Z"
   },
   {
    "duration": 293,
    "start_time": "2025-02-08T09:20:38.974Z"
   },
   {
    "duration": 447,
    "start_time": "2025-02-08T09:20:39.269Z"
   },
   {
    "duration": 486,
    "start_time": "2025-02-08T09:20:39.718Z"
   },
   {
    "duration": 32,
    "start_time": "2025-02-08T09:20:40.205Z"
   },
   {
    "duration": 102,
    "start_time": "2025-02-08T09:20:40.239Z"
   },
   {
    "duration": 40,
    "start_time": "2025-02-08T09:20:40.343Z"
   },
   {
    "duration": 19,
    "start_time": "2025-02-08T09:20:40.384Z"
   },
   {
    "duration": 55,
    "start_time": "2025-02-08T09:20:40.404Z"
   },
   {
    "duration": 20,
    "start_time": "2025-02-08T09:20:40.460Z"
   },
   {
    "duration": 38,
    "start_time": "2025-02-08T09:20:40.481Z"
   },
   {
    "duration": 36,
    "start_time": "2025-02-08T09:20:40.522Z"
   },
   {
    "duration": 37,
    "start_time": "2025-02-08T09:20:40.560Z"
   },
   {
    "duration": 60,
    "start_time": "2025-02-08T09:20:40.598Z"
   },
   {
    "duration": 19,
    "start_time": "2025-02-08T09:20:40.660Z"
   },
   {
    "duration": 100,
    "start_time": "2025-02-08T09:20:40.681Z"
   },
   {
    "duration": 6,
    "start_time": "2025-02-08T09:20:40.782Z"
   },
   {
    "duration": 39,
    "start_time": "2025-02-08T09:20:40.789Z"
   },
   {
    "duration": 162,
    "start_time": "2025-02-08T09:20:40.830Z"
   },
   {
    "duration": 35,
    "start_time": "2025-02-08T09:20:40.993Z"
   },
   {
    "duration": 135,
    "start_time": "2025-02-08T09:20:41.029Z"
   },
   {
    "duration": 617,
    "start_time": "2025-02-08T09:20:41.166Z"
   },
   {
    "duration": 150,
    "start_time": "2025-02-08T09:20:41.785Z"
   },
   {
    "duration": 11,
    "start_time": "2025-02-08T09:20:41.936Z"
   },
   {
    "duration": 21,
    "start_time": "2025-02-08T09:20:41.957Z"
   },
   {
    "duration": 136,
    "start_time": "2025-02-08T09:20:41.980Z"
   },
   {
    "duration": 120,
    "start_time": "2025-02-08T09:20:42.118Z"
   },
   {
    "duration": 244,
    "start_time": "2025-02-08T09:20:42.239Z"
   },
   {
    "duration": 3117,
    "start_time": "2025-02-08T09:20:42.485Z"
   },
   {
    "duration": 624,
    "start_time": "2025-02-08T09:20:45.603Z"
   },
   {
    "duration": 107,
    "start_time": "2025-02-08T09:20:46.228Z"
   },
   {
    "duration": 103628,
    "start_time": "2025-02-08T09:20:46.337Z"
   },
   {
    "duration": 2609,
    "start_time": "2025-02-08T09:22:29.967Z"
   },
   {
    "duration": 2434,
    "start_time": "2025-02-08T09:56:37.791Z"
   },
   {
    "duration": 1578,
    "start_time": "2025-02-08T09:56:40.227Z"
   },
   {
    "duration": 869,
    "start_time": "2025-02-08T09:56:41.807Z"
   },
   {
    "duration": 18,
    "start_time": "2025-02-08T09:56:42.678Z"
   },
   {
    "duration": 265,
    "start_time": "2025-02-08T09:56:42.698Z"
   },
   {
    "duration": 487,
    "start_time": "2025-02-08T09:56:42.965Z"
   },
   {
    "duration": 525,
    "start_time": "2025-02-08T09:56:43.454Z"
   },
   {
    "duration": 33,
    "start_time": "2025-02-08T09:56:43.981Z"
   },
   {
    "duration": 104,
    "start_time": "2025-02-08T09:56:44.016Z"
   },
   {
    "duration": 40,
    "start_time": "2025-02-08T09:56:44.123Z"
   },
   {
    "duration": 19,
    "start_time": "2025-02-08T09:56:44.165Z"
   },
   {
    "duration": 39,
    "start_time": "2025-02-08T09:56:44.185Z"
   },
   {
    "duration": 44,
    "start_time": "2025-02-08T09:56:44.226Z"
   },
   {
    "duration": 39,
    "start_time": "2025-02-08T09:56:44.273Z"
   },
   {
    "duration": 18,
    "start_time": "2025-02-08T09:56:44.313Z"
   },
   {
    "duration": 54,
    "start_time": "2025-02-08T09:56:44.333Z"
   },
   {
    "duration": 51,
    "start_time": "2025-02-08T09:56:44.389Z"
   },
   {
    "duration": 37,
    "start_time": "2025-02-08T09:56:44.441Z"
   },
   {
    "duration": 96,
    "start_time": "2025-02-08T09:56:44.479Z"
   },
   {
    "duration": 5,
    "start_time": "2025-02-08T09:56:44.577Z"
   },
   {
    "duration": 33,
    "start_time": "2025-02-08T09:56:44.584Z"
   },
   {
    "duration": 176,
    "start_time": "2025-02-08T09:56:44.619Z"
   },
   {
    "duration": 25,
    "start_time": "2025-02-08T09:56:44.797Z"
   },
   {
    "duration": 138,
    "start_time": "2025-02-08T09:56:44.823Z"
   },
   {
    "duration": 657,
    "start_time": "2025-02-08T09:56:44.963Z"
   },
   {
    "duration": 160,
    "start_time": "2025-02-08T09:56:45.622Z"
   },
   {
    "duration": 12,
    "start_time": "2025-02-08T09:56:45.783Z"
   },
   {
    "duration": 22,
    "start_time": "2025-02-08T09:56:45.798Z"
   },
   {
    "duration": 163,
    "start_time": "2025-02-08T09:56:45.822Z"
   },
   {
    "duration": 135,
    "start_time": "2025-02-08T09:56:45.987Z"
   },
   {
    "duration": 255,
    "start_time": "2025-02-08T09:56:46.124Z"
   },
   {
    "duration": 3522,
    "start_time": "2025-02-08T09:56:46.380Z"
   },
   {
    "duration": 662,
    "start_time": "2025-02-08T09:56:49.903Z"
   },
   {
    "duration": 116,
    "start_time": "2025-02-08T09:56:50.567Z"
   },
   {
    "duration": 107681,
    "start_time": "2025-02-08T09:56:50.685Z"
   },
   {
    "duration": 1760298,
    "start_time": "2025-02-08T09:58:38.368Z"
   },
   {
    "duration": 9408,
    "start_time": "2025-02-08T10:27:58.667Z"
   },
   {
    "duration": 8227668,
    "start_time": "2025-02-08T19:50:44.013Z"
   },
   {
    "duration": 1157,
    "start_time": "2025-02-08T22:07:51.683Z"
   },
   {
    "duration": 2474,
    "start_time": "2025-02-09T10:27:56.838Z"
   },
   {
    "duration": 5,
    "start_time": "2025-02-09T10:27:59.315Z"
   },
   {
    "duration": 836,
    "start_time": "2025-02-09T10:27:59.321Z"
   },
   {
    "duration": 14,
    "start_time": "2025-02-09T10:28:00.159Z"
   },
   {
    "duration": 244,
    "start_time": "2025-02-09T10:28:00.174Z"
   },
   {
    "duration": 430,
    "start_time": "2025-02-09T10:28:00.420Z"
   },
   {
    "duration": 440,
    "start_time": "2025-02-09T10:28:00.852Z"
   },
   {
    "duration": 30,
    "start_time": "2025-02-09T10:28:01.294Z"
   },
   {
    "duration": 101,
    "start_time": "2025-02-09T10:28:01.326Z"
   },
   {
    "duration": 50,
    "start_time": "2025-02-09T10:28:01.430Z"
   },
   {
    "duration": 19,
    "start_time": "2025-02-09T10:28:01.482Z"
   },
   {
    "duration": 60,
    "start_time": "2025-02-09T10:28:01.502Z"
   },
   {
    "duration": 34,
    "start_time": "2025-02-09T10:28:01.564Z"
   },
   {
    "duration": 39,
    "start_time": "2025-02-09T10:28:01.600Z"
   },
   {
    "duration": 37,
    "start_time": "2025-02-09T10:28:01.641Z"
   },
   {
    "duration": 62,
    "start_time": "2025-02-09T10:28:01.680Z"
   },
   {
    "duration": 50,
    "start_time": "2025-02-09T10:28:01.744Z"
   },
   {
    "duration": 20,
    "start_time": "2025-02-09T10:28:01.796Z"
   },
   {
    "duration": 108,
    "start_time": "2025-02-09T10:28:01.817Z"
   },
   {
    "duration": 6,
    "start_time": "2025-02-09T10:28:01.927Z"
   },
   {
    "duration": 41,
    "start_time": "2025-02-09T10:28:01.935Z"
   },
   {
    "duration": 144,
    "start_time": "2025-02-09T10:28:01.978Z"
   },
   {
    "duration": 25,
    "start_time": "2025-02-09T10:28:02.123Z"
   },
   {
    "duration": 127,
    "start_time": "2025-02-09T10:28:02.157Z"
   },
   {
    "duration": 1313,
    "start_time": "2025-02-09T10:28:02.286Z"
   },
   {
    "duration": 202,
    "start_time": "2025-02-09T10:28:03.601Z"
   },
   {
    "duration": 13,
    "start_time": "2025-02-09T10:28:03.805Z"
   },
   {
    "duration": 38,
    "start_time": "2025-02-09T10:28:03.822Z"
   },
   {
    "duration": 143,
    "start_time": "2025-02-09T10:28:03.862Z"
   },
   {
    "duration": 128,
    "start_time": "2025-02-09T10:28:04.006Z"
   },
   {
    "duration": 250,
    "start_time": "2025-02-09T10:28:04.136Z"
   },
   {
    "duration": 195,
    "start_time": "2025-02-09T10:28:04.388Z"
   },
   {
    "duration": 1,
    "start_time": "2025-02-09T10:28:04.585Z"
   },
   {
    "duration": 0,
    "start_time": "2025-02-09T10:28:04.587Z"
   },
   {
    "duration": 0,
    "start_time": "2025-02-09T10:28:04.588Z"
   },
   {
    "duration": 0,
    "start_time": "2025-02-09T10:28:04.589Z"
   },
   {
    "duration": 0,
    "start_time": "2025-02-09T10:28:04.591Z"
   },
   {
    "duration": 0,
    "start_time": "2025-02-09T10:28:04.592Z"
   },
   {
    "duration": 0,
    "start_time": "2025-02-09T10:28:04.593Z"
   },
   {
    "duration": 0,
    "start_time": "2025-02-09T10:28:04.595Z"
   },
   {
    "duration": 0,
    "start_time": "2025-02-09T10:28:04.596Z"
   },
   {
    "duration": 3970,
    "start_time": "2025-02-09T10:28:44.929Z"
   },
   {
    "duration": 798,
    "start_time": "2025-02-09T10:28:48.901Z"
   },
   {
    "duration": 110,
    "start_time": "2025-02-09T10:28:49.701Z"
   },
   {
    "duration": 2415,
    "start_time": "2025-02-09T10:29:04.880Z"
   },
   {
    "duration": 1468,
    "start_time": "2025-02-09T10:29:07.297Z"
   },
   {
    "duration": 988,
    "start_time": "2025-02-09T10:29:08.767Z"
   },
   {
    "duration": 18,
    "start_time": "2025-02-09T10:29:09.759Z"
   },
   {
    "duration": 273,
    "start_time": "2025-02-09T10:29:09.779Z"
   },
   {
    "duration": 512,
    "start_time": "2025-02-09T10:29:10.054Z"
   },
   {
    "duration": 516,
    "start_time": "2025-02-09T10:29:10.567Z"
   },
   {
    "duration": 35,
    "start_time": "2025-02-09T10:29:11.085Z"
   },
   {
    "duration": 112,
    "start_time": "2025-02-09T10:29:11.122Z"
   },
   {
    "duration": 42,
    "start_time": "2025-02-09T10:29:11.238Z"
   },
   {
    "duration": 20,
    "start_time": "2025-02-09T10:29:11.282Z"
   },
   {
    "duration": 59,
    "start_time": "2025-02-09T10:29:11.303Z"
   },
   {
    "duration": 32,
    "start_time": "2025-02-09T10:29:11.364Z"
   },
   {
    "duration": 61,
    "start_time": "2025-02-09T10:29:11.398Z"
   },
   {
    "duration": 19,
    "start_time": "2025-02-09T10:29:11.460Z"
   },
   {
    "duration": 40,
    "start_time": "2025-02-09T10:29:11.481Z"
   },
   {
    "duration": 81,
    "start_time": "2025-02-09T10:29:11.522Z"
   },
   {
    "duration": 32,
    "start_time": "2025-02-09T10:29:11.605Z"
   },
   {
    "duration": 108,
    "start_time": "2025-02-09T10:29:11.639Z"
   },
   {
    "duration": 15,
    "start_time": "2025-02-09T10:29:11.749Z"
   },
   {
    "duration": 43,
    "start_time": "2025-02-09T10:29:11.766Z"
   },
   {
    "duration": 168,
    "start_time": "2025-02-09T10:29:11.810Z"
   },
   {
    "duration": 25,
    "start_time": "2025-02-09T10:29:11.980Z"
   },
   {
    "duration": 135,
    "start_time": "2025-02-09T10:29:12.007Z"
   },
   {
    "duration": 634,
    "start_time": "2025-02-09T10:29:12.143Z"
   },
   {
    "duration": 173,
    "start_time": "2025-02-09T10:29:12.780Z"
   },
   {
    "duration": 12,
    "start_time": "2025-02-09T10:29:12.955Z"
   },
   {
    "duration": 22,
    "start_time": "2025-02-09T10:29:12.971Z"
   },
   {
    "duration": 150,
    "start_time": "2025-02-09T10:29:12.995Z"
   },
   {
    "duration": 132,
    "start_time": "2025-02-09T10:29:13.146Z"
   },
   {
    "duration": 263,
    "start_time": "2025-02-09T10:29:13.280Z"
   },
   {
    "duration": 3662,
    "start_time": "2025-02-09T10:29:13.544Z"
   },
   {
    "duration": 636,
    "start_time": "2025-02-09T10:29:17.207Z"
   },
   {
    "duration": 118,
    "start_time": "2025-02-09T10:29:17.844Z"
   },
   {
    "duration": 101195,
    "start_time": "2025-02-09T10:29:17.964Z"
   },
   {
    "duration": 343198,
    "start_time": "2025-02-09T10:30:59.161Z"
   },
   {
    "duration": 732498,
    "start_time": "2025-02-09T10:36:42.361Z"
   },
   {
    "duration": 9915,
    "start_time": "2025-02-09T10:48:54.861Z"
   },
   {
    "duration": 49,
    "start_time": "2025-02-09T12:31:24.551Z"
   },
   {
    "duration": 8,
    "start_time": "2025-02-09T12:38:00.280Z"
   },
   {
    "duration": 2408,
    "start_time": "2025-02-09T12:38:37.428Z"
   },
   {
    "duration": 1516,
    "start_time": "2025-02-09T12:38:39.838Z"
   },
   {
    "duration": 869,
    "start_time": "2025-02-09T12:38:41.358Z"
   },
   {
    "duration": 16,
    "start_time": "2025-02-09T12:38:42.229Z"
   },
   {
    "duration": 245,
    "start_time": "2025-02-09T12:38:42.257Z"
   },
   {
    "duration": 467,
    "start_time": "2025-02-09T12:38:42.504Z"
   },
   {
    "duration": 515,
    "start_time": "2025-02-09T12:38:42.972Z"
   },
   {
    "duration": 33,
    "start_time": "2025-02-09T12:38:43.489Z"
   },
   {
    "duration": 103,
    "start_time": "2025-02-09T12:38:43.524Z"
   },
   {
    "duration": 41,
    "start_time": "2025-02-09T12:38:43.629Z"
   },
   {
    "duration": 20,
    "start_time": "2025-02-09T12:38:43.671Z"
   },
   {
    "duration": 36,
    "start_time": "2025-02-09T12:38:43.693Z"
   },
   {
    "duration": 37,
    "start_time": "2025-02-09T12:38:43.731Z"
   },
   {
    "duration": 43,
    "start_time": "2025-02-09T12:38:43.772Z"
   },
   {
    "duration": 19,
    "start_time": "2025-02-09T12:38:43.816Z"
   },
   {
    "duration": 50,
    "start_time": "2025-02-09T12:38:43.837Z"
   },
   {
    "duration": 51,
    "start_time": "2025-02-09T12:38:43.889Z"
   },
   {
    "duration": 32,
    "start_time": "2025-02-09T12:38:43.942Z"
   },
   {
    "duration": 107,
    "start_time": "2025-02-09T12:38:43.975Z"
   },
   {
    "duration": 7,
    "start_time": "2025-02-09T12:38:44.083Z"
   },
   {
    "duration": 33,
    "start_time": "2025-02-09T12:38:44.092Z"
   },
   {
    "duration": 165,
    "start_time": "2025-02-09T12:38:44.127Z"
   },
   {
    "duration": 26,
    "start_time": "2025-02-09T12:38:44.294Z"
   },
   {
    "duration": 141,
    "start_time": "2025-02-09T12:38:44.321Z"
   },
   {
    "duration": 597,
    "start_time": "2025-02-09T12:38:44.464Z"
   },
   {
    "duration": 175,
    "start_time": "2025-02-09T12:38:45.063Z"
   },
   {
    "duration": 25,
    "start_time": "2025-02-09T12:38:45.240Z"
   },
   {
    "duration": 23,
    "start_time": "2025-02-09T12:38:45.267Z"
   },
   {
    "duration": 138,
    "start_time": "2025-02-09T12:38:45.291Z"
   },
   {
    "duration": 127,
    "start_time": "2025-02-09T12:38:45.431Z"
   },
   {
    "duration": 247,
    "start_time": "2025-02-09T12:38:45.560Z"
   },
   {
    "duration": 3262,
    "start_time": "2025-02-09T12:38:45.809Z"
   },
   {
    "duration": 643,
    "start_time": "2025-02-09T12:38:49.073Z"
   },
   {
    "duration": 111,
    "start_time": "2025-02-09T12:38:49.718Z"
   },
   {
    "duration": 80034,
    "start_time": "2025-02-09T12:38:49.831Z"
   },
   {
    "duration": 0,
    "start_time": "2025-02-09T12:44:11.149Z"
   },
   {
    "duration": 0,
    "start_time": "2025-02-09T12:44:11.150Z"
   },
   {
    "duration": 0,
    "start_time": "2025-02-09T12:44:11.157Z"
   },
   {
    "duration": 0,
    "start_time": "2025-02-09T12:44:11.158Z"
   },
   {
    "duration": 0,
    "start_time": "2025-02-09T12:44:11.159Z"
   },
   {
    "duration": 0,
    "start_time": "2025-02-09T12:44:11.160Z"
   },
   {
    "duration": 2365,
    "start_time": "2025-02-09T12:44:15.603Z"
   },
   {
    "duration": 1455,
    "start_time": "2025-02-09T12:44:17.971Z"
   },
   {
    "duration": 848,
    "start_time": "2025-02-09T12:44:19.428Z"
   },
   {
    "duration": 17,
    "start_time": "2025-02-09T12:44:20.278Z"
   },
   {
    "duration": 283,
    "start_time": "2025-02-09T12:44:20.296Z"
   },
   {
    "duration": 478,
    "start_time": "2025-02-09T12:44:20.580Z"
   },
   {
    "duration": 487,
    "start_time": "2025-02-09T12:44:21.060Z"
   },
   {
    "duration": 45,
    "start_time": "2025-02-09T12:44:21.548Z"
   },
   {
    "duration": 104,
    "start_time": "2025-02-09T12:44:21.595Z"
   },
   {
    "duration": 37,
    "start_time": "2025-02-09T12:44:21.702Z"
   },
   {
    "duration": 32,
    "start_time": "2025-02-09T12:44:21.741Z"
   },
   {
    "duration": 37,
    "start_time": "2025-02-09T12:44:21.775Z"
   },
   {
    "duration": 19,
    "start_time": "2025-02-09T12:44:21.813Z"
   },
   {
    "duration": 57,
    "start_time": "2025-02-09T12:44:21.834Z"
   },
   {
    "duration": 20,
    "start_time": "2025-02-09T12:44:21.893Z"
   },
   {
    "duration": 47,
    "start_time": "2025-02-09T12:44:21.914Z"
   },
   {
    "duration": 48,
    "start_time": "2025-02-09T12:44:21.962Z"
   },
   {
    "duration": 20,
    "start_time": "2025-02-09T12:44:22.012Z"
   },
   {
    "duration": 112,
    "start_time": "2025-02-09T12:44:22.033Z"
   },
   {
    "duration": 14,
    "start_time": "2025-02-09T12:44:22.147Z"
   },
   {
    "duration": 41,
    "start_time": "2025-02-09T12:44:22.162Z"
   },
   {
    "duration": 156,
    "start_time": "2025-02-09T12:44:22.205Z"
   },
   {
    "duration": 30,
    "start_time": "2025-02-09T12:44:22.362Z"
   },
   {
    "duration": 133,
    "start_time": "2025-02-09T12:44:22.394Z"
   },
   {
    "duration": 600,
    "start_time": "2025-02-09T12:44:22.529Z"
   },
   {
    "duration": 154,
    "start_time": "2025-02-09T12:44:23.130Z"
   },
   {
    "duration": 11,
    "start_time": "2025-02-09T12:44:23.286Z"
   },
   {
    "duration": 22,
    "start_time": "2025-02-09T12:44:23.300Z"
   },
   {
    "duration": 172,
    "start_time": "2025-02-09T12:44:23.323Z"
   },
   {
    "duration": 125,
    "start_time": "2025-02-09T12:44:23.497Z"
   },
   {
    "duration": 248,
    "start_time": "2025-02-09T12:44:23.624Z"
   },
   {
    "duration": 3229,
    "start_time": "2025-02-09T12:44:23.873Z"
   },
   {
    "duration": 611,
    "start_time": "2025-02-09T12:44:27.104Z"
   },
   {
    "duration": 110,
    "start_time": "2025-02-09T12:44:27.716Z"
   },
   {
    "duration": 81137,
    "start_time": "2025-02-09T12:44:27.828Z"
   },
   {
    "duration": 334586,
    "start_time": "2025-02-09T12:45:48.967Z"
   },
   {
    "duration": 2380,
    "start_time": "2025-02-09T12:52:17.949Z"
   },
   {
    "duration": 1527,
    "start_time": "2025-02-09T12:52:20.331Z"
   },
   {
    "duration": 873,
    "start_time": "2025-02-09T12:52:21.859Z"
   },
   {
    "duration": 25,
    "start_time": "2025-02-09T12:52:22.734Z"
   },
   {
    "duration": 249,
    "start_time": "2025-02-09T12:52:22.761Z"
   },
   {
    "duration": 477,
    "start_time": "2025-02-09T12:52:23.012Z"
   },
   {
    "duration": 529,
    "start_time": "2025-02-09T12:52:23.490Z"
   },
   {
    "duration": 38,
    "start_time": "2025-02-09T12:52:24.021Z"
   },
   {
    "duration": 104,
    "start_time": "2025-02-09T12:52:24.061Z"
   },
   {
    "duration": 37,
    "start_time": "2025-02-09T12:52:24.168Z"
   },
   {
    "duration": 23,
    "start_time": "2025-02-09T12:52:24.206Z"
   },
   {
    "duration": 53,
    "start_time": "2025-02-09T12:52:24.231Z"
   },
   {
    "duration": 21,
    "start_time": "2025-02-09T12:52:24.286Z"
   },
   {
    "duration": 51,
    "start_time": "2025-02-09T12:52:24.308Z"
   },
   {
    "duration": 21,
    "start_time": "2025-02-09T12:52:24.361Z"
   },
   {
    "duration": 38,
    "start_time": "2025-02-09T12:52:24.383Z"
   },
   {
    "duration": 69,
    "start_time": "2025-02-09T12:52:24.423Z"
   },
   {
    "duration": 21,
    "start_time": "2025-02-09T12:52:24.493Z"
   },
   {
    "duration": 107,
    "start_time": "2025-02-09T12:52:24.516Z"
   },
   {
    "duration": 5,
    "start_time": "2025-02-09T12:52:24.625Z"
   },
   {
    "duration": 46,
    "start_time": "2025-02-09T12:52:24.632Z"
   },
   {
    "duration": 146,
    "start_time": "2025-02-09T12:52:24.680Z"
   },
   {
    "duration": 30,
    "start_time": "2025-02-09T12:52:24.828Z"
   },
   {
    "duration": 124,
    "start_time": "2025-02-09T12:52:24.859Z"
   },
   {
    "duration": 631,
    "start_time": "2025-02-09T12:52:24.984Z"
   },
   {
    "duration": 149,
    "start_time": "2025-02-09T12:52:25.617Z"
   },
   {
    "duration": 11,
    "start_time": "2025-02-09T12:52:25.768Z"
   },
   {
    "duration": 21,
    "start_time": "2025-02-09T12:52:25.782Z"
   },
   {
    "duration": 147,
    "start_time": "2025-02-09T12:52:25.804Z"
   },
   {
    "duration": 124,
    "start_time": "2025-02-09T12:52:25.957Z"
   },
   {
    "duration": 275,
    "start_time": "2025-02-09T12:52:26.083Z"
   },
   {
    "duration": 3393,
    "start_time": "2025-02-09T12:52:26.359Z"
   },
   {
    "duration": 637,
    "start_time": "2025-02-09T12:52:29.754Z"
   },
   {
    "duration": 116,
    "start_time": "2025-02-09T12:52:30.392Z"
   },
   {
    "duration": 82352,
    "start_time": "2025-02-09T12:52:30.509Z"
   },
   {
    "duration": 335023,
    "start_time": "2025-02-09T12:53:52.864Z"
   },
   {
    "duration": 313177,
    "start_time": "2025-02-09T12:59:27.888Z"
   },
   {
    "duration": 177,
    "start_time": "2025-02-09T13:04:41.067Z"
   },
   {
    "duration": 0,
    "start_time": "2025-02-09T13:04:41.246Z"
   },
   {
    "duration": 269210,
    "start_time": "2025-02-09T13:28:00.966Z"
   },
   {
    "duration": 10,
    "start_time": "2025-02-09T13:33:48.739Z"
   },
   {
    "duration": 2608,
    "start_time": "2025-02-10T11:04:10.115Z"
   },
   {
    "duration": 1676,
    "start_time": "2025-02-10T11:04:12.726Z"
   },
   {
    "duration": 830,
    "start_time": "2025-02-10T11:04:16.090Z"
   },
   {
    "duration": 21,
    "start_time": "2025-02-10T11:04:17.763Z"
   },
   {
    "duration": 231,
    "start_time": "2025-02-10T11:04:21.297Z"
   },
   {
    "duration": 457,
    "start_time": "2025-02-10T11:04:25.354Z"
   },
   {
    "duration": 468,
    "start_time": "2025-02-10T11:04:27.219Z"
   },
   {
    "duration": 32,
    "start_time": "2025-02-10T11:04:30.350Z"
   },
   {
    "duration": 95,
    "start_time": "2025-02-10T11:04:34.690Z"
   },
   {
    "duration": 36,
    "start_time": "2025-02-10T11:04:38.350Z"
   },
   {
    "duration": 20,
    "start_time": "2025-02-10T11:04:43.162Z"
   },
   {
    "duration": 37,
    "start_time": "2025-02-10T11:04:47.548Z"
   },
   {
    "duration": 2309,
    "start_time": "2025-02-10T11:07:18.631Z"
   },
   {
    "duration": 1452,
    "start_time": "2025-02-10T11:07:20.942Z"
   },
   {
    "duration": 848,
    "start_time": "2025-02-10T11:07:26.809Z"
   },
   {
    "duration": 17,
    "start_time": "2025-02-10T11:07:28.397Z"
   },
   {
    "duration": 266,
    "start_time": "2025-02-10T11:07:32.276Z"
   },
   {
    "duration": 360,
    "start_time": "2025-02-10T11:08:15.784Z"
   },
   {
    "duration": 5,
    "start_time": "2025-02-10T11:08:27.358Z"
   },
   {
    "duration": 100,
    "start_time": "2025-02-10T11:11:13.685Z"
   },
   {
    "duration": 421,
    "start_time": "2025-02-10T11:11:27.442Z"
   },
   {
    "duration": 458,
    "start_time": "2025-02-10T11:11:29.932Z"
   },
   {
    "duration": 35,
    "start_time": "2025-02-10T11:11:32.391Z"
   },
   {
    "duration": 98,
    "start_time": "2025-02-10T11:11:35.536Z"
   },
   {
    "duration": 36,
    "start_time": "2025-02-10T11:11:37.858Z"
   },
   {
    "duration": 21,
    "start_time": "2025-02-10T11:11:41.160Z"
   },
   {
    "duration": 36,
    "start_time": "2025-02-10T11:11:43.464Z"
   },
   {
    "duration": 19,
    "start_time": "2025-02-10T11:11:46.466Z"
   },
   {
    "duration": 40,
    "start_time": "2025-02-10T11:11:48.431Z"
   },
   {
    "duration": 19,
    "start_time": "2025-02-10T11:11:51.421Z"
   },
   {
    "duration": 36,
    "start_time": "2025-02-10T11:11:54.892Z"
   },
   {
    "duration": 50,
    "start_time": "2025-02-10T11:12:49.311Z"
   },
   {
    "duration": 21,
    "start_time": "2025-02-10T11:12:53.925Z"
   },
   {
    "duration": 89,
    "start_time": "2025-02-10T11:12:57.660Z"
   },
   {
    "duration": 7,
    "start_time": "2025-02-10T11:13:02.692Z"
   },
   {
    "duration": 34,
    "start_time": "2025-02-10T11:13:14.093Z"
   },
   {
    "duration": 155,
    "start_time": "2025-02-10T11:14:32.211Z"
   },
   {
    "duration": 24,
    "start_time": "2025-02-10T11:14:40.923Z"
   },
   {
    "duration": 2433,
    "start_time": "2025-02-10T11:17:48.511Z"
   },
   {
    "duration": 1422,
    "start_time": "2025-02-10T11:17:50.947Z"
   },
   {
    "duration": 890,
    "start_time": "2025-02-10T11:17:52.371Z"
   },
   {
    "duration": 17,
    "start_time": "2025-02-10T11:17:53.263Z"
   },
   {
    "duration": 258,
    "start_time": "2025-02-10T11:17:53.282Z"
   },
   {
    "duration": 113,
    "start_time": "2025-02-10T11:17:53.542Z"
   },
   {
    "duration": 412,
    "start_time": "2025-02-10T11:17:53.657Z"
   },
   {
    "duration": 442,
    "start_time": "2025-02-10T11:17:54.071Z"
   },
   {
    "duration": 28,
    "start_time": "2025-02-10T11:17:54.514Z"
   },
   {
    "duration": 108,
    "start_time": "2025-02-10T11:17:54.545Z"
   },
   {
    "duration": 41,
    "start_time": "2025-02-10T11:17:54.654Z"
   },
   {
    "duration": 27,
    "start_time": "2025-02-10T11:17:54.697Z"
   },
   {
    "duration": 59,
    "start_time": "2025-02-10T11:17:54.726Z"
   },
   {
    "duration": 20,
    "start_time": "2025-02-10T11:17:54.787Z"
   },
   {
    "duration": 39,
    "start_time": "2025-02-10T11:17:54.809Z"
   },
   {
    "duration": 24,
    "start_time": "2025-02-10T11:17:54.849Z"
   },
   {
    "duration": 67,
    "start_time": "2025-02-10T11:17:54.874Z"
   },
   {
    "duration": 53,
    "start_time": "2025-02-10T11:17:54.943Z"
   },
   {
    "duration": 27,
    "start_time": "2025-02-10T11:17:54.997Z"
   },
   {
    "duration": 101,
    "start_time": "2025-02-10T11:17:55.026Z"
   },
   {
    "duration": 5,
    "start_time": "2025-02-10T11:17:55.129Z"
   },
   {
    "duration": 53,
    "start_time": "2025-02-10T11:17:55.135Z"
   },
   {
    "duration": 1032,
    "start_time": "2025-02-10T11:18:13.688Z"
   },
   {
    "duration": 979,
    "start_time": "2025-02-10T11:18:26.108Z"
   },
   {
    "duration": 16,
    "start_time": "2025-02-10T11:18:36.764Z"
   },
   {
    "duration": 35,
    "start_time": "2025-02-10T11:27:11.696Z"
   },
   {
    "duration": 30,
    "start_time": "2025-02-10T11:28:01.314Z"
   },
   {
    "duration": 31,
    "start_time": "2025-02-10T11:28:26.393Z"
   },
   {
    "duration": 9,
    "start_time": "2025-02-10T11:28:39.980Z"
   },
   {
    "duration": 32,
    "start_time": "2025-02-10T11:28:46.607Z"
   },
   {
    "duration": 64,
    "start_time": "2025-02-10T11:55:19.766Z"
   },
   {
    "duration": 26,
    "start_time": "2025-02-10T11:56:56.099Z"
   },
   {
    "duration": 139,
    "start_time": "2025-02-10T11:57:02.164Z"
   },
   {
    "duration": 603,
    "start_time": "2025-02-10T11:57:14.710Z"
   },
   {
    "duration": 149,
    "start_time": "2025-02-10T11:57:19.624Z"
   },
   {
    "duration": 10,
    "start_time": "2025-02-10T11:57:34.858Z"
   },
   {
    "duration": 24,
    "start_time": "2025-02-10T11:57:42.945Z"
   },
   {
    "duration": 145,
    "start_time": "2025-02-10T11:58:33.976Z"
   },
   {
    "duration": 133,
    "start_time": "2025-02-10T11:58:53.589Z"
   },
   {
    "duration": 274,
    "start_time": "2025-02-10T11:58:56.393Z"
   },
   {
    "duration": 85,
    "start_time": "2025-02-10T12:00:43.767Z"
   },
   {
    "duration": 0,
    "start_time": "2025-02-10T12:00:43.854Z"
   },
   {
    "duration": 0,
    "start_time": "2025-02-10T12:00:43.855Z"
   },
   {
    "duration": 0,
    "start_time": "2025-02-10T12:00:43.856Z"
   },
   {
    "duration": 0,
    "start_time": "2025-02-10T12:00:43.857Z"
   },
   {
    "duration": 0,
    "start_time": "2025-02-10T12:00:43.858Z"
   },
   {
    "duration": 0,
    "start_time": "2025-02-10T12:00:43.859Z"
   },
   {
    "duration": 1400,
    "start_time": "2025-02-10T12:03:10.803Z"
   },
   {
    "duration": 3895,
    "start_time": "2025-02-10T12:03:24.616Z"
   },
   {
    "duration": 4576,
    "start_time": "2025-02-10T12:03:39.214Z"
   },
   {
    "duration": 14,
    "start_time": "2025-02-10T12:03:52.872Z"
   },
   {
    "duration": 0,
    "start_time": "2025-02-10T12:03:52.889Z"
   },
   {
    "duration": 0,
    "start_time": "2025-02-10T12:03:52.890Z"
   },
   {
    "duration": 16,
    "start_time": "2025-02-10T12:03:52.892Z"
   },
   {
    "duration": 0,
    "start_time": "2025-02-10T12:03:52.911Z"
   },
   {
    "duration": 0,
    "start_time": "2025-02-10T12:03:52.912Z"
   },
   {
    "duration": 3,
    "start_time": "2025-02-10T12:04:11.416Z"
   },
   {
    "duration": 793,
    "start_time": "2025-02-10T12:04:16.506Z"
   },
   {
    "duration": 158,
    "start_time": "2025-02-10T12:04:25.743Z"
   },
   {
    "duration": 0,
    "start_time": "2025-02-10T12:04:25.903Z"
   },
   {
    "duration": 0,
    "start_time": "2025-02-10T12:04:25.904Z"
   },
   {
    "duration": 0,
    "start_time": "2025-02-10T12:04:25.906Z"
   },
   {
    "duration": 0,
    "start_time": "2025-02-10T12:04:25.907Z"
   },
   {
    "duration": 2421,
    "start_time": "2025-02-10T12:04:54.143Z"
   },
   {
    "duration": 1415,
    "start_time": "2025-02-10T12:04:56.566Z"
   },
   {
    "duration": 885,
    "start_time": "2025-02-10T12:04:57.983Z"
   },
   {
    "duration": 20,
    "start_time": "2025-02-10T12:04:58.871Z"
   },
   {
    "duration": 293,
    "start_time": "2025-02-10T12:04:58.893Z"
   },
   {
    "duration": 110,
    "start_time": "2025-02-10T12:04:59.187Z"
   },
   {
    "duration": 429,
    "start_time": "2025-02-10T12:04:59.299Z"
   },
   {
    "duration": 448,
    "start_time": "2025-02-10T12:04:59.730Z"
   },
   {
    "duration": 36,
    "start_time": "2025-02-10T12:05:00.180Z"
   },
   {
    "duration": 141,
    "start_time": "2025-02-10T12:05:00.218Z"
   },
   {
    "duration": 96,
    "start_time": "2025-02-10T12:05:00.361Z"
   },
   {
    "duration": 37,
    "start_time": "2025-02-10T12:05:00.459Z"
   },
   {
    "duration": 41,
    "start_time": "2025-02-10T12:05:00.498Z"
   },
   {
    "duration": 35,
    "start_time": "2025-02-10T12:05:00.541Z"
   },
   {
    "duration": 40,
    "start_time": "2025-02-10T12:05:00.578Z"
   },
   {
    "duration": 40,
    "start_time": "2025-02-10T12:05:00.619Z"
   },
   {
    "duration": 37,
    "start_time": "2025-02-10T12:05:00.661Z"
   },
   {
    "duration": 53,
    "start_time": "2025-02-10T12:05:00.700Z"
   },
   {
    "duration": 21,
    "start_time": "2025-02-10T12:05:00.755Z"
   },
   {
    "duration": 101,
    "start_time": "2025-02-10T12:05:00.777Z"
   },
   {
    "duration": 10,
    "start_time": "2025-02-10T12:05:00.880Z"
   },
   {
    "duration": 66,
    "start_time": "2025-02-10T12:05:00.891Z"
   },
   {
    "duration": 140,
    "start_time": "2025-02-10T12:05:00.959Z"
   },
   {
    "duration": 19,
    "start_time": "2025-02-10T12:05:01.101Z"
   },
   {
    "duration": 42,
    "start_time": "2025-02-10T12:05:01.123Z"
   },
   {
    "duration": 44,
    "start_time": "2025-02-10T12:05:01.167Z"
   },
   {
    "duration": 32,
    "start_time": "2025-02-10T12:05:01.213Z"
   },
   {
    "duration": 31,
    "start_time": "2025-02-10T12:05:01.248Z"
   },
   {
    "duration": 92,
    "start_time": "2025-02-10T12:05:01.281Z"
   },
   {
    "duration": 25,
    "start_time": "2025-02-10T12:05:01.375Z"
   },
   {
    "duration": 150,
    "start_time": "2025-02-10T12:05:01.402Z"
   },
   {
    "duration": 621,
    "start_time": "2025-02-10T12:05:01.554Z"
   },
   {
    "duration": 183,
    "start_time": "2025-02-10T12:05:02.177Z"
   },
   {
    "duration": 12,
    "start_time": "2025-02-10T12:05:02.363Z"
   },
   {
    "duration": 79,
    "start_time": "2025-02-10T12:05:02.376Z"
   },
   {
    "duration": 152,
    "start_time": "2025-02-10T12:05:02.457Z"
   },
   {
    "duration": 296,
    "start_time": "2025-02-10T12:05:02.610Z"
   },
   {
    "duration": 4750,
    "start_time": "2025-02-10T12:05:02.910Z"
   },
   {
    "duration": 818,
    "start_time": "2025-02-10T12:05:07.662Z"
   },
   {
    "duration": 269,
    "start_time": "2025-02-10T12:05:08.482Z"
   },
   {
    "duration": 0,
    "start_time": "2025-02-10T12:05:08.752Z"
   },
   {
    "duration": 0,
    "start_time": "2025-02-10T12:05:08.754Z"
   },
   {
    "duration": 1,
    "start_time": "2025-02-10T12:05:08.754Z"
   },
   {
    "duration": 0,
    "start_time": "2025-02-10T12:05:08.755Z"
   },
   {
    "duration": 2411,
    "start_time": "2025-02-10T12:16:38.413Z"
   },
   {
    "duration": 1448,
    "start_time": "2025-02-10T12:16:40.827Z"
   },
   {
    "duration": 865,
    "start_time": "2025-02-10T12:16:42.277Z"
   },
   {
    "duration": 18,
    "start_time": "2025-02-10T12:16:43.144Z"
   },
   {
    "duration": 282,
    "start_time": "2025-02-10T12:16:43.163Z"
   },
   {
    "duration": 108,
    "start_time": "2025-02-10T12:16:43.446Z"
   },
   {
    "duration": 438,
    "start_time": "2025-02-10T12:16:43.556Z"
   },
   {
    "duration": 442,
    "start_time": "2025-02-10T12:16:43.996Z"
   },
   {
    "duration": 34,
    "start_time": "2025-02-10T12:16:44.440Z"
   },
   {
    "duration": 108,
    "start_time": "2025-02-10T12:16:44.478Z"
   },
   {
    "duration": 43,
    "start_time": "2025-02-10T12:16:44.588Z"
   },
   {
    "duration": 74,
    "start_time": "2025-02-10T12:16:44.632Z"
   },
   {
    "duration": 39,
    "start_time": "2025-02-10T12:16:44.708Z"
   },
   {
    "duration": 30,
    "start_time": "2025-02-10T12:16:44.749Z"
   },
   {
    "duration": 53,
    "start_time": "2025-02-10T12:16:44.780Z"
   },
   {
    "duration": 37,
    "start_time": "2025-02-10T12:16:44.835Z"
   },
   {
    "duration": 39,
    "start_time": "2025-02-10T12:16:44.874Z"
   },
   {
    "duration": 65,
    "start_time": "2025-02-10T12:16:44.915Z"
   },
   {
    "duration": 20,
    "start_time": "2025-02-10T12:16:44.982Z"
   },
   {
    "duration": 172,
    "start_time": "2025-02-10T12:16:45.003Z"
   },
   {
    "duration": 71,
    "start_time": "2025-02-10T12:16:45.177Z"
   },
   {
    "duration": 74,
    "start_time": "2025-02-10T12:16:45.249Z"
   },
   {
    "duration": 146,
    "start_time": "2025-02-10T12:16:45.325Z"
   },
   {
    "duration": 16,
    "start_time": "2025-02-10T12:16:45.472Z"
   },
   {
    "duration": 57,
    "start_time": "2025-02-10T12:16:45.489Z"
   },
   {
    "duration": 71,
    "start_time": "2025-02-10T12:16:45.547Z"
   },
   {
    "duration": 34,
    "start_time": "2025-02-10T12:16:45.620Z"
   },
   {
    "duration": 44,
    "start_time": "2025-02-10T12:16:45.658Z"
   },
   {
    "duration": 71,
    "start_time": "2025-02-10T12:16:45.704Z"
   },
   {
    "duration": 37,
    "start_time": "2025-02-10T12:16:45.777Z"
   },
   {
    "duration": 124,
    "start_time": "2025-02-10T12:16:45.816Z"
   },
   {
    "duration": 649,
    "start_time": "2025-02-10T12:16:45.942Z"
   },
   {
    "duration": 154,
    "start_time": "2025-02-10T12:16:46.593Z"
   },
   {
    "duration": 10,
    "start_time": "2025-02-10T12:16:46.749Z"
   },
   {
    "duration": 24,
    "start_time": "2025-02-10T12:16:46.760Z"
   },
   {
    "duration": 151,
    "start_time": "2025-02-10T12:16:46.786Z"
   },
   {
    "duration": 272,
    "start_time": "2025-02-10T12:16:46.939Z"
   },
   {
    "duration": 191,
    "start_time": "2025-02-10T12:16:47.213Z"
   },
   {
    "duration": 0,
    "start_time": "2025-02-10T12:16:47.406Z"
   },
   {
    "duration": 0,
    "start_time": "2025-02-10T12:16:47.409Z"
   },
   {
    "duration": 0,
    "start_time": "2025-02-10T12:16:47.410Z"
   },
   {
    "duration": 0,
    "start_time": "2025-02-10T12:16:47.411Z"
   },
   {
    "duration": 0,
    "start_time": "2025-02-10T12:16:47.412Z"
   },
   {
    "duration": 0,
    "start_time": "2025-02-10T12:16:47.413Z"
   },
   {
    "duration": 110,
    "start_time": "2025-02-10T12:19:52.955Z"
   },
   {
    "duration": 88,
    "start_time": "2025-02-10T12:20:00.454Z"
   },
   {
    "duration": 4542,
    "start_time": "2025-02-10T12:26:45.580Z"
   },
   {
    "duration": 760,
    "start_time": "2025-02-10T12:26:50.415Z"
   },
   {
    "duration": 161,
    "start_time": "2025-02-10T12:26:57.625Z"
   },
   {
    "duration": 0,
    "start_time": "2025-02-10T12:26:57.788Z"
   },
   {
    "duration": 0,
    "start_time": "2025-02-10T12:26:57.789Z"
   },
   {
    "duration": 0,
    "start_time": "2025-02-10T12:26:57.790Z"
   },
   {
    "duration": 0,
    "start_time": "2025-02-10T12:26:57.791Z"
   },
   {
    "duration": 2446,
    "start_time": "2025-02-10T12:28:46.412Z"
   },
   {
    "duration": 1428,
    "start_time": "2025-02-10T12:28:48.861Z"
   },
   {
    "duration": 889,
    "start_time": "2025-02-10T12:28:50.293Z"
   },
   {
    "duration": 17,
    "start_time": "2025-02-10T12:28:51.184Z"
   },
   {
    "duration": 260,
    "start_time": "2025-02-10T12:28:51.209Z"
   },
   {
    "duration": 111,
    "start_time": "2025-02-10T12:28:51.471Z"
   },
   {
    "duration": 419,
    "start_time": "2025-02-10T12:28:51.584Z"
   },
   {
    "duration": 491,
    "start_time": "2025-02-10T12:28:52.004Z"
   },
   {
    "duration": 41,
    "start_time": "2025-02-10T12:28:52.497Z"
   },
   {
    "duration": 105,
    "start_time": "2025-02-10T12:28:52.541Z"
   },
   {
    "duration": 37,
    "start_time": "2025-02-10T12:28:52.648Z"
   },
   {
    "duration": 78,
    "start_time": "2025-02-10T12:28:52.687Z"
   },
   {
    "duration": 41,
    "start_time": "2025-02-10T12:28:52.767Z"
   },
   {
    "duration": 22,
    "start_time": "2025-02-10T12:28:52.810Z"
   },
   {
    "duration": 48,
    "start_time": "2025-02-10T12:28:52.834Z"
   },
   {
    "duration": 29,
    "start_time": "2025-02-10T12:28:52.884Z"
   },
   {
    "duration": 73,
    "start_time": "2025-02-10T12:28:52.915Z"
   },
   {
    "duration": 67,
    "start_time": "2025-02-10T12:28:52.990Z"
   },
   {
    "duration": 21,
    "start_time": "2025-02-10T12:28:53.058Z"
   },
   {
    "duration": 106,
    "start_time": "2025-02-10T12:28:53.081Z"
   },
   {
    "duration": 6,
    "start_time": "2025-02-10T12:28:53.188Z"
   },
   {
    "duration": 48,
    "start_time": "2025-02-10T12:28:53.196Z"
   },
   {
    "duration": 153,
    "start_time": "2025-02-10T12:28:53.245Z"
   },
   {
    "duration": 23,
    "start_time": "2025-02-10T12:28:53.399Z"
   },
   {
    "duration": 35,
    "start_time": "2025-02-10T12:28:53.423Z"
   },
   {
    "duration": 51,
    "start_time": "2025-02-10T12:28:53.460Z"
   },
   {
    "duration": 33,
    "start_time": "2025-02-10T12:28:53.512Z"
   },
   {
    "duration": 33,
    "start_time": "2025-02-10T12:28:53.548Z"
   },
   {
    "duration": 59,
    "start_time": "2025-02-10T12:28:53.582Z"
   },
   {
    "duration": 25,
    "start_time": "2025-02-10T12:28:53.642Z"
   },
   {
    "duration": 134,
    "start_time": "2025-02-10T12:28:53.669Z"
   },
   {
    "duration": 634,
    "start_time": "2025-02-10T12:28:53.808Z"
   },
   {
    "duration": 162,
    "start_time": "2025-02-10T12:28:54.443Z"
   },
   {
    "duration": 10,
    "start_time": "2025-02-10T12:28:54.606Z"
   },
   {
    "duration": 24,
    "start_time": "2025-02-10T12:28:54.617Z"
   },
   {
    "duration": 157,
    "start_time": "2025-02-10T12:28:54.642Z"
   },
   {
    "duration": 283,
    "start_time": "2025-02-10T12:28:54.800Z"
   },
   {
    "duration": 4467,
    "start_time": "2025-02-10T12:28:55.085Z"
   },
   {
    "duration": 812,
    "start_time": "2025-02-10T12:28:59.553Z"
   },
   {
    "duration": 269,
    "start_time": "2025-02-10T12:29:00.367Z"
   },
   {
    "duration": 0,
    "start_time": "2025-02-10T12:29:00.638Z"
   },
   {
    "duration": 0,
    "start_time": "2025-02-10T12:29:00.639Z"
   },
   {
    "duration": 0,
    "start_time": "2025-02-10T12:29:00.640Z"
   },
   {
    "duration": 0,
    "start_time": "2025-02-10T12:29:00.641Z"
   },
   {
    "duration": 4475,
    "start_time": "2025-02-10T12:32:29.178Z"
   },
   {
    "duration": 791,
    "start_time": "2025-02-10T12:32:33.655Z"
   },
   {
    "duration": 158,
    "start_time": "2025-02-10T12:32:35.984Z"
   },
   {
    "duration": 74,
    "start_time": "2025-02-10T12:33:06.744Z"
   },
   {
    "duration": 320,
    "start_time": "2025-02-10T12:33:30.547Z"
   },
   {
    "duration": 73,
    "start_time": "2025-02-10T12:41:43.486Z"
   },
   {
    "duration": 2525,
    "start_time": "2025-02-10T12:43:51.541Z"
   },
   {
    "duration": 4,
    "start_time": "2025-02-10T12:43:54.069Z"
   },
   {
    "duration": 869,
    "start_time": "2025-02-10T12:43:54.075Z"
   },
   {
    "duration": 14,
    "start_time": "2025-02-10T12:43:54.946Z"
   },
   {
    "duration": 238,
    "start_time": "2025-02-10T12:43:54.961Z"
   },
   {
    "duration": 81,
    "start_time": "2025-02-10T12:43:55.201Z"
   },
   {
    "duration": 392,
    "start_time": "2025-02-10T12:43:55.283Z"
   },
   {
    "duration": 386,
    "start_time": "2025-02-10T12:43:55.677Z"
   },
   {
    "duration": 22,
    "start_time": "2025-02-10T12:43:56.064Z"
   },
   {
    "duration": 113,
    "start_time": "2025-02-10T12:43:56.089Z"
   },
   {
    "duration": 36,
    "start_time": "2025-02-10T12:43:56.210Z"
   },
   {
    "duration": 21,
    "start_time": "2025-02-10T12:43:56.247Z"
   },
   {
    "duration": 54,
    "start_time": "2025-02-10T12:43:56.269Z"
   },
   {
    "duration": 20,
    "start_time": "2025-02-10T12:43:56.325Z"
   },
   {
    "duration": 42,
    "start_time": "2025-02-10T12:43:56.347Z"
   },
   {
    "duration": 32,
    "start_time": "2025-02-10T12:43:56.391Z"
   },
   {
    "duration": 39,
    "start_time": "2025-02-10T12:43:56.425Z"
   },
   {
    "duration": 68,
    "start_time": "2025-02-10T12:43:56.465Z"
   },
   {
    "duration": 22,
    "start_time": "2025-02-10T12:43:56.535Z"
   },
   {
    "duration": 114,
    "start_time": "2025-02-10T12:43:56.559Z"
   },
   {
    "duration": 6,
    "start_time": "2025-02-10T12:43:56.674Z"
   },
   {
    "duration": 43,
    "start_time": "2025-02-10T12:43:56.681Z"
   },
   {
    "duration": 151,
    "start_time": "2025-02-10T12:43:56.726Z"
   },
   {
    "duration": 15,
    "start_time": "2025-02-10T12:43:56.879Z"
   },
   {
    "duration": 47,
    "start_time": "2025-02-10T12:43:56.896Z"
   },
   {
    "duration": 49,
    "start_time": "2025-02-10T12:43:56.945Z"
   },
   {
    "duration": 32,
    "start_time": "2025-02-10T12:43:56.995Z"
   },
   {
    "duration": 30,
    "start_time": "2025-02-10T12:43:57.031Z"
   },
   {
    "duration": 53,
    "start_time": "2025-02-10T12:43:57.063Z"
   },
   {
    "duration": 26,
    "start_time": "2025-02-10T12:43:57.118Z"
   },
   {
    "duration": 142,
    "start_time": "2025-02-10T12:43:57.146Z"
   },
   {
    "duration": 544,
    "start_time": "2025-02-10T12:43:57.289Z"
   },
   {
    "duration": 166,
    "start_time": "2025-02-10T12:43:57.835Z"
   },
   {
    "duration": 144,
    "start_time": "2025-02-10T12:43:58.002Z"
   },
   {
    "duration": 281,
    "start_time": "2025-02-10T12:43:58.148Z"
   },
   {
    "duration": 82,
    "start_time": "2025-02-10T12:43:58.431Z"
   },
   {
    "duration": 2459,
    "start_time": "2025-02-10T12:44:15.809Z"
   },
   {
    "duration": 1506,
    "start_time": "2025-02-10T12:44:18.271Z"
   },
   {
    "duration": 1658,
    "start_time": "2025-02-10T12:44:19.778Z"
   },
   {
    "duration": 19,
    "start_time": "2025-02-10T12:44:21.438Z"
   },
   {
    "duration": 416,
    "start_time": "2025-02-10T12:44:21.460Z"
   },
   {
    "duration": 135,
    "start_time": "2025-02-10T12:44:21.878Z"
   },
   {
    "duration": 483,
    "start_time": "2025-02-10T12:44:22.015Z"
   },
   {
    "duration": 514,
    "start_time": "2025-02-10T12:44:22.499Z"
   },
   {
    "duration": 37,
    "start_time": "2025-02-10T12:44:23.016Z"
   },
   {
    "duration": 126,
    "start_time": "2025-02-10T12:44:23.057Z"
   },
   {
    "duration": 47,
    "start_time": "2025-02-10T12:44:23.184Z"
   },
   {
    "duration": 21,
    "start_time": "2025-02-10T12:44:23.233Z"
   },
   {
    "duration": 78,
    "start_time": "2025-02-10T12:44:23.256Z"
   },
   {
    "duration": 39,
    "start_time": "2025-02-10T12:44:23.336Z"
   },
   {
    "duration": 53,
    "start_time": "2025-02-10T12:44:23.377Z"
   },
   {
    "duration": 28,
    "start_time": "2025-02-10T12:44:23.432Z"
   },
   {
    "duration": 38,
    "start_time": "2025-02-10T12:44:23.462Z"
   },
   {
    "duration": 61,
    "start_time": "2025-02-10T12:44:23.501Z"
   },
   {
    "duration": 20,
    "start_time": "2025-02-10T12:44:23.564Z"
   },
   {
    "duration": 102,
    "start_time": "2025-02-10T12:44:23.586Z"
   },
   {
    "duration": 29,
    "start_time": "2025-02-10T12:44:23.690Z"
   },
   {
    "duration": 43,
    "start_time": "2025-02-10T12:44:23.721Z"
   },
   {
    "duration": 148,
    "start_time": "2025-02-10T12:44:23.766Z"
   },
   {
    "duration": 16,
    "start_time": "2025-02-10T12:44:23.916Z"
   },
   {
    "duration": 36,
    "start_time": "2025-02-10T12:44:23.934Z"
   },
   {
    "duration": 53,
    "start_time": "2025-02-10T12:44:23.971Z"
   },
   {
    "duration": 34,
    "start_time": "2025-02-10T12:44:24.026Z"
   },
   {
    "duration": 56,
    "start_time": "2025-02-10T12:44:24.063Z"
   },
   {
    "duration": 40,
    "start_time": "2025-02-10T12:44:24.121Z"
   },
   {
    "duration": 26,
    "start_time": "2025-02-10T12:44:24.162Z"
   },
   {
    "duration": 152,
    "start_time": "2025-02-10T12:44:24.189Z"
   },
   {
    "duration": 637,
    "start_time": "2025-02-10T12:44:24.343Z"
   },
   {
    "duration": 172,
    "start_time": "2025-02-10T12:44:24.982Z"
   },
   {
    "duration": 160,
    "start_time": "2025-02-10T12:44:25.156Z"
   },
   {
    "duration": 313,
    "start_time": "2025-02-10T12:44:25.317Z"
   },
   {
    "duration": 88,
    "start_time": "2025-02-10T12:44:25.632Z"
   },
   {
    "duration": 5234,
    "start_time": "2025-02-10T12:44:25.722Z"
   },
   {
    "duration": 864,
    "start_time": "2025-02-10T12:44:30.958Z"
   },
   {
    "duration": 284,
    "start_time": "2025-02-10T12:44:31.823Z"
   },
   {
    "duration": 0,
    "start_time": "2025-02-10T12:44:32.110Z"
   },
   {
    "duration": 0,
    "start_time": "2025-02-10T12:44:32.111Z"
   },
   {
    "duration": 0,
    "start_time": "2025-02-10T12:44:32.112Z"
   },
   {
    "duration": 0,
    "start_time": "2025-02-10T12:44:32.113Z"
   },
   {
    "duration": 2593,
    "start_time": "2025-02-10T20:10:40.038Z"
   },
   {
    "duration": 10569,
    "start_time": "2025-02-10T20:10:42.634Z"
   },
   {
    "duration": 896,
    "start_time": "2025-02-10T20:10:53.205Z"
   },
   {
    "duration": 41,
    "start_time": "2025-02-10T20:10:54.103Z"
   },
   {
    "duration": 16,
    "start_time": "2025-02-10T20:10:54.146Z"
   },
   {
    "duration": 61,
    "start_time": "2025-02-10T20:10:54.164Z"
   },
   {
    "duration": 10,
    "start_time": "2025-02-10T20:10:54.226Z"
   },
   {
    "duration": 18,
    "start_time": "2025-02-10T20:10:54.238Z"
   },
   {
    "duration": 18,
    "start_time": "2025-02-10T20:10:54.258Z"
   },
   {
    "duration": 31,
    "start_time": "2025-02-10T20:10:54.277Z"
   },
   {
    "duration": 11,
    "start_time": "2025-02-10T20:10:54.310Z"
   },
   {
    "duration": 7,
    "start_time": "2025-02-10T20:10:54.323Z"
   },
   {
    "duration": 5,
    "start_time": "2025-02-10T20:10:54.331Z"
   },
   {
    "duration": 16,
    "start_time": "2025-02-10T20:10:54.338Z"
   },
   {
    "duration": 4,
    "start_time": "2025-02-10T20:10:54.356Z"
   },
   {
    "duration": 23,
    "start_time": "2025-02-10T20:10:54.362Z"
   },
   {
    "duration": 4,
    "start_time": "2025-02-10T20:10:54.445Z"
   },
   {
    "duration": 6,
    "start_time": "2025-02-10T20:10:54.524Z"
   },
   {
    "duration": 7,
    "start_time": "2025-02-10T20:10:54.601Z"
   },
   {
    "duration": 4,
    "start_time": "2025-02-10T20:10:54.692Z"
   },
   {
    "duration": 8,
    "start_time": "2025-02-10T20:10:54.776Z"
   },
   {
    "duration": 5,
    "start_time": "2025-02-10T20:10:54.940Z"
   },
   {
    "duration": 7,
    "start_time": "2025-02-10T20:10:55.022Z"
   },
   {
    "duration": 119,
    "start_time": "2025-02-10T20:10:55.356Z"
   },
   {
    "duration": 7,
    "start_time": "2025-02-10T20:10:55.524Z"
   },
   {
    "duration": 13,
    "start_time": "2025-02-10T20:10:55.692Z"
   },
   {
    "duration": 10,
    "start_time": "2025-02-10T20:10:55.780Z"
   },
   {
    "duration": 7,
    "start_time": "2025-02-10T20:10:55.944Z"
   },
   {
    "duration": 9,
    "start_time": "2025-02-10T20:10:56.110Z"
   },
   {
    "duration": 6,
    "start_time": "2025-02-10T20:10:56.277Z"
   },
   {
    "duration": 7,
    "start_time": "2025-02-10T20:10:56.362Z"
   },
   {
    "duration": 97,
    "start_time": "2025-02-10T20:10:56.699Z"
   },
   {
    "duration": 588,
    "start_time": "2025-02-10T20:10:56.798Z"
   },
   {
    "duration": 124,
    "start_time": "2025-02-10T20:10:57.388Z"
   },
   {
    "duration": 10,
    "start_time": "2025-02-10T20:10:57.513Z"
   },
   {
    "duration": 16,
    "start_time": "2025-02-10T20:10:57.525Z"
   },
   {
    "duration": 8,
    "start_time": "2025-02-10T20:10:58.532Z"
   },
   {
    "duration": 132,
    "start_time": "2025-02-10T20:10:59.060Z"
   },
   {
    "duration": 30,
    "start_time": "2025-02-10T20:11:07.376Z"
   },
   {
    "duration": 32,
    "start_time": "2025-02-10T20:11:13.082Z"
   },
   {
    "duration": 30,
    "start_time": "2025-02-10T20:11:25.811Z"
   },
   {
    "duration": 33,
    "start_time": "2025-02-10T20:11:39.542Z"
   },
   {
    "duration": 32,
    "start_time": "2025-02-10T20:11:42.862Z"
   },
   {
    "duration": 30,
    "start_time": "2025-02-10T20:11:46.580Z"
   },
   {
    "duration": 16,
    "start_time": "2025-02-10T20:12:27.666Z"
   },
   {
    "duration": 9,
    "start_time": "2025-02-10T20:12:41.286Z"
   },
   {
    "duration": 32,
    "start_time": "2025-02-10T20:12:51.068Z"
   },
   {
    "duration": 8,
    "start_time": "2025-02-10T20:12:54.262Z"
   },
   {
    "duration": 32,
    "start_time": "2025-02-10T20:12:55.980Z"
   },
   {
    "duration": 65,
    "start_time": "2025-02-10T20:13:03.214Z"
   },
   {
    "duration": 63,
    "start_time": "2025-02-10T20:13:07.893Z"
   },
   {
    "duration": 63,
    "start_time": "2025-02-10T20:13:10.544Z"
   },
   {
    "duration": 7,
    "start_time": "2025-02-10T20:13:16.094Z"
   },
   {
    "duration": 32,
    "start_time": "2025-02-10T20:13:19.208Z"
   },
   {
    "duration": 9,
    "start_time": "2025-02-10T20:13:33.191Z"
   },
   {
    "duration": 33,
    "start_time": "2025-02-10T20:13:39.210Z"
   },
   {
    "duration": 87,
    "start_time": "2025-02-10T20:13:45.802Z"
   },
   {
    "duration": 34,
    "start_time": "2025-02-10T20:13:47.738Z"
   },
   {
    "duration": 32,
    "start_time": "2025-02-10T20:13:50.887Z"
   },
   {
    "duration": 2733,
    "start_time": "2025-02-11T10:07:23.109Z"
   },
   {
    "duration": 1609,
    "start_time": "2025-02-11T10:07:25.844Z"
   },
   {
    "duration": 1018,
    "start_time": "2025-02-11T10:07:27.454Z"
   },
   {
    "duration": 18,
    "start_time": "2025-02-11T10:07:28.474Z"
   },
   {
    "duration": 236,
    "start_time": "2025-02-11T10:07:28.493Z"
   },
   {
    "duration": 99,
    "start_time": "2025-02-11T10:07:28.730Z"
   },
   {
    "duration": 391,
    "start_time": "2025-02-11T10:07:28.831Z"
   },
   {
    "duration": 428,
    "start_time": "2025-02-11T10:07:29.224Z"
   },
   {
    "duration": 31,
    "start_time": "2025-02-11T10:07:29.653Z"
   },
   {
    "duration": 98,
    "start_time": "2025-02-11T10:07:29.686Z"
   },
   {
    "duration": 35,
    "start_time": "2025-02-11T10:07:29.786Z"
   },
   {
    "duration": 36,
    "start_time": "2025-02-11T10:07:29.823Z"
   },
   {
    "duration": 49,
    "start_time": "2025-02-11T10:07:29.861Z"
   },
   {
    "duration": 46,
    "start_time": "2025-02-11T10:07:29.911Z"
   },
   {
    "duration": 37,
    "start_time": "2025-02-11T10:07:29.958Z"
   },
   {
    "duration": 155,
    "start_time": "2025-02-11T10:07:29.997Z"
   },
   {
    "duration": 130,
    "start_time": "2025-02-11T10:07:30.154Z"
   },
   {
    "duration": 205,
    "start_time": "2025-02-11T10:07:30.285Z"
   },
   {
    "duration": 170,
    "start_time": "2025-02-11T10:07:30.492Z"
   },
   {
    "duration": 145,
    "start_time": "2025-02-11T10:07:30.663Z"
   },
   {
    "duration": 64,
    "start_time": "2025-02-11T10:07:30.809Z"
   },
   {
    "duration": 66,
    "start_time": "2025-02-11T10:07:30.874Z"
   },
   {
    "duration": 182,
    "start_time": "2025-02-11T10:07:30.941Z"
   },
   {
    "duration": 16,
    "start_time": "2025-02-11T10:07:31.124Z"
   },
   {
    "duration": 116,
    "start_time": "2025-02-11T10:07:31.148Z"
   },
   {
    "duration": 31,
    "start_time": "2025-02-11T10:07:31.265Z"
   },
   {
    "duration": 51,
    "start_time": "2025-02-11T10:07:31.297Z"
   },
   {
    "duration": 32,
    "start_time": "2025-02-11T10:07:31.352Z"
   },
   {
    "duration": 36,
    "start_time": "2025-02-11T10:07:31.386Z"
   },
   {
    "duration": 39,
    "start_time": "2025-02-11T10:07:31.424Z"
   },
   {
    "duration": 133,
    "start_time": "2025-02-11T10:07:31.465Z"
   },
   {
    "duration": 602,
    "start_time": "2025-02-11T10:07:31.600Z"
   },
   {
    "duration": 157,
    "start_time": "2025-02-11T10:07:32.203Z"
   },
   {
    "duration": 140,
    "start_time": "2025-02-11T10:07:32.361Z"
   },
   {
    "duration": 290,
    "start_time": "2025-02-11T10:07:32.503Z"
   },
   {
    "duration": 79,
    "start_time": "2025-02-11T10:07:32.794Z"
   },
   {
    "duration": 3480,
    "start_time": "2025-02-11T10:07:32.875Z"
   },
   {
    "duration": 814,
    "start_time": "2025-02-11T10:07:36.357Z"
   },
   {
    "duration": 97463,
    "start_time": "2025-02-11T10:07:37.173Z"
   },
   {
    "duration": 0,
    "start_time": "2025-02-11T10:09:14.648Z"
   },
   {
    "duration": 0,
    "start_time": "2025-02-11T10:09:14.650Z"
   },
   {
    "duration": 0,
    "start_time": "2025-02-11T10:09:14.651Z"
   },
   {
    "duration": 0,
    "start_time": "2025-02-11T10:09:14.652Z"
   },
   {
    "duration": 96796,
    "start_time": "2025-02-11T10:11:30.253Z"
   },
   {
    "duration": 2400,
    "start_time": "2025-02-11T10:24:36.583Z"
   },
   {
    "duration": 1387,
    "start_time": "2025-02-11T10:24:38.985Z"
   },
   {
    "duration": 1068,
    "start_time": "2025-02-11T10:24:40.374Z"
   },
   {
    "duration": 17,
    "start_time": "2025-02-11T10:24:41.444Z"
   },
   {
    "duration": 237,
    "start_time": "2025-02-11T10:24:41.462Z"
   },
   {
    "duration": 1338,
    "start_time": "2025-02-11T10:25:13.620Z"
   },
   {
    "duration": 2349,
    "start_time": "2025-02-11T10:25:29.439Z"
   },
   {
    "duration": 1440,
    "start_time": "2025-02-11T10:25:31.791Z"
   },
   {
    "duration": 896,
    "start_time": "2025-02-11T10:25:33.233Z"
   },
   {
    "duration": 23,
    "start_time": "2025-02-11T10:25:34.131Z"
   },
   {
    "duration": 274,
    "start_time": "2025-02-11T10:25:34.156Z"
   },
   {
    "duration": 1577,
    "start_time": "2025-02-11T10:25:37.837Z"
   },
   {
    "duration": 17,
    "start_time": "2025-02-11T10:26:22.288Z"
   },
   {
    "duration": 403,
    "start_time": "2025-02-11T10:26:31.280Z"
   },
   {
    "duration": 468,
    "start_time": "2025-02-11T10:26:33.645Z"
   },
   {
    "duration": 6,
    "start_time": "2025-02-11T10:26:59.488Z"
   },
   {
    "duration": 60,
    "start_time": "2025-02-11T10:27:03.222Z"
   },
   {
    "duration": 32,
    "start_time": "2025-02-11T10:32:28.920Z"
   },
   {
    "duration": 15,
    "start_time": "2025-02-11T10:37:26.059Z"
   },
   {
    "duration": 2470,
    "start_time": "2025-02-11T10:38:37.931Z"
   },
   {
    "duration": 1422,
    "start_time": "2025-02-11T10:38:40.403Z"
   },
   {
    "duration": 896,
    "start_time": "2025-02-11T10:38:41.827Z"
   },
   {
    "duration": 24,
    "start_time": "2025-02-11T10:38:42.725Z"
   },
   {
    "duration": 259,
    "start_time": "2025-02-11T10:38:42.751Z"
   },
   {
    "duration": 107,
    "start_time": "2025-02-11T10:38:43.012Z"
   },
   {
    "duration": 409,
    "start_time": "2025-02-11T10:38:43.121Z"
   },
   {
    "duration": 485,
    "start_time": "2025-02-11T10:38:43.532Z"
   },
   {
    "duration": 134,
    "start_time": "2025-02-11T10:38:44.018Z"
   },
   {
    "duration": 51,
    "start_time": "2025-02-11T10:38:44.154Z"
   },
   {
    "duration": 25,
    "start_time": "2025-02-11T10:38:44.207Z"
   },
   {
    "duration": 46,
    "start_time": "2025-02-11T10:38:44.233Z"
   },
   {
    "duration": 20,
    "start_time": "2025-02-11T10:38:44.280Z"
   },
   {
    "duration": 36,
    "start_time": "2025-02-11T10:38:44.301Z"
   },
   {
    "duration": 88,
    "start_time": "2025-02-11T10:38:44.339Z"
   },
   {
    "duration": 52,
    "start_time": "2025-02-11T10:38:44.428Z"
   },
   {
    "duration": 65,
    "start_time": "2025-02-11T10:38:44.482Z"
   },
   {
    "duration": 19,
    "start_time": "2025-02-11T10:38:44.549Z"
   },
   {
    "duration": 123,
    "start_time": "2025-02-11T10:38:44.570Z"
   },
   {
    "duration": 5,
    "start_time": "2025-02-11T10:38:44.695Z"
   },
   {
    "duration": 71,
    "start_time": "2025-02-11T10:38:44.701Z"
   },
   {
    "duration": 160,
    "start_time": "2025-02-11T10:38:49.557Z"
   },
   {
    "duration": 29,
    "start_time": "2025-02-11T10:41:41.518Z"
   },
   {
    "duration": 2322,
    "start_time": "2025-02-11T10:42:41.290Z"
   },
   {
    "duration": 1427,
    "start_time": "2025-02-11T10:42:43.615Z"
   },
   {
    "duration": 2022,
    "start_time": "2025-02-11T10:42:45.043Z"
   },
   {
    "duration": 0,
    "start_time": "2025-02-11T10:42:47.066Z"
   },
   {
    "duration": 0,
    "start_time": "2025-02-11T10:42:47.068Z"
   },
   {
    "duration": 2348,
    "start_time": "2025-02-11T10:42:52.075Z"
   },
   {
    "duration": 1440,
    "start_time": "2025-02-11T10:42:54.425Z"
   },
   {
    "duration": 873,
    "start_time": "2025-02-11T10:42:55.867Z"
   },
   {
    "duration": 21,
    "start_time": "2025-02-11T10:42:56.742Z"
   },
   {
    "duration": 254,
    "start_time": "2025-02-11T10:42:56.764Z"
   },
   {
    "duration": 110,
    "start_time": "2025-02-11T10:42:57.020Z"
   },
   {
    "duration": 394,
    "start_time": "2025-02-11T10:42:57.132Z"
   },
   {
    "duration": 443,
    "start_time": "2025-02-11T10:42:57.527Z"
   },
   {
    "duration": 126,
    "start_time": "2025-02-11T10:42:57.972Z"
   },
   {
    "duration": 50,
    "start_time": "2025-02-11T10:42:58.101Z"
   },
   {
    "duration": 82,
    "start_time": "2025-02-11T10:42:58.153Z"
   },
   {
    "duration": 50,
    "start_time": "2025-02-11T10:42:58.238Z"
   },
   {
    "duration": 23,
    "start_time": "2025-02-11T10:42:58.290Z"
   },
   {
    "duration": 86,
    "start_time": "2025-02-11T10:42:58.315Z"
   },
   {
    "duration": 20,
    "start_time": "2025-02-11T10:42:58.403Z"
   },
   {
    "duration": 58,
    "start_time": "2025-02-11T10:42:58.424Z"
   },
   {
    "duration": 60,
    "start_time": "2025-02-11T10:42:58.483Z"
   },
   {
    "duration": 20,
    "start_time": "2025-02-11T10:42:58.544Z"
   },
   {
    "duration": 133,
    "start_time": "2025-02-11T10:42:58.566Z"
   },
   {
    "duration": 5,
    "start_time": "2025-02-11T10:42:58.701Z"
   },
   {
    "duration": 83,
    "start_time": "2025-02-11T10:42:58.708Z"
   },
   {
    "duration": 29,
    "start_time": "2025-02-11T10:43:04.410Z"
   },
   {
    "duration": 341,
    "start_time": "2025-02-11T10:43:09.821Z"
   },
   {
    "duration": 3,
    "start_time": "2025-02-11T11:02:01.668Z"
   },
   {
    "duration": 2394,
    "start_time": "2025-02-11T11:06:09.146Z"
   },
   {
    "duration": 1440,
    "start_time": "2025-02-11T11:06:11.542Z"
   },
   {
    "duration": 864,
    "start_time": "2025-02-11T11:06:12.984Z"
   },
   {
    "duration": 18,
    "start_time": "2025-02-11T11:06:13.850Z"
   },
   {
    "duration": 268,
    "start_time": "2025-02-11T11:06:13.870Z"
   },
   {
    "duration": 119,
    "start_time": "2025-02-11T11:06:14.140Z"
   },
   {
    "duration": 419,
    "start_time": "2025-02-11T11:06:14.260Z"
   },
   {
    "duration": 440,
    "start_time": "2025-02-11T11:06:14.680Z"
   },
   {
    "duration": 127,
    "start_time": "2025-02-11T11:06:15.121Z"
   },
   {
    "duration": 86,
    "start_time": "2025-02-11T11:06:15.251Z"
   },
   {
    "duration": 36,
    "start_time": "2025-02-11T11:06:15.338Z"
   },
   {
    "duration": 149,
    "start_time": "2025-02-11T11:06:15.376Z"
   },
   {
    "duration": 169,
    "start_time": "2025-02-11T11:06:15.527Z"
   },
   {
    "duration": 106,
    "start_time": "2025-02-11T11:06:15.697Z"
   },
   {
    "duration": 70,
    "start_time": "2025-02-11T11:06:15.805Z"
   },
   {
    "duration": 61,
    "start_time": "2025-02-11T11:06:15.877Z"
   },
   {
    "duration": 112,
    "start_time": "2025-02-11T11:06:15.940Z"
   },
   {
    "duration": 20,
    "start_time": "2025-02-11T11:06:16.054Z"
   },
   {
    "duration": 155,
    "start_time": "2025-02-11T11:06:16.075Z"
   },
   {
    "duration": 6,
    "start_time": "2025-02-11T11:06:16.232Z"
   },
   {
    "duration": 174,
    "start_time": "2025-02-11T11:06:16.239Z"
   },
   {
    "duration": 28,
    "start_time": "2025-02-11T11:06:16.414Z"
   },
   {
    "duration": 407,
    "start_time": "2025-02-11T11:06:16.444Z"
   },
   {
    "duration": 16,
    "start_time": "2025-02-11T11:06:16.852Z"
   },
   {
    "duration": 61,
    "start_time": "2025-02-11T11:06:16.869Z"
   },
   {
    "duration": 142,
    "start_time": "2025-02-11T11:06:16.931Z"
   },
   {
    "duration": 20,
    "start_time": "2025-02-11T11:06:17.074Z"
   },
   {
    "duration": 96,
    "start_time": "2025-02-11T11:06:17.097Z"
   },
   {
    "duration": 35,
    "start_time": "2025-02-11T11:06:17.195Z"
   },
   {
    "duration": 153,
    "start_time": "2025-02-11T11:06:17.232Z"
   },
   {
    "duration": 102,
    "start_time": "2025-02-11T11:06:17.386Z"
   },
   {
    "duration": 38,
    "start_time": "2025-02-11T11:06:17.489Z"
   },
   {
    "duration": 49,
    "start_time": "2025-02-11T11:06:17.529Z"
   },
   {
    "duration": 138,
    "start_time": "2025-02-11T11:06:17.580Z"
   },
   {
    "duration": 698,
    "start_time": "2025-02-11T11:06:17.719Z"
   },
   {
    "duration": 164,
    "start_time": "2025-02-11T11:06:18.419Z"
   },
   {
    "duration": 23,
    "start_time": "2025-02-11T11:06:18.584Z"
   },
   {
    "duration": 160,
    "start_time": "2025-02-11T11:06:18.608Z"
   },
   {
    "duration": 296,
    "start_time": "2025-02-11T11:06:18.770Z"
   },
   {
    "duration": 81,
    "start_time": "2025-02-11T11:06:19.068Z"
   },
   {
    "duration": 3736,
    "start_time": "2025-02-11T11:06:19.150Z"
   },
   {
    "duration": 869,
    "start_time": "2025-02-11T11:06:22.888Z"
   },
   {
    "duration": 0,
    "start_time": "2025-02-11T11:06:23.758Z"
   },
   {
    "duration": 0,
    "start_time": "2025-02-11T11:06:23.760Z"
   },
   {
    "duration": 0,
    "start_time": "2025-02-11T11:06:23.761Z"
   },
   {
    "duration": 0,
    "start_time": "2025-02-11T11:06:23.763Z"
   },
   {
    "duration": 0,
    "start_time": "2025-02-11T11:06:23.765Z"
   },
   {
    "duration": 68,
    "start_time": "2025-02-11T11:08:26.037Z"
   },
   {
    "duration": 22,
    "start_time": "2025-02-11T11:09:22.222Z"
   },
   {
    "duration": 3685,
    "start_time": "2025-02-11T11:09:52.415Z"
   },
   {
    "duration": 947,
    "start_time": "2025-02-11T11:09:56.102Z"
   },
   {
    "duration": 94384,
    "start_time": "2025-02-11T11:10:04.367Z"
   },
   {
    "duration": 211732,
    "start_time": "2025-02-11T11:11:38.757Z"
   },
   {
    "duration": 279859,
    "start_time": "2025-02-11T11:15:10.491Z"
   },
   {
    "duration": 48015,
    "start_time": "2025-02-11T11:19:50.352Z"
   },
   {
    "duration": 0,
    "start_time": "2025-02-11T11:20:38.448Z"
   },
   {
    "duration": 126895,
    "start_time": "2025-02-11T11:21:32.766Z"
   },
   {
    "duration": 9,
    "start_time": "2025-02-11T11:24:40.629Z"
   },
   {
    "duration": 9,
    "start_time": "2025-02-11T11:28:27.619Z"
   },
   {
    "duration": 600,
    "start_time": "2025-02-11T11:40:04.957Z"
   },
   {
    "duration": 10,
    "start_time": "2025-02-11T11:41:15.903Z"
   },
   {
    "duration": 5,
    "start_time": "2025-02-11T11:41:42.414Z"
   },
   {
    "duration": 10,
    "start_time": "2025-02-11T11:41:48.481Z"
   },
   {
    "duration": 159,
    "start_time": "2025-02-11T11:41:57.209Z"
   },
   {
    "duration": 169,
    "start_time": "2025-02-11T11:42:08.690Z"
   },
   {
    "duration": 3008,
    "start_time": "2025-02-11T14:47:00.080Z"
   },
   {
    "duration": 1878,
    "start_time": "2025-02-11T14:47:03.091Z"
   },
   {
    "duration": 1040,
    "start_time": "2025-02-11T14:47:04.971Z"
   },
   {
    "duration": 18,
    "start_time": "2025-02-11T14:47:06.013Z"
   },
   {
    "duration": 287,
    "start_time": "2025-02-11T14:47:06.033Z"
   },
   {
    "duration": 116,
    "start_time": "2025-02-11T14:47:06.322Z"
   },
   {
    "duration": 496,
    "start_time": "2025-02-11T14:47:06.439Z"
   },
   {
    "duration": 522,
    "start_time": "2025-02-11T14:47:06.936Z"
   },
   {
    "duration": 165,
    "start_time": "2025-02-11T14:47:07.461Z"
   },
   {
    "duration": 149,
    "start_time": "2025-02-11T14:47:07.628Z"
   },
   {
    "duration": 58,
    "start_time": "2025-02-11T14:47:07.778Z"
   },
   {
    "duration": 47,
    "start_time": "2025-02-11T14:47:07.838Z"
   },
   {
    "duration": 59,
    "start_time": "2025-02-11T14:47:07.886Z"
   },
   {
    "duration": 45,
    "start_time": "2025-02-11T14:47:07.947Z"
   },
   {
    "duration": 47,
    "start_time": "2025-02-11T14:47:07.993Z"
   },
   {
    "duration": 46,
    "start_time": "2025-02-11T14:47:08.042Z"
   },
   {
    "duration": 100,
    "start_time": "2025-02-11T14:47:08.090Z"
   },
   {
    "duration": 22,
    "start_time": "2025-02-11T14:47:08.192Z"
   },
   {
    "duration": 144,
    "start_time": "2025-02-11T14:47:08.216Z"
   },
   {
    "duration": 19,
    "start_time": "2025-02-11T14:47:08.362Z"
   },
   {
    "duration": 65,
    "start_time": "2025-02-11T14:47:08.382Z"
   },
   {
    "duration": 30,
    "start_time": "2025-02-11T14:47:08.448Z"
   },
   {
    "duration": 454,
    "start_time": "2025-02-11T14:47:08.480Z"
   },
   {
    "duration": 25,
    "start_time": "2025-02-11T14:47:08.935Z"
   },
   {
    "duration": 45,
    "start_time": "2025-02-11T14:47:08.962Z"
   },
   {
    "duration": 144,
    "start_time": "2025-02-11T14:47:09.009Z"
   },
   {
    "duration": 48,
    "start_time": "2025-02-11T14:47:09.155Z"
   },
   {
    "duration": 161,
    "start_time": "2025-02-11T14:47:09.206Z"
   },
   {
    "duration": 41,
    "start_time": "2025-02-11T14:47:09.369Z"
   },
   {
    "duration": 132,
    "start_time": "2025-02-11T14:47:09.412Z"
   },
   {
    "duration": 146,
    "start_time": "2025-02-11T14:47:09.546Z"
   },
   {
    "duration": 607,
    "start_time": "2025-02-11T14:47:09.693Z"
   },
   {
    "duration": 173,
    "start_time": "2025-02-11T14:47:10.302Z"
   },
   {
    "duration": 31,
    "start_time": "2025-02-11T14:47:10.477Z"
   },
   {
    "duration": 207,
    "start_time": "2025-02-11T14:47:10.510Z"
   },
   {
    "duration": 317,
    "start_time": "2025-02-11T14:47:10.719Z"
   },
   {
    "duration": 4270,
    "start_time": "2025-02-11T14:47:11.039Z"
   },
   {
    "duration": 1016,
    "start_time": "2025-02-11T14:47:15.311Z"
   },
   {
    "duration": 98135,
    "start_time": "2025-02-11T14:47:16.329Z"
   },
   {
    "duration": 237880,
    "start_time": "2025-02-11T14:48:54.556Z"
   },
   {
    "duration": 2123717,
    "start_time": "2025-02-11T14:52:52.438Z"
   },
   {
    "duration": 58100,
    "start_time": "2025-02-11T15:28:16.157Z"
   },
   {
    "duration": 11,
    "start_time": "2025-02-11T15:29:14.260Z"
   },
   {
    "duration": 683,
    "start_time": "2025-02-11T15:29:14.273Z"
   },
   {
    "duration": 178,
    "start_time": "2025-02-11T15:29:14.958Z"
   }
  ],
  "kernelspec": {
   "display_name": "Python 3 (ipykernel)",
   "language": "python",
   "name": "python3"
  },
  "language_info": {
   "codemirror_mode": {
    "name": "ipython",
    "version": 3
   },
   "file_extension": ".py",
   "mimetype": "text/x-python",
   "name": "python",
   "nbconvert_exporter": "python",
   "pygments_lexer": "ipython3",
   "version": "3.9.5"
  },
  "toc": {
   "base_numbering": 1,
   "nav_menu": {},
   "number_sections": true,
   "sideBar": true,
   "skip_h1_title": true,
   "title_cell": "Table of Contents",
   "title_sidebar": "Contents",
   "toc_cell": false,
   "toc_position": {
    "height": "calc(100% - 180px)",
    "left": "10px",
    "top": "150px",
    "width": "380.367px"
   },
   "toc_section_display": true,
   "toc_window_display": true
  }
 },
 "nbformat": 4,
 "nbformat_minor": 2
}
