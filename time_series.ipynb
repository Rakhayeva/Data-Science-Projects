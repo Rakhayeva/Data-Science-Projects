{
 "cells": [
  {
   "cell_type": "markdown",
   "metadata": {
    "toc": true
   },
   "source": [
    "<h1>Содержание<span class=\"tocSkip\"></span></h1>\n",
    "<div class=\"toc\"><ul class=\"toc-item\"><li><span><a href=\"#Подготовка\" data-toc-modified-id=\"Подготовка-1\"><span class=\"toc-item-num\">1&nbsp;&nbsp;</span>Подготовка</a></span></li><li><span><a href=\"#Анализ\" data-toc-modified-id=\"Анализ-2\"><span class=\"toc-item-num\">2&nbsp;&nbsp;</span>Анализ</a></span></li><li><span><a href=\"#Обучение\" data-toc-modified-id=\"Обучение-3\"><span class=\"toc-item-num\">3&nbsp;&nbsp;</span>Обучение</a></span></li><li><span><a href=\"#Тестирование\" data-toc-modified-id=\"Тестирование-4\"><span class=\"toc-item-num\">4&nbsp;&nbsp;</span>Тестирование</a></span></li><li><span><a href=\"#Общий-вывод\" data-toc-modified-id=\"Общий-вывод-5\"><span class=\"toc-item-num\">5&nbsp;&nbsp;</span>Общий вывод</a></span></li><li><span><a href=\"#Чек-лист-проверки\" data-toc-modified-id=\"Чек-лист-проверки-6\"><span class=\"toc-item-num\">6&nbsp;&nbsp;</span>Чек-лист проверки</a></span></li></ul></div>"
   ]
  },
  {
   "cell_type": "markdown",
   "metadata": {},
   "source": [
    "#  Прогнозирование заказов такси"
   ]
  },
  {
   "cell_type": "markdown",
   "metadata": {},
   "source": [
    "Компания «Чётенькое такси» собрала исторические данные о заказах такси в аэропортах. Чтобы привлекать больше водителей в период пиковой нагрузки, нужно спрогнозировать количество заказов такси на следующий час. Постройте модель для такого предсказания.\n",
    "\n",
    "Значение метрики *RMSE* на тестовой выборке должно быть не больше 48.\n",
    "\n",
    "Вам нужно:\n",
    "\n",
    "1. Загрузить данные и выполнить их ресемплирование по одному часу.\n",
    "2. Проанализировать данные.\n",
    "3. Обучить разные модели с различными гиперпараметрами. Сделать тестовую выборку размером 10% от исходных данных.\n",
    "4. Проверить данные на тестовой выборке и сделать выводы.\n",
    "\n",
    "\n",
    "Данные лежат в файле `taxi.csv`. Количество заказов находится в столбце `num_orders` (от англ. *number of orders*, «число заказов»)."
   ]
  },
  {
   "cell_type": "markdown",
   "metadata": {},
   "source": [
    "## Подготовка"
   ]
  },
  {
   "cell_type": "markdown",
   "metadata": {},
   "source": [
    "**Загрузка библиотек**:"
   ]
  },
  {
   "cell_type": "code",
   "execution_count": 1,
   "metadata": {},
   "outputs": [],
   "source": [
    "import lightgbm\n",
    "import numpy as np \n",
    "import pandas as pd   \n",
    "import seaborn as sns\n",
    "import matplotlib.pyplot as plt\n",
    "from sklearn.pipeline import Pipeline\n",
    "from catboost import CatBoostRegressor\n",
    "from sklearn.compose import ColumnTransformer\n",
    "from statsmodels.tsa.stattools import adfuller\n",
    "from sklearn.tree import DecisionTreeRegressor\n",
    "from sklearn.linear_model import LinearRegression\n",
    "from sklearn.ensemble import RandomForestRegressor \n",
    "from sklearn.model_selection import cross_val_score\n",
    "from lightgbm import LGBMRegressor, plot_importance\n",
    "from statsmodels.tsa.seasonal import seasonal_decompose\n",
    "from sklearn.metrics import mean_squared_error, make_scorer\n",
    "from sklearn.preprocessing import OneHotEncoder, StandardScaler, OrdinalEncoder\n",
    "from sklearn.model_selection import train_test_split, TimeSeriesSplit, GridSearchCV  "
   ]
  },
  {
   "cell_type": "markdown",
   "metadata": {},
   "source": [
    "**Загрузка данных:**"
   ]
  },
  {
   "cell_type": "code",
   "execution_count": 2,
   "metadata": {
    "scrolled": false
   },
   "outputs": [
    {
     "name": "stdout",
     "output_type": "stream",
     "text": [
      "<class 'pandas.core.frame.DataFrame'>\n",
      "DatetimeIndex: 26496 entries, 2018-03-01 00:00:00 to 2018-08-31 23:50:00\n",
      "Data columns (total 1 columns):\n",
      " #   Column      Non-Null Count  Dtype\n",
      "---  ------      --------------  -----\n",
      " 0   num_orders  26496 non-null  int64\n",
      "dtypes: int64(1)\n",
      "memory usage: 414.0 KB\n"
     ]
    }
   ],
   "source": [
    "# Загружаем данные, переводя параметр datetime в дату и индексируя таблицу по нему\n",
    "df = pd.read_csv('/datasets/taxi.csv', parse_dates=[0], index_col=[0])\n",
    "\n",
    "# Посмотрим на первые 5 строк и основнуб инфу\n",
    "df.info()"
   ]
  },
  {
   "cell_type": "code",
   "execution_count": 3,
   "metadata": {},
   "outputs": [
    {
     "data": {
      "text/html": [
       "<div>\n",
       "<style scoped>\n",
       "    .dataframe tbody tr th:only-of-type {\n",
       "        vertical-align: middle;\n",
       "    }\n",
       "\n",
       "    .dataframe tbody tr th {\n",
       "        vertical-align: top;\n",
       "    }\n",
       "\n",
       "    .dataframe thead th {\n",
       "        text-align: right;\n",
       "    }\n",
       "</style>\n",
       "<table border=\"1\" class=\"dataframe\">\n",
       "  <thead>\n",
       "    <tr style=\"text-align: right;\">\n",
       "      <th></th>\n",
       "      <th>num_orders</th>\n",
       "    </tr>\n",
       "    <tr>\n",
       "      <th>datetime</th>\n",
       "      <th></th>\n",
       "    </tr>\n",
       "  </thead>\n",
       "  <tbody>\n",
       "    <tr>\n",
       "      <th>2018-03-01 00:00:00</th>\n",
       "      <td>9</td>\n",
       "    </tr>\n",
       "    <tr>\n",
       "      <th>2018-03-01 00:10:00</th>\n",
       "      <td>14</td>\n",
       "    </tr>\n",
       "    <tr>\n",
       "      <th>2018-03-01 00:20:00</th>\n",
       "      <td>28</td>\n",
       "    </tr>\n",
       "    <tr>\n",
       "      <th>2018-03-01 00:30:00</th>\n",
       "      <td>20</td>\n",
       "    </tr>\n",
       "    <tr>\n",
       "      <th>2018-03-01 00:40:00</th>\n",
       "      <td>32</td>\n",
       "    </tr>\n",
       "  </tbody>\n",
       "</table>\n",
       "</div>"
      ],
      "text/plain": [
       "                     num_orders\n",
       "datetime                       \n",
       "2018-03-01 00:00:00           9\n",
       "2018-03-01 00:10:00          14\n",
       "2018-03-01 00:20:00          28\n",
       "2018-03-01 00:30:00          20\n",
       "2018-03-01 00:40:00          32"
      ]
     },
     "execution_count": 3,
     "metadata": {},
     "output_type": "execute_result"
    }
   ],
   "source": [
    "df.head(5)"
   ]
  },
  {
   "cell_type": "code",
   "execution_count": 4,
   "metadata": {},
   "outputs": [
    {
     "data": {
      "text/plain": [
       "Timestamp('2018-03-01 00:00:00')"
      ]
     },
     "metadata": {},
     "output_type": "display_data"
    },
    {
     "data": {
      "text/plain": [
       "Timestamp('2018-08-31 23:50:00')"
      ]
     },
     "metadata": {},
     "output_type": "display_data"
    }
   ],
   "source": [
    "# Посмотрим на наш временной интервал\n",
    "display(df.index.min())\n",
    "display(df.index.max())"
   ]
  },
  {
   "cell_type": "markdown",
   "metadata": {},
   "source": [
    "- Интервал в 10 минут. \n",
    "- Данные за период с первого марта по 31 августа 2018 года.\n",
    "\n",
    "Теперь проверим, в хронологичном ли порядке расположены значения в datetime."
   ]
  },
  {
   "cell_type": "code",
   "execution_count": 5,
   "metadata": {
    "scrolled": true
   },
   "outputs": [
    {
     "data": {
      "text/plain": [
       "True"
      ]
     },
     "execution_count": 5,
     "metadata": {},
     "output_type": "execute_result"
    }
   ],
   "source": [
    "df.index.is_monotonic"
   ]
  },
  {
   "cell_type": "markdown",
   "metadata": {},
   "source": [
    "Данные упорядочены в хронологичном порядке."
   ]
  },
  {
   "cell_type": "code",
   "execution_count": 6,
   "metadata": {},
   "outputs": [
    {
     "data": {
      "text/plain": [
       "num_orders    0\n",
       "dtype: int64"
      ]
     },
     "execution_count": 6,
     "metadata": {},
     "output_type": "execute_result"
    }
   ],
   "source": [
    "# Проверим пропуски\n",
    "df.isna().sum()"
   ]
  },
  {
   "cell_type": "code",
   "execution_count": 7,
   "metadata": {},
   "outputs": [],
   "source": [
    "# Ресемплирование по одному часу\n",
    "df = df.resample('1H').sum()"
   ]
  },
  {
   "cell_type": "markdown",
   "metadata": {},
   "source": [
    "## Анализ"
   ]
  },
  {
   "cell_type": "code",
   "execution_count": 8,
   "metadata": {
    "scrolled": true
   },
   "outputs": [
    {
     "data": {
      "image/png": "[encoded data removed]",
      "text/plain": [
       "<Figure size 432x288 with 1 Axes>"
      ]
     },
     "metadata": {
      "needs_background": "light"
     },
     "output_type": "display_data"
    }
   ],
   "source": [
    "# Посмотрим на график данных\n",
    "df.plot()\n",
    "plt.title('График временного ряда количества заказов')\n",
    "plt.xlabel('Дата и время')  \n",
    "plt.ylabel('Количество заказов');"
   ]
  },
  {
   "cell_type": "markdown",
   "metadata": {},
   "source": [
    "Данные выглядят довольно стационарными. Добавим скользящее среднее и стандартное отклонение и посмотрим."
   ]
  },
  {
   "cell_type": "code",
   "execution_count": 9,
   "metadata": {
    "scrolled": true
   },
   "outputs": [
    {
     "data": {
      "image/png": "[encoded data removed]",
      "text/plain": [
       "<Figure size 432x288 with 1 Axes>"
      ]
     },
     "metadata": {
      "needs_background": "light"
     },
     "output_type": "display_data"
    }
   ],
   "source": [
    "df['rolling_mean'] = df.rolling(24*7).mean()\n",
    "df['rolling_std'] = df['num_orders'].rolling(24*7).std()\n",
    "\n",
    "# Посмотрим снова на график\n",
    "df.plot()\n",
    "plt.title('График временного ряда количества заказов')\n",
    "plt.xlabel('Дата и время')  \n",
    "plt.ylabel('Количество заказов');"
   ]
  },
  {
   "cell_type": "markdown",
   "metadata": {},
   "source": [
    "Мы видим изменение средней и дисперсии к концу графика, данные не стационарны, но это не критично для наших моделей."
   ]
  },
  {
   "cell_type": "markdown",
   "metadata": {},
   "source": [
    "Удалим созданные признаки и добавим новые через функцию, чтобы разделить данные на трендовую, сезонную и шумовую состовляющие и построим соответствующие графики."
   ]
  },
  {
   "cell_type": "code",
   "execution_count": 10,
   "metadata": {
    "scrolled": false
   },
   "outputs": [],
   "source": [
    "# Удаление признаков\n",
    "df = df.drop(['rolling_mean', 'rolling_std'], axis=1)"
   ]
  },
  {
   "cell_type": "code",
   "execution_count": 11,
   "metadata": {
    "scrolled": false
   },
   "outputs": [
    {
     "data": {
      "image/png": "[encoded data removed]",
      "text/plain": [
       "<Figure size 432x288 with 1 Axes>"
      ]
     },
     "metadata": {
      "needs_background": "light"
     },
     "output_type": "display_data"
    }
   ],
   "source": [
    "decomposed = seasonal_decompose(df)\n",
    "decomposed.trend.plot()\n",
    "plt.title('Тренд')\n",
    "plt.xlabel('Дата и время')  \n",
    "plt.ylabel('Количество заказов');"
   ]
  },
  {
   "cell_type": "markdown",
   "metadata": {},
   "source": [
    "Колебания происходят на уровне недели."
   ]
  },
  {
   "cell_type": "code",
   "execution_count": 12,
   "metadata": {},
   "outputs": [
    {
     "data": {
      "image/png": "[encoded data removed]",
      "text/plain": [
       "<Figure size 432x288 with 1 Axes>"
      ]
     },
     "metadata": {
      "needs_background": "light"
     },
     "output_type": "display_data"
    }
   ],
   "source": [
    "decomposed.trend.rolling(24*7).mean().plot()\n",
    "plt.title('Тренд сглаженный')\n",
    "plt.xlabel('Дата и время')  \n",
    "plt.ylabel('Количество заказов');"
   ]
  },
  {
   "cell_type": "markdown",
   "metadata": {},
   "source": [
    "- Наблюдается тренд на стремительный рост: с марта по август произошел рост в 3 раза. \n",
    "- Присутствуют незначительные падения вначале месяце и рост в конце месяца."
   ]
  },
  {
   "cell_type": "code",
   "execution_count": 13,
   "metadata": {
    "scrolled": true
   },
   "outputs": [
    {
     "data": {
      "image/png": "[encoded data removed]",
      "text/plain": [
       "<Figure size 432x288 with 1 Axes>"
      ]
     },
     "metadata": {
      "needs_background": "light"
     },
     "output_type": "display_data"
    }
   ],
   "source": [
    "decomposed.seasonal.plot() \n",
    "plt.title('Сезонность')\n",
    "plt.xlabel('Дата и время')  \n",
    "plt.ylabel('Количество заказов');"
   ]
  },
  {
   "cell_type": "markdown",
   "metadata": {},
   "source": [
    "Сложно увидеть какую-то закономерность за такой временной промежуток в 5 месяцев."
   ]
  },
  {
   "cell_type": "code",
   "execution_count": 14,
   "metadata": {
    "scrolled": false
   },
   "outputs": [
    {
     "data": {
      "image/png": "[encoded data removed]",
      "text/plain": [
       "<Figure size 432x288 with 1 Axes>"
      ]
     },
     "metadata": {
      "needs_background": "light"
     },
     "output_type": "display_data"
    }
   ],
   "source": [
    "# график сезонной составляющей за март месяц 2018 года\n",
    "decomposed.seasonal['2018-03-01':'2018-03-30'].plot()\n",
    "plt.xlabel('Дата и время')  \n",
    "plt.ylabel('Количество заказов');"
   ]
  },
  {
   "cell_type": "markdown",
   "metadata": {},
   "source": [
    "Попробуем проверить сезонность на неделе"
   ]
  },
  {
   "cell_type": "code",
   "execution_count": 15,
   "metadata": {},
   "outputs": [
    {
     "data": {
      "image/png": "[encoded data removed]",
      "text/plain": [
       "<Figure size 432x288 with 2 Axes>"
      ]
     },
     "metadata": {
      "needs_background": "light"
     },
     "output_type": "display_data"
    }
   ],
   "source": [
    "plt.subplot(211)\n",
    "# Сезонность первой недели марта\n",
    "decomposed.seasonal['2018-03-05':'2018-03-11'].plot()\n",
    "plt.title('Сезонность первой недели марта')\n",
    "plt.subplot(212)\n",
    "# Сезонность последней недели августа\n",
    "decomposed.seasonal['2018-08-20':'2018-08-26'].plot()\n",
    "plt.title('Сезонность последней недели марта')\n",
    "plt.tight_layout()"
   ]
  },
  {
   "cell_type": "markdown",
   "metadata": {},
   "source": [
    "Данные имеют одинаковую цикличность. Проверим суточную сезонность"
   ]
  },
  {
   "cell_type": "code",
   "execution_count": 16,
   "metadata": {
    "scrolled": true
   },
   "outputs": [
    {
     "data": {
      "image/png": "[encoded data removed]",
      "text/plain": [
       "<Figure size 432x288 with 2 Axes>"
      ]
     },
     "metadata": {
      "needs_background": "light"
     },
     "output_type": "display_data"
    }
   ],
   "source": [
    "plt.subplot(211)\n",
    "decomposed.seasonal['2018-03-05'].plot()\n",
    "plt.title('Суточная сезонность понедельника 5го марта')\n",
    "plt.subplot(212)\n",
    "decomposed.seasonal['2018-08-20'].plot()\n",
    "plt.title('Суточная сезонность понедельника 20 августа')\n",
    "plt.tight_layout()"
   ]
  },
  {
   "cell_type": "markdown",
   "metadata": {},
   "source": [
    "- Рост активности такси наблюдается утром (7:00-10:00), днём (12:00-16:00) и вечером (18:00-00:00), что связано с началом и окончанием рабочего дня, обедами и встречами. \n",
    "- Спад происходит после утреннего часа пик (10:00-12:00), после обеда (16:00-18:00) и ночью (00:00-6:00), когда активность минимальна. \n",
    "- Пик в полночь может быть вызван окончанием работы развлекательных заведений и снижением доступности общественного транспорта."
   ]
  },
  {
   "cell_type": "code",
   "execution_count": 17,
   "metadata": {
    "scrolled": false
   },
   "outputs": [
    {
     "data": {
      "image/png": "[encoded data removed]",
      "text/plain": [
       "<Figure size 432x288 with 1 Axes>"
      ]
     },
     "metadata": {
      "needs_background": "light"
     },
     "output_type": "display_data"
    }
   ],
   "source": [
    "decomposed.resid.plot() \n",
    "plt.title('Шумы')\n",
    "plt.xlabel('Дата и время')  \n",
    "plt.ylabel('Количество заказов');"
   ]
  },
  {
   "cell_type": "markdown",
   "metadata": {},
   "source": [
    "- Большая амплитуда: Шум (остатки) имеет значительные колебания, особенно в конце ряда (август).\n",
    "- Непостоянная дисперсия (гетероскедастичность): Размах колебаний шума меняется со временем. В начале ряда он меньше, в конце – значительно больше. Это нарушение предположения о постоянстве дисперсии остатков, которое важно для многих моделей временных рядов.\n",
    "- Выбросы: Видны отдельные сильные всплески (выбросы), особенно в августе.\n",
    "\n",
    "Скорее всего, это не ошибки, а важные события."
   ]
  },
  {
   "cell_type": "code",
   "execution_count": 18,
   "metadata": {
    "scrolled": true
   },
   "outputs": [
    {
     "data": {
      "image/png": "[encoded data removed]",
      "text/plain": [
       "<Figure size 432x288 with 1 Axes>"
      ]
     },
     "metadata": {
      "needs_background": "light"
     },
     "output_type": "display_data"
    }
   ],
   "source": [
    "# Создаём копию DataFrame и агрегируем по дням\n",
    "week_seasonal = df.copy().resample('1D').sum()\n",
    "\n",
    "# Выполняем декомпозицию и строим график сезонности\n",
    "seasonal_decomposed = seasonal_decompose(week_seasonal)\n",
    "seasonal_decomposed.seasonal['2018-03-05':'2018-03-11'].plot()\n",
    "plt.title('Недельная сезонность')\n",
    "plt.xlabel('Дата и время')  \n",
    "plt.ylabel('Количество заказов');"
   ]
  },
  {
   "cell_type": "markdown",
   "metadata": {},
   "source": [
    "- Пики наблюдаются в понедельник и в пятницу. Неудивительно, вначале и в конце неделю люди спешат на работу и с работы. \n",
    "- А вот самый низкий спрос во вторник, но спрос потом постепенно растёт до пятницы.\n",
    "- С пятницы мы наблюдаем спад до выходных."
   ]
  },
  {
   "cell_type": "markdown",
   "metadata": {},
   "source": [
    "**Вывод:**\n",
    "\n",
    "- Наблюдается тренд равномерного роста заказов с марта по август с периодическими небольшими падениями.\n",
    "- Присутствует сезонность по дням - спад после полуночи, рост с утра, днем, и вечером, пик к полуночи, а также по неделям - пики в понедельник и пятницу с резким спадом во вторник и с пятницы до конца недели, и с ростом со вторника до пятницы."
   ]
  },
  {
   "cell_type": "markdown",
   "metadata": {},
   "source": [
    "## Обучение"
   ]
  },
  {
   "cell_type": "markdown",
   "metadata": {},
   "source": [
    "**Подготовка признаков:**\n",
    "\n",
    "Создадим признаки для горизонта прогнозирования в один шаг. "
   ]
  },
  {
   "cell_type": "code",
   "execution_count": 19,
   "metadata": {},
   "outputs": [],
   "source": [
    "def make_features(df):\n",
    "    df['dayofweek'] = df.index.dayofweek\n",
    "    df['day'] = df.index.day\n",
    "    df['hour'] = df.index.hour\n",
    "    \n",
    "    # позволит модели учитывать данные за предыдущие 24 часа для прогнозирования спроса на следующий час.\n",
    "    for lag in range(1, 169):\n",
    "        df['lag_{}'.format(lag)] = df['num_orders'].shift(lag)\n",
    "\n",
    "\n",
    "    # Скользящее среднее для суточной и недельной сезонности\n",
    "    df['rolling_mean_24'] = df['num_orders'].shift().rolling(24).mean()\n",
    "    df['rolling_mean_168'] = df['num_orders'].shift().rolling(168).mean() \n",
    "    df.dropna(inplace=True)\n",
    "    \n",
    "    return df"
   ]
  },
  {
   "cell_type": "code",
   "execution_count": 20,
   "metadata": {},
   "outputs": [
    {
     "data": {
      "text/plain": [
       "(4416, 1)"
      ]
     },
     "metadata": {},
     "output_type": "display_data"
    },
    {
     "data": {
      "text/plain": [
       "(4248, 174)"
      ]
     },
     "metadata": {},
     "output_type": "display_data"
    }
   ],
   "source": [
    "display(df.shape)\n",
    "df = make_features(df)\n",
    "display(df.shape)"
   ]
  },
  {
   "cell_type": "code",
   "execution_count": 21,
   "metadata": {},
   "outputs": [],
   "source": [
    "X = df.drop('num_orders', axis=1)\n",
    "y = df['num_orders']\n",
    "X_train, X_test, y_train, y_test = train_test_split(X, y, test_size=0.1, shuffle=False)"
   ]
  },
  {
   "cell_type": "code",
   "execution_count": 22,
   "metadata": {},
   "outputs": [],
   "source": [
    "# Признаки, которые будут масштабироваться и кодироваться\n",
    "numeric_features = [\"rolling_mean_24\", \"rolling_mean_168\"]\n",
    "categorical_features = [\"hour\", \"dayofweek\"]\n",
    "\n",
    "# Определим преобразования для категориальных и числовых признаков\n",
    "preprocessor = ColumnTransformer(\n",
    "    transformers=[\n",
    "        (\"num\", StandardScaler(), numeric_features),\n",
    "        (\"cat\", OneHotEncoder(), categorical_features)\n",
    "    ]\n",
    ")\n",
    "\n",
    "# Создаем pipeline для линейной регрессии\n",
    "linear_regression_pipeline = Pipeline(steps=[\n",
    "    (\"preprocessor\", preprocessor),\n",
    "    (\"model\", LinearRegression())\n",
    "])\n",
    "\n",
    "# Модели\n",
    "models = {\n",
    "    \"Linear Regression\": linear_regression_pipeline,\n",
    "    \"Decision Tree\": DecisionTreeRegressor(),\n",
    "    \"Random Forest\": RandomForestRegressor(),\n",
    "    \"LightGBM\": LGBMRegressor(),\n",
    "    \"CatBoost\": CatBoostRegressor(verbose=0)  # Отключим лишний вывод CatBoost\n",
    "}\n",
    "\n",
    "# Гиперпараметры для GridSearch\n",
    "param_grids = {\n",
    "    \"Linear Regression\": {},  \n",
    "    \"Decision Tree\": {\n",
    "        \"max_depth\": [5, 10, 20],\n",
    "        \"min_samples_split\": [2, 5, 10]\n",
    "    },\n",
    "    \"Random Forest\": {\n",
    "        \"n_estimators\": [10, 100, 150],\n",
    "        \"max_depth\": [5, 10]\n",
    "    },\n",
    "    \"LightGBM\": {\n",
    "        \"n_estimators\": [50, 100],\n",
    "        \"learning_rate\": [0.05, 0.1],\n",
    "        \"max_depth\": [5, 10]\n",
    "    },\n",
    "    \"CatBoost\": {\n",
    "        \"learning_rate\": [0.1, 0.2, 1],\n",
    "        \"depth\": [5, 10]\n",
    "    }\n",
    "}"
   ]
  },
  {
   "cell_type": "code",
   "execution_count": 23,
   "metadata": {
    "scrolled": false
   },
   "outputs": [
    {
     "name": "stdout",
     "output_type": "stream",
     "text": [
      "Обучение Linear Regression...\n",
      "Обучение Decision Tree...\n",
      "Обучение Random Forest...\n",
      "Обучение LightGBM...\n",
      "Обучение CatBoost...\n"
     ]
    },
    {
     "data": {
      "text/html": [
       "<div>\n",
       "<style scoped>\n",
       "    .dataframe tbody tr th:only-of-type {\n",
       "        vertical-align: middle;\n",
       "    }\n",
       "\n",
       "    .dataframe tbody tr th {\n",
       "        vertical-align: top;\n",
       "    }\n",
       "\n",
       "    .dataframe thead th {\n",
       "        text-align: right;\n",
       "    }\n",
       "</style>\n",
       "<table border=\"1\" class=\"dataframe\">\n",
       "  <thead>\n",
       "    <tr style=\"text-align: right;\">\n",
       "      <th></th>\n",
       "      <th>Модель</th>\n",
       "      <th>Лучшие параметры</th>\n",
       "      <th>Лучший результат (RMSE)</th>\n",
       "    </tr>\n",
       "  </thead>\n",
       "  <tbody>\n",
       "    <tr>\n",
       "      <th>0</th>\n",
       "      <td>Linear Regression</td>\n",
       "      <td>{}</td>\n",
       "      <td>5.181913</td>\n",
       "    </tr>\n",
       "    <tr>\n",
       "      <th>1</th>\n",
       "      <td>Decision Tree</td>\n",
       "      <td>{'max_depth': 5, 'min_samples_split': 10}</td>\n",
       "      <td>5.367682</td>\n",
       "    </tr>\n",
       "    <tr>\n",
       "      <th>2</th>\n",
       "      <td>Random Forest</td>\n",
       "      <td>{'max_depth': 10, 'n_estimators': 150}</td>\n",
       "      <td>4.890366</td>\n",
       "    </tr>\n",
       "    <tr>\n",
       "      <th>3</th>\n",
       "      <td>LightGBM</td>\n",
       "      <td>{'learning_rate': 0.05, 'max_depth': 5, 'n_est...</td>\n",
       "      <td>4.859205</td>\n",
       "    </tr>\n",
       "    <tr>\n",
       "      <th>4</th>\n",
       "      <td>CatBoost</td>\n",
       "      <td>{'depth': 5, 'learning_rate': 0.1}</td>\n",
       "      <td>4.927634</td>\n",
       "    </tr>\n",
       "  </tbody>\n",
       "</table>\n",
       "</div>"
      ],
      "text/plain": [
       "              Модель                                   Лучшие параметры  \\\n",
       "0  Linear Regression                                                 {}   \n",
       "1      Decision Tree          {'max_depth': 5, 'min_samples_split': 10}   \n",
       "2      Random Forest             {'max_depth': 10, 'n_estimators': 150}   \n",
       "3           LightGBM  {'learning_rate': 0.05, 'max_depth': 5, 'n_est...   \n",
       "4           CatBoost                 {'depth': 5, 'learning_rate': 0.1}   \n",
       "\n",
       "   Лучший результат (RMSE)  \n",
       "0                 5.181913  \n",
       "1                 5.367682  \n",
       "2                 4.890366  \n",
       "3                 4.859205  \n",
       "4                 4.927634  "
      ]
     },
     "metadata": {},
     "output_type": "display_data"
    }
   ],
   "source": [
    "# Создаем TimeSeriesSplit с 3 фолдами\n",
    "tscv = TimeSeriesSplit(n_splits=3)\n",
    "\n",
    "# Перебор моделей и их гиперпараметров\n",
    "# Сохранение результатов всех моделей\n",
    "best_models = {}\n",
    "results = []\n",
    "for name, model in models.items():\n",
    "    print(f\"Обучение {name}...\")\n",
    "    grid_search = GridSearchCV(model, param_grids[name], scoring=\"neg_root_mean_squared_error\", cv=tscv)\n",
    "    grid_search.fit(X_train, y_train)\n",
    "    \n",
    "    # Сохраним лучшую модель\n",
    "    best_models[name] = grid_search.best_estimator_\n",
    "        \n",
    "    # Преобразуем лучший результат (MSE) в RMSE\n",
    "    best_rmse = np.sqrt(abs(grid_search.best_score_))\n",
    "\n",
    "    # Добавляем результаты в список\n",
    "    results.append({\n",
    "        \"Модель\": name,\n",
    "        \"Лучшие параметры\": grid_search.best_params_,\n",
    "        \"Лучший результат (RMSE)\": best_rmse\n",
    "    })\n",
    "\n",
    "# Выводим результаты\n",
    "results_df = pd.DataFrame(results)\n",
    "display(results_df)"
   ]
  },
  {
   "cell_type": "markdown",
   "metadata": {},
   "source": [
    "LightGBM показала наилучший результат (RMSE: 4.85), за ней следуют Random Forest (4.89) и CatBoost (4.92). Все модели удовлетворяют условию RMSE ≤ 48, поэтому для прогнозирования лучше использовать LightGBM."
   ]
  },
  {
   "cell_type": "markdown",
   "metadata": {},
   "source": [
    "## Тестирование"
   ]
  },
  {
   "cell_type": "code",
   "execution_count": null,
   "metadata": {},
   "outputs": [
    {
     "name": "stdout",
     "output_type": "stream",
     "text": [
      "Финальный RMSE на тестовой выборке: 36.80\n"
     ]
    }
   ],
   "source": [
    "# Финальное обучение CatBoost на всей обучающей выборке\n",
    "lightgbm = best_models['LightGBM']\n",
    "lightgbm.fit(X_train, y_train)\n",
    "\n",
    "# Прогноз на тестовых данных\n",
    "y_pred = lightgbm.predict(X_test)\n",
    "\n",
    "# Расчёт RMSE\n",
    "final_rmse = np.sqrt(mean_squared_error(y_test, y_pred))\n",
    "print(f\"Финальный RMSE на тестовой выборке: {final_rmse:.2f}\")"
   ]
  },
  {
   "cell_type": "markdown",
   "metadata": {},
   "source": [
    "Финальный RMSE на тестовой выборке 36.8, что удовлетворяет условию задачи, хотя разрыв между тренировчной довольно большой."
   ]
  },
  {
   "cell_type": "code",
   "execution_count": 25,
   "metadata": {
    "scrolled": true
   },
   "outputs": [
    {
     "name": "stdout",
     "output_type": "stream",
     "text": [
      "RMSE для бейзлайна с лагом 24: 55.86\n",
      "RMSE для бейзлайна с лагом 168: 39.29\n"
     ]
    }
   ],
   "source": [
    "# Лаг 24 - предсказание значением этого же часа предыдущих суток\n",
    "baseline_lag_24 = X_test['lag_24']\n",
    "\n",
    "# Лаг 168 - предсказание значением этого же часа и дня недели с предыдущей недели\n",
    "baseline_lag_168 = X_test['lag_168']\n",
    "\n",
    "# Расчёт RMSE для бейзлайнов\n",
    "rmse_lag_24 = np.sqrt(mean_squared_error(y_test, baseline_lag_24))\n",
    "rmse_lag_168 = np.sqrt(mean_squared_error(y_test, baseline_lag_168))\n",
    "\n",
    "print(f\"RMSE для бейзлайна с лагом 24: {rmse_lag_24:.2f}\")\n",
    "print(f\"RMSE для бейзлайна с лагом 168: {rmse_lag_168:.2f}\")"
   ]
  },
  {
   "cell_type": "markdown",
   "metadata": {},
   "source": [
    "Сравнение моделей показало, что наилучший результат на тренировочных данных продемонстрировала модель LightGBM с RMSE 4.85, что превосходит Random Forest (4.89) и CatBoost (4.92). Все модели соответствуют условию RMSE ≤ 48, поэтому для прогнозирования была выбрана LightGBM.\n",
    "\n",
    "На тестовой выборке LightGBM также продемонстрировала финальное RMSE 36.80, что значительно лучше бейзлайновых моделей:\n",
    "\n",
    "Лаг 24 (предсказание значением этого же часа предыдущих суток) показал RMSE 55.86.\n",
    "Лаг 168 (предсказание значением этого же часа на предыдущей неделе) дал RMSE 39.29.\n",
    "Таким образом, LightGBM превосходит базовые методы прогнозирования и является наиболее подходящей моделью для использования."
   ]
  },
  {
   "cell_type": "markdown",
   "metadata": {},
   "source": [
    "## Общий вывод"
   ]
  },
  {
   "cell_type": "markdown",
   "metadata": {},
   "source": [
    "В ходе проекта были собраны и обработаны данные компании «Чётенькое такси» по заказам такси в аэропортах за период с марта по август 2018 года с интервалом в 10 минут. Данные были ресемплированы по одному часу и проверены на наличие пропусков (не обнаружено). Анализ временных рядов показал:\n",
    "\n",
    "- Тренд: Устойчивый рост заказов с марта по август.\n",
    "- Сезонность: Была определена суточная сезонность. Спад заказов после полуночи, рост утром и вечером, пик к полуночи. Также определена недельная сезонность, где пик в пн и в пт, рост с вт до пт, спад с пн по вт, с пт по вс.\n",
    "- Выбросы: Заметные всплески заказов, особенно в августе, вероятно, из-за особых событий.\n",
    "- Стационарность: Визуальная оценка подтвердила не тсационарность.\n",
    "\n",
    "Для прогнозирования обучены несколько моделей с различными гиперпараметрами, включая LinearRegression, DecisionTreeRegressor, CatBoost, LightGBM, Random Forest:\n",
    "\n",
    "- LightGBM показала наилучший результат на тренировочной выборке (RMSE: 4.85).\n",
    "- Random Forest и CatBoost также показали хорошие результаты (RMSE: 4.89 и 4.92 соответственно).\n",
    "\n",
    "Финальное тестирование модели CatBoost дало RMSE на тестовой выборке 36.8, что удовлетворяет условию задачи (≤ 48). Хотя разрыв между тренировочным и тестовым RMSE присутствует, модель может использоваться для прогнозирования количества заказов такси на следующий час, обеспечивая приемлемую точность в реальных условиях."
   ]
  },
  {
   "cell_type": "markdown",
   "metadata": {},
   "source": [
    "## Чек-лист проверки"
   ]
  },
  {
   "cell_type": "markdown",
   "metadata": {},
   "source": [
    "- [x]  Jupyter Notebook открыт\n",
    "- [x]  Весь код выполняется без ошибок\n",
    "- [x]  Ячейки с кодом расположены в порядке исполнения\n",
    "- [x]  Данные загружены и подготовлены\n",
    "- [x]  Данные проанализированы\n",
    "- [x]  Модель обучена, гиперпараметры подобраны\n",
    "- [x]  Качество моделей проверено, выводы сделаны\n",
    "- [x]  Значение *RMSE* на тестовой выборке не больше 48"
   ]
  }
 ],
 "metadata": {
  "ExecuteTimeLog": [
   {
    "duration": 1137,
    "start_time": "2025-02-15T09:23:22.660Z"
   },
   {
    "duration": 64,
    "start_time": "2025-02-15T09:25:06.253Z"
   },
   {
    "duration": 51,
    "start_time": "2025-02-15T09:27:23.578Z"
   },
   {
    "duration": 6,
    "start_time": "2025-02-15T09:28:38.889Z"
   },
   {
    "duration": 1250,
    "start_time": "2025-02-15T09:30:03.415Z"
   },
   {
    "duration": 6,
    "start_time": "2025-02-15T09:31:24.798Z"
   },
   {
    "duration": 7,
    "start_time": "2025-02-15T09:36:15.311Z"
   },
   {
    "duration": 8,
    "start_time": "2025-02-15T09:36:31.407Z"
   },
   {
    "duration": 16,
    "start_time": "2025-02-15T09:36:38.102Z"
   },
   {
    "duration": 6,
    "start_time": "2025-02-15T09:36:54.039Z"
   },
   {
    "duration": 4,
    "start_time": "2025-02-15T09:37:08.470Z"
   },
   {
    "duration": 313,
    "start_time": "2025-02-15T09:37:18.462Z"
   },
   {
    "duration": 112,
    "start_time": "2025-02-15T09:42:54.086Z"
   },
   {
    "duration": 285,
    "start_time": "2025-02-15T09:47:16.151Z"
   },
   {
    "duration": 70,
    "start_time": "2025-02-15T09:56:04.591Z"
   },
   {
    "duration": 2545,
    "start_time": "2025-02-15T09:56:40.770Z"
   },
   {
    "duration": 2020,
    "start_time": "2025-02-15T09:58:59.794Z"
   },
   {
    "duration": 3826,
    "start_time": "2025-02-15T10:00:55.495Z"
   },
   {
    "duration": 11,
    "start_time": "2025-02-15T10:08:01.836Z"
   },
   {
    "duration": 11,
    "start_time": "2025-02-15T10:12:48.560Z"
   },
   {
    "duration": 15,
    "start_time": "2025-02-15T10:13:47.930Z"
   },
   {
    "duration": 1149,
    "start_time": "2025-02-15T10:15:10.454Z"
   },
   {
    "duration": 63,
    "start_time": "2025-02-15T10:15:11.605Z"
   },
   {
    "duration": 7,
    "start_time": "2025-02-15T10:15:11.670Z"
   },
   {
    "duration": 30,
    "start_time": "2025-02-15T10:15:11.679Z"
   },
   {
    "duration": 43,
    "start_time": "2025-02-15T10:15:11.711Z"
   },
   {
    "duration": 11,
    "start_time": "2025-02-15T10:15:11.756Z"
   },
   {
    "duration": 498,
    "start_time": "2025-02-15T10:15:11.769Z"
   },
   {
    "duration": 314,
    "start_time": "2025-02-15T10:15:12.269Z"
   },
   {
    "duration": 4031,
    "start_time": "2025-02-15T10:15:12.585Z"
   },
   {
    "duration": 297,
    "start_time": "2025-02-15T10:15:16.620Z"
   },
   {
    "duration": 3,
    "start_time": "2025-02-15T10:16:42.798Z"
   },
   {
    "duration": 20,
    "start_time": "2025-02-15T10:17:06.563Z"
   },
   {
    "duration": 1362,
    "start_time": "2025-02-15T10:17:37.648Z"
   },
   {
    "duration": 53,
    "start_time": "2025-02-15T10:17:39.012Z"
   },
   {
    "duration": 5,
    "start_time": "2025-02-15T10:17:39.067Z"
   },
   {
    "duration": 42,
    "start_time": "2025-02-15T10:17:39.073Z"
   },
   {
    "duration": 6,
    "start_time": "2025-02-15T10:17:39.118Z"
   },
   {
    "duration": 12,
    "start_time": "2025-02-15T10:17:39.125Z"
   },
   {
    "duration": 235,
    "start_time": "2025-02-15T10:17:39.139Z"
   },
   {
    "duration": 351,
    "start_time": "2025-02-15T10:17:39.376Z"
   },
   {
    "duration": 4486,
    "start_time": "2025-02-15T10:17:39.728Z"
   },
   {
    "duration": 818,
    "start_time": "2025-02-15T10:17:44.221Z"
   },
   {
    "duration": 125,
    "start_time": "2025-02-15T10:19:11.983Z"
   },
   {
    "duration": 210,
    "start_time": "2025-02-15T10:19:49.861Z"
   },
   {
    "duration": 184,
    "start_time": "2025-02-15T10:22:02.969Z"
   },
   {
    "duration": 196,
    "start_time": "2025-02-15T10:23:08.467Z"
   },
   {
    "duration": 313,
    "start_time": "2025-02-15T10:23:30.777Z"
   },
   {
    "duration": 189,
    "start_time": "2025-02-15T10:23:47.791Z"
   },
   {
    "duration": 214,
    "start_time": "2025-02-15T10:23:51.297Z"
   },
   {
    "duration": 241,
    "start_time": "2025-02-15T10:24:54.485Z"
   },
   {
    "duration": 248,
    "start_time": "2025-02-15T10:25:55.505Z"
   },
   {
    "duration": 198,
    "start_time": "2025-02-15T10:42:54.287Z"
   },
   {
    "duration": 71,
    "start_time": "2025-02-15T10:43:19.302Z"
   },
   {
    "duration": 192,
    "start_time": "2025-02-15T10:43:23.690Z"
   },
   {
    "duration": 236,
    "start_time": "2025-02-15T10:43:50.436Z"
   },
   {
    "duration": 148,
    "start_time": "2025-02-15T10:44:40.899Z"
   },
   {
    "duration": 91,
    "start_time": "2025-02-15T11:01:09.058Z"
   },
   {
    "duration": 161,
    "start_time": "2025-02-15T11:01:42.245Z"
   },
   {
    "duration": 370,
    "start_time": "2025-02-15T11:04:05.678Z"
   },
   {
    "duration": 3,
    "start_time": "2025-02-15T11:35:47.863Z"
   },
   {
    "duration": 132,
    "start_time": "2025-02-15T11:36:07.658Z"
   },
   {
    "duration": 332,
    "start_time": "2025-02-15T11:38:10.889Z"
   },
   {
    "duration": 332,
    "start_time": "2025-02-15T11:38:49.980Z"
   },
   {
    "duration": 151,
    "start_time": "2025-02-15T11:40:04.206Z"
   },
   {
    "duration": 357,
    "start_time": "2025-02-15T11:40:25.929Z"
   },
   {
    "duration": 80,
    "start_time": "2025-02-15T11:41:07.124Z"
   },
   {
    "duration": 399,
    "start_time": "2025-02-15T11:42:21.941Z"
   },
   {
    "duration": 7,
    "start_time": "2025-02-15T12:01:21.664Z"
   },
   {
    "duration": 10,
    "start_time": "2025-02-15T12:01:50.147Z"
   },
   {
    "duration": 4,
    "start_time": "2025-02-15T12:04:56.370Z"
   },
   {
    "duration": 15,
    "start_time": "2025-02-15T12:04:58.015Z"
   },
   {
    "duration": 6,
    "start_time": "2025-02-15T12:05:19.063Z"
   },
   {
    "duration": 25,
    "start_time": "2025-02-15T12:05:21.155Z"
   },
   {
    "duration": 8,
    "start_time": "2025-02-15T12:05:28.666Z"
   },
   {
    "duration": 17,
    "start_time": "2025-02-15T12:05:30.539Z"
   },
   {
    "duration": 11,
    "start_time": "2025-02-15T12:05:37.495Z"
   },
   {
    "duration": 9,
    "start_time": "2025-02-15T12:06:03.973Z"
   },
   {
    "duration": 43,
    "start_time": "2025-02-15T12:06:06.704Z"
   },
   {
    "duration": 1377,
    "start_time": "2025-02-15T12:06:12.549Z"
   },
   {
    "duration": 64,
    "start_time": "2025-02-15T12:06:13.928Z"
   },
   {
    "duration": 5,
    "start_time": "2025-02-15T12:06:13.994Z"
   },
   {
    "duration": 4,
    "start_time": "2025-02-15T12:06:14.000Z"
   },
   {
    "duration": 4,
    "start_time": "2025-02-15T12:06:14.006Z"
   },
   {
    "duration": 8,
    "start_time": "2025-02-15T12:06:14.012Z"
   },
   {
    "duration": 228,
    "start_time": "2025-02-15T12:06:14.021Z"
   },
   {
    "duration": 338,
    "start_time": "2025-02-15T12:06:14.251Z"
   },
   {
    "duration": 2119,
    "start_time": "2025-02-15T12:06:14.591Z"
   },
   {
    "duration": 6,
    "start_time": "2025-02-15T12:06:16.712Z"
   },
   {
    "duration": 298,
    "start_time": "2025-02-15T12:06:16.720Z"
   },
   {
    "duration": 189,
    "start_time": "2025-02-15T12:06:17.020Z"
   },
   {
    "duration": 220,
    "start_time": "2025-02-15T12:06:17.211Z"
   },
   {
    "duration": 206,
    "start_time": "2025-02-15T12:06:17.434Z"
   },
   {
    "duration": 359,
    "start_time": "2025-02-15T12:06:17.642Z"
   },
   {
    "duration": 419,
    "start_time": "2025-02-15T12:06:18.008Z"
   },
   {
    "duration": 309,
    "start_time": "2025-02-15T12:06:18.429Z"
   },
   {
    "duration": 5,
    "start_time": "2025-02-15T12:06:18.740Z"
   },
   {
    "duration": 30,
    "start_time": "2025-02-15T12:06:18.747Z"
   },
   {
    "duration": 5,
    "start_time": "2025-02-15T12:15:08.413Z"
   },
   {
    "duration": 28,
    "start_time": "2025-02-15T12:15:10.343Z"
   },
   {
    "duration": 4,
    "start_time": "2025-02-15T12:23:54.449Z"
   },
   {
    "duration": 18,
    "start_time": "2025-02-15T12:23:57.675Z"
   },
   {
    "duration": 77,
    "start_time": "2025-02-15T12:27:30.069Z"
   },
   {
    "duration": 6,
    "start_time": "2025-02-15T12:27:44.206Z"
   },
   {
    "duration": 19,
    "start_time": "2025-02-15T13:16:31.329Z"
   },
   {
    "duration": 12,
    "start_time": "2025-02-15T13:16:33.939Z"
   },
   {
    "duration": 120,
    "start_time": "2025-02-15T13:18:10.577Z"
   },
   {
    "duration": 22,
    "start_time": "2025-02-15T13:18:17.925Z"
   },
   {
    "duration": 5,
    "start_time": "2025-02-15T13:21:59.013Z"
   },
   {
    "duration": 5,
    "start_time": "2025-02-15T13:22:06.160Z"
   },
   {
    "duration": 5,
    "start_time": "2025-02-15T13:22:39.834Z"
   },
   {
    "duration": 593,
    "start_time": "2025-02-15T13:22:42.523Z"
   },
   {
    "duration": 0,
    "start_time": "2025-02-15T13:30:00.524Z"
   },
   {
    "duration": 1702,
    "start_time": "2025-02-15T13:30:03.917Z"
   },
   {
    "duration": 56,
    "start_time": "2025-02-15T13:30:05.622Z"
   },
   {
    "duration": 5,
    "start_time": "2025-02-15T13:30:05.680Z"
   },
   {
    "duration": 32,
    "start_time": "2025-02-15T13:30:05.687Z"
   },
   {
    "duration": 22,
    "start_time": "2025-02-15T13:30:05.722Z"
   },
   {
    "duration": 22,
    "start_time": "2025-02-15T13:30:05.745Z"
   },
   {
    "duration": 246,
    "start_time": "2025-02-15T13:30:05.768Z"
   },
   {
    "duration": 357,
    "start_time": "2025-02-15T13:30:06.015Z"
   },
   {
    "duration": 131,
    "start_time": "2025-02-15T13:30:06.374Z"
   },
   {
    "duration": 0,
    "start_time": "2025-02-15T13:30:06.508Z"
   },
   {
    "duration": 0,
    "start_time": "2025-02-15T13:30:06.509Z"
   },
   {
    "duration": 0,
    "start_time": "2025-02-15T13:30:06.510Z"
   },
   {
    "duration": 0,
    "start_time": "2025-02-15T13:30:06.511Z"
   },
   {
    "duration": 0,
    "start_time": "2025-02-15T13:30:06.512Z"
   },
   {
    "duration": 0,
    "start_time": "2025-02-15T13:30:06.513Z"
   },
   {
    "duration": 0,
    "start_time": "2025-02-15T13:30:06.514Z"
   },
   {
    "duration": 0,
    "start_time": "2025-02-15T13:30:06.515Z"
   },
   {
    "duration": 0,
    "start_time": "2025-02-15T13:30:06.516Z"
   },
   {
    "duration": 0,
    "start_time": "2025-02-15T13:30:06.517Z"
   },
   {
    "duration": 0,
    "start_time": "2025-02-15T13:30:06.518Z"
   },
   {
    "duration": 0,
    "start_time": "2025-02-15T13:30:06.519Z"
   },
   {
    "duration": 0,
    "start_time": "2025-02-15T13:30:06.519Z"
   },
   {
    "duration": 26,
    "start_time": "2025-02-15T13:38:37.955Z"
   },
   {
    "duration": 1545,
    "start_time": "2025-02-15T13:38:54.850Z"
   },
   {
    "duration": 54,
    "start_time": "2025-02-15T13:38:56.396Z"
   },
   {
    "duration": 5,
    "start_time": "2025-02-15T13:38:56.452Z"
   },
   {
    "duration": 4,
    "start_time": "2025-02-15T13:38:56.459Z"
   },
   {
    "duration": 8,
    "start_time": "2025-02-15T13:38:56.465Z"
   },
   {
    "duration": 36,
    "start_time": "2025-02-15T13:38:56.475Z"
   },
   {
    "duration": 257,
    "start_time": "2025-02-15T13:38:56.513Z"
   },
   {
    "duration": 381,
    "start_time": "2025-02-15T13:38:56.773Z"
   },
   {
    "duration": 2567,
    "start_time": "2025-02-15T13:38:57.155Z"
   },
   {
    "duration": 86,
    "start_time": "2025-02-15T13:38:59.725Z"
   },
   {
    "duration": 308,
    "start_time": "2025-02-15T13:38:59.814Z"
   },
   {
    "duration": 207,
    "start_time": "2025-02-15T13:39:00.124Z"
   },
   {
    "duration": 236,
    "start_time": "2025-02-15T13:39:00.333Z"
   },
   {
    "duration": 217,
    "start_time": "2025-02-15T13:39:00.571Z"
   },
   {
    "duration": 353,
    "start_time": "2025-02-15T13:39:00.790Z"
   },
   {
    "duration": 483,
    "start_time": "2025-02-15T13:39:01.144Z"
   },
   {
    "duration": 226,
    "start_time": "2025-02-15T13:39:01.629Z"
   },
   {
    "duration": 5,
    "start_time": "2025-02-15T13:39:01.857Z"
   },
   {
    "duration": 52,
    "start_time": "2025-02-15T13:39:01.864Z"
   },
   {
    "duration": 21,
    "start_time": "2025-02-15T13:39:01.918Z"
   },
   {
    "duration": 139,
    "start_time": "2025-02-15T13:39:01.941Z"
   },
   {
    "duration": 2719473,
    "start_time": "2025-02-15T13:39:02.082Z"
   },
   {
    "duration": 4652,
    "start_time": "2025-02-15T14:33:28.823Z"
   },
   {
    "duration": 4454,
    "start_time": "2025-02-15T14:33:42.720Z"
   },
   {
    "duration": 1665,
    "start_time": "2025-02-16T09:29:59.374Z"
   },
   {
    "duration": 57,
    "start_time": "2025-02-16T09:30:10.508Z"
   },
   {
    "duration": 11,
    "start_time": "2025-02-16T09:30:23.945Z"
   },
   {
    "duration": 6,
    "start_time": "2025-02-16T09:31:37.922Z"
   },
   {
    "duration": 3,
    "start_time": "2025-02-16T09:31:39.983Z"
   },
   {
    "duration": 6,
    "start_time": "2025-02-16T09:31:41.691Z"
   },
   {
    "duration": 8,
    "start_time": "2025-02-16T09:31:44.118Z"
   },
   {
    "duration": 293,
    "start_time": "2025-02-16T09:31:49.027Z"
   },
   {
    "duration": 218,
    "start_time": "2025-02-16T09:31:53.011Z"
   },
   {
    "duration": 208,
    "start_time": "2025-02-16T09:32:36.949Z"
   },
   {
    "duration": 220,
    "start_time": "2025-02-16T09:34:25.531Z"
   },
   {
    "duration": 291,
    "start_time": "2025-02-16T09:40:31.518Z"
   },
   {
    "duration": 364,
    "start_time": "2025-02-16T09:40:44.377Z"
   },
   {
    "duration": 1557,
    "start_time": "2025-02-16T09:41:58.093Z"
   },
   {
    "duration": 47,
    "start_time": "2025-02-16T09:41:59.652Z"
   },
   {
    "duration": 9,
    "start_time": "2025-02-16T09:41:59.701Z"
   },
   {
    "duration": 6,
    "start_time": "2025-02-16T09:41:59.712Z"
   },
   {
    "duration": 4,
    "start_time": "2025-02-16T09:41:59.719Z"
   },
   {
    "duration": 9,
    "start_time": "2025-02-16T09:41:59.724Z"
   },
   {
    "duration": 8,
    "start_time": "2025-02-16T09:41:59.735Z"
   },
   {
    "duration": 259,
    "start_time": "2025-02-16T09:41:59.744Z"
   },
   {
    "duration": 133,
    "start_time": "2025-02-16T09:52:41.177Z"
   },
   {
    "duration": 14,
    "start_time": "2025-02-16T09:53:18.086Z"
   },
   {
    "duration": 1528,
    "start_time": "2025-02-16T09:58:26.300Z"
   },
   {
    "duration": 46,
    "start_time": "2025-02-16T09:58:27.829Z"
   },
   {
    "duration": 13,
    "start_time": "2025-02-16T09:58:27.876Z"
   },
   {
    "duration": 5,
    "start_time": "2025-02-16T09:58:27.892Z"
   },
   {
    "duration": 5,
    "start_time": "2025-02-16T09:58:27.899Z"
   },
   {
    "duration": 6,
    "start_time": "2025-02-16T09:58:27.906Z"
   },
   {
    "duration": 11,
    "start_time": "2025-02-16T09:58:27.914Z"
   },
   {
    "duration": 287,
    "start_time": "2025-02-16T09:58:27.927Z"
   },
   {
    "duration": 360,
    "start_time": "2025-02-16T09:58:28.216Z"
   },
   {
    "duration": 5,
    "start_time": "2025-02-16T09:58:28.579Z"
   },
   {
    "duration": 237,
    "start_time": "2025-02-16T09:58:28.586Z"
   },
   {
    "duration": 219,
    "start_time": "2025-02-16T09:58:28.826Z"
   },
   {
    "duration": 232,
    "start_time": "2025-02-16T09:58:29.047Z"
   },
   {
    "duration": 219,
    "start_time": "2025-02-16T09:58:29.281Z"
   },
   {
    "duration": 402,
    "start_time": "2025-02-16T09:58:29.502Z"
   },
   {
    "duration": 496,
    "start_time": "2025-02-16T09:58:29.906Z"
   },
   {
    "duration": 213,
    "start_time": "2025-02-16T09:58:37.080Z"
   },
   {
    "duration": 206,
    "start_time": "2025-02-16T09:59:00.369Z"
   },
   {
    "duration": 190,
    "start_time": "2025-02-16T09:59:06.337Z"
   },
   {
    "duration": 220,
    "start_time": "2025-02-16T09:59:26.350Z"
   },
   {
    "duration": 204,
    "start_time": "2025-02-16T09:59:31.473Z"
   },
   {
    "duration": 342,
    "start_time": "2025-02-16T09:59:41.034Z"
   },
   {
    "duration": 196,
    "start_time": "2025-02-16T09:59:46.564Z"
   },
   {
    "duration": 204,
    "start_time": "2025-02-16T09:59:54.651Z"
   },
   {
    "duration": 203,
    "start_time": "2025-02-16T10:06:33.637Z"
   },
   {
    "duration": 140,
    "start_time": "2025-02-16T10:09:38.930Z"
   },
   {
    "duration": 1523,
    "start_time": "2025-02-16T11:10:40.029Z"
   },
   {
    "duration": 44,
    "start_time": "2025-02-16T11:10:41.554Z"
   },
   {
    "duration": 9,
    "start_time": "2025-02-16T11:10:41.600Z"
   },
   {
    "duration": 5,
    "start_time": "2025-02-16T11:10:41.612Z"
   },
   {
    "duration": 15,
    "start_time": "2025-02-16T11:10:41.618Z"
   },
   {
    "duration": 7,
    "start_time": "2025-02-16T11:10:41.635Z"
   },
   {
    "duration": 19,
    "start_time": "2025-02-16T11:10:41.644Z"
   },
   {
    "duration": 240,
    "start_time": "2025-02-16T11:10:41.674Z"
   },
   {
    "duration": 356,
    "start_time": "2025-02-16T11:10:41.916Z"
   },
   {
    "duration": 7,
    "start_time": "2025-02-16T11:10:42.276Z"
   },
   {
    "duration": 226,
    "start_time": "2025-02-16T11:10:42.285Z"
   },
   {
    "duration": 212,
    "start_time": "2025-02-16T11:10:42.513Z"
   },
   {
    "duration": 229,
    "start_time": "2025-02-16T11:10:42.726Z"
   },
   {
    "duration": 242,
    "start_time": "2025-02-16T11:10:42.957Z"
   },
   {
    "duration": 385,
    "start_time": "2025-02-16T11:10:43.200Z"
   },
   {
    "duration": 513,
    "start_time": "2025-02-16T11:10:43.587Z"
   },
   {
    "duration": 222,
    "start_time": "2025-02-16T11:10:44.101Z"
   },
   {
    "duration": 155,
    "start_time": "2025-02-16T11:10:44.324Z"
   },
   {
    "duration": 7,
    "start_time": "2025-02-16T11:10:44.482Z"
   },
   {
    "duration": 156,
    "start_time": "2025-02-16T11:10:44.491Z"
   },
   {
    "duration": 12,
    "start_time": "2025-02-16T11:10:44.649Z"
   },
   {
    "duration": 135,
    "start_time": "2025-02-16T11:10:44.663Z"
   },
   {
    "duration": 0,
    "start_time": "2025-02-16T11:10:44.799Z"
   },
   {
    "duration": 0,
    "start_time": "2025-02-16T11:10:44.800Z"
   },
   {
    "duration": 0,
    "start_time": "2025-02-16T11:10:44.801Z"
   },
   {
    "duration": 6,
    "start_time": "2025-02-16T11:50:40.803Z"
   },
   {
    "duration": 1440,
    "start_time": "2025-02-16T11:50:50.322Z"
   },
   {
    "duration": 53,
    "start_time": "2025-02-16T11:50:51.764Z"
   },
   {
    "duration": 9,
    "start_time": "2025-02-16T11:50:51.819Z"
   },
   {
    "duration": 6,
    "start_time": "2025-02-16T11:50:51.830Z"
   },
   {
    "duration": 6,
    "start_time": "2025-02-16T11:50:51.838Z"
   },
   {
    "duration": 22,
    "start_time": "2025-02-16T11:50:51.846Z"
   },
   {
    "duration": 18,
    "start_time": "2025-02-16T11:50:51.870Z"
   },
   {
    "duration": 229,
    "start_time": "2025-02-16T11:50:51.890Z"
   },
   {
    "duration": 357,
    "start_time": "2025-02-16T11:50:52.121Z"
   },
   {
    "duration": 5,
    "start_time": "2025-02-16T11:50:52.479Z"
   },
   {
    "duration": 231,
    "start_time": "2025-02-16T11:50:52.485Z"
   },
   {
    "duration": 194,
    "start_time": "2025-02-16T11:50:52.717Z"
   },
   {
    "duration": 205,
    "start_time": "2025-02-16T11:50:52.912Z"
   },
   {
    "duration": 201,
    "start_time": "2025-02-16T11:50:53.121Z"
   },
   {
    "duration": 334,
    "start_time": "2025-02-16T11:50:53.324Z"
   },
   {
    "duration": 421,
    "start_time": "2025-02-16T11:50:53.660Z"
   },
   {
    "duration": 198,
    "start_time": "2025-02-16T11:50:54.083Z"
   },
   {
    "duration": 141,
    "start_time": "2025-02-16T11:50:54.283Z"
   },
   {
    "duration": 4,
    "start_time": "2025-02-16T11:50:54.425Z"
   },
   {
    "duration": 132,
    "start_time": "2025-02-16T11:50:54.431Z"
   },
   {
    "duration": 18,
    "start_time": "2025-02-16T11:50:54.565Z"
   },
   {
    "duration": 125,
    "start_time": "2025-02-16T11:50:54.584Z"
   },
   {
    "duration": 0,
    "start_time": "2025-02-16T11:50:54.710Z"
   },
   {
    "duration": 0,
    "start_time": "2025-02-16T11:50:54.711Z"
   },
   {
    "duration": 0,
    "start_time": "2025-02-16T11:50:54.712Z"
   },
   {
    "duration": 4,
    "start_time": "2025-02-16T12:08:39.748Z"
   },
   {
    "duration": 5,
    "start_time": "2025-02-16T12:08:43.614Z"
   },
   {
    "duration": 46,
    "start_time": "2025-02-16T12:08:43.622Z"
   },
   {
    "duration": 7,
    "start_time": "2025-02-16T12:08:43.670Z"
   },
   {
    "duration": 7,
    "start_time": "2025-02-16T12:08:43.679Z"
   },
   {
    "duration": 4,
    "start_time": "2025-02-16T12:08:43.688Z"
   },
   {
    "duration": 8,
    "start_time": "2025-02-16T12:08:43.693Z"
   },
   {
    "duration": 6,
    "start_time": "2025-02-16T12:08:43.703Z"
   },
   {
    "duration": 275,
    "start_time": "2025-02-16T12:08:43.711Z"
   },
   {
    "duration": 301,
    "start_time": "2025-02-16T12:08:43.989Z"
   },
   {
    "duration": 4,
    "start_time": "2025-02-16T12:08:44.292Z"
   },
   {
    "duration": 233,
    "start_time": "2025-02-16T12:08:44.299Z"
   },
   {
    "duration": 316,
    "start_time": "2025-02-16T12:08:44.533Z"
   },
   {
    "duration": 235,
    "start_time": "2025-02-16T12:08:44.850Z"
   },
   {
    "duration": 213,
    "start_time": "2025-02-16T12:08:45.087Z"
   },
   {
    "duration": 379,
    "start_time": "2025-02-16T12:08:45.301Z"
   },
   {
    "duration": 396,
    "start_time": "2025-02-16T12:08:45.681Z"
   },
   {
    "duration": 225,
    "start_time": "2025-02-16T12:08:46.079Z"
   },
   {
    "duration": 188,
    "start_time": "2025-02-16T12:08:46.306Z"
   },
   {
    "duration": 5,
    "start_time": "2025-02-16T12:08:46.496Z"
   },
   {
    "duration": 146,
    "start_time": "2025-02-16T12:08:46.503Z"
   },
   {
    "duration": 10,
    "start_time": "2025-02-16T12:08:46.652Z"
   },
   {
    "duration": 8,
    "start_time": "2025-02-16T12:08:46.674Z"
   },
   {
    "duration": 2107,
    "start_time": "2025-02-16T12:08:46.684Z"
   },
   {
    "duration": 0,
    "start_time": "2025-02-16T12:08:48.793Z"
   },
   {
    "duration": 0,
    "start_time": "2025-02-16T12:08:48.795Z"
   },
   {
    "duration": 1511,
    "start_time": "2025-02-16T12:08:58.305Z"
   },
   {
    "duration": 47,
    "start_time": "2025-02-16T12:08:59.818Z"
   },
   {
    "duration": 10,
    "start_time": "2025-02-16T12:08:59.867Z"
   },
   {
    "duration": 5,
    "start_time": "2025-02-16T12:08:59.879Z"
   },
   {
    "duration": 15,
    "start_time": "2025-02-16T12:08:59.885Z"
   },
   {
    "duration": 6,
    "start_time": "2025-02-16T12:08:59.901Z"
   },
   {
    "duration": 8,
    "start_time": "2025-02-16T12:08:59.908Z"
   },
   {
    "duration": 266,
    "start_time": "2025-02-16T12:08:59.918Z"
   },
   {
    "duration": 356,
    "start_time": "2025-02-16T12:09:00.186Z"
   },
   {
    "duration": 4,
    "start_time": "2025-02-16T12:09:00.544Z"
   },
   {
    "duration": 216,
    "start_time": "2025-02-16T12:09:00.549Z"
   },
   {
    "duration": 201,
    "start_time": "2025-02-16T12:09:00.766Z"
   },
   {
    "duration": 225,
    "start_time": "2025-02-16T12:09:00.968Z"
   },
   {
    "duration": 247,
    "start_time": "2025-02-16T12:09:01.194Z"
   },
   {
    "duration": 335,
    "start_time": "2025-02-16T12:09:01.443Z"
   },
   {
    "duration": 433,
    "start_time": "2025-02-16T12:09:01.780Z"
   },
   {
    "duration": 208,
    "start_time": "2025-02-16T12:09:02.215Z"
   },
   {
    "duration": 145,
    "start_time": "2025-02-16T12:09:02.425Z"
   },
   {
    "duration": 4,
    "start_time": "2025-02-16T12:09:02.575Z"
   },
   {
    "duration": 149,
    "start_time": "2025-02-16T12:09:02.581Z"
   },
   {
    "duration": 12,
    "start_time": "2025-02-16T12:09:02.731Z"
   },
   {
    "duration": 7,
    "start_time": "2025-02-16T12:09:02.744Z"
   },
   {
    "duration": 2206,
    "start_time": "2025-02-16T12:09:02.753Z"
   },
   {
    "duration": 0,
    "start_time": "2025-02-16T12:09:04.960Z"
   },
   {
    "duration": 0,
    "start_time": "2025-02-16T12:09:04.961Z"
   },
   {
    "duration": 4,
    "start_time": "2025-02-16T12:11:09.328Z"
   },
   {
    "duration": 1895,
    "start_time": "2025-02-17T05:27:50.842Z"
   },
   {
    "duration": 62,
    "start_time": "2025-02-17T05:27:52.740Z"
   },
   {
    "duration": 12,
    "start_time": "2025-02-17T05:27:52.804Z"
   },
   {
    "duration": 19,
    "start_time": "2025-02-17T05:27:52.819Z"
   },
   {
    "duration": 8,
    "start_time": "2025-02-17T05:27:52.840Z"
   },
   {
    "duration": 7,
    "start_time": "2025-02-17T05:27:52.850Z"
   },
   {
    "duration": 15,
    "start_time": "2025-02-17T05:27:52.858Z"
   },
   {
    "duration": 355,
    "start_time": "2025-02-17T05:27:52.875Z"
   },
   {
    "duration": 314,
    "start_time": "2025-02-17T05:27:53.232Z"
   },
   {
    "duration": 4,
    "start_time": "2025-02-17T05:27:53.549Z"
   },
   {
    "duration": 251,
    "start_time": "2025-02-17T05:27:53.554Z"
   },
   {
    "duration": 230,
    "start_time": "2025-02-17T05:27:53.807Z"
   },
   {
    "duration": 255,
    "start_time": "2025-02-17T05:27:54.039Z"
   },
   {
    "duration": 241,
    "start_time": "2025-02-17T05:27:54.295Z"
   },
   {
    "duration": 495,
    "start_time": "2025-02-17T05:27:54.538Z"
   },
   {
    "duration": 364,
    "start_time": "2025-02-17T05:27:55.035Z"
   },
   {
    "duration": 239,
    "start_time": "2025-02-17T05:27:55.401Z"
   },
   {
    "duration": 181,
    "start_time": "2025-02-17T05:27:55.642Z"
   },
   {
    "duration": 5,
    "start_time": "2025-02-17T05:27:55.825Z"
   },
   {
    "duration": 154,
    "start_time": "2025-02-17T05:27:55.832Z"
   },
   {
    "duration": 14,
    "start_time": "2025-02-17T05:27:55.987Z"
   },
   {
    "duration": 7,
    "start_time": "2025-02-17T05:27:56.002Z"
   },
   {
    "duration": 1887,
    "start_time": "2025-02-17T05:27:56.010Z"
   },
   {
    "duration": 0,
    "start_time": "2025-02-17T05:27:57.898Z"
   },
   {
    "duration": 0,
    "start_time": "2025-02-17T05:27:57.900Z"
   },
   {
    "duration": 87,
    "start_time": "2025-02-17T05:28:22.749Z"
   },
   {
    "duration": 7,
    "start_time": "2025-02-17T05:28:38.244Z"
   },
   {
    "duration": 2901072,
    "start_time": "2025-02-17T05:28:42.016Z"
   },
   {
    "duration": 2580,
    "start_time": "2025-02-17T06:46:32.799Z"
   },
   {
    "duration": 6,
    "start_time": "2025-02-17T06:46:45.717Z"
   },
   {
    "duration": 5,
    "start_time": "2025-02-17T06:48:13.665Z"
   },
   {
    "duration": 53,
    "start_time": "2025-02-17T06:48:13.672Z"
   },
   {
    "duration": 8,
    "start_time": "2025-02-17T06:48:13.727Z"
   },
   {
    "duration": 11,
    "start_time": "2025-02-17T06:48:13.737Z"
   },
   {
    "duration": 23,
    "start_time": "2025-02-17T06:48:13.750Z"
   },
   {
    "duration": 11,
    "start_time": "2025-02-17T06:48:13.775Z"
   },
   {
    "duration": 7,
    "start_time": "2025-02-17T06:48:13.788Z"
   },
   {
    "duration": 258,
    "start_time": "2025-02-17T06:48:13.797Z"
   },
   {
    "duration": 407,
    "start_time": "2025-02-17T06:48:14.057Z"
   },
   {
    "duration": 8,
    "start_time": "2025-02-17T06:48:14.466Z"
   },
   {
    "duration": 257,
    "start_time": "2025-02-17T06:48:14.476Z"
   },
   {
    "duration": 231,
    "start_time": "2025-02-17T06:48:14.734Z"
   },
   {
    "duration": 261,
    "start_time": "2025-02-17T06:48:14.971Z"
   },
   {
    "duration": 246,
    "start_time": "2025-02-17T06:48:15.234Z"
   },
   {
    "duration": 422,
    "start_time": "2025-02-17T06:48:15.482Z"
   },
   {
    "duration": 494,
    "start_time": "2025-02-17T06:48:15.906Z"
   },
   {
    "duration": 255,
    "start_time": "2025-02-17T06:48:16.402Z"
   },
   {
    "duration": 173,
    "start_time": "2025-02-17T06:48:16.659Z"
   },
   {
    "duration": 5,
    "start_time": "2025-02-17T06:48:16.834Z"
   },
   {
    "duration": 148,
    "start_time": "2025-02-17T06:48:16.840Z"
   },
   {
    "duration": 9,
    "start_time": "2025-02-17T06:48:16.990Z"
   },
   {
    "duration": 6,
    "start_time": "2025-02-17T06:48:17.001Z"
   },
   {
    "duration": 2936487,
    "start_time": "2025-02-17T06:48:17.009Z"
   },
   {
    "duration": 30408,
    "start_time": "2025-02-17T07:37:13.499Z"
   },
   {
    "duration": 73,
    "start_time": "2025-02-17T07:37:43.908Z"
   },
   {
    "duration": 1706,
    "start_time": "2025-02-17T10:09:55.666Z"
   },
   {
    "duration": 50,
    "start_time": "2025-02-17T10:09:57.374Z"
   },
   {
    "duration": 13,
    "start_time": "2025-02-17T10:09:57.426Z"
   },
   {
    "duration": 6,
    "start_time": "2025-02-17T10:09:57.442Z"
   },
   {
    "duration": 23,
    "start_time": "2025-02-17T10:09:57.450Z"
   },
   {
    "duration": 7,
    "start_time": "2025-02-17T10:09:57.475Z"
   },
   {
    "duration": 11,
    "start_time": "2025-02-17T10:09:57.484Z"
   },
   {
    "duration": 303,
    "start_time": "2025-02-17T10:09:57.496Z"
   },
   {
    "duration": 400,
    "start_time": "2025-02-17T10:09:57.801Z"
   },
   {
    "duration": 5,
    "start_time": "2025-02-17T10:09:58.203Z"
   },
   {
    "duration": 285,
    "start_time": "2025-02-17T10:09:58.210Z"
   },
   {
    "duration": 227,
    "start_time": "2025-02-17T10:09:58.497Z"
   },
   {
    "duration": 254,
    "start_time": "2025-02-17T10:09:58.726Z"
   },
   {
    "duration": 257,
    "start_time": "2025-02-17T10:09:58.982Z"
   },
   {
    "duration": 383,
    "start_time": "2025-02-17T10:09:59.241Z"
   },
   {
    "duration": 502,
    "start_time": "2025-02-17T10:09:59.626Z"
   },
   {
    "duration": 273,
    "start_time": "2025-02-17T10:10:00.130Z"
   },
   {
    "duration": 178,
    "start_time": "2025-02-17T10:10:00.405Z"
   },
   {
    "duration": 5,
    "start_time": "2025-02-17T10:10:00.584Z"
   },
   {
    "duration": 159,
    "start_time": "2025-02-17T10:10:00.591Z"
   },
   {
    "duration": 24,
    "start_time": "2025-02-17T10:10:00.752Z"
   },
   {
    "duration": 7,
    "start_time": "2025-02-17T10:10:00.778Z"
   },
   {
    "duration": 3169279,
    "start_time": "2025-02-17T10:10:00.787Z"
   },
   {
    "duration": 2812,
    "start_time": "2025-02-17T11:02:50.068Z"
   },
   {
    "duration": 7,
    "start_time": "2025-02-17T11:02:52.882Z"
   }
  ],
  "kernelspec": {
   "display_name": "Python 3 (ipykernel)",
   "language": "python",
   "name": "python3"
  },
  "language_info": {
   "codemirror_mode": {
    "name": "ipython",
    "version": 3
   },
   "file_extension": ".py",
   "mimetype": "text/x-python",
   "name": "python",
   "nbconvert_exporter": "python",
   "pygments_lexer": "ipython3",
   "version": "3.9.5"
  },
  "toc": {
   "base_numbering": 1,
   "nav_menu": {},
   "number_sections": true,
   "sideBar": true,
   "skip_h1_title": true,
   "title_cell": "Содержание",
   "title_sidebar": "Contents",
   "toc_cell": true,
   "toc_position": {
    "height": "calc(100% - 180px)",
    "left": "10px",
    "top": "150px",
    "width": "371.391px"
   },
   "toc_section_display": true,
   "toc_window_display": true
  }
 },
 "nbformat": 4,
 "nbformat_minor": 2
}
