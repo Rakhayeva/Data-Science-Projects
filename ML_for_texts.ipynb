{
 "cells": [
  {
   "cell_type": "markdown",
   "metadata": {
    "id": "0UZ6nsqtd3Px"
   },
   "source": [
    "## Содержание\n",
    "1.  [Подготовка](#подготовка)\n",
    "2.  [Обучение](#обучение)\n",
    "3.  [Выводы](#выводы)\n",
    "4.  [Чек-лист проверки](#чек)"
   ]
  },
  {
   "cell_type": "markdown",
   "metadata": {
    "id": "QFOxzZueaR_x"
   },
   "source": [
    "## Проект для «Викишоп» c Bert\n",
    "\n",
    "Интернет-магазин «Викишоп» запускает новый сервис. Теперь пользователи могут редактировать и дополнять описания товаров, как в вики-сообществах. То есть клиенты предлагают свои правки и комментируют изменения других. Магазину нужен инструмент, который будет искать токсичные комментарии и отправлять их на модерацию.\n",
    "\n",
    "Обучите модель классифицировать комментарии на позитивные и негативные. В вашем распоряжении набор данных с разметкой о токсичности правок.\n",
    "\n",
    "Постройте модель со значением метрики качества *F1* не меньше 0.75.\n",
    "\n",
    "**Инструкция по выполнению проекта**\n",
    "\n",
    "1. Загрузите и подготовьте данные.\n",
    "2. Обучите разные модели.\n",
    "3. Сделайте выводы.\n",
    "\n",
    "Для выполнения проекта применять *BERT* необязательно, но вы можете попробовать.\n",
    "\n",
    "**Описание данных**\n",
    "\n",
    "Данные находятся в файле `toxic_comments.csv`. Столбец *text* в нём содержит текст комментария, а *toxic* — целевой признак."
   ]
  },
  {
   "cell_type": "code",
   "execution_count": 1,
   "metadata": {
    "colab": {
     "base_uri": "https://localhost:8080/",
     "height": 34
    },
    "id": "oGwj0I0TlVAv",
    "outputId": "70f45692-b5a0-4918-fe58-03553f30f969"
   },
   "outputs": [
    {
     "data": {},
     "execution_count": 1,
     "metadata": {},
     "output_type": "execute_result"
    }
   ],
   "source": [
    "from google.colab import output\n",
    "output.eval_js('function ClickConnect(){console.log(\"Preventing disconnect\");document.querySelector(\"colab-toolbar-button#connect\").click()}setInterval(ClickConnect,60000)')"
   ]
  },
  {
   "cell_type": "markdown",
   "metadata": {
    "id": "6oJfcI4SaxZ6"
   },
   "source": [
    "## <a name='подготовка'></a> Подготовка"
   ]
  },
  {
   "cell_type": "markdown",
   "metadata": {
    "id": "hwUBopcIddI-"
   },
   "source": [
    "**Загрузка библиотек**"
   ]
  },
  {
   "cell_type": "code",
   "execution_count": 2,
   "metadata": {
    "id": "3fTtYNU_P3vV"
   },
   "outputs": [],
   "source": [
    "!pip install catboost -q"
   ]
  },
  {
   "cell_type": "code",
   "execution_count": 3,
   "metadata": {
    "id": "JH2vGZo2dtrN"
   },
   "outputs": [],
   "source": [
    "import torch\n",
    "import numpy as np\n",
    "import pandas as pd\n",
    "import transformers\n",
    "from tqdm import notebook\n",
    "from nltk.corpus import stopwords\n",
    "from sklearn.metrics import f1_score\n",
    "from catboost import CatBoostClassifier\n",
    "from transformers import AutoTokenizer, AutoModel\n",
    "from sklearn.linear_model import LogisticRegression\n",
    "from sklearn.model_selection import train_test_split, GridSearchCV"
   ]
  },
  {
   "cell_type": "markdown",
   "metadata": {
    "id": "FGZYfeg6dg7S"
   },
   "source": [
    "**Загрузка данных**"
   ]
  },
  {
   "cell_type": "code",
   "execution_count": 4,
   "metadata": {
    "colab": {
     "base_uri": "https://localhost:8080/"
    },
    "id": "JBSAs6Itgi4I",
    "outputId": "cfaf6407-67c4-492d-91e4-1514c614c4c1"
   },
   "outputs": [],
   "source": [
    "try:\n",
    "  df = pd.read_csv('/content/drive/MyDrive/Yandex_Practicum/toxic_comments.csv')\n",
    "except:\n",
    "  df = pd.read_csv('https://code.s3.yandex.net/datasets/toxic_comments.csv')\n",
    "\n",
    "df.info()"
   ]
  },
  {
   "cell_type": "code",
   "execution_count": 5,
   "metadata": {
    "colab": {
     "base_uri": "https://localhost:8080/",
     "height": 178
    },
    "id": "EPrMzLcRzN-h",
    "outputId": "a2eab45e-df74-4fdb-9b7a-bb4180144536"
   },
   "outputs": [
    {
     "data": {},
     "execution_count": 5,
     "metadata": {},
     "output_type": "execute_result"
    }
   ],
   "source": [
    "# Проверка распределения классов\n",
    "class_distribution = df['toxic'].value_counts(normalize=True)\n",
    "class_distribution"
   ]
  },
  {
   "cell_type": "markdown",
   "metadata": {
    "id": "_iyFMCrNDPvg"
   },
   "source": [
    "Сильный дисбаланс классов. Используем метод балансировки при обучении модели LogisticRegression"
   ]
  },
  {
   "cell_type": "code",
   "execution_count": 6,
   "metadata": {
    "id": "FTZLivGUks5c"
   },
   "outputs": [],
   "source": [
    "# Оставим только часть, так как не хватает вычислительной мощности для всей выборки\n",
    "df_sample = df.sample(1000).reset_index(drop=True)"
   ]
  },
  {
   "cell_type": "code",
   "execution_count": 7,
   "metadata": {
    "colab": {
     "base_uri": "https://localhost:8080/",
     "height": 368,
     "referenced_widgets": [
      "fccac935b800464388bfaa0de1c453be",
      "5597d254c14a4f0a85f2acb8b078aa7d",
      "4531d6f856cf4cb8ab250c03003203b2",
      "3495971a520541539f11697a9e2d8a45",
      "d956583e93b04cd99c3d073b49eb3522",
      "43f24b7c2dae4c6a9ae511362747542f",
      "5bab6cbb27a941428bd91ea606b8906f",
      "7b15d4818a3d434fb66ee21d4c1ad6f3",
      "d2cd673d2cf84f3babf8d25e87729940",
      "6062d0ad24734cf5ac680d6b4fcce5bb",
      "89cff5be7cb547868a7bf7e2f79df5c9",
      "8c02170e95b547238839a5c94e03dc67",
      "8fe34637486744dcb8f3a8a194f0ab05",
      "0e984bb82ac9439d851f1d8a9c071d08",
      "897556040c064d7dbca4bb260a4037b9",
      "3d9b7b57b49f4e4593ee8e87cd8c45ce",
      "749b595351094f4a89e869c6ba5638b6",
      "dee4cc16fbfc46b4948010814b2ea9fb",
      "b3dc5baa889a48b28190d35b87820dee",
      "d1ba5ab0a6154077bd98e8da6ec38ee5",
      "2feade5087f74889b02de150257bcab3",
      "b64cf817ef294ceeb2f67193ca239967",
      "f59a4e4e89d348109c8d00608a28bf5a",
      "5fb30ed3858f43dabce45b3862c857c5",
      "ad88c67d958f43b49a3dd2de930f4404",
      "b8d07bbc06b84b4ab656cf4a5eb80075",
      "ebbf444a05b24031a3711517199d457e",
      "36c04239c1b7408ba4de17065d2ff483",
      "f28caf32a0f6447ebaeffc574f86a7f5",
      "3d2934850f8142a6a7fa8f6333378c5d",
      "0cb56a279880467d955c683ca10bbf2c",
      "ac305c5849564c5791d5648bd7c5deab",
      "78a6657584f24b31a7b907e5f35ea04c",
      "541e929e51114ab18b3aa9a3ad80899d",
      "894f04a9f86c44a0804982afc6722f95",
      "bc9836683d794cc5a520942e6e0c6985",
      "ee4cf978643b4b869615176163627044",
      "99d3f9daa5ff4c1da1435d424efbe986",
      "f06e9c56fb4d4707b0768d41a98013c4",
      "15b88da231a947deb2ddc156e2a21f2a",
      "5fa58b39c2c44bbebdc33c416c56161b",
      "0e2a135ae7704dd08c3e84b111f301d9",
      "a6e7655956f84a71a047d6cfac011957",
      "9ea104dcf06c430689275c64dc543772",
      "cb6208a688d0452fae74462e58163455",
      "2cc7eb13c3434955ac3cad05a09beb5c",
      "45d1b68a280b4357967178fd6d257428",
      "280e35214adc449bb473bc6b25397ecb",
      "38113589edef4035b1c710617d1935e0",
      "bb9fdb9775d04389aa9a937cfebdd350",
      "5414e3f6dedf4191a284ce0173bc3359",
      "428377f7aa0547aa9a3e5d08ea67e200",
      "5550882e94f5404d8b3a4632525fcb37",
      "947173b5662f46ca93b91ceb907ce851",
      "59429a753a3948c09788b31fd5bcc2ff",
      "6f96cdb8fe034e86919c0ce02ac34de2",
      "945ffbc13d5f4d2a9820b27612eaf226",
      "8854117ea0034fcab26f9e22ad7e2302",
      "0faecb9f35c74f938eaadb3d6804523f",
      "94464f6527cf48c9ab06b92681467395",
      "c8dad0a297b8495dac22e8a2fc22e677",
      "5df83ee5deed4c89b3ad8d02f33c0e22",
      "2ad76a13d834422d80d4e73e9470d783",
      "58ec396cac9846e59fe0165bc773721e",
      "5f92767cf6d644edb6f12c51cd4e029b",
      "0a5d28c3697e483cabddad8b8458a317"
     ]
    },
    "id": "8Bdaq6xVlEzB",
    "outputId": "cb02fd42-9f3d-4847-86e3-698d52a18ac9"
   },
   "outputs": [
    {
     "data": {
      "application/vnd.jupyter.widget-view+json": {
       "model_id": "fccac935b800464388bfaa0de1c453be",
       "version_major": 2,
       "version_minor": 0
      }
     },
     "metadata": {},
     "output_type": "display_data"
    },
    {
     "data": {
      "application/vnd.jupyter.widget-view+json": {
       "model_id": "8c02170e95b547238839a5c94e03dc67",
       "version_major": 2,
       "version_minor": 0
      }
     },
     "metadata": {},
     "output_type": "display_data"
    },
    {
     "data": {
      "application/vnd.jupyter.widget-view+json": {
       "model_id": "f59a4e4e89d348109c8d00608a28bf5a",
       "version_major": 2,
       "version_minor": 0
      }
     },
     "metadata": {},
     "output_type": "display_data"
    },
    {
     "data": {
      "application/vnd.jupyter.widget-view+json": {
       "model_id": "541e929e51114ab18b3aa9a3ad80899d",
       "version_major": 2,
       "version_minor": 0
      }
     },
     "metadata": {},
     "output_type": "display_data"
    },
    {
     "data": {
      "application/vnd.jupyter.widget-view+json": {
       "model_id": "cb6208a688d0452fae74462e58163455",
       "version_major": 2,
       "version_minor": 0
      }
     },
     "metadata": {},
     "output_type": "display_data"
    },
    {
     "data": {
      "application/vnd.jupyter.widget-view+json": {
       "model_id": "6f96cdb8fe034e86919c0ce02ac34de2",
       "version_major": 2,
       "version_minor": 0
      }
     },
     "metadata": {},
     "output_type": "display_data"
    },
    {
     "data": {},
     "metadata": {},
     "output_type": "display_data"
    }
   ],
   "source": [
    "# Удаление ненужных символов\n",
    "df_sample['text'] = df_sample['text'].replace(to_replace='[^\\w\\s]', value='', regex=True)\n",
    "\n",
    "# Загрузка предобученного токенизатора и модели\n",
    "model_name = 'unitary/toxic-bert'\n",
    "tokenizer = AutoTokenizer.from_pretrained(model_name)\n",
    "model = AutoModel.from_pretrained(model_name)\n",
    "\n",
    "# подготовим устройство для обучения\n",
    "device = torch.device(\"cuda:0\") if torch.cuda.is_available() else torch.device(\"cpu\")\n",
    "print(device)\n",
    "\n",
    "# Токенизация текстов\n",
    "tokenized = df_sample['text'].apply(\n",
    "    lambda x: tokenizer.encode(x, add_special_tokens=True, truncation=True, max_length=512))\n",
    "\n",
    "# Определение максимальной длины среди всех токенизированных текстов\n",
    "max_len = max(len(seq) for seq in tokenized)\n",
    "\n",
    "# Приведение всех последовательностей к одной длине (max_len) путем добавления паддинга (нулями)\n",
    "padded = np.array([seq + [0] * (max_len - len(seq)) for seq in tokenized])\n",
    "\n",
    "# Создание маски внимания: 1 для реальных токенов, 0 для токенов-паддинга\n",
    "attention_mask = np.where(padded != 0, 1, 0)\n",
    "\n",
    "# Установка размера батча\n",
    "batch_size = 100\n",
    "embeddings = []\n",
    "\n",
    "# помещаем модель на GPU\n",
    "model.to(device)\n",
    "\n",
    "# Отключение автоматического вычисления градиентов (не требуется при инференсе)\n",
    "with torch.no_grad():\n",
    "    # Итерация по данным с шагом, равным размеру батча\n",
    "    for i in notebook.tqdm(range(0, len(padded), batch_size)):\n",
    "        # Формирование батча данных и маски внимания\n",
    "        batch = torch.LongTensor(padded[i:i + batch_size])\n",
    "        attention_mask_batch = torch.LongTensor(attention_mask[i:i + batch_size])\n",
    "        # Получение выходов модели\n",
    "        outputs = model(batch.to(device), # помещаем данные на GPU\n",
    "                        attention_mask=attention_mask_batch.to(device))\n",
    "        # Извлечение эмбеддингов CLS-токена и преобразование их в numpy-массив\n",
    "        embeddings.append(outputs.last_hidden_state[:, 0, :].cpu().numpy())\n",
    "\n",
    "# Объединение всех эмбеддингов в один массив\n",
    "features = np.concatenate(embeddings)\n",
    "\n",
    "# Отображение формы полученного массива эмбеддингов\n",
    "display(features.shape)"
   ]
  },
  {
   "cell_type": "code",
   "execution_count": 8,
   "metadata": {
    "id": "3UP-G0nwY-4Y"
   },
   "outputs": [],
   "source": [
    "X = features\n",
    "y = df_sample['toxic']\n",
    "\n",
    "# Разделение на обучающую и тестовую выборки\n",
    "X_train_val, X_test, y_train_val, y_test = train_test_split(X, y, test_size=0.2, random_state=42)"
   ]
  },
  {
   "cell_type": "markdown",
   "metadata": {
    "id": "Q8hHhjDybU60"
   },
   "source": [
    "## <a name='обучение'></a> Обучение"
   ]
  },
  {
   "cell_type": "markdown",
   "metadata": {
    "id": "_8YVFEZLOiXS"
   },
   "source": [
    "**Модель LinearRegression**"
   ]
  },
  {
   "cell_type": "code",
   "execution_count": 9,
   "metadata": {
    "colab": {
     "base_uri": "https://localhost:8080/"
    },
    "id": "aXLzcLVVuZq9",
    "outputId": "45f8cca2-d6c9-49de-cf0d-ac31cd97f58b"
   },
   "outputs": [],
   "source": [
    "# Создание экземпляра LogisticRegression\n",
    "lr = LogisticRegression(random_state=42, class_weight='balanced')\n",
    "\n",
    "# Определение сетки гиперпараметров для поиска\n",
    "param_grid_lr = {'C': [0.01, 0.1, 1, 10],\n",
    "                 'max_iter': [500, 1000]}\n",
    "\n",
    "# Настройка GridSearchCV\n",
    "grid_lr = GridSearchCV(lr, param_grid_lr, scoring='f1', cv=5)\n",
    "\n",
    "# Поиск лучших гиперпараметров\n",
    "grid_lr.fit(X_train_val, y_train_val)\n",
    "\n",
    "# модель с лучшими параметрами\n",
    "best_lr = grid_lr.best_estimator_\n",
    "print(f'Лучшие параметры для LogisticRegression: {grid_lr.best_params_}')\n",
    "print(f'F1 по кросс-валидации: {grid_lr.best_score_}')"
   ]
  },
  {
   "cell_type": "markdown",
   "metadata": {
    "id": "k7N53cALOn9e"
   },
   "source": [
    "**Модель CatBoost**"
   ]
  },
  {
   "cell_type": "code",
   "execution_count": 10,
   "metadata": {
    "colab": {
     "base_uri": "https://localhost:8080/"
    },
    "id": "l2KbHKxxOray",
    "outputId": "8a821897-c266-4598-9748-b5819dfdfcf0"
   },
   "outputs": [],
   "source": [
    "# Создание экземпляра CatBoostClassifier\n",
    "cb = CatBoostClassifier(random_state=42, verbose=0, task_type='GPU', devices='0')\n",
    "\n",
    "# Определение сетки гиперпараметров для поиска\n",
    "param_grid_cb = {\n",
    "    'iterations': [50, 100, 150],\n",
    "    'learning_rate': [0.01, 0.1, 0.2],\n",
    "    'depth': [4, 6, 8]\n",
    "}\n",
    "\n",
    "# Настройка GridSearchCV\n",
    "grid_cb = GridSearchCV(cb, param_grid_cb, scoring='f1', cv=5)\n",
    "\n",
    "# Поиск лучших гиперпараметров\n",
    "grid_cb.fit(X_train_val, y_train_val)\n",
    "\n",
    "# Модель с лучшими параметрами\n",
    "best_cb = grid_cb.best_estimator_\n",
    "\n",
    "print(f'Лучшие параметры для CatBoost: {grid_cb.best_params_}')\n",
    "print(f'F1 по кросс-валидации: {grid_cb.best_score_}')"
   ]
  },
  {
   "cell_type": "code",
   "execution_count": 11,
   "metadata": {
    "colab": {
     "base_uri": "https://localhost:8080/"
    },
    "id": "5Y8VfNH3jYcI",
    "outputId": "ac1adaef-92ab-4289-e9b9-764d04da4498"
   },
   "outputs": [],
   "source": [
    "# --- Выбираем лучшую модель ---\n",
    "if grid_lr.best_score_ > grid_cb.best_score_:\n",
    "    final_model = best_lr\n",
    "    model_name = \"LogisticRegression\"\n",
    "else:\n",
    "    final_model = best_cb\n",
    "    model_name = \"CatBoost\"\n",
    "\n",
    "# Тестируем лучшую модель\n",
    "y_pred_final = final_model.predict(X_test)\n",
    "f1_final = f1_score(y_test, y_pred_final)\n",
    "print(f'Лучшая модель: {model_name}, F1 на тесте: {f1_final}')"
   ]
  },
  {
   "cell_type": "markdown",
   "metadata": {
    "id": "vMQOOLrhbd6b"
   },
   "source": [
    "## <a name='выводы'></a> Выводы"
   ]
  },
  {
   "cell_type": "markdown",
   "metadata": {
    "id": "rFNmjXXr7KMc"
   },
   "source": [
    "В рамках проекта для интернет-магазина «Викишоп» была поставлена задача разработать модель для автоматического выявления токсичных комментариев, чтобы направлять их на модерацию. Цель заключалась в обучении модели, способной классифицировать комментарии на позитивные и негативные, с достижением значения метрики F1 не ниже 0.75.\n",
    "\n",
    "**Ход работы:**\n",
    "\n",
    "*Предобработка данных:*\n",
    "\n",
    "Проведён анализ распределения классов, выявивший значительный дисбаланс: около 10% комментариев были токсичными, остальные — нет.\n",
    "Для ускорения вычислений была выбрана случайная подвыборка из 800 комментариев.\n",
    "Из текста комментариев удалены ненужные символы с помощью регулярных выражений.\n",
    "\n",
    "В ходе работы были исследованы две модели классификации: логистическая регрессия и CatBoost. Обе модели обучались на эмбеддингах комментариев, полученных с использованием предобученной модели 'unitary/toxic-bert'.  Для учета дисбаланса классов в обучающих моделях был применен параметр class_weight='balanced' для логистической регрессии и соответствующие механизмы обработки дисбаланса в CatBoost (реализованные по умолчанию). Для поиска оптимальных гиперпараметров и среднего значения метрики использовалась кросс-валидация GridSearchCV.\n",
    "\n",
    "*Результаты оценки качества на кросс-валидации показали следующее:*\n",
    "\n",
    "- Логистическая регрессия с параметрами {'C': 0.1, 'max_iter': 500}: Достигнуто значение метрики F1 на уровне 0.909.\n",
    "- CatBoost с параметрами {'depth': 6, 'iterations': 150, 'learning_rate': 0.01}: Продемонстрировано значительно более высокое значение метрики F1, равное 0.93.\n",
    "\n",
    "*Результаты оценки качества на тестовой выборке показали следующее:*\n",
    "- CatBoost продемонстрировало значение метрики F1 на уровне 0.92, что незначительно отличается от значения метрики на тренировчно-валидационной выборке.\n",
    "\n",
    "**Вывод:**\n",
    "\n",
    "Таким образом, обе разработанные модели успешно справились с задачей классификации токсичных комментариев и превысили установленный целевой показатель F1 в 0.75.  Однако, модель CatBoost продемонстрировала незначительно более высокое качество классификации, достигнув F1-score 0.93 на валидации и 0.92 на тесте., что указывает на ее эффективность в решении поставленной задачи."
   ]
  }
 ],
 "metadata": {
  "accelerator": "GPU",
  "colab": {
   "gpuType": "T4",
   "provenance": []
  },
  "kernelspec": {
   "display_name": "Python 3 (ipykernel)",
   "language": "python",
   "name": "python3"
  },
  "language_info": {
   "codemirror_mode": {
    "name": "ipython",
    "version": 3
   },
   "file_extension": ".py",
   "mimetype": "text/x-python",
   "name": "python",
   "nbconvert_exporter": "python",
   "pygments_lexer": "ipython3",
   "version": "3.9.5"
  },
  "toc": {
   "base_numbering": 1,
   "nav_menu": {},
   "number_sections": true,
   "sideBar": true,
   "skip_h1_title": true,
   "title_cell": "Table of Contents",
   "title_sidebar": "Contents",
   "toc_cell": false,
   "toc_position": {},
   "toc_section_display": true,
   "toc_window_display": false
  }
 },
 "nbformat": 4,
 "nbformat_minor": 1
}
