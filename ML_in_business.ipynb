{
 "cells": [
  {
   "cell_type": "markdown",
   "metadata": {},
   "source": [
    "# Выбор локации для скважины"
   ]
  },
  {
   "cell_type": "markdown",
   "metadata": {},
   "source": [
    "Допустим, вы работаете в добывающей компании «ГлавРосГосНефть». Нужно решить, где бурить новую скважину.\n",
    "\n",
    "Вам предоставлены пробы нефти в трёх регионах: в каждом 10 000 месторождений, где измерили качество нефти и объём её запасов. Постройте модель машинного обучения, которая поможет определить регион, где добыча принесёт наибольшую прибыль. Проанализируйте возможную прибыль и риски техникой *Bootstrap.*\n",
    "\n",
    "Шаги для выбора локации:\n",
    "\n",
    "- В избранном регионе ищут месторождения, для каждого определяют значения признаков;\n",
    "- Строят модель и оценивают объём запасов;\n",
    "- Выбирают месторождения с самым высокими оценками значений. Количество месторождений зависит от бюджета компании и стоимости разработки одной скважины;\n",
    "- Прибыль равна суммарной прибыли отобранных месторождений."
   ]
  },
  {
   "cell_type": "markdown",
   "metadata": {},
   "source": [
    "**Описание проекта**\n",
    "\n",
    "Компания «ГлавРосГосНефть» планирует бурение новой скважины и выбор региона для добычи. Для этого требуется построить модель, которая предскажет объём запасов нефти в новых скважинах, а также оценить возможные прибыли и риски с помощью техники Bootstrap. \n",
    "\n",
    "\n",
    "**Цель проекта**\n",
    "\n",
    "Определить регион с наибольшей средней прибылью, обеспечивающий вероятность убытков менее 2.5%.\n",
    "\n",
    "**Ход исследования и декомпозиция шагов**\n",
    "1. [Загрузка и подготовка данных](#загрузка)\n",
    "- Импорт данных из предоставленных файлов.\n",
    "- Изучение структуры данных (идентификатор скважины, признаки f0, f1, f2, объём запасов product).\n",
    "- Проверка данных на пропуски и дубликаты.\n",
    "2. [Обучение и проверка модели для каждого региона](#обучение)\n",
    "- Разделить данные на обучающую и валидационную выборки (75:25).\n",
    "- Обучить модель линейной регрессии и получить предсказания на валидационной выборке.\n",
    "- Сохранить предсказания и фактические значения объёмов запасов.\n",
    "- Рассчитать средний предсказанный объём сырья и RMSE модели.\n",
    "- Проанализировать результаты для каждого региона.\n",
    "3. [Подготовка к расчёту прибыли](#подготовка)\n",
    "- Сохранить ключевые значения для расчётов: бюджет, доход с единицы продукции, количество лучших скважин.\n",
    "- Рассчитать минимальный объём сырья, необходимый для безубыточной разработки. Сравнить этот объём с предсказанными средними запасами.\n",
    "- Сделать выводы о возможности безубыточной разработки в каждом регионе.\n",
    "4. [Функция для расчёта прибыли](#функция)\n",
    "- Отобрать 200 скважин с максимальными значениями предсказаний.\n",
    "- Подсчитать целевое значение объёма сырья для выбранных скважин.\n",
    "- Рассчитать прибыль, исходя из предсказанных объёмов сырья.\n",
    "5. [Анализ рисков и прибыли](#анализ)\n",
    "- Использовать технику Bootstrap для оценки распределения прибыли (1000 выборок).\n",
    "- Вычислить:\n",
    "  - Среднюю прибыль;\n",
    "  - 95%-й доверительный интервал;\n",
    "  - Вероятность убытков.\n",
    "5.3. [Общий выводы:](#вывод)\n",
    "- Выбрать регион с наибольшей средней прибылью и вероятностью убытков менее 2.5%.\n",
    "\n",
    "**Описание данных**\n",
    "\n",
    "Данные геологоразведки трёх регионов находятся в файлах:\n",
    "- `/datasets/geo_data_0.csv`\n",
    "- `/datasets/geo_data_1.csv`\n",
    "- `/datasets/geo_data_2.csv`\n",
    "- `id` — уникальный идентификатор скважины;\n",
    "- `f0`, `f1`, `f2` — три признака точек (неважно, что они означают, но сами признаки значимы);\n",
    "- `product` — объём запасов в скважине (тыс. баррелей)."
   ]
  },
  {
   "cell_type": "markdown",
   "metadata": {},
   "source": [
    "<a id='загрузка'></a>\n",
    "## Загрузка и подготовка данных"
   ]
  },
  {
   "cell_type": "markdown",
   "metadata": {},
   "source": [
    "**Импорт библитек:**"
   ]
  },
  {
   "cell_type": "code",
   "execution_count": 1,
   "metadata": {},
   "outputs": [],
   "source": [
    "import pandas as pd\n",
    "import numpy as np\n",
    "import seaborn as sns\n",
    "import matplotlib.pyplot as plt\n",
    "pd.options.mode.chained_assignment = None\n",
    "from sklearn.metrics import mean_squared_error\n",
    "from sklearn.preprocessing import StandardScaler\n",
    "from sklearn.linear_model import LinearRegression\n",
    "from sklearn.model_selection import train_test_split"
   ]
  },
  {
   "cell_type": "markdown",
   "metadata": {},
   "source": [
    "<div class=\"alert alert-block alert-success\">\n",
    "<b>Успех:</b> Импорты  на месте\n",
    "</div>\n",
    "\n"
   ]
  },
  {
   "cell_type": "markdown",
   "metadata": {},
   "source": [
    "**Изучение общей информации о данных**"
   ]
  },
  {
   "cell_type": "code",
   "execution_count": 2,
   "metadata": {},
   "outputs": [],
   "source": [
    "# Загрузка датасетов\n",
    "try:\n",
    "    first_geo = pd.read_csv('/datasets/geo_data_0.csv')\n",
    "    second_geo = pd.read_csv('/datasets/geo_data_1.csv')\n",
    "    third_geo = pd.read_csv('/datasets/geo_data_2.csv')\n",
    "except FileNotFoundError:\n",
    "    first_geo = pd.read_csv('https://code.s3.yandex.net/datasets/geo_data_0.csv')\n",
    "    second_geo = pd.read_csv('https://code.s3.yandex.net/datasets/geo_data_1.csv')\n",
    "    third_geo = pd.read_csv('https://code.s3.yandex.net/datasets/geo_data_2.csv')"
   ]
  },
  {
   "cell_type": "code",
   "execution_count": 3,
   "metadata": {},
   "outputs": [],
   "source": [
    "# Функция для получения общей информации о таблицах\n",
    "def detailed_df_analysis(df):\n",
    "    display(df.head())\n",
    "    print('')\n",
    "    display(df.info())\n",
    "    print('')\n",
    "    display(df.describe().T)\n",
    "    print('')\n",
    "    # Пропущенные значения\n",
    "    missing_values = df.isnull().sum()\n",
    "    missing_percent = (missing_values / len(df)) * 100\n",
    "    print(\"Пропущенные значения:\")\n",
    "    print(pd.DataFrame({'count': missing_values, 'percentage': missing_percent}), \"\\n\")\n",
    "\n",
    "    # Количество дубликатов строк\n",
    "    duplicates = df.duplicated().sum()\n",
    "    print(f\"Количество дубликатов: {duplicates}\\n\")\n",
    "    id_duplicates = df['id'].value_counts()\n",
    "    #print('Кол-во неявных дубликатов в столбце id:', len(df) - id_duplicates.count())\n",
    "    #print('')\n",
    "    \n",
    "    # Информация по категориальным столбцам\n",
    "    categorical_cols = df.select_dtypes(include=['object', 'category']).columns\n",
    "    if len(categorical_cols) > 0:\n",
    "        print(\"Информация о категориальных признаках:\")\n",
    "        for col in categorical_cols:\n",
    "            unique_count = df[col].nunique()\n",
    "            print(f\"{col} => {unique_count} уникальных значений\")\n",
    "        print()\n",
    "        \n",
    "    # Распределение вещественного числового признака 'product'\n",
    "    if 'product' in df.columns:\n",
    "        plt.figure(figsize=(12, 6))\n",
    "        \n",
    "        # Гистограмма\n",
    "        plt.subplot(1, 2, 1)\n",
    "        sns.histplot(df['product'], kde=True, bins=30, color='blue')\n",
    "        plt.title(\"Распределение 'product'\")\n",
    "        plt.xlabel('Объём запасов (тыс. баррелей)')\n",
    "        plt.ylabel('Частота')\n",
    "        \n",
    "        # Боксплот\n",
    "        plt.subplot(1, 2, 2)\n",
    "        sns.boxplot(x=df['product'], color='cyan')\n",
    "        plt.title(\"Боксплот 'product'\")\n",
    "        plt.xlabel('Объём запасов (тыс. баррелей)')\n",
    "        \n",
    "        plt.tight_layout()\n",
    "        plt.show()"
   ]
  },
  {
   "cell_type": "code",
   "execution_count": 4,
   "metadata": {},
   "outputs": [],
   "source": [
    "# функция для построения гистограммы по указанному столбцу\n",
    "# принимает столбец, кол-во корзин и ограничения осей\n",
    "def hist(seria, bins, xlim_max, ylim_max):\n",
    "    plt.figure(figsize=[12,9])\n",
    "\n",
    "    plt.hist(seria, bins=bins)\n",
    "\n",
    "    plt.xlim([0,xlim_max])\n",
    "    plt.ylim([0,ylim_max])\n",
    "\n",
    "    plt.xlabel(\"Объем нефти на скважину, тыс. барелей\")\n",
    "    plt.ylabel(\"Количество скважин\")\n",
    "\n",
    "    plt.title(\"Гистограмма распределения по объему скважин\")\n",
    "    plt.show()"
   ]
  },
  {
   "cell_type": "code",
   "execution_count": 5,
   "metadata": {},
   "outputs": [
    {
     "data": {
      "text/html": [
       "<div>\n",
       "<style scoped>\n",
       "    .dataframe tbody tr th:only-of-type {\n",
       "        vertical-align: middle;\n",
       "    }\n",
       "\n",
       "    .dataframe tbody tr th {\n",
       "        vertical-align: top;\n",
       "    }\n",
       "\n",
       "    .dataframe thead th {\n",
       "        text-align: right;\n",
       "    }\n",
       "</style>\n",
       "<table border=\"1\" class=\"dataframe\">\n",
       "  <thead>\n",
       "    <tr style=\"text-align: right;\">\n",
       "      <th></th>\n",
       "      <th>id</th>\n",
       "      <th>f0</th>\n",
       "      <th>f1</th>\n",
       "      <th>f2</th>\n",
       "      <th>product</th>\n",
       "    </tr>\n",
       "  </thead>\n",
       "  <tbody>\n",
       "    <tr>\n",
       "      <th>0</th>\n",
       "      <td>txEyH</td>\n",
       "      <td>0.705745</td>\n",
       "      <td>-0.497823</td>\n",
       "      <td>1.221170</td>\n",
       "      <td>105.280062</td>\n",
       "    </tr>\n",
       "    <tr>\n",
       "      <th>1</th>\n",
       "      <td>2acmU</td>\n",
       "      <td>1.334711</td>\n",
       "      <td>-0.340164</td>\n",
       "      <td>4.365080</td>\n",
       "      <td>73.037750</td>\n",
       "    </tr>\n",
       "    <tr>\n",
       "      <th>2</th>\n",
       "      <td>409Wp</td>\n",
       "      <td>1.022732</td>\n",
       "      <td>0.151990</td>\n",
       "      <td>1.419926</td>\n",
       "      <td>85.265647</td>\n",
       "    </tr>\n",
       "    <tr>\n",
       "      <th>3</th>\n",
       "      <td>iJLyR</td>\n",
       "      <td>-0.032172</td>\n",
       "      <td>0.139033</td>\n",
       "      <td>2.978566</td>\n",
       "      <td>168.620776</td>\n",
       "    </tr>\n",
       "    <tr>\n",
       "      <th>4</th>\n",
       "      <td>Xdl7t</td>\n",
       "      <td>1.988431</td>\n",
       "      <td>0.155413</td>\n",
       "      <td>4.751769</td>\n",
       "      <td>154.036647</td>\n",
       "    </tr>\n",
       "  </tbody>\n",
       "</table>\n",
       "</div>"
      ],
      "text/plain": [
       "      id        f0        f1        f2     product\n",
       "0  txEyH  0.705745 -0.497823  1.221170  105.280062\n",
       "1  2acmU  1.334711 -0.340164  4.365080   73.037750\n",
       "2  409Wp  1.022732  0.151990  1.419926   85.265647\n",
       "3  iJLyR -0.032172  0.139033  2.978566  168.620776\n",
       "4  Xdl7t  1.988431  0.155413  4.751769  154.036647"
      ]
     },
     "metadata": {},
     "output_type": "display_data"
    },
    {
     "name": "stdout",
     "output_type": "stream",
     "text": [
      "\n",
      "<class 'pandas.core.frame.DataFrame'>\n",
      "RangeIndex: 100000 entries, 0 to 99999\n",
      "Data columns (total 5 columns):\n",
      " #   Column   Non-Null Count   Dtype  \n",
      "---  ------   --------------   -----  \n",
      " 0   id       100000 non-null  object \n",
      " 1   f0       100000 non-null  float64\n",
      " 2   f1       100000 non-null  float64\n",
      " 3   f2       100000 non-null  float64\n",
      " 4   product  100000 non-null  float64\n",
      "dtypes: float64(4), object(1)\n",
      "memory usage: 3.8+ MB\n"
     ]
    },
    {
     "data": {
      "text/plain": [
       "None"
      ]
     },
     "metadata": {},
     "output_type": "display_data"
    },
    {
     "name": "stdout",
     "output_type": "stream",
     "text": [
      "\n"
     ]
    },
    {
     "data": {
      "text/html": [
       "<div>\n",
       "<style scoped>\n",
       "    .dataframe tbody tr th:only-of-type {\n",
       "        vertical-align: middle;\n",
       "    }\n",
       "\n",
       "    .dataframe tbody tr th {\n",
       "        vertical-align: top;\n",
       "    }\n",
       "\n",
       "    .dataframe thead th {\n",
       "        text-align: right;\n",
       "    }\n",
       "</style>\n",
       "<table border=\"1\" class=\"dataframe\">\n",
       "  <thead>\n",
       "    <tr style=\"text-align: right;\">\n",
       "      <th></th>\n",
       "      <th>count</th>\n",
       "      <th>mean</th>\n",
       "      <th>std</th>\n",
       "      <th>min</th>\n",
       "      <th>25%</th>\n",
       "      <th>50%</th>\n",
       "      <th>75%</th>\n",
       "      <th>max</th>\n",
       "    </tr>\n",
       "  </thead>\n",
       "  <tbody>\n",
       "    <tr>\n",
       "      <th>f0</th>\n",
       "      <td>100000.0</td>\n",
       "      <td>0.500419</td>\n",
       "      <td>0.871832</td>\n",
       "      <td>-1.408605</td>\n",
       "      <td>-0.072580</td>\n",
       "      <td>0.502360</td>\n",
       "      <td>1.073581</td>\n",
       "      <td>2.362331</td>\n",
       "    </tr>\n",
       "    <tr>\n",
       "      <th>f1</th>\n",
       "      <td>100000.0</td>\n",
       "      <td>0.250143</td>\n",
       "      <td>0.504433</td>\n",
       "      <td>-0.848218</td>\n",
       "      <td>-0.200881</td>\n",
       "      <td>0.250252</td>\n",
       "      <td>0.700646</td>\n",
       "      <td>1.343769</td>\n",
       "    </tr>\n",
       "    <tr>\n",
       "      <th>f2</th>\n",
       "      <td>100000.0</td>\n",
       "      <td>2.502647</td>\n",
       "      <td>3.248248</td>\n",
       "      <td>-12.088328</td>\n",
       "      <td>0.287748</td>\n",
       "      <td>2.515969</td>\n",
       "      <td>4.715088</td>\n",
       "      <td>16.003790</td>\n",
       "    </tr>\n",
       "    <tr>\n",
       "      <th>product</th>\n",
       "      <td>100000.0</td>\n",
       "      <td>92.500000</td>\n",
       "      <td>44.288691</td>\n",
       "      <td>0.000000</td>\n",
       "      <td>56.497507</td>\n",
       "      <td>91.849972</td>\n",
       "      <td>128.564089</td>\n",
       "      <td>185.364347</td>\n",
       "    </tr>\n",
       "  </tbody>\n",
       "</table>\n",
       "</div>"
      ],
      "text/plain": [
       "            count       mean        std        min        25%        50%  \\\n",
       "f0       100000.0   0.500419   0.871832  -1.408605  -0.072580   0.502360   \n",
       "f1       100000.0   0.250143   0.504433  -0.848218  -0.200881   0.250252   \n",
       "f2       100000.0   2.502647   3.248248 -12.088328   0.287748   2.515969   \n",
       "product  100000.0  92.500000  44.288691   0.000000  56.497507  91.849972   \n",
       "\n",
       "                75%         max  \n",
       "f0         1.073581    2.362331  \n",
       "f1         0.700646    1.343769  \n",
       "f2         4.715088   16.003790  \n",
       "product  128.564089  185.364347  "
      ]
     },
     "metadata": {},
     "output_type": "display_data"
    },
    {
     "name": "stdout",
     "output_type": "stream",
     "text": [
      "\n",
      "Пропущенные значения:\n",
      "         count  percentage\n",
      "id           0         0.0\n",
      "f0           0         0.0\n",
      "f1           0         0.0\n",
      "f2           0         0.0\n",
      "product      0         0.0 \n",
      "\n",
      "Количество дубликатов: 0\n",
      "\n",
      "Информация о категориальных признаках:\n",
      "id => 99990 уникальных значений\n",
      "\n"
     ]
    },
    {
     "data": {
      "image/png": "[encoded data removed]",
      "text/plain": [
       "<Figure size 864x432 with 2 Axes>"
      ]
     },
     "metadata": {
      "needs_background": "light"
     },
     "output_type": "display_data"
    }
   ],
   "source": [
    "detailed_df_analysis(first_geo)"
   ]
  },
  {
   "cell_type": "code",
   "execution_count": 6,
   "metadata": {},
   "outputs": [
    {
     "data": {
      "text/html": [
       "<div>\n",
       "<style scoped>\n",
       "    .dataframe tbody tr th:only-of-type {\n",
       "        vertical-align: middle;\n",
       "    }\n",
       "\n",
       "    .dataframe tbody tr th {\n",
       "        vertical-align: top;\n",
       "    }\n",
       "\n",
       "    .dataframe thead th {\n",
       "        text-align: right;\n",
       "    }\n",
       "</style>\n",
       "<table border=\"1\" class=\"dataframe\">\n",
       "  <thead>\n",
       "    <tr style=\"text-align: right;\">\n",
       "      <th></th>\n",
       "      <th>id</th>\n",
       "      <th>f0</th>\n",
       "      <th>f1</th>\n",
       "      <th>f2</th>\n",
       "      <th>product</th>\n",
       "    </tr>\n",
       "  </thead>\n",
       "  <tbody>\n",
       "    <tr>\n",
       "      <th>0</th>\n",
       "      <td>kBEdx</td>\n",
       "      <td>-15.001348</td>\n",
       "      <td>-8.276000</td>\n",
       "      <td>-0.005876</td>\n",
       "      <td>3.179103</td>\n",
       "    </tr>\n",
       "    <tr>\n",
       "      <th>1</th>\n",
       "      <td>62mP7</td>\n",
       "      <td>14.272088</td>\n",
       "      <td>-3.475083</td>\n",
       "      <td>0.999183</td>\n",
       "      <td>26.953261</td>\n",
       "    </tr>\n",
       "    <tr>\n",
       "      <th>2</th>\n",
       "      <td>vyE1P</td>\n",
       "      <td>6.263187</td>\n",
       "      <td>-5.948386</td>\n",
       "      <td>5.001160</td>\n",
       "      <td>134.766305</td>\n",
       "    </tr>\n",
       "    <tr>\n",
       "      <th>3</th>\n",
       "      <td>KcrkZ</td>\n",
       "      <td>-13.081196</td>\n",
       "      <td>-11.506057</td>\n",
       "      <td>4.999415</td>\n",
       "      <td>137.945408</td>\n",
       "    </tr>\n",
       "    <tr>\n",
       "      <th>4</th>\n",
       "      <td>AHL4O</td>\n",
       "      <td>12.702195</td>\n",
       "      <td>-8.147433</td>\n",
       "      <td>5.004363</td>\n",
       "      <td>134.766305</td>\n",
       "    </tr>\n",
       "  </tbody>\n",
       "</table>\n",
       "</div>"
      ],
      "text/plain": [
       "      id         f0         f1        f2     product\n",
       "0  kBEdx -15.001348  -8.276000 -0.005876    3.179103\n",
       "1  62mP7  14.272088  -3.475083  0.999183   26.953261\n",
       "2  vyE1P   6.263187  -5.948386  5.001160  134.766305\n",
       "3  KcrkZ -13.081196 -11.506057  4.999415  137.945408\n",
       "4  AHL4O  12.702195  -8.147433  5.004363  134.766305"
      ]
     },
     "metadata": {},
     "output_type": "display_data"
    },
    {
     "name": "stdout",
     "output_type": "stream",
     "text": [
      "\n",
      "<class 'pandas.core.frame.DataFrame'>\n",
      "RangeIndex: 100000 entries, 0 to 99999\n",
      "Data columns (total 5 columns):\n",
      " #   Column   Non-Null Count   Dtype  \n",
      "---  ------   --------------   -----  \n",
      " 0   id       100000 non-null  object \n",
      " 1   f0       100000 non-null  float64\n",
      " 2   f1       100000 non-null  float64\n",
      " 3   f2       100000 non-null  float64\n",
      " 4   product  100000 non-null  float64\n",
      "dtypes: float64(4), object(1)\n",
      "memory usage: 3.8+ MB\n"
     ]
    },
    {
     "data": {
      "text/plain": [
       "None"
      ]
     },
     "metadata": {},
     "output_type": "display_data"
    },
    {
     "name": "stdout",
     "output_type": "stream",
     "text": [
      "\n"
     ]
    },
    {
     "data": {
      "text/html": [
       "<div>\n",
       "<style scoped>\n",
       "    .dataframe tbody tr th:only-of-type {\n",
       "        vertical-align: middle;\n",
       "    }\n",
       "\n",
       "    .dataframe tbody tr th {\n",
       "        vertical-align: top;\n",
       "    }\n",
       "\n",
       "    .dataframe thead th {\n",
       "        text-align: right;\n",
       "    }\n",
       "</style>\n",
       "<table border=\"1\" class=\"dataframe\">\n",
       "  <thead>\n",
       "    <tr style=\"text-align: right;\">\n",
       "      <th></th>\n",
       "      <th>count</th>\n",
       "      <th>mean</th>\n",
       "      <th>std</th>\n",
       "      <th>min</th>\n",
       "      <th>25%</th>\n",
       "      <th>50%</th>\n",
       "      <th>75%</th>\n",
       "      <th>max</th>\n",
       "    </tr>\n",
       "  </thead>\n",
       "  <tbody>\n",
       "    <tr>\n",
       "      <th>f0</th>\n",
       "      <td>100000.0</td>\n",
       "      <td>1.141296</td>\n",
       "      <td>8.965932</td>\n",
       "      <td>-31.609576</td>\n",
       "      <td>-6.298551</td>\n",
       "      <td>1.153055</td>\n",
       "      <td>8.621015</td>\n",
       "      <td>29.421755</td>\n",
       "    </tr>\n",
       "    <tr>\n",
       "      <th>f1</th>\n",
       "      <td>100000.0</td>\n",
       "      <td>-4.796579</td>\n",
       "      <td>5.119872</td>\n",
       "      <td>-26.358598</td>\n",
       "      <td>-8.267985</td>\n",
       "      <td>-4.813172</td>\n",
       "      <td>-1.332816</td>\n",
       "      <td>18.734063</td>\n",
       "    </tr>\n",
       "    <tr>\n",
       "      <th>f2</th>\n",
       "      <td>100000.0</td>\n",
       "      <td>2.494541</td>\n",
       "      <td>1.703572</td>\n",
       "      <td>-0.018144</td>\n",
       "      <td>1.000021</td>\n",
       "      <td>2.011479</td>\n",
       "      <td>3.999904</td>\n",
       "      <td>5.019721</td>\n",
       "    </tr>\n",
       "    <tr>\n",
       "      <th>product</th>\n",
       "      <td>100000.0</td>\n",
       "      <td>68.825000</td>\n",
       "      <td>45.944423</td>\n",
       "      <td>0.000000</td>\n",
       "      <td>26.953261</td>\n",
       "      <td>57.085625</td>\n",
       "      <td>107.813044</td>\n",
       "      <td>137.945408</td>\n",
       "    </tr>\n",
       "  </tbody>\n",
       "</table>\n",
       "</div>"
      ],
      "text/plain": [
       "            count       mean        std        min        25%        50%  \\\n",
       "f0       100000.0   1.141296   8.965932 -31.609576  -6.298551   1.153055   \n",
       "f1       100000.0  -4.796579   5.119872 -26.358598  -8.267985  -4.813172   \n",
       "f2       100000.0   2.494541   1.703572  -0.018144   1.000021   2.011479   \n",
       "product  100000.0  68.825000  45.944423   0.000000  26.953261  57.085625   \n",
       "\n",
       "                75%         max  \n",
       "f0         8.621015   29.421755  \n",
       "f1        -1.332816   18.734063  \n",
       "f2         3.999904    5.019721  \n",
       "product  107.813044  137.945408  "
      ]
     },
     "metadata": {},
     "output_type": "display_data"
    },
    {
     "name": "stdout",
     "output_type": "stream",
     "text": [
      "\n",
      "Пропущенные значения:\n",
      "         count  percentage\n",
      "id           0         0.0\n",
      "f0           0         0.0\n",
      "f1           0         0.0\n",
      "f2           0         0.0\n",
      "product      0         0.0 \n",
      "\n",
      "Количество дубликатов: 0\n",
      "\n",
      "Информация о категориальных признаках:\n",
      "id => 99996 уникальных значений\n",
      "\n"
     ]
    },
    {
     "data": {
      "image/png": "[encoded data removed]",
      "text/plain": [
       "<Figure size 864x432 with 2 Axes>"
      ]
     },
     "metadata": {
      "needs_background": "light"
     },
     "output_type": "display_data"
    }
   ],
   "source": [
    "detailed_df_analysis(second_geo)"
   ]
  },
  {
   "cell_type": "code",
   "execution_count": 7,
   "metadata": {
    "scrolled": true
   },
   "outputs": [
    {
     "data": {
      "text/html": [
       "<div>\n",
       "<style scoped>\n",
       "    .dataframe tbody tr th:only-of-type {\n",
       "        vertical-align: middle;\n",
       "    }\n",
       "\n",
       "    .dataframe tbody tr th {\n",
       "        vertical-align: top;\n",
       "    }\n",
       "\n",
       "    .dataframe thead th {\n",
       "        text-align: right;\n",
       "    }\n",
       "</style>\n",
       "<table border=\"1\" class=\"dataframe\">\n",
       "  <thead>\n",
       "    <tr style=\"text-align: right;\">\n",
       "      <th></th>\n",
       "      <th>id</th>\n",
       "      <th>f0</th>\n",
       "      <th>f1</th>\n",
       "      <th>f2</th>\n",
       "      <th>product</th>\n",
       "    </tr>\n",
       "  </thead>\n",
       "  <tbody>\n",
       "    <tr>\n",
       "      <th>0</th>\n",
       "      <td>fwXo0</td>\n",
       "      <td>-1.146987</td>\n",
       "      <td>0.963328</td>\n",
       "      <td>-0.828965</td>\n",
       "      <td>27.758673</td>\n",
       "    </tr>\n",
       "    <tr>\n",
       "      <th>1</th>\n",
       "      <td>WJtFt</td>\n",
       "      <td>0.262778</td>\n",
       "      <td>0.269839</td>\n",
       "      <td>-2.530187</td>\n",
       "      <td>56.069697</td>\n",
       "    </tr>\n",
       "    <tr>\n",
       "      <th>2</th>\n",
       "      <td>ovLUW</td>\n",
       "      <td>0.194587</td>\n",
       "      <td>0.289035</td>\n",
       "      <td>-5.586433</td>\n",
       "      <td>62.871910</td>\n",
       "    </tr>\n",
       "    <tr>\n",
       "      <th>3</th>\n",
       "      <td>q6cA6</td>\n",
       "      <td>2.236060</td>\n",
       "      <td>-0.553760</td>\n",
       "      <td>0.930038</td>\n",
       "      <td>114.572842</td>\n",
       "    </tr>\n",
       "    <tr>\n",
       "      <th>4</th>\n",
       "      <td>WPMUX</td>\n",
       "      <td>-0.515993</td>\n",
       "      <td>1.716266</td>\n",
       "      <td>5.899011</td>\n",
       "      <td>149.600746</td>\n",
       "    </tr>\n",
       "  </tbody>\n",
       "</table>\n",
       "</div>"
      ],
      "text/plain": [
       "      id        f0        f1        f2     product\n",
       "0  fwXo0 -1.146987  0.963328 -0.828965   27.758673\n",
       "1  WJtFt  0.262778  0.269839 -2.530187   56.069697\n",
       "2  ovLUW  0.194587  0.289035 -5.586433   62.871910\n",
       "3  q6cA6  2.236060 -0.553760  0.930038  114.572842\n",
       "4  WPMUX -0.515993  1.716266  5.899011  149.600746"
      ]
     },
     "metadata": {},
     "output_type": "display_data"
    },
    {
     "name": "stdout",
     "output_type": "stream",
     "text": [
      "\n",
      "<class 'pandas.core.frame.DataFrame'>\n",
      "RangeIndex: 100000 entries, 0 to 99999\n",
      "Data columns (total 5 columns):\n",
      " #   Column   Non-Null Count   Dtype  \n",
      "---  ------   --------------   -----  \n",
      " 0   id       100000 non-null  object \n",
      " 1   f0       100000 non-null  float64\n",
      " 2   f1       100000 non-null  float64\n",
      " 3   f2       100000 non-null  float64\n",
      " 4   product  100000 non-null  float64\n",
      "dtypes: float64(4), object(1)\n",
      "memory usage: 3.8+ MB\n"
     ]
    },
    {
     "data": {
      "text/plain": [
       "None"
      ]
     },
     "metadata": {},
     "output_type": "display_data"
    },
    {
     "name": "stdout",
     "output_type": "stream",
     "text": [
      "\n"
     ]
    },
    {
     "data": {
      "text/html": [
       "<div>\n",
       "<style scoped>\n",
       "    .dataframe tbody tr th:only-of-type {\n",
       "        vertical-align: middle;\n",
       "    }\n",
       "\n",
       "    .dataframe tbody tr th {\n",
       "        vertical-align: top;\n",
       "    }\n",
       "\n",
       "    .dataframe thead th {\n",
       "        text-align: right;\n",
       "    }\n",
       "</style>\n",
       "<table border=\"1\" class=\"dataframe\">\n",
       "  <thead>\n",
       "    <tr style=\"text-align: right;\">\n",
       "      <th></th>\n",
       "      <th>count</th>\n",
       "      <th>mean</th>\n",
       "      <th>std</th>\n",
       "      <th>min</th>\n",
       "      <th>25%</th>\n",
       "      <th>50%</th>\n",
       "      <th>75%</th>\n",
       "      <th>max</th>\n",
       "    </tr>\n",
       "  </thead>\n",
       "  <tbody>\n",
       "    <tr>\n",
       "      <th>f0</th>\n",
       "      <td>100000.0</td>\n",
       "      <td>0.002023</td>\n",
       "      <td>1.732045</td>\n",
       "      <td>-8.760004</td>\n",
       "      <td>-1.162288</td>\n",
       "      <td>0.009424</td>\n",
       "      <td>1.158535</td>\n",
       "      <td>7.238262</td>\n",
       "    </tr>\n",
       "    <tr>\n",
       "      <th>f1</th>\n",
       "      <td>100000.0</td>\n",
       "      <td>-0.002081</td>\n",
       "      <td>1.730417</td>\n",
       "      <td>-7.084020</td>\n",
       "      <td>-1.174820</td>\n",
       "      <td>-0.009482</td>\n",
       "      <td>1.163678</td>\n",
       "      <td>7.844801</td>\n",
       "    </tr>\n",
       "    <tr>\n",
       "      <th>f2</th>\n",
       "      <td>100000.0</td>\n",
       "      <td>2.495128</td>\n",
       "      <td>3.473445</td>\n",
       "      <td>-11.970335</td>\n",
       "      <td>0.130359</td>\n",
       "      <td>2.484236</td>\n",
       "      <td>4.858794</td>\n",
       "      <td>16.739402</td>\n",
       "    </tr>\n",
       "    <tr>\n",
       "      <th>product</th>\n",
       "      <td>100000.0</td>\n",
       "      <td>95.000000</td>\n",
       "      <td>44.749921</td>\n",
       "      <td>0.000000</td>\n",
       "      <td>59.450441</td>\n",
       "      <td>94.925613</td>\n",
       "      <td>130.595027</td>\n",
       "      <td>190.029838</td>\n",
       "    </tr>\n",
       "  </tbody>\n",
       "</table>\n",
       "</div>"
      ],
      "text/plain": [
       "            count       mean        std        min        25%        50%  \\\n",
       "f0       100000.0   0.002023   1.732045  -8.760004  -1.162288   0.009424   \n",
       "f1       100000.0  -0.002081   1.730417  -7.084020  -1.174820  -0.009482   \n",
       "f2       100000.0   2.495128   3.473445 -11.970335   0.130359   2.484236   \n",
       "product  100000.0  95.000000  44.749921   0.000000  59.450441  94.925613   \n",
       "\n",
       "                75%         max  \n",
       "f0         1.158535    7.238262  \n",
       "f1         1.163678    7.844801  \n",
       "f2         4.858794   16.739402  \n",
       "product  130.595027  190.029838  "
      ]
     },
     "metadata": {},
     "output_type": "display_data"
    },
    {
     "name": "stdout",
     "output_type": "stream",
     "text": [
      "\n",
      "Пропущенные значения:\n",
      "         count  percentage\n",
      "id           0         0.0\n",
      "f0           0         0.0\n",
      "f1           0         0.0\n",
      "f2           0         0.0\n",
      "product      0         0.0 \n",
      "\n",
      "Количество дубликатов: 0\n",
      "\n",
      "Информация о категориальных признаках:\n",
      "id => 99996 уникальных значений\n",
      "\n"
     ]
    },
    {
     "data": {
      "image/png": "[encoded data removed]",
      "text/plain": [
       "<Figure size 864x432 with 2 Axes>"
      ]
     },
     "metadata": {
      "needs_background": "light"
     },
     "output_type": "display_data"
    }
   ],
   "source": [
    "detailed_df_analysis(third_geo)"
   ]
  },
  {
   "cell_type": "markdown",
   "metadata": {},
   "source": [
    "- Пропущенных значений не обнаружено\n",
    "- Явные дубликаты не обнаружены\n",
    "- Типы данных - в порядке\n",
    "- Распределение целевой переменной product во втором регионе очень странное.\n",
    "- Выбросов нет."
   ]
  },
  {
   "cell_type": "markdown",
   "metadata": {},
   "source": [
    "Согласно графику и информации, полученной из первичных аналитических сведений, колонка `product` заполнена непустыми значениями, скорее всего это нули. Надо это проверить и посчитать кол-во нулей."
   ]
  },
  {
   "cell_type": "code",
   "execution_count": 9,
   "metadata": {},
   "outputs": [],
   "source": [
    "# Проверим распределение product во второй таблице\n",
    "# функция подсчёта нулей в значениях указанного столбца\n",
    "def zeros_count(df, column):\n",
    "    zeros = df[df[column] == 0][column].count()\n",
    "    percent = zeros / df.shape[0]\n",
    "    print('Количество нулевых значений:', zeros)\n",
    "    print('Процент нулевых значений от общего числа строк:', percent)"
   ]
  },
  {
   "cell_type": "code",
   "execution_count": 10,
   "metadata": {
    "scrolled": true
   },
   "outputs": [
    {
     "name": "stdout",
     "output_type": "stream",
     "text": [
      "Количество нулевых значений: 1\n",
      "Процент нулевых значений от общего числа строк: 1e-05\n"
     ]
    }
   ],
   "source": [
    "zeros_count(first_geo, 'product')"
   ]
  },
  {
   "cell_type": "code",
   "execution_count": 11,
   "metadata": {},
   "outputs": [
    {
     "name": "stdout",
     "output_type": "stream",
     "text": [
      "Количество нулевых значений: 8235\n",
      "Процент нулевых значений от общего числа строк: 0.08235\n"
     ]
    }
   ],
   "source": [
    "zeros_count(second_geo, 'product')"
   ]
  },
  {
   "cell_type": "code",
   "execution_count": 12,
   "metadata": {},
   "outputs": [
    {
     "name": "stdout",
     "output_type": "stream",
     "text": [
      "Количество нулевых значений: 1\n",
      "Процент нулевых значений от общего числа строк: 1e-05\n"
     ]
    }
   ],
   "source": [
    "zeros_count(third_geo, 'product')"
   ]
  },
  {
   "cell_type": "markdown",
   "metadata": {},
   "source": [
    "Распределение у второй таблицы выглядит исскуственным, вероятно это было сделано на намеренно."
   ]
  },
  {
   "cell_type": "markdown",
   "metadata": {},
   "source": [
    "**Подготовка данных:**"
   ]
  },
  {
   "cell_type": "code",
   "execution_count": 13,
   "metadata": {},
   "outputs": [],
   "source": [
    "# Индексируем выборки\n",
    "first_geo = first_geo.set_index('id')\n",
    "second_geo = second_geo.set_index('id')\n",
    "third_geo = third_geo.set_index('id')"
   ]
  },
  {
   "cell_type": "code",
   "execution_count": 14,
   "metadata": {},
   "outputs": [],
   "source": [
    "# Избавляемся от целевого признака\n",
    "features_first_geo = first_geo.drop('product', axis=1)\n",
    "features_second_geo = second_geo.drop('product', axis=1)\n",
    "features_third_geo = third_geo.drop('product', axis=1)"
   ]
  },
  {
   "cell_type": "code",
   "execution_count": 15,
   "metadata": {},
   "outputs": [],
   "source": [
    "# Выделяем целевые признаки\n",
    "target_first_geo = first_geo['product']\n",
    "target_second_geo = second_geo['product']\n",
    "target_third_geo = third_geo['product']"
   ]
  },
  {
   "cell_type": "markdown",
   "metadata": {},
   "source": [
    "Данные в порядке и готовы к дальнейшей работе"
   ]
  },
  {
   "cell_type": "markdown",
   "metadata": {},
   "source": [
    "<a id='обучение'></a>\n",
    "## Обучение и проверка модели"
   ]
  },
  {
   "cell_type": "markdown",
   "metadata": {},
   "source": [
    "**Обучение модели LinearRegression**"
   ]
  },
  {
   "cell_type": "markdown",
   "metadata": {},
   "source": [
    "- Поскольку у нас есть три схожих датасета, разумно создать одну функцию для обучения моделей. \n",
    "- Согласно условию, для обучения подойдет только модель `LinearRegression`, так как другие методы недостаточно предсказуемы. \n",
    "- Также важно применить `стандартизацию` к *количественным параметрам* для каждой из разделенных выборок. \n",
    "- В качестве основной метрики для регрессионной модели выберем `RMSE`, так как она точнее других отражает фактическое отклонение от реальных значений."
   ]
  },
  {
   "cell_type": "code",
   "execution_count": 16,
   "metadata": {},
   "outputs": [],
   "source": [
    "def ml_regression(features, target, region):\n",
    "    \n",
    "    # Разбивка данных на тренировочную и валидационную\n",
    "    features_train, features_valid, target_train, target_valid = train_test_split(\n",
    "    features, \n",
    "    target,\n",
    "    random_state=12345,\n",
    "    test_size=0.25\n",
    "    )\n",
    "    \n",
    "    # Стандартизация для числовых признаков\n",
    "    scaler = StandardScaler()\n",
    "    numeric = ['f0', 'f1', 'f2']\n",
    "    features_train[numeric] = scaler.fit_transform(features_train[numeric])\n",
    "    features_valid[numeric] = scaler.transform(features_valid[numeric])\n",
    "    \n",
    "    # Инизиализация и обучение модели\n",
    "    model = LinearRegression()\n",
    "    model.fit(features_train, target_train)\n",
    "    \n",
    "    # Предсказание\n",
    "    predicted = model.predict(features_valid)\n",
    "    \n",
    "    print(f'Средний запас сырья в {region}:', predicted.mean())\n",
    "    print('RMSE модели:', mean_squared_error(target_valid, predicted, squared=False))\n",
    "    print('------')\n",
    "    \n",
    "    df = pd.DataFrame([], columns=['correct', 'predicted'])\n",
    "    df['correct'] = target_valid\n",
    "    df['predicted'] = predicted\n",
    "    \n",
    "    return pd.Series(predicted), pd.Series(target_valid), df"
   ]
  },
  {
   "cell_type": "code",
   "execution_count": 17,
   "metadata": {
    "scrolled": true
   },
   "outputs": [
    {
     "name": "stdout",
     "output_type": "stream",
     "text": [
      "Средний запас сырья в first_region: 92.59256778438035\n",
      "RMSE модели: 37.5794217150813\n",
      "------\n",
      "Средний запас сырья в second_region: 68.728546895446\n",
      "RMSE модели: 0.893099286775617\n",
      "------\n",
      "Средний запас сырья в third_region: 94.96504596800489\n",
      "RMSE модели: 40.02970873393434\n",
      "------\n"
     ]
    }
   ],
   "source": [
    "# Обучаем модели и сохраняем результаты\n",
    "predicted_first_geo, correct_first_geo, df_first_geo = ml_regression(features_first_geo, target_first_geo, 'first_region')\n",
    "predicted_second_geo, correct_second_geo, df_second_geo = ml_regression(features_second_geo, target_second_geo, 'second_region')\n",
    "predicted_third_geo, correct_third_geo, df_third_geo = ml_regression(features_third_geo, target_third_geo, 'third_region')\n",
    "\n",
    "# Сохраняем индексацию предсказанных и реальных значений\n",
    "predicted_first_geo.index = correct_first_geo.index\n",
    "predicted_second_geo.index = correct_second_geo.index\n",
    "predicted_third_geo.index = correct_third_geo.index"
   ]
  },
  {
   "cell_type": "code",
   "execution_count": 18,
   "metadata": {
    "scrolled": true
   },
   "outputs": [
    {
     "data": {
      "text/plain": [
       "(25000,)"
      ]
     },
     "metadata": {},
     "output_type": "display_data"
    },
    {
     "data": {
      "text/plain": [
       "(25000,)"
      ]
     },
     "metadata": {},
     "output_type": "display_data"
    },
    {
     "data": {
      "text/html": [
       "<div>\n",
       "<style scoped>\n",
       "    .dataframe tbody tr th:only-of-type {\n",
       "        vertical-align: middle;\n",
       "    }\n",
       "\n",
       "    .dataframe tbody tr th {\n",
       "        vertical-align: top;\n",
       "    }\n",
       "\n",
       "    .dataframe thead th {\n",
       "        text-align: right;\n",
       "    }\n",
       "</style>\n",
       "<table border=\"1\" class=\"dataframe\">\n",
       "  <thead>\n",
       "    <tr style=\"text-align: right;\">\n",
       "      <th></th>\n",
       "      <th>correct</th>\n",
       "      <th>predicted</th>\n",
       "    </tr>\n",
       "    <tr>\n",
       "      <th>id</th>\n",
       "      <th></th>\n",
       "      <th></th>\n",
       "    </tr>\n",
       "  </thead>\n",
       "  <tbody>\n",
       "    <tr>\n",
       "      <th>7Z2gx</th>\n",
       "      <td>10.038645</td>\n",
       "      <td>95.894952</td>\n",
       "    </tr>\n",
       "    <tr>\n",
       "      <th>b2HU8</th>\n",
       "      <td>114.551489</td>\n",
       "      <td>77.572583</td>\n",
       "    </tr>\n",
       "    <tr>\n",
       "      <th>Y0dXD</th>\n",
       "      <td>132.603635</td>\n",
       "      <td>77.892640</td>\n",
       "    </tr>\n",
       "    <tr>\n",
       "      <th>Mje59</th>\n",
       "      <td>169.072125</td>\n",
       "      <td>90.175134</td>\n",
       "    </tr>\n",
       "    <tr>\n",
       "      <th>yqXxU</th>\n",
       "      <td>122.325180</td>\n",
       "      <td>70.510088</td>\n",
       "    </tr>\n",
       "  </tbody>\n",
       "</table>\n",
       "</div>"
      ],
      "text/plain": [
       "          correct  predicted\n",
       "id                          \n",
       "7Z2gx   10.038645  95.894952\n",
       "b2HU8  114.551489  77.572583\n",
       "Y0dXD  132.603635  77.892640\n",
       "Mje59  169.072125  90.175134\n",
       "yqXxU  122.325180  70.510088"
      ]
     },
     "metadata": {},
     "output_type": "display_data"
    }
   ],
   "source": [
    "display(predicted_first_geo.shape)\n",
    "display(correct_first_geo.shape)\n",
    "display(df_first_geo.head())"
   ]
  },
  {
   "cell_type": "code",
   "execution_count": 19,
   "metadata": {},
   "outputs": [
    {
     "name": "stdout",
     "output_type": "stream",
     "text": [
      "Суммарный предсказанный запас в регионе 0 - 2314814.194609509\n",
      "Суммарный реальный запас в регионе 0 - 2301964.918520732\n",
      "\n",
      "Суммарный предсказанный запас в регионе 1 - 1718213.67238615\n",
      "Суммарный реальный запас в регионе 1 - 1718213.67238615\n",
      "\n",
      "Суммарный предсказанный запас в регионе 2 - 2374126.1492001223\n",
      "Суммарный реальный запас в регионе 2 - 2374126.1492001223\n"
     ]
    }
   ],
   "source": [
    "# для оценки общего запаса скважин в рамках региона, суммируем значения в рассчитанных датафреймах\n",
    "print('Суммарный предсказанный запас в регионе 0 -', predicted_first_geo.sum())\n",
    "print('Суммарный реальный запас в регионе 0 -', correct_first_geo.sum())\n",
    "print()\n",
    "print('Суммарный предсказанный запас в регионе 1 -', predicted_second_geo.sum())\n",
    "print('Суммарный реальный запас в регионе 1 -', predicted_second_geo.sum())\n",
    "print()\n",
    "print('Суммарный предсказанный запас в регионе 2 -', predicted_third_geo.sum())\n",
    "print('Суммарный реальный запас в регионе 2 -', predicted_third_geo.sum())"
   ]
  },
  {
   "cell_type": "markdown",
   "metadata": {},
   "source": [
    "**Выводы по обучению модели:**\n",
    "\n",
    "- Суммарные значения предсказанных объёмов примерно совпадают с суммарными фактическими результатами измерений.\n",
    "- Лучше всех себя показала модель в предсказаниях на втором регионе: `RMSE = 0.893099286775617`. Скорее всего, утеряные данные из второго фрейма сказались на обучении модели, и она достаточно сильно переобучилась. Но из-за неполноты данных и в среднем малого запаса ресурсов (69.18) не имеет смысла рассматривать второй регион как прибыльное месторождение.\n",
    "- Самое крупное значение среднего запаса сырья, однако же - в третьем регионе: `94.9650459680048`"
   ]
  },
  {
   "cell_type": "markdown",
   "metadata": {},
   "source": [
    "<a id='подготовка'></a>\n",
    "## Подготовка к расчёту прибыли"
   ]
  },
  {
   "cell_type": "code",
   "execution_count": 20,
   "metadata": {},
   "outputs": [],
   "source": [
    "# Константы для основных значений\n",
    "# бюджет 10 млрд. рублей\n",
    "budget = 10 ** 10 \n",
    "# исследуем 500 точек\n",
    "chosen_points = 500 \n",
    "# с помощью модели отбираем 200 лучших\n",
    "best_points = 200\n",
    "# доход за 1000 баррель, за один баррель - 450\n",
    "income_per_barrel = 450000"
   ]
  },
  {
   "cell_type": "code",
   "execution_count": 21,
   "metadata": {
    "scrolled": true
   },
   "outputs": [
    {
     "name": "stdout",
     "output_type": "stream",
     "text": [
      "Необходимая средняя прибыль на лучшую точку - 50000.0 тыс.руб.\n",
      "Необходимый средний объем нефти на точку - 111.11111111111111 тыс. баррелей\n",
      "Необходимый средний объем нефти на регион - 22222.222222222223 тыс. баррелей\n"
     ]
    }
   ],
   "source": [
    "average_profit_per_point = budget / best_points\n",
    "print('Необходимая средняя прибыль на лучшую точку -', average_profit_per_point / 1000, 'тыс.руб.')\n",
    "\n",
    "average_barrels_per_point = average_profit_per_point  / income_per_barrel\n",
    "print('Необходимый средний объем нефти на точку -',average_barrels_per_point, 'тыс. баррелей')\n",
    "\n",
    "average_barrels = budget / income_per_barrel\n",
    "print('Необходимый средний объем нефти на регион -',average_barrels, 'тыс. баррелей')"
   ]
  },
  {
   "cell_type": "markdown",
   "metadata": {},
   "source": [
    "На текущий момент, самое высокое предсказанное значение среднего запаса сырья (в третьем регионе) составляет 95.2235090834128, что недостаточно для обеспечения безубыточности производства. Аналогично, средний запас сырья в первом и втором регионах не достигает рассчитанного безубыточного уровня. Но посмотрим на распределения."
   ]
  },
  {
   "cell_type": "code",
   "execution_count": 22,
   "metadata": {},
   "outputs": [
    {
     "data": {
      "image/png": "[encoded data removed]",
      "text/plain": [
       "<Figure size 864x648 with 1 Axes>"
      ]
     },
     "metadata": {
      "needs_background": "light"
     },
     "output_type": "display_data"
    },
    {
     "data": {
      "image/png": "[encoded data removed]",
      "text/plain": [
       "<Figure size 864x648 with 1 Axes>"
      ]
     },
     "metadata": {
      "needs_background": "light"
     },
     "output_type": "display_data"
    },
    {
     "data": {
      "image/png": "[encoded data removed]",
      "text/plain": [
       "<Figure size 864x648 with 1 Axes>"
      ]
     },
     "metadata": {
      "needs_background": "light"
     },
     "output_type": "display_data"
    }
   ],
   "source": [
    "# проверим распределение предсказанных значений запасов по скважинам\n",
    "# оцениваем гистограммы с точки зрения расчитанных выше необходимых объёмов нефти\n",
    "hist(df_first_geo['predicted'], 200, 190, 500)\n",
    "hist(df_second_geo['predicted'], 20, 150, 5000)\n",
    "hist(df_third_geo['predicted'], 200, 190, 500)"
   ]
  },
  {
   "cell_type": "markdown",
   "metadata": {},
   "source": [
    "Для первого и третьего - высокая вероятность окупить затраты. Разброс значений вокруг среднего 92.6 и 95 говорит нам о том, что существует достаточно много скважин, где запасы больше необходимого среднего - 111."
   ]
  },
  {
   "cell_type": "markdown",
   "metadata": {},
   "source": [
    "## Расчёт прибыли и рисков "
   ]
  },
  {
   "cell_type": "markdown",
   "metadata": {},
   "source": [
    "<a id='функция'></a>\n",
    "### Функция для расчёта прибыли"
   ]
  },
  {
   "cell_type": "code",
   "execution_count": 23,
   "metadata": {},
   "outputs": [],
   "source": [
    "# Функция для расчета прибыли на 500 разведанных точек\n",
    "def revenue_count(target, probabilities_sample, count):\n",
    "    probs_sorted = probabilities_sample.sort_values(ascending=False)\n",
    "    # выбираем из отсортированных точек кол-во, соответствующее заданию\n",
    "    selected = target[probs_sorted.index][:count]\n",
    "    return income_per_barrel * selected.sum() - budget"
   ]
  },
  {
   "cell_type": "code",
   "execution_count": 24,
   "metadata": {},
   "outputs": [],
   "source": [
    "state = np.random.RandomState(12345)\n",
    "# # функция для применения техники Bootstrap с 1000 выборок\n",
    "def bootstrap(target, probabilities):\n",
    "    values = []\n",
    "    lost = 0 \n",
    "    for i in range(1000):\n",
    "        target_sample = target.sample(replace=True, random_state=state, n=chosen_points)\n",
    "        probs_sample = probabilities[target_sample.index]\n",
    "        profit = revenue_count(target, probs_sample, best_points)\n",
    "        if profit < 0:\n",
    "            lost +=1\n",
    "        values.append(profit)\n",
    "    \n",
    "    values = pd.Series(values)\n",
    "    lower = values.quantile(0.025)\n",
    "    upper = values.quantile(0.975)\n",
    "    average = values.mean()\n",
    "    risk = lost / 1000\n",
    "    return average, lower, upper, risk"
   ]
  },
  {
   "cell_type": "markdown",
   "metadata": {},
   "source": [
    "<a id='анализ'></a>\n",
    "### Анализ рисков и прибыли"
   ]
  },
  {
   "cell_type": "code",
   "execution_count": 25,
   "metadata": {},
   "outputs": [
    {
     "name": "stdout",
     "output_type": "stream",
     "text": [
      "Данные по первому региону.\n",
      "Средняя прибыль для региона = 396164.98 тыс.руб.\n",
      "95% доверительный интервал от -111215545.89 до 909766941.55 тыс.руб.\n",
      "Процент риска 6.90%\n"
     ]
    }
   ],
   "source": [
    "average_1, lower_1, upper_1, risk_1 = bootstrap(df_first_geo['correct'], df_first_geo['predicted'])\n",
    "print('Данные по первому региону.')\n",
    "print('Средняя прибыль для региона = {:.2f} тыс.руб.'.format(average_1/1000))\n",
    "print('95% доверительный интервал от {:.2f} до {:.2f} тыс.руб.'.format(lower_1, upper_1))\n",
    "print('Процент риска {:.2%}'.format(risk_1))"
   ]
  },
  {
   "cell_type": "code",
   "execution_count": 26,
   "metadata": {},
   "outputs": [
    {
     "name": "stdout",
     "output_type": "stream",
     "text": [
      "Данные по второму региону.\n",
      "Средняя прибыль для региона = 461155.82 тыс.руб.\n",
      "95% доверительный интервал от 78050810.75 до 862952060.26 тыс.руб.\n",
      "Процент риска 0.70%\n"
     ]
    }
   ],
   "source": [
    "average_2, lower_2, upper_2, risk_2 = bootstrap(df_second_geo['correct'], \n",
    "                                                     df_second_geo['predicted'])\n",
    "print('Данные по второму региону.')\n",
    "print('Средняя прибыль для региона = {:.2f} тыс.руб.'.format(average_2/1000))\n",
    "print('95% доверительный интервал от {:.2f} до {:.2f} тыс.руб.'.format(lower_2, upper_2))\n",
    "print('Процент риска {:.2%}'.format(risk_2))"
   ]
  },
  {
   "cell_type": "code",
   "execution_count": 27,
   "metadata": {},
   "outputs": [
    {
     "name": "stdout",
     "output_type": "stream",
     "text": [
      "Данные по второму региону.\n",
      "Средняя прибыль для региона = 392950.48 тыс.руб.\n",
      "95% доверительный интервал от -112227625.38 до 934562914.55 тыс.руб.\n",
      "Процент риска 6.50%\n"
     ]
    }
   ],
   "source": [
    "average_3, lower_3, upper_3, risk_3 = bootstrap(df_third_geo['correct'], \n",
    "                                                     df_third_geo['predicted'])\n",
    "print('Данные по второму региону.')\n",
    "print('Средняя прибыль для региона = {:.2f} тыс.руб.'.format(average_3/1000))\n",
    "print('95% доверительный интервал от {:.2f} до {:.2f} тыс.руб.'.format(lower_3, upper_3))\n",
    "print('Процент риска {:.2%}'.format(risk_3))"
   ]
  },
  {
   "cell_type": "markdown",
   "metadata": {},
   "source": [
    "Мы отсеиваем первый и третий регион, так как риски относительно велики (6.9% и 6.5%).\n",
    "Остается один единственный регион - второй. Его риск ниже требуемого (0.7%). Кроме того 95% доверительный интервал показывает, что даже при не слишком удачном выборе скважин разработка окупится."
   ]
  },
  {
   "cell_type": "markdown",
   "metadata": {},
   "source": [
    "<a id='вывод'></a>\n",
    "## Общий вывод"
   ]
  },
  {
   "cell_type": "markdown",
   "metadata": {},
   "source": [
    "**Загрузка и подготовка данных:**\n",
    "\n",
    "- Импортировали нужные библиотеки и загрузили 3 датасэта: `first_geo`, `second_geo` и `third_geo`\n",
    "- Написали функцию `detailed_df_analysis` для получения общей информации о данных.\n",
    "- Определили, что данные в порядке и готовы к дальнейшей работе:\n",
    "  - Пропущенные значения и явные дубликаты в данных не были обнаружены.\n",
    "  - Типы данных - тоже в порядке.\n",
    "  - Аномальных значений нет.\n",
    "\n",
    "**Подготовка данных для обучение модели:**\n",
    "\n",
    "- Проиндексировали выборки по id.\n",
    "- Выделили нецелевые и целевой признаки в данных.\n",
    "\n",
    "**Обучение и проверка модели**\n",
    "\n",
    "- Написали функцию для обучения модели *LinearRegression*, которая:\n",
    "  - разделяет загруженный набор данных на обучающую и валидационные выборки в соотношении 75:25;\n",
    "  - применяет стандартизацию для всех выборок по количественным признакам;\n",
    "  - обучает модель линейной регрессии;\n",
    "  - записывает предсказания модели;\n",
    "  - выводит на экран средний запас сырья в определенном регионе и среднюю квадратичную ошибку (RMSE) модели;\n",
    "- Лучше всех себя показала модель в предсказаниях на втором регионе: `RMSE - 0.893099286775617`.\n",
    "- Самое крупное значение среднего запаса сырья - в третьем регионе: `94.96504596800489`.\n",
    "\n",
    "**Подготовка к расчету прибыли**\n",
    "\n",
    "- Задали основные константы для выполнения условий исследования.\n",
    "- Рассчитали ключевые показатели для оценки прибыльности региона:\n",
    "  - Требуемая средняя прибыль на одну скважину: `50,000.0 тыс. руб`.\n",
    "  - Необходимый средний объем нефти на одну скважину для безубыточности: `111.11 тыс. баррелей`.\n",
    "  - Необходимый средний объем нефти на регион: `22,222.22 тыс. баррелей`.\n",
    "  \n",
    "**Расчет прибыли и рисков**\n",
    "\n",
    "- Создали функцию *revenue_count* для подсчета прибыли\n",
    "- Применили метод *Bootstrap*: 1000 раз создали выборки из 500 скважин и посчитали необходимые метрики.\n",
    "- Вычислили прибыль и риски для каждого региона, что позволило обосновать выбор наиболее подходящего региона. Второй регион показал один из лучших результатов по предсказаниям, однако распределение данных отличается от нормального, что вызывает сомнения в точности полученных результатов:\n",
    "  - Средняя прибыль для региона: `461,155.82 тыс. руб`.\n",
    "  - 95% доверительный интервал: от `78,050,810.75 до 862,952,060.26 тыс. руб`.\n",
    "  - `Риск убытков: 0.7%`."
   ]
  }
 ],
 "metadata": {
  "ExecuteTimeLog": [
   {
    "duration": 1802,
    "start_time": "2025-01-07T10:04:32.273Z"
   },
   {
    "duration": 1803,
    "start_time": "2025-01-07T10:10:26.621Z"
   },
   {
    "duration": 7,
    "start_time": "2025-01-07T10:14:01.848Z"
   },
   {
    "duration": 12361,
    "start_time": "2025-01-07T10:14:16.120Z"
   },
   {
    "duration": 5,
    "start_time": "2025-01-07T10:17:37.276Z"
   },
   {
    "duration": 147,
    "start_time": "2025-01-07T10:17:39.499Z"
   },
   {
    "duration": 6,
    "start_time": "2025-01-07T10:19:33.876Z"
   },
   {
    "duration": 196,
    "start_time": "2025-01-07T10:19:44.845Z"
   },
   {
    "duration": 6,
    "start_time": "2025-01-07T10:21:19.432Z"
   },
   {
    "duration": 302,
    "start_time": "2025-01-07T10:21:21.981Z"
   },
   {
    "duration": 8,
    "start_time": "2025-01-07T10:21:44.769Z"
   },
   {
    "duration": 248,
    "start_time": "2025-01-07T10:21:47.976Z"
   },
   {
    "duration": 6,
    "start_time": "2025-01-07T10:22:14.011Z"
   },
   {
    "duration": 253,
    "start_time": "2025-01-07T10:22:16.355Z"
   },
   {
    "duration": 15,
    "start_time": "2025-01-07T10:32:32.738Z"
   },
   {
    "duration": 405,
    "start_time": "2025-01-07T10:32:36.047Z"
   },
   {
    "duration": 142,
    "start_time": "2025-01-07T10:32:59.896Z"
   },
   {
    "duration": 4,
    "start_time": "2025-01-07T10:33:15.048Z"
   },
   {
    "duration": 9,
    "start_time": "2025-01-07T10:33:19.372Z"
   },
   {
    "duration": 1306,
    "start_time": "2025-01-07T10:33:23.668Z"
   },
   {
    "duration": 1281,
    "start_time": "2025-01-07T10:36:01.989Z"
   },
   {
    "duration": 1299,
    "start_time": "2025-01-07T10:36:33.270Z"
   },
   {
    "duration": 3,
    "start_time": "2025-01-07T10:53:38.368Z"
   },
   {
    "duration": 85,
    "start_time": "2025-01-07T10:54:33.737Z"
   },
   {
    "duration": 81,
    "start_time": "2025-01-07T10:54:51.311Z"
   },
   {
    "duration": 78,
    "start_time": "2025-01-07T10:55:56.507Z"
   },
   {
    "duration": 4,
    "start_time": "2025-01-07T10:58:44.205Z"
   },
   {
    "duration": 16,
    "start_time": "2025-01-07T10:59:00.572Z"
   },
   {
    "duration": 5,
    "start_time": "2025-01-07T10:59:15.438Z"
   },
   {
    "duration": 8,
    "start_time": "2025-01-07T10:59:28.768Z"
   },
   {
    "duration": 6,
    "start_time": "2025-01-07T10:59:40.560Z"
   },
   {
    "duration": 18,
    "start_time": "2025-01-07T12:25:01.911Z"
   },
   {
    "duration": 34,
    "start_time": "2025-01-07T12:26:35.599Z"
   },
   {
    "duration": 28,
    "start_time": "2025-01-07T12:26:44.316Z"
   },
   {
    "duration": 37,
    "start_time": "2025-01-07T12:26:51.456Z"
   },
   {
    "duration": 11,
    "start_time": "2025-01-07T12:28:49.025Z"
   },
   {
    "duration": 3,
    "start_time": "2025-01-07T12:29:07.101Z"
   },
   {
    "duration": 11,
    "start_time": "2025-01-08T09:36:32.717Z"
   },
   {
    "duration": 45,
    "start_time": "2025-01-08T09:44:15.342Z"
   },
   {
    "duration": 8,
    "start_time": "2025-01-08T09:44:29.665Z"
   },
   {
    "duration": 1790,
    "start_time": "2025-01-08T09:45:02.138Z"
   },
   {
    "duration": 1690,
    "start_time": "2025-01-08T09:45:03.931Z"
   },
   {
    "duration": 9,
    "start_time": "2025-01-08T09:45:05.623Z"
   },
   {
    "duration": 1312,
    "start_time": "2025-01-08T09:45:05.635Z"
   },
   {
    "duration": 1214,
    "start_time": "2025-01-08T09:45:06.949Z"
   },
   {
    "duration": 1187,
    "start_time": "2025-01-08T09:45:08.165Z"
   },
   {
    "duration": 79,
    "start_time": "2025-01-08T09:45:09.354Z"
   },
   {
    "duration": 3,
    "start_time": "2025-01-08T09:45:09.435Z"
   },
   {
    "duration": 23,
    "start_time": "2025-01-08T09:45:09.439Z"
   },
   {
    "duration": 7,
    "start_time": "2025-01-08T09:45:09.465Z"
   },
   {
    "duration": 14,
    "start_time": "2025-01-08T09:45:09.474Z"
   },
   {
    "duration": 22,
    "start_time": "2025-01-08T09:45:09.490Z"
   },
   {
    "duration": 8,
    "start_time": "2025-01-08T09:45:09.514Z"
   },
   {
    "duration": 7,
    "start_time": "2025-01-08T09:45:09.523Z"
   },
   {
    "duration": 118,
    "start_time": "2025-01-08T09:45:09.532Z"
   },
   {
    "duration": 127,
    "start_time": "2025-01-08T09:45:09.660Z"
   },
   {
    "duration": 6,
    "start_time": "2025-01-08T09:45:50.811Z"
   },
   {
    "duration": 16,
    "start_time": "2025-01-08T09:45:52.950Z"
   },
   {
    "duration": 6,
    "start_time": "2025-01-08T09:46:01.487Z"
   },
   {
    "duration": 371,
    "start_time": "2025-01-08T09:46:03.698Z"
   },
   {
    "duration": 7,
    "start_time": "2025-01-08T09:46:21.107Z"
   },
   {
    "duration": 663,
    "start_time": "2025-01-08T09:46:23.904Z"
   },
   {
    "duration": 6,
    "start_time": "2025-01-08T09:52:24.102Z"
   },
   {
    "duration": 688,
    "start_time": "2025-01-08T09:52:25.881Z"
   },
   {
    "duration": 1546,
    "start_time": "2025-01-08T09:52:43.173Z"
   },
   {
    "duration": 427,
    "start_time": "2025-01-08T09:52:44.721Z"
   },
   {
    "duration": 10,
    "start_time": "2025-01-08T09:52:45.150Z"
   },
   {
    "duration": 1212,
    "start_time": "2025-01-08T09:52:45.163Z"
   },
   {
    "duration": 1289,
    "start_time": "2025-01-08T09:52:46.378Z"
   },
   {
    "duration": 1185,
    "start_time": "2025-01-08T09:52:47.670Z"
   },
   {
    "duration": 81,
    "start_time": "2025-01-08T09:52:48.859Z"
   },
   {
    "duration": 18,
    "start_time": "2025-01-08T09:52:48.942Z"
   },
   {
    "duration": 7,
    "start_time": "2025-01-08T09:52:48.962Z"
   },
   {
    "duration": 8,
    "start_time": "2025-01-08T09:52:48.972Z"
   },
   {
    "duration": 6,
    "start_time": "2025-01-08T09:52:48.982Z"
   },
   {
    "duration": 22,
    "start_time": "2025-01-08T09:52:48.990Z"
   },
   {
    "duration": 47,
    "start_time": "2025-01-08T09:52:49.014Z"
   },
   {
    "duration": 10,
    "start_time": "2025-01-08T09:52:49.063Z"
   },
   {
    "duration": 103,
    "start_time": "2025-01-08T09:52:49.074Z"
   },
   {
    "duration": 789,
    "start_time": "2025-01-08T09:52:49.180Z"
   },
   {
    "duration": 3,
    "start_time": "2025-01-08T09:54:56.380Z"
   },
   {
    "duration": 9,
    "start_time": "2025-01-08T09:55:05.171Z"
   },
   {
    "duration": 675,
    "start_time": "2025-01-08T09:55:07.389Z"
   },
   {
    "duration": 11,
    "start_time": "2025-01-08T09:56:53.706Z"
   },
   {
    "duration": 4,
    "start_time": "2025-01-08T10:00:59.998Z"
   },
   {
    "duration": 4,
    "start_time": "2025-01-08T10:02:47.055Z"
   },
   {
    "duration": 3,
    "start_time": "2025-01-08T10:27:21.321Z"
   },
   {
    "duration": 6,
    "start_time": "2025-01-08T10:33:19.914Z"
   },
   {
    "duration": 6145,
    "start_time": "2025-01-08T10:33:55.240Z"
   },
   {
    "duration": 1578,
    "start_time": "2025-01-08T10:34:35.187Z"
   },
   {
    "duration": 2,
    "start_time": "2025-01-08T10:34:36.768Z"
   },
   {
    "duration": 501,
    "start_time": "2025-01-08T10:34:36.772Z"
   },
   {
    "duration": 9,
    "start_time": "2025-01-08T10:34:37.276Z"
   },
   {
    "duration": 1303,
    "start_time": "2025-01-08T10:34:37.287Z"
   },
   {
    "duration": 1204,
    "start_time": "2025-01-08T10:34:38.592Z"
   },
   {
    "duration": 1189,
    "start_time": "2025-01-08T10:34:39.798Z"
   },
   {
    "duration": 95,
    "start_time": "2025-01-08T10:34:40.989Z"
   },
   {
    "duration": 4,
    "start_time": "2025-01-08T10:34:41.085Z"
   },
   {
    "duration": 8,
    "start_time": "2025-01-08T10:34:41.092Z"
   },
   {
    "duration": 18,
    "start_time": "2025-01-08T10:34:41.102Z"
   },
   {
    "duration": 16,
    "start_time": "2025-01-08T10:34:41.122Z"
   },
   {
    "duration": 41,
    "start_time": "2025-01-08T10:34:41.140Z"
   },
   {
    "duration": 7,
    "start_time": "2025-01-08T10:34:41.183Z"
   },
   {
    "duration": 12,
    "start_time": "2025-01-08T10:34:41.191Z"
   },
   {
    "duration": 103,
    "start_time": "2025-01-08T10:34:41.205Z"
   },
   {
    "duration": 757,
    "start_time": "2025-01-08T10:34:41.310Z"
   },
   {
    "duration": 17,
    "start_time": "2025-01-08T10:34:42.069Z"
   },
   {
    "duration": 12,
    "start_time": "2025-01-08T10:34:42.088Z"
   },
   {
    "duration": 7,
    "start_time": "2025-01-08T10:34:42.102Z"
   },
   {
    "duration": 7,
    "start_time": "2025-01-08T10:34:42.110Z"
   },
   {
    "duration": 8,
    "start_time": "2025-01-08T10:34:42.118Z"
   },
   {
    "duration": 6145,
    "start_time": "2025-01-08T10:34:42.128Z"
   },
   {
    "duration": 1575,
    "start_time": "2025-01-08T10:35:51.017Z"
   },
   {
    "duration": 2,
    "start_time": "2025-01-08T10:35:52.594Z"
   },
   {
    "duration": 504,
    "start_time": "2025-01-08T10:35:52.598Z"
   },
   {
    "duration": 9,
    "start_time": "2025-01-08T10:35:53.104Z"
   },
   {
    "duration": 2265,
    "start_time": "2025-01-08T10:35:53.114Z"
   },
   {
    "duration": 1213,
    "start_time": "2025-01-08T10:35:55.381Z"
   },
   {
    "duration": 1292,
    "start_time": "2025-01-08T10:35:56.595Z"
   },
   {
    "duration": 114,
    "start_time": "2025-01-08T10:35:57.889Z"
   },
   {
    "duration": 4,
    "start_time": "2025-01-08T10:35:58.005Z"
   },
   {
    "duration": 7,
    "start_time": "2025-01-08T10:35:58.011Z"
   },
   {
    "duration": 6,
    "start_time": "2025-01-08T10:35:58.020Z"
   },
   {
    "duration": 41,
    "start_time": "2025-01-08T10:35:58.028Z"
   },
   {
    "duration": 27,
    "start_time": "2025-01-08T10:35:58.072Z"
   },
   {
    "duration": 7,
    "start_time": "2025-01-08T10:35:58.101Z"
   },
   {
    "duration": 13,
    "start_time": "2025-01-08T10:35:58.110Z"
   },
   {
    "duration": 109,
    "start_time": "2025-01-08T10:35:58.124Z"
   },
   {
    "duration": 642,
    "start_time": "2025-01-08T10:35:58.235Z"
   },
   {
    "duration": 13,
    "start_time": "2025-01-08T10:35:58.880Z"
   },
   {
    "duration": 3,
    "start_time": "2025-01-08T10:35:58.895Z"
   },
   {
    "duration": 64,
    "start_time": "2025-01-08T10:35:58.900Z"
   },
   {
    "duration": 16,
    "start_time": "2025-01-08T10:35:58.966Z"
   },
   {
    "duration": 6,
    "start_time": "2025-01-08T10:35:58.985Z"
   },
   {
    "duration": 6327,
    "start_time": "2025-01-08T10:35:58.992Z"
   },
   {
    "duration": 8,
    "start_time": "2025-01-08T10:48:36.519Z"
   },
   {
    "duration": 132,
    "start_time": "2025-01-08T10:52:22.372Z"
   },
   {
    "duration": 4,
    "start_time": "2025-01-08T10:52:26.995Z"
   },
   {
    "duration": 5,
    "start_time": "2025-01-08T10:52:28.796Z"
   },
   {
    "duration": 4,
    "start_time": "2025-01-08T10:57:32.981Z"
   },
   {
    "duration": 12,
    "start_time": "2025-01-08T10:58:27.144Z"
   },
   {
    "duration": 1380,
    "start_time": "2025-01-08T10:59:20.615Z"
   },
   {
    "duration": 1173,
    "start_time": "2025-01-08T10:59:48.280Z"
   },
   {
    "duration": 1603,
    "start_time": "2025-01-08T11:08:01.628Z"
   },
   {
    "duration": 2,
    "start_time": "2025-01-08T11:08:03.234Z"
   },
   {
    "duration": 472,
    "start_time": "2025-01-08T11:08:03.239Z"
   },
   {
    "duration": 8,
    "start_time": "2025-01-08T11:08:03.714Z"
   },
   {
    "duration": 22,
    "start_time": "2025-01-08T11:08:03.723Z"
   },
   {
    "duration": 1217,
    "start_time": "2025-01-08T11:08:03.747Z"
   },
   {
    "duration": 1196,
    "start_time": "2025-01-08T11:08:04.965Z"
   },
   {
    "duration": 1192,
    "start_time": "2025-01-08T11:08:06.162Z"
   },
   {
    "duration": 3,
    "start_time": "2025-01-08T11:08:07.360Z"
   },
   {
    "duration": 22,
    "start_time": "2025-01-08T11:08:07.365Z"
   },
   {
    "duration": 12,
    "start_time": "2025-01-08T11:08:07.389Z"
   },
   {
    "duration": 12,
    "start_time": "2025-01-08T11:08:07.403Z"
   },
   {
    "duration": 7,
    "start_time": "2025-01-08T11:08:07.416Z"
   },
   {
    "duration": 23,
    "start_time": "2025-01-08T11:08:07.425Z"
   },
   {
    "duration": 14,
    "start_time": "2025-01-08T11:08:07.459Z"
   },
   {
    "duration": 7,
    "start_time": "2025-01-08T11:08:07.475Z"
   },
   {
    "duration": 109,
    "start_time": "2025-01-08T11:08:07.483Z"
   },
   {
    "duration": 670,
    "start_time": "2025-01-08T11:08:07.594Z"
   },
   {
    "duration": 11,
    "start_time": "2025-01-08T11:08:08.266Z"
   },
   {
    "duration": 40,
    "start_time": "2025-01-08T11:08:08.278Z"
   },
   {
    "duration": 4,
    "start_time": "2025-01-08T11:08:08.320Z"
   },
   {
    "duration": 13,
    "start_time": "2025-01-08T11:08:08.326Z"
   },
   {
    "duration": 1037,
    "start_time": "2025-01-08T11:08:08.341Z"
   },
   {
    "duration": 3,
    "start_time": "2025-01-08T11:08:09.380Z"
   },
   {
    "duration": 18,
    "start_time": "2025-01-08T11:08:09.385Z"
   },
   {
    "duration": 119,
    "start_time": "2025-01-08T11:08:09.404Z"
   },
   {
    "duration": 3,
    "start_time": "2025-01-08T11:10:54.122Z"
   },
   {
    "duration": 6,
    "start_time": "2025-01-08T11:12:12.133Z"
   },
   {
    "duration": 8357,
    "start_time": "2025-01-08T11:12:29.946Z"
   },
   {
    "duration": 3,
    "start_time": "2025-01-08T11:15:28.582Z"
   },
   {
    "duration": 4,
    "start_time": "2025-01-08T11:19:50.755Z"
   },
   {
    "duration": 5,
    "start_time": "2025-01-08T11:19:52.561Z"
   },
   {
    "duration": 24,
    "start_time": "2025-01-08T11:21:45.598Z"
   },
   {
    "duration": 4,
    "start_time": "2025-01-08T11:21:58.210Z"
   },
   {
    "duration": 7,
    "start_time": "2025-01-08T11:21:59.580Z"
   },
   {
    "duration": 43,
    "start_time": "2025-01-08T11:22:01.872Z"
   },
   {
    "duration": 26,
    "start_time": "2025-01-08T11:24:56.914Z"
   },
   {
    "duration": 5,
    "start_time": "2025-01-08T11:26:23.786Z"
   },
   {
    "duration": 6,
    "start_time": "2025-01-08T11:26:25.501Z"
   },
   {
    "duration": 7176,
    "start_time": "2025-01-08T11:26:28.067Z"
   },
   {
    "duration": 5,
    "start_time": "2025-01-08T11:27:55.917Z"
   },
   {
    "duration": 7462,
    "start_time": "2025-01-08T11:28:00.366Z"
   },
   {
    "duration": 5,
    "start_time": "2025-01-08T11:28:29.132Z"
   },
   {
    "duration": 7507,
    "start_time": "2025-01-08T11:28:30.808Z"
   },
   {
    "duration": 4,
    "start_time": "2025-01-08T11:37:27.480Z"
   },
   {
    "duration": 4,
    "start_time": "2025-01-08T11:37:30.170Z"
   },
   {
    "duration": 5,
    "start_time": "2025-01-08T11:37:32.829Z"
   },
   {
    "duration": 8360,
    "start_time": "2025-01-08T11:37:34.654Z"
   },
   {
    "duration": 12,
    "start_time": "2025-01-08T11:40:09.723Z"
   },
   {
    "duration": 8295,
    "start_time": "2025-01-08T11:40:20.019Z"
   },
   {
    "duration": 14,
    "start_time": "2025-01-08T11:50:38.768Z"
   },
   {
    "duration": 10,
    "start_time": "2025-01-08T11:58:43.354Z"
   },
   {
    "duration": 8480,
    "start_time": "2025-01-08T11:58:45.896Z"
   },
   {
    "duration": 14,
    "start_time": "2025-01-08T12:00:26.839Z"
   },
   {
    "duration": 1993,
    "start_time": "2025-01-08T12:00:36.719Z"
   },
   {
    "duration": 1927,
    "start_time": "2025-01-08T12:01:22.276Z"
   },
   {
    "duration": 1713,
    "start_time": "2025-01-08T12:02:04.432Z"
   },
   {
    "duration": 500,
    "start_time": "2025-01-08T12:02:06.147Z"
   },
   {
    "duration": 18,
    "start_time": "2025-01-08T12:02:06.649Z"
   },
   {
    "duration": 36,
    "start_time": "2025-01-08T12:02:06.670Z"
   },
   {
    "duration": 1326,
    "start_time": "2025-01-08T12:02:06.709Z"
   },
   {
    "duration": 1252,
    "start_time": "2025-01-08T12:02:08.037Z"
   },
   {
    "duration": 1300,
    "start_time": "2025-01-08T12:02:09.291Z"
   },
   {
    "duration": 3,
    "start_time": "2025-01-08T12:02:10.592Z"
   },
   {
    "duration": 14,
    "start_time": "2025-01-08T12:02:10.597Z"
   },
   {
    "duration": 23,
    "start_time": "2025-01-08T12:02:10.613Z"
   },
   {
    "duration": 8,
    "start_time": "2025-01-08T12:02:10.638Z"
   },
   {
    "duration": 6,
    "start_time": "2025-01-08T12:02:10.647Z"
   },
   {
    "duration": 34,
    "start_time": "2025-01-08T12:02:10.659Z"
   },
   {
    "duration": 12,
    "start_time": "2025-01-08T12:02:10.696Z"
   },
   {
    "duration": 12,
    "start_time": "2025-01-08T12:02:10.711Z"
   },
   {
    "duration": 136,
    "start_time": "2025-01-08T12:02:10.725Z"
   },
   {
    "duration": 709,
    "start_time": "2025-01-08T12:02:10.866Z"
   },
   {
    "duration": 13,
    "start_time": "2025-01-08T12:02:11.579Z"
   },
   {
    "duration": 77,
    "start_time": "2025-01-08T12:02:11.594Z"
   },
   {
    "duration": 9,
    "start_time": "2025-01-08T12:02:11.685Z"
   },
   {
    "duration": 12,
    "start_time": "2025-01-08T12:02:11.696Z"
   },
   {
    "duration": 1182,
    "start_time": "2025-01-08T12:02:11.710Z"
   },
   {
    "duration": 3,
    "start_time": "2025-01-08T12:02:12.894Z"
   },
   {
    "duration": 7,
    "start_time": "2025-01-08T12:02:12.899Z"
   },
   {
    "duration": 7741,
    "start_time": "2025-01-08T12:02:12.908Z"
   },
   {
    "duration": 1937,
    "start_time": "2025-01-08T12:02:20.651Z"
   },
   {
    "duration": 2021,
    "start_time": "2025-01-08T12:02:22.589Z"
   },
   {
    "duration": 62,
    "start_time": "2025-01-08T12:04:16.211Z"
   }
  ],
  "kernelspec": {
   "display_name": "Python 3 (ipykernel)",
   "language": "python",
   "name": "python3"
  },
  "language_info": {
   "codemirror_mode": {
    "name": "ipython",
    "version": 3
   },
   "file_extension": ".py",
   "mimetype": "text/x-python",
   "name": "python",
   "nbconvert_exporter": "python",
   "pygments_lexer": "ipython3",
   "version": "3.12.4"
  },
  "toc": {
   "base_numbering": 1,
   "nav_menu": {},
   "number_sections": true,
   "sideBar": true,
   "skip_h1_title": true,
   "title_cell": "Table of Contents",
   "title_sidebar": "Contents",
   "toc_cell": false,
   "toc_position": {
    "height": "calc(100% - 180px)",
    "left": "10px",
    "top": "150px",
    "width": "315.014px"
   },
   "toc_section_display": true,
   "toc_window_display": true
  }
 },
 "nbformat": 4,
 "nbformat_minor": 4
}
