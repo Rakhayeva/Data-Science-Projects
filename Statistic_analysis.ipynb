{
 "cells": [
  {
   "cell_type": "markdown",
   "id": "51c2aefd",
   "metadata": {},
   "source": [
    "**Проект: Статистический анализ данных**"
   ]
  },
  {
   "cell_type": "markdown",
   "id": "e627351f",
   "metadata": {},
   "source": []
  },
  {
   "cell_type": "markdown",
   "id": "17690233",
   "metadata": {},
   "source": []
  },
  {
   "cell_type": "markdown",
   "id": "57149a71",
   "metadata": {},
   "source": [
    "**Описание проекта**\n",
    "\n",
    "В нашем распоряжении данные о пользователях популярного сервиса аренды самокатов GoFast. Нам необходимо проанализировать данные о поездках, пользователях и подписках, чтобы выявить ключевые тренды и проверить несколько гипотез, которые помогут бизнесу расти.\n",
    "\n",
    "**Цель исследования:**\n",
    "\n",
    "- Изучить поведение пользователей: Анализируя данные о поездках, понять, как часто и как долго пользователи пользуются сервисом, какие расстояния преодолевают и т.д.\n",
    "- Сравнить пользователей с разными типами подписки: Оценить, как отличаются пользователи с подпиской и без нее по различным параметрам (частота поездок, продолжительность, расстояния).\n",
    "- Оценить эффективность подписки Ultra: Проверить гипотезы о том, приносят ли пользователи с подпиской больше выручки, чаще ли они пользуются сервисом и т.д.\n",
    "- Выявить оптимальные параметры поездок: Определить, какое расстояние является оптимальным с точки зрения износа самокатов.\n",
    "- Предложить рекомендации для улучшения сервиса: На основе полученных результатов сформулировать рекомендации для команды продукта, например, по оптимизации тарифов, проведению маркетинговых акций и т.д.\n",
    "\n",
    "**Ход исследования**\n",
    "\n",
    "Данные о пользователях и поездках вы получите из файлов:\n",
    "- /datasets/users_go.csv\n",
    "- /datasets/rides_go.csv\n",
    "- /datasets/subscriptions_go.csv\n",
    "\n",
    "**Исследование пройдет в несколько этапов:**\n",
    "\n",
    "- Загрузка данных: Считать данные из CSV-файлов в датафреймы Pandas.\n",
    "- Предобработка данных: Привести данные к удобному для анализа формату, обработать пропуски и дубликаты.\n",
    "- Исследовательский анализ данных: Построить описательные статистики, визуализировать данные, чтобы получить общее представление о пользователях и их поведении.\n",
    "- Объединение данных: Объединить данные о пользователях, поездках и подписках в один датафрейм для дальнейшего анализа.\n",
    "- Подсчет выручки: Рассчитать выручку для каждого пользователя и за каждый месяц.\n",
    "- Проверка гипотез: Провести статистические тесты для проверки сформулированных гипотез.\n",
    "- Формулирование выводов и рекомендаций: На основе полученных результатов сформулировать выводы о поведении пользователей и дать рекомендации для улучшения сервиса."
   ]
  },
  {
   "cell_type": "code",
   "execution_count": 1,
   "id": "72576667",
   "metadata": {},
   "outputs": [],
   "source": [
    "import pandas as pd\n",
    "import numpy as np\n",
    "import seaborn as sns\n",
    "import matplotlib.pyplot as plt\n",
    "from scipy import stats"
   ]
  },
  {
   "cell_type": "markdown",
   "id": "c42cbe00",
   "metadata": {},
   "source": [
    "#### Шаг 1. Загрузка данных"
   ]
  },
  {
   "cell_type": "code",
   "execution_count": 2,
   "id": "eff9f206",
   "metadata": {},
   "outputs": [
    {
     "data": {
      "text/html": [
       "<div>\n",
       "<style scoped>\n",
       "    .dataframe tbody tr th:only-of-type {\n",
       "        vertical-align: middle;\n",
       "    }\n",
       "\n",
       "    .dataframe tbody tr th {\n",
       "        vertical-align: top;\n",
       "    }\n",
       "\n",
       "    .dataframe thead th {\n",
       "        text-align: right;\n",
       "    }\n",
       "</style>\n",
       "<table border=\"1\" class=\"dataframe\">\n",
       "  <thead>\n",
       "    <tr style=\"text-align: right;\">\n",
       "      <th></th>\n",
       "      <th>user_id</th>\n",
       "      <th>name</th>\n",
       "      <th>age</th>\n",
       "      <th>city</th>\n",
       "      <th>subscription_type</th>\n",
       "    </tr>\n",
       "  </thead>\n",
       "  <tbody>\n",
       "    <tr>\n",
       "      <th>0</th>\n",
       "      <td>1</td>\n",
       "      <td>Кира</td>\n",
       "      <td>22</td>\n",
       "      <td>Тюмень</td>\n",
       "      <td>ultra</td>\n",
       "    </tr>\n",
       "    <tr>\n",
       "      <th>1</th>\n",
       "      <td>2</td>\n",
       "      <td>Станислав</td>\n",
       "      <td>31</td>\n",
       "      <td>Омск</td>\n",
       "      <td>ultra</td>\n",
       "    </tr>\n",
       "    <tr>\n",
       "      <th>2</th>\n",
       "      <td>3</td>\n",
       "      <td>Алексей</td>\n",
       "      <td>20</td>\n",
       "      <td>Москва</td>\n",
       "      <td>ultra</td>\n",
       "    </tr>\n",
       "    <tr>\n",
       "      <th>3</th>\n",
       "      <td>4</td>\n",
       "      <td>Константин</td>\n",
       "      <td>26</td>\n",
       "      <td>Ростов-на-Дону</td>\n",
       "      <td>ultra</td>\n",
       "    </tr>\n",
       "    <tr>\n",
       "      <th>4</th>\n",
       "      <td>5</td>\n",
       "      <td>Адель</td>\n",
       "      <td>28</td>\n",
       "      <td>Омск</td>\n",
       "      <td>ultra</td>\n",
       "    </tr>\n",
       "  </tbody>\n",
       "</table>\n",
       "</div>"
      ],
      "text/plain": [
       "   user_id        name  age            city subscription_type\n",
       "0        1        Кира   22          Тюмень             ultra\n",
       "1        2   Станислав   31            Омск             ultra\n",
       "2        3     Алексей   20          Москва             ultra\n",
       "3        4  Константин   26  Ростов-на-Дону             ultra\n",
       "4        5       Адель   28            Омск             ultra"
      ]
     },
     "execution_count": 2,
     "metadata": {},
     "output_type": "execute_result"
    }
   ],
   "source": [
    "# Загрузка данных\n",
    "users = pd.read_csv('/datasets/users_go.csv')\n",
    "rides = pd.read_csv('/datasets/rides_go.csv')\n",
    "subscriptions = pd.read_csv('/datasets/subscriptions_go.csv')\n",
    "\n",
    "# Просмотр первых строк таблицы users\n",
    "users.head()"
   ]
  },
  {
   "cell_type": "code",
   "execution_count": 3,
   "id": "25aabb39",
   "metadata": {},
   "outputs": [
    {
     "name": "stdout",
     "output_type": "stream",
     "text": [
      "<class 'pandas.core.frame.DataFrame'>\n",
      "RangeIndex: 1565 entries, 0 to 1564\n",
      "Data columns (total 5 columns):\n",
      " #   Column             Non-Null Count  Dtype \n",
      "---  ------             --------------  ----- \n",
      " 0   user_id            1565 non-null   int64 \n",
      " 1   name               1565 non-null   object\n",
      " 2   age                1565 non-null   int64 \n",
      " 3   city               1565 non-null   object\n",
      " 4   subscription_type  1565 non-null   object\n",
      "dtypes: int64(2), object(3)\n",
      "memory usage: 61.3+ KB\n"
     ]
    }
   ],
   "source": [
    "# Информация о данных users\n",
    "users.info()"
   ]
  },
  {
   "cell_type": "markdown",
   "id": "0726180b",
   "metadata": {},
   "source": [
    "Таблица `users` содержит информацию о пользователях сервиса. Всего 1565 записей. Она включает:\n",
    "- `user_id` - идентификатор пользователя.\n",
    "- `name` - имя.\n",
    "- `age` - возраст.\n",
    "- `city` - город проживания.\n",
    "- `subscription_type` - тип подписки `ultra` и `free`."
   ]
  },
  {
   "cell_type": "code",
   "execution_count": 4,
   "id": "215c2793",
   "metadata": {},
   "outputs": [
    {
     "data": {
      "text/html": [
       "<div>\n",
       "<style scoped>\n",
       "    .dataframe tbody tr th:only-of-type {\n",
       "        vertical-align: middle;\n",
       "    }\n",
       "\n",
       "    .dataframe tbody tr th {\n",
       "        vertical-align: top;\n",
       "    }\n",
       "\n",
       "    .dataframe thead th {\n",
       "        text-align: right;\n",
       "    }\n",
       "</style>\n",
       "<table border=\"1\" class=\"dataframe\">\n",
       "  <thead>\n",
       "    <tr style=\"text-align: right;\">\n",
       "      <th></th>\n",
       "      <th>user_id</th>\n",
       "      <th>distance</th>\n",
       "      <th>duration</th>\n",
       "      <th>date</th>\n",
       "    </tr>\n",
       "  </thead>\n",
       "  <tbody>\n",
       "    <tr>\n",
       "      <th>0</th>\n",
       "      <td>1</td>\n",
       "      <td>4409.919140</td>\n",
       "      <td>25.599769</td>\n",
       "      <td>2021-01-01</td>\n",
       "    </tr>\n",
       "    <tr>\n",
       "      <th>1</th>\n",
       "      <td>1</td>\n",
       "      <td>2617.592153</td>\n",
       "      <td>15.816871</td>\n",
       "      <td>2021-01-18</td>\n",
       "    </tr>\n",
       "    <tr>\n",
       "      <th>2</th>\n",
       "      <td>1</td>\n",
       "      <td>754.159807</td>\n",
       "      <td>6.232113</td>\n",
       "      <td>2021-04-20</td>\n",
       "    </tr>\n",
       "    <tr>\n",
       "      <th>3</th>\n",
       "      <td>1</td>\n",
       "      <td>2694.783254</td>\n",
       "      <td>18.511000</td>\n",
       "      <td>2021-08-11</td>\n",
       "    </tr>\n",
       "    <tr>\n",
       "      <th>4</th>\n",
       "      <td>1</td>\n",
       "      <td>4028.687306</td>\n",
       "      <td>26.265803</td>\n",
       "      <td>2021-08-28</td>\n",
       "    </tr>\n",
       "  </tbody>\n",
       "</table>\n",
       "</div>"
      ],
      "text/plain": [
       "   user_id     distance   duration        date\n",
       "0        1  4409.919140  25.599769  2021-01-01\n",
       "1        1  2617.592153  15.816871  2021-01-18\n",
       "2        1   754.159807   6.232113  2021-04-20\n",
       "3        1  2694.783254  18.511000  2021-08-11\n",
       "4        1  4028.687306  26.265803  2021-08-28"
      ]
     },
     "execution_count": 4,
     "metadata": {},
     "output_type": "execute_result"
    }
   ],
   "source": [
    "# Просмотр первых строк таблицы rides\n",
    "rides.head()"
   ]
  },
  {
   "cell_type": "code",
   "execution_count": 5,
   "id": "aad8375a",
   "metadata": {},
   "outputs": [
    {
     "name": "stdout",
     "output_type": "stream",
     "text": [
      "<class 'pandas.core.frame.DataFrame'>\n",
      "RangeIndex: 18068 entries, 0 to 18067\n",
      "Data columns (total 4 columns):\n",
      " #   Column    Non-Null Count  Dtype  \n",
      "---  ------    --------------  -----  \n",
      " 0   user_id   18068 non-null  int64  \n",
      " 1   distance  18068 non-null  float64\n",
      " 2   duration  18068 non-null  float64\n",
      " 3   date      18068 non-null  object \n",
      "dtypes: float64(2), int64(1), object(1)\n",
      "memory usage: 564.8+ KB\n"
     ]
    }
   ],
   "source": [
    "# Информация о данных rides\n",
    "rides.info()"
   ]
  },
  {
   "cell_type": "markdown",
   "id": "26dbeed2",
   "metadata": {},
   "source": [
    "Таблица `rides` содержит данные о поездках пользователей. Всего 18068 записей. Включает:\n",
    "- `user_id` - уникальный идентификатор пользователя.\n",
    "- `distance` - дистанцию.\n",
    "- `duration` - продолжительность поездки.\n",
    "- `date` -  дату.\n",
    "\n",
    "Столбец `date` принадлежит к классу `object`, вместо `datetime64`. Исправим на следущем этапе."
   ]
  },
  {
   "cell_type": "code",
   "execution_count": 6,
   "id": "3d18b052",
   "metadata": {},
   "outputs": [
    {
     "data": {
      "text/html": [
       "<div>\n",
       "<style scoped>\n",
       "    .dataframe tbody tr th:only-of-type {\n",
       "        vertical-align: middle;\n",
       "    }\n",
       "\n",
       "    .dataframe tbody tr th {\n",
       "        vertical-align: top;\n",
       "    }\n",
       "\n",
       "    .dataframe thead th {\n",
       "        text-align: right;\n",
       "    }\n",
       "</style>\n",
       "<table border=\"1\" class=\"dataframe\">\n",
       "  <thead>\n",
       "    <tr style=\"text-align: right;\">\n",
       "      <th></th>\n",
       "      <th>subscription_type</th>\n",
       "      <th>minute_price</th>\n",
       "      <th>start_ride_price</th>\n",
       "      <th>subscription_fee</th>\n",
       "    </tr>\n",
       "  </thead>\n",
       "  <tbody>\n",
       "    <tr>\n",
       "      <th>0</th>\n",
       "      <td>free</td>\n",
       "      <td>8</td>\n",
       "      <td>50</td>\n",
       "      <td>0</td>\n",
       "    </tr>\n",
       "    <tr>\n",
       "      <th>1</th>\n",
       "      <td>ultra</td>\n",
       "      <td>6</td>\n",
       "      <td>0</td>\n",
       "      <td>199</td>\n",
       "    </tr>\n",
       "  </tbody>\n",
       "</table>\n",
       "</div>"
      ],
      "text/plain": [
       "  subscription_type  minute_price  start_ride_price  subscription_fee\n",
       "0              free             8                50                 0\n",
       "1             ultra             6                 0               199"
      ]
     },
     "execution_count": 6,
     "metadata": {},
     "output_type": "execute_result"
    }
   ],
   "source": [
    "# Просмотр первых строк таблицы subscriptions\n",
    "subscriptions.head()"
   ]
  },
  {
   "cell_type": "code",
   "execution_count": 7,
   "id": "5c6ebaff",
   "metadata": {},
   "outputs": [
    {
     "name": "stdout",
     "output_type": "stream",
     "text": [
      "<class 'pandas.core.frame.DataFrame'>\n",
      "RangeIndex: 2 entries, 0 to 1\n",
      "Data columns (total 4 columns):\n",
      " #   Column             Non-Null Count  Dtype \n",
      "---  ------             --------------  ----- \n",
      " 0   subscription_type  2 non-null      object\n",
      " 1   minute_price       2 non-null      int64 \n",
      " 2   start_ride_price   2 non-null      int64 \n",
      " 3   subscription_fee   2 non-null      int64 \n",
      "dtypes: int64(3), object(1)\n",
      "memory usage: 192.0+ bytes\n"
     ]
    }
   ],
   "source": [
    "# Информация о данных subscriptions\n",
    "subscriptions.info()"
   ]
  },
  {
   "cell_type": "markdown",
   "id": "fd2017a2",
   "metadata": {},
   "source": [
    "Таблица subscriptions содержит информацию о типах подписок: \n",
    "- `subscription_type` -  два типа подписки: бесплатная и ultra.\n",
    "- `minute_price` - стоимость за минут.\n",
    "- `start_ride_price` - стоимость начала поездки.\n",
    "- `subscription_fee` - ежемесячная плата. "
   ]
  },
  {
   "cell_type": "markdown",
   "id": "e95ebca7",
   "metadata": {},
   "source": [
    "#### Шаг 2. Предобработка данных"
   ]
  },
  {
   "cell_type": "markdown",
   "id": "92b26bcb",
   "metadata": {},
   "source": [
    "**2.1 Столбец `date` к типу даты pandas**"
   ]
  },
  {
   "cell_type": "code",
   "execution_count": 8,
   "id": "af6d202c",
   "metadata": {},
   "outputs": [],
   "source": [
    "rides['date'] = pd.to_datetime(rides['date'], format='%Y-%m-%d')"
   ]
  },
  {
   "cell_type": "markdown",
   "id": "fbcfce14",
   "metadata": {},
   "source": [
    "**2.2 Новый столбец с номером месяца на основе столбца `date`**"
   ]
  },
  {
   "cell_type": "code",
   "execution_count": 9,
   "id": "15c72af3",
   "metadata": {
    "scrolled": true
   },
   "outputs": [
    {
     "name": "stdout",
     "output_type": "stream",
     "text": [
      "<class 'pandas.core.frame.DataFrame'>\n",
      "RangeIndex: 18068 entries, 0 to 18067\n",
      "Data columns (total 5 columns):\n",
      " #   Column    Non-Null Count  Dtype         \n",
      "---  ------    --------------  -----         \n",
      " 0   user_id   18068 non-null  int64         \n",
      " 1   distance  18068 non-null  float64       \n",
      " 2   duration  18068 non-null  float64       \n",
      " 3   date      18068 non-null  datetime64[ns]\n",
      " 4   month     18068 non-null  int64         \n",
      "dtypes: datetime64[ns](1), float64(2), int64(2)\n",
      "memory usage: 705.9 KB\n"
     ]
    }
   ],
   "source": [
    "rides['month'] = rides['date'].dt.month\n",
    "rides.info()"
   ]
  },
  {
   "cell_type": "code",
   "execution_count": 10,
   "id": "2450c32a",
   "metadata": {},
   "outputs": [
    {
     "data": {
      "text/plain": [
       "(Timestamp('2021-01-01 00:00:00'), Timestamp('2021-12-30 00:00:00'))"
      ]
     },
     "execution_count": 10,
     "metadata": {},
     "output_type": "execute_result"
    }
   ],
   "source": [
    "# Проверим период данных\n",
    "min_date = rides['date'].min()\n",
    "max_date = rides['date'].max()\n",
    "\n",
    "min_date, max_date"
   ]
  },
  {
   "cell_type": "markdown",
   "id": "105370e8",
   "metadata": {},
   "source": [
    "Данные за один год. А теперь проверим аномалии в продолжительности поездок:"
   ]
  },
  {
   "cell_type": "code",
   "execution_count": 11,
   "id": "727a5be3",
   "metadata": {},
   "outputs": [
    {
     "data": {
      "text/plain": [
       "count    18068.000000\n",
       "mean        17.805011\n",
       "std          6.091051\n",
       "min          0.500000\n",
       "25%         13.597563\n",
       "50%         17.678395\n",
       "75%         21.724800\n",
       "max         40.823963\n",
       "Name: duration, dtype: float64"
      ]
     },
     "execution_count": 11,
     "metadata": {},
     "output_type": "execute_result"
    }
   ],
   "source": [
    "# Общая статистика по продолжительности поездок\n",
    "rides['duration'].describe()"
   ]
  },
  {
   "cell_type": "code",
   "execution_count": 12,
   "id": "31856a5a",
   "metadata": {},
   "outputs": [
    {
     "data": {
      "text/html": [
       "<div>\n",
       "<style scoped>\n",
       "    .dataframe tbody tr th:only-of-type {\n",
       "        vertical-align: middle;\n",
       "    }\n",
       "\n",
       "    .dataframe tbody tr th {\n",
       "        vertical-align: top;\n",
       "    }\n",
       "\n",
       "    .dataframe thead th {\n",
       "        text-align: right;\n",
       "    }\n",
       "</style>\n",
       "<table border=\"1\" class=\"dataframe\">\n",
       "  <thead>\n",
       "    <tr style=\"text-align: right;\">\n",
       "      <th></th>\n",
       "      <th>user_id</th>\n",
       "      <th>distance</th>\n",
       "      <th>duration</th>\n",
       "      <th>date</th>\n",
       "      <th>month</th>\n",
       "    </tr>\n",
       "  </thead>\n",
       "  <tbody>\n",
       "  </tbody>\n",
       "</table>\n",
       "</div>"
      ],
      "text/plain": [
       "Empty DataFrame\n",
       "Columns: [user_id, distance, duration, date, month]\n",
       "Index: []"
      ]
     },
     "execution_count": 12,
     "metadata": {},
     "output_type": "execute_result"
    }
   ],
   "source": [
    "# Проверка на наличие аномально коротких поездок (например, продолжительность = 0)\n",
    "rides[rides['duration'] == 0]"
   ]
  },
  {
   "cell_type": "code",
   "execution_count": 13,
   "id": "d4ea7a31",
   "metadata": {},
   "outputs": [
    {
     "data": {
      "text/html": [
       "<div>\n",
       "<style scoped>\n",
       "    .dataframe tbody tr th:only-of-type {\n",
       "        vertical-align: middle;\n",
       "    }\n",
       "\n",
       "    .dataframe tbody tr th {\n",
       "        vertical-align: top;\n",
       "    }\n",
       "\n",
       "    .dataframe thead th {\n",
       "        text-align: right;\n",
       "    }\n",
       "</style>\n",
       "<table border=\"1\" class=\"dataframe\">\n",
       "  <thead>\n",
       "    <tr style=\"text-align: right;\">\n",
       "      <th></th>\n",
       "      <th>user_id</th>\n",
       "      <th>distance</th>\n",
       "      <th>duration</th>\n",
       "      <th>date</th>\n",
       "      <th>month</th>\n",
       "    </tr>\n",
       "  </thead>\n",
       "  <tbody>\n",
       "  </tbody>\n",
       "</table>\n",
       "</div>"
      ],
      "text/plain": [
       "Empty DataFrame\n",
       "Columns: [user_id, distance, duration, date, month]\n",
       "Index: []"
      ]
     },
     "execution_count": 13,
     "metadata": {},
     "output_type": "execute_result"
    }
   ],
   "source": [
    "# Проверка на аномально длинные поездки (например, более 5 часов или 300 минут)\n",
    "rides[rides['duration'] > 300]"
   ]
  },
  {
   "cell_type": "markdown",
   "id": "eb87e37b",
   "metadata": {},
   "source": [
    "Данные по продолжительности поездок выглядят нормальными, без явных выбросов или аномалий. Никаких значений продолжительности более 300 минут нет."
   ]
  },
  {
   "cell_type": "markdown",
   "id": "d93f0575",
   "metadata": {},
   "source": [
    "**2.3 Проверка на пропущенные значения и дубликаты:**"
   ]
  },
  {
   "cell_type": "code",
   "execution_count": 14,
   "id": "0ad48aac",
   "metadata": {},
   "outputs": [
    {
     "name": "stdout",
     "output_type": "stream",
     "text": [
      "Пропущенные значения в users:\n",
      "user_id              0\n",
      "name                 0\n",
      "age                  0\n",
      "city                 0\n",
      "subscription_type    0\n",
      "dtype: int64\n",
      "\n",
      "Пропущенные значения в rides:\n",
      "user_id     0\n",
      "distance    0\n",
      "duration    0\n",
      "date        0\n",
      "month       0\n",
      "dtype: int64\n",
      "\n",
      "Пропущенные значения в subscriptions:\n",
      "subscription_type    0\n",
      "minute_price         0\n",
      "start_ride_price     0\n",
      "subscription_fee     0\n",
      "dtype: int64\n",
      "\n"
     ]
    }
   ],
   "source": [
    "# Список датафреймов и их названий\n",
    "dataframes = {\n",
    "    'users': users,\n",
    "    'rides': rides,\n",
    "    'subscriptions': subscriptions\n",
    "}\n",
    "\n",
    "# Проверка пропущенных значений\n",
    "for name, df in dataframes.items():\n",
    "    print(f'Пропущенные значения в {name}:')\n",
    "    print(df.isnull().sum())\n",
    "    print()  # Пустая строка для разделения результатов"
   ]
  },
  {
   "cell_type": "code",
   "execution_count": 15,
   "id": "42a388fc",
   "metadata": {},
   "outputs": [
    {
     "name": "stdout",
     "output_type": "stream",
     "text": [
      "Количество дубликатов в users: 31\n",
      "Количество дубликатов в rides: 0\n",
      "Количество дубликатов в subscriptions: 0\n"
     ]
    }
   ],
   "source": [
    "# 2. Количество дубликатов\n",
    "def duplicate_info(df, title):\n",
    "    num_duplicates = df.duplicated().sum()\n",
    "    print(f'Количество дубликатов в {title}: {num_duplicates}')\n",
    "\n",
    "duplicate_info(users, 'users')\n",
    "duplicate_info(rides, 'rides')\n",
    "duplicate_info(subscriptions, 'subscriptions')"
   ]
  },
  {
   "cell_type": "code",
   "execution_count": 16,
   "id": "4da836ee",
   "metadata": {},
   "outputs": [
    {
     "name": "stdout",
     "output_type": "stream",
     "text": [
      "Количество дубликатов в users: 0\n"
     ]
    }
   ],
   "source": [
    "# Удаление дубликатов\n",
    "users = users.drop_duplicates()\n",
    "duplicate_info(users, 'users')"
   ]
  },
  {
   "cell_type": "markdown",
   "id": "789872f8",
   "metadata": {},
   "source": [
    "**Вывод по качеству данных:**\n",
    "\n",
    "- Пропущенные значения: В таблицах `users`, `rides`, и `subscriptions` пропущенных значений нет. Это говорит о хорошем качестве данных в отношении полноты.\n",
    "- Дубликаты: В таблице users было обнаружено 31 дубликат, которые были успешно удалены. В остальных таблицах дубликатов не найдено.\n",
    "\n",
    "Исходные данные являются качественными, после удаления дубликатов данные готовы к дальнейшему анализу."
   ]
  },
  {
   "cell_type": "markdown",
   "id": "212593c7",
   "metadata": {},
   "source": [
    "#### Шаг 3. Исследовательский анализ данных"
   ]
  },
  {
   "cell_type": "markdown",
   "id": "100e844b",
   "metadata": {},
   "source": [
    "**3.1 частота встречаемости городов:**"
   ]
  },
  {
   "cell_type": "code",
   "execution_count": 17,
   "id": "b7ae5ec8",
   "metadata": {},
   "outputs": [
    {
     "data": {
      "image/png": "[encoded data removed]",
      "text/plain": [
       "<Figure size 720x432 with 1 Axes>"
      ]
     },
     "metadata": {
      "needs_background": "light"
     },
     "output_type": "display_data"
    }
   ],
   "source": [
    "city_counts = users['city'].value_counts()\n",
    "\n",
    "plt.figure(figsize=(10, 6))\n",
    "city_counts.plot(kind='bar', color='skyblue')\n",
    "plt.title('Частота встречаемости городов')\n",
    "plt.xlabel('Город')\n",
    "plt.ylabel('Частота')\n",
    "plt.xticks(rotation=45)\n",
    "plt.show()"
   ]
  },
  {
   "cell_type": "markdown",
   "id": "1988bf50",
   "metadata": {},
   "source": [
    "**Анализ графика \"Частота встречаемости городов\"**\n",
    "\n",
    "Основные выводы:\n",
    "\n",
    "- Лидер по упоминаниям: Город Пятигорск имеет наибольшую частоту упоминаний среди представленных городов. Его столбец значительно выше остальных.\n",
    "- Топ-3: Следующими по частоте упоминаний идут Екатеринбург и Ростов-на-Дону. Их столбцы также имеют значительную высоту.\n",
    "- Остальные города: Остальные города (Краснодар, Сочи, Омск, Тюмень, Москва) имеют примерно одинаковую частоту упоминаний, которая заметно ниже, чем у лидеров.\n",
    "- Различия в частоте: Существует существенная разница в частоте упоминаний между лидерами и остальными городами."
   ]
  },
  {
   "cell_type": "markdown",
   "id": "9b957bbf",
   "metadata": {},
   "source": [
    "**3.2 соотношение пользователей с подпиской и без подписки:**"
   ]
  },
  {
   "cell_type": "code",
   "execution_count": 18,
   "id": "7e4460db",
   "metadata": {},
   "outputs": [
    {
     "data": {
      "image/png": "[encoded data removed]",
      "text/plain": [
       "<Figure size 576x576 with 1 Axes>"
      ]
     },
     "metadata": {},
     "output_type": "display_data"
    }
   ],
   "source": [
    "# Соотношение пользователей с подпиской и без подписки\n",
    "subscription_counts = users['subscription_type'].value_counts()\n",
    "\n",
    "# Визуализация\n",
    "plt.figure(figsize=(8, 8))\n",
    "subscription_counts.plot(kind='pie', autopct='%1.1f%%', colors=sns.color_palette('Set2'), legend=True)\n",
    "plt.title('Соотношение пользователей с подпиской и без подписки')\n",
    "plt.ylabel('')  # Убираем ярлык с оси Y\n",
    "plt.show()"
   ]
  },
  {
   "cell_type": "markdown",
   "id": "6b97ecdd",
   "metadata": {},
   "source": [
    "**Анализ круговой диаграммы соотношения пользователей с подпиской и без подписки:**\n",
    "- Преобладание бесплатной подписки: Большинство пользователей (54,4%) выбрали бесплатную версию продукта. Это говорит о том, что бесплатная модель подписки является более привлекательной для пользователей.\n",
    "- Популярность премиум-подписки: Несмотря на меньшую долю, премиум-подписка также пользуется значительным спросом (45,6%). Это свидетельствует о том, что часть пользователей готова платить за дополнительные функции или услуги."
   ]
  },
  {
   "cell_type": "markdown",
   "id": "defcdd31",
   "metadata": {},
   "source": [
    "**3.3 возраст пользователей:**"
   ]
  },
  {
   "cell_type": "code",
   "execution_count": 19,
   "id": "e3432840",
   "metadata": {},
   "outputs": [
    {
     "data": {
      "image/png": "[encoded data removed]",
      "text/plain": [
       "<Figure size 720x432 with 1 Axes>"
      ]
     },
     "metadata": {
      "needs_background": "light"
     },
     "output_type": "display_data"
    }
   ],
   "source": [
    "# Возраст пользователей\n",
    "plt.figure(figsize=(10, 6))\n",
    "sns.histplot(users['age'], bins=10, kde=True, color='skyblue')\n",
    "plt.title('Распределение возраста пользователей')\n",
    "plt.xlabel('Возраст')\n",
    "plt.ylabel('Частота')\n",
    "plt.show()"
   ]
  },
  {
   "cell_type": "markdown",
   "id": "8b06dc5c",
   "metadata": {},
   "source": [
    "**Анализ графика распределения возраста пользователей:**\n",
    "\n",
    "Основные выводы:\n",
    "- Нормальное распределение: Форма гистограммы близка к нормальному распределению. Это означает, что большинство пользователей сосредоточено вокруг среднего значения возраста, а количество пользователей с возрастом, значительно отклоняющимся от среднего, уменьшается.\n",
    "- Средний возраст: Средний возраст пользователей, судя по графику, находится в диапазоне 22-27 лет. Точное значение можно рассчитать, но визуально пик распределения приходится на этот интервал.\n",
    "- Дисперсия: Дисперсия возраста относительно небольшая. Большинство пользователей находятся в довольно узком возрастном диапазоне."
   ]
  },
  {
   "cell_type": "markdown",
   "id": "cfbf02a8",
   "metadata": {},
   "source": [
    "**3.4 расстояние, которое пользователь преодолел за одну поездку:**"
   ]
  },
  {
   "cell_type": "code",
   "execution_count": 20,
   "id": "601201e1",
   "metadata": {
    "scrolled": true
   },
   "outputs": [
    {
     "data": {
      "image/png": "[encoded data removed]",
      "text/plain": [
       "<Figure size 720x432 with 1 Axes>"
      ]
     },
     "metadata": {
      "needs_background": "light"
     },
     "output_type": "display_data"
    }
   ],
   "source": [
    "# Расстояние, которое пользователь преодолел за одну поездку\n",
    "plt.figure(figsize=(10, 6))\n",
    "sns.histplot(rides['distance'], bins=20, kde=True, color='salmon')\n",
    "plt.title('Распределение расстояний поездок')\n",
    "plt.xlabel('Расстояние (метры)')\n",
    "plt.ylabel('Частота')\n",
    "\n",
    "plt.show()"
   ]
  },
  {
   "cell_type": "markdown",
   "id": "cb86c84f",
   "metadata": {},
   "source": [
    "**Анализ графика распределения растояний поездок:**\n",
    "\n",
    "Основные выводы:\n",
    "\n",
    "- Двухмодальное распределение: На графике отчетливо видны два пика, что свидетельствует о наличии двух основных групп пользователей с различными поведением в плане длительности поездок.\n",
    "- Гетерогенность пользователей: Пользователи сервиса не являются однородной группой. Существуют четкие различия в поведении пользователей в зависимости от длительности поездок.\n",
    "- Мода: Наиболее часто встречающиеся расстояния поездок находятся в 3000 метров. Именно в этом интервале наблюдается наибольшее количество поездок.\n",
    "- Длинный правый хвост: График имеет длинный правый хвост, что указывает на наличие небольшого количества поездок очень большой длины. Это могут быть, например, поездки за город.\n",
    "- Необходимость сегментации: Для более эффективной работы с пользователями необходимо провести сегментацию по длительности поездок и разработать для каждой группы индивидуальные предложения."
   ]
  },
  {
   "cell_type": "code",
   "execution_count": 21,
   "id": "de540ff0",
   "metadata": {},
   "outputs": [
    {
     "data": {
      "image/png": "[encoded data removed]",
      "text/plain": [
       "<Figure size 720x432 with 1 Axes>"
      ]
     },
     "metadata": {
      "needs_background": "light"
     },
     "output_type": "display_data"
    }
   ],
   "source": [
    "# График распределения расстояний поездок (Боксплот)\n",
    "plt.figure(figsize=(10, 6))\n",
    "sns.boxplot(y=rides['distance'], color='lightcoral')\n",
    "plt.title('Боксплот распределения расстояний поездок')\n",
    "plt.xlabel('Расстояние (метры)')\n",
    "plt.show()"
   ]
  },
  {
   "cell_type": "markdown",
   "id": "fa2a62e5",
   "metadata": {},
   "source": [
    "- Большинство поездок имеют длину около 3000 метров.\n",
    "- Есть значительное количество коротких и длинных поездок, которые можно считать выбросами. Это может указывать на то, что данные содержат различные типы поездок, например, короткие поездки по городу и длительные поездки за город.\n",
    "- Распределение не является симметричным. Наличие большого количества выбросов с длинными расстояниями говорит о положительной асимметрии."
   ]
  },
  {
   "cell_type": "markdown",
   "id": "7e2eb0d3",
   "metadata": {},
   "source": [
    "**3.5 продолжительность поездок:**"
   ]
  },
  {
   "cell_type": "code",
   "execution_count": 22,
   "id": "843d8f85",
   "metadata": {},
   "outputs": [
    {
     "data": {
      "image/png": "[encoded data removed]",
      "text/plain": [
       "<Figure size 720x432 with 1 Axes>"
      ]
     },
     "metadata": {
      "needs_background": "light"
     },
     "output_type": "display_data"
    }
   ],
   "source": [
    "# 3.5 Продолжительность поездок\n",
    "plt.figure(figsize=(10, 6))\n",
    "sns.histplot(rides['duration'], bins=20, kde=True, color='green')\n",
    "plt.title('Распределение продолжительности поездок')\n",
    "plt.xlabel('Продолжительность (минуты)')\n",
    "plt.ylabel('Частота')\n",
    "plt.show()"
   ]
  },
  {
   "cell_type": "markdown",
   "id": "1f30a297",
   "metadata": {},
   "source": [
    "**Анализ графика распределения продолжительности поездок:**\n",
    "\n",
    "Основные выводы:\n",
    "\n",
    "- Нормальное распределение: Форма гистограммы близка к нормальному распределению. Это означает, что большинство поездок имеют среднюю продолжительность, а количество очень коротких или очень длинных поездок значительно меньше.\n",
    "- Средняя продолжительность: Средняя продолжительность поездок, судя по графику, находится в диапазоне 15-22 минут. Точное значение можно рассчитать, но визуально пик распределения приходится на этот интервал.\n",
    "- Дисперсия: Дисперсия продолжительности относительно небольшая. Большинство поездок имеют схожую продолжительность."
   ]
  },
  {
   "cell_type": "code",
   "execution_count": 23,
   "id": "5955472d",
   "metadata": {},
   "outputs": [
    {
     "data": {
      "image/png": "[encoded data removed]",
      "text/plain": [
       "<Figure size 720x432 with 1 Axes>"
      ]
     },
     "metadata": {
      "needs_background": "light"
     },
     "output_type": "display_data"
    }
   ],
   "source": [
    "# График распределения продолжительности поездок (Боксплот)\n",
    "plt.figure(figsize=(10, 6))\n",
    "sns.boxplot(y=rides['duration'], color='lightgreen')\n",
    "plt.title('Боксплот распределения продолжительности поездок')\n",
    "plt.xlabel('Продолжительность (минуты)')\n",
    "plt.show()"
   ]
  },
  {
   "cell_type": "markdown",
   "id": "8221e5c7",
   "metadata": {},
   "source": [
    "- Большинство поездок длится около 18 минут.\n",
    "- Есть значительное количество коротких и длинных поездок, которые можно считать выбросами. Это может указывать на то, что данные содержат различные типы поездок, например, короткие поездки по городу и длительные поездки за город.\n",
    "- Распределение не является симметричным. Наличие большого количества выбросов с длинными поездками говорит о положительной асимметрии.\n"
   ]
  },
  {
   "cell_type": "markdown",
   "id": "4ef51331",
   "metadata": {},
   "source": [
    "#### Шаг 4. Объединение данных"
   ]
  },
  {
   "cell_type": "code",
   "execution_count": 24,
   "id": "3cc2d5b0",
   "metadata": {
    "scrolled": true
   },
   "outputs": [
    {
     "name": "stdout",
     "output_type": "stream",
     "text": [
      "Размер исходного датафрейма 'users': (1534, 5)\n",
      "Размер исходного датафрейма 'rides': (18068, 5)\n",
      "Размер исходного датафрейма 'subscriptions': (2, 4)\n",
      "\n"
     ]
    }
   ],
   "source": [
    "# 1. Размеры исходных датафреймов до объединения\n",
    "print(f\"Размер исходного датафрейма 'users': {users.shape}\")\n",
    "print(f\"Размер исходного датафрейма 'rides': {rides.shape}\")\n",
    "print(f\"Размер исходного датафрейма 'subscriptions': {subscriptions.shape}\")\n",
    "print()"
   ]
  },
  {
   "cell_type": "markdown",
   "id": "d0ffa53b",
   "metadata": {},
   "source": [
    "- Количество строк в `rides` больше по сравнению с `users`, что указывает на то, что некоторые пользователи имели несколько записей о поездках."
   ]
  },
  {
   "cell_type": "code",
   "execution_count": 25,
   "id": "6bf288b5",
   "metadata": {
    "scrolled": true
   },
   "outputs": [
    {
     "data": {
      "text/plain": [
       "\"Размер объединенного датафрейма 'user_rides_subscriptions': (18068, 12)\""
      ]
     },
     "execution_count": 25,
     "metadata": {},
     "output_type": "execute_result"
    }
   ],
   "source": [
    "# 4.1 Объединение данных о пользователях, поездках и подписках\n",
    "user_rides_subscriptions = (\n",
    "    pd.merge(users, rides, on='user_id', how='inner')\n",
    "    .merge(subscriptions, on='subscription_type', how='left')\n",
    ")\n",
    "\n",
    "f\"Размер объединенного датафрейма 'user_rides_subscriptions': {user_rides_subscriptions.shape}\""
   ]
  },
  {
   "cell_type": "code",
   "execution_count": 26,
   "id": "6835e22c",
   "metadata": {},
   "outputs": [
    {
     "name": "stdout",
     "output_type": "stream",
     "text": [
      "Уникальные значения в 'user_id': 1534\n",
      "Уникальные значения в 'subscription_type': 2\n",
      "Количество уникальных пар 'user_id' и 'subscription_type': 1534\n"
     ]
    }
   ],
   "source": [
    "# Проверка уникальности значений в ключевых столбцах\n",
    "print(\"Уникальные значения в 'user_id':\", user_rides_subscriptions['user_id'].nunique())\n",
    "print(\"Уникальные значения в 'subscription_type':\", user_rides_subscriptions['subscription_type'].nunique())\n",
    "print(\"Количество уникальных пар 'user_id' и 'subscription_type':\", user_rides_subscriptions[['user_id', 'subscription_type']].drop_duplicates().shape[0])"
   ]
  },
  {
   "cell_type": "markdown",
   "id": "00adc1a7",
   "metadata": {},
   "source": [
    "Объединение прошло корректно, и каждый пользователь имеет правильный тип подписки, что подтверждается уникальностью комбинации `user_id` и `subscription_type`."
   ]
  },
  {
   "cell_type": "code",
   "execution_count": 27,
   "id": "0c3f8727",
   "metadata": {},
   "outputs": [
    {
     "data": {
      "text/plain": [
       "count    1534.000000\n",
       "mean       11.778357\n",
       "std         4.157738\n",
       "min         2.000000\n",
       "25%         9.000000\n",
       "50%        12.000000\n",
       "75%        14.000000\n",
       "max        27.000000\n",
       "dtype: float64"
      ]
     },
     "execution_count": 27,
     "metadata": {},
     "output_type": "execute_result"
    }
   ],
   "source": [
    "# Проверка количества записей о поездках для каждого пользователя\n",
    "rides_per_user = user_rides_subscriptions.groupby('user_id').size()\n",
    "rides_per_user.describe()"
   ]
  },
  {
   "cell_type": "markdown",
   "id": "9dfdb445",
   "metadata": {},
   "source": [
    "Среднее количество поездок:\n",
    "- В среднем, каждый пользователь сделал около 12 поездок, что выглядит разумно для анализа.\n",
    "\n",
    "Разброс количества поездок:\n",
    "- Стандартное отклонение и размах (от 2 до 42 поездок) указывают на то, что есть пользователи с малым и большим числом поездок. Это нормально, так как поведение пользователей может сильно различаться."
   ]
  },
  {
   "cell_type": "code",
   "execution_count": 28,
   "id": "8bf530de",
   "metadata": {
    "scrolled": true
   },
   "outputs": [
    {
     "data": {
      "text/html": [
       "<div>\n",
       "<style scoped>\n",
       "    .dataframe tbody tr th:only-of-type {\n",
       "        vertical-align: middle;\n",
       "    }\n",
       "\n",
       "    .dataframe tbody tr th {\n",
       "        vertical-align: top;\n",
       "    }\n",
       "\n",
       "    .dataframe thead th {\n",
       "        text-align: right;\n",
       "    }\n",
       "</style>\n",
       "<table border=\"1\" class=\"dataframe\">\n",
       "  <thead>\n",
       "    <tr style=\"text-align: right;\">\n",
       "      <th></th>\n",
       "      <th>user_id</th>\n",
       "      <th>name</th>\n",
       "      <th>age</th>\n",
       "      <th>city</th>\n",
       "      <th>subscription_type</th>\n",
       "      <th>distance</th>\n",
       "      <th>duration</th>\n",
       "      <th>date</th>\n",
       "      <th>month</th>\n",
       "      <th>minute_price</th>\n",
       "      <th>start_ride_price</th>\n",
       "      <th>subscription_fee</th>\n",
       "    </tr>\n",
       "  </thead>\n",
       "  <tbody>\n",
       "    <tr>\n",
       "      <th>0</th>\n",
       "      <td>1</td>\n",
       "      <td>Кира</td>\n",
       "      <td>22</td>\n",
       "      <td>Тюмень</td>\n",
       "      <td>ultra</td>\n",
       "      <td>4409.919140</td>\n",
       "      <td>25.599769</td>\n",
       "      <td>2021-01-01</td>\n",
       "      <td>1</td>\n",
       "      <td>6</td>\n",
       "      <td>0</td>\n",
       "      <td>199</td>\n",
       "    </tr>\n",
       "    <tr>\n",
       "      <th>1</th>\n",
       "      <td>1</td>\n",
       "      <td>Кира</td>\n",
       "      <td>22</td>\n",
       "      <td>Тюмень</td>\n",
       "      <td>ultra</td>\n",
       "      <td>2617.592153</td>\n",
       "      <td>15.816871</td>\n",
       "      <td>2021-01-18</td>\n",
       "      <td>1</td>\n",
       "      <td>6</td>\n",
       "      <td>0</td>\n",
       "      <td>199</td>\n",
       "    </tr>\n",
       "    <tr>\n",
       "      <th>2</th>\n",
       "      <td>1</td>\n",
       "      <td>Кира</td>\n",
       "      <td>22</td>\n",
       "      <td>Тюмень</td>\n",
       "      <td>ultra</td>\n",
       "      <td>754.159807</td>\n",
       "      <td>6.232113</td>\n",
       "      <td>2021-04-20</td>\n",
       "      <td>4</td>\n",
       "      <td>6</td>\n",
       "      <td>0</td>\n",
       "      <td>199</td>\n",
       "    </tr>\n",
       "    <tr>\n",
       "      <th>3</th>\n",
       "      <td>1</td>\n",
       "      <td>Кира</td>\n",
       "      <td>22</td>\n",
       "      <td>Тюмень</td>\n",
       "      <td>ultra</td>\n",
       "      <td>2694.783254</td>\n",
       "      <td>18.511000</td>\n",
       "      <td>2021-08-11</td>\n",
       "      <td>8</td>\n",
       "      <td>6</td>\n",
       "      <td>0</td>\n",
       "      <td>199</td>\n",
       "    </tr>\n",
       "    <tr>\n",
       "      <th>4</th>\n",
       "      <td>1</td>\n",
       "      <td>Кира</td>\n",
       "      <td>22</td>\n",
       "      <td>Тюмень</td>\n",
       "      <td>ultra</td>\n",
       "      <td>4028.687306</td>\n",
       "      <td>26.265803</td>\n",
       "      <td>2021-08-28</td>\n",
       "      <td>8</td>\n",
       "      <td>6</td>\n",
       "      <td>0</td>\n",
       "      <td>199</td>\n",
       "    </tr>\n",
       "  </tbody>\n",
       "</table>\n",
       "</div>"
      ],
      "text/plain": [
       "   user_id  name  age    city subscription_type     distance   duration  \\\n",
       "0        1  Кира   22  Тюмень             ultra  4409.919140  25.599769   \n",
       "1        1  Кира   22  Тюмень             ultra  2617.592153  15.816871   \n",
       "2        1  Кира   22  Тюмень             ultra   754.159807   6.232113   \n",
       "3        1  Кира   22  Тюмень             ultra  2694.783254  18.511000   \n",
       "4        1  Кира   22  Тюмень             ultra  4028.687306  26.265803   \n",
       "\n",
       "        date  month  minute_price  start_ride_price  subscription_fee  \n",
       "0 2021-01-01      1             6                 0               199  \n",
       "1 2021-01-18      1             6                 0               199  \n",
       "2 2021-04-20      4             6                 0               199  \n",
       "3 2021-08-11      8             6                 0               199  \n",
       "4 2021-08-28      8             6                 0               199  "
      ]
     },
     "execution_count": 28,
     "metadata": {},
     "output_type": "execute_result"
    }
   ],
   "source": [
    "user_rides_subscriptions.head()"
   ]
  },
  {
   "cell_type": "code",
   "execution_count": 29,
   "id": "f3648a25",
   "metadata": {},
   "outputs": [
    {
     "data": {
      "text/html": [
       "<div>\n",
       "<style scoped>\n",
       "    .dataframe tbody tr th:only-of-type {\n",
       "        vertical-align: middle;\n",
       "    }\n",
       "\n",
       "    .dataframe tbody tr th {\n",
       "        vertical-align: top;\n",
       "    }\n",
       "\n",
       "    .dataframe thead th {\n",
       "        text-align: right;\n",
       "    }\n",
       "</style>\n",
       "<table border=\"1\" class=\"dataframe\">\n",
       "  <thead>\n",
       "    <tr style=\"text-align: right;\">\n",
       "      <th></th>\n",
       "      <th>user_id</th>\n",
       "      <th>name</th>\n",
       "      <th>age</th>\n",
       "      <th>city</th>\n",
       "      <th>subscription_type</th>\n",
       "      <th>distance</th>\n",
       "      <th>duration</th>\n",
       "      <th>date</th>\n",
       "      <th>month</th>\n",
       "      <th>minute_price</th>\n",
       "      <th>start_ride_price</th>\n",
       "      <th>subscription_fee</th>\n",
       "    </tr>\n",
       "  </thead>\n",
       "  <tbody>\n",
       "    <tr>\n",
       "      <th>6500</th>\n",
       "      <td>700</td>\n",
       "      <td>Айдар</td>\n",
       "      <td>22</td>\n",
       "      <td>Омск</td>\n",
       "      <td>free</td>\n",
       "      <td>2515.690719</td>\n",
       "      <td>14.944286</td>\n",
       "      <td>2021-01-02</td>\n",
       "      <td>1</td>\n",
       "      <td>8</td>\n",
       "      <td>50</td>\n",
       "      <td>0</td>\n",
       "    </tr>\n",
       "    <tr>\n",
       "      <th>6501</th>\n",
       "      <td>700</td>\n",
       "      <td>Айдар</td>\n",
       "      <td>22</td>\n",
       "      <td>Омск</td>\n",
       "      <td>free</td>\n",
       "      <td>846.932642</td>\n",
       "      <td>16.234663</td>\n",
       "      <td>2021-02-01</td>\n",
       "      <td>2</td>\n",
       "      <td>8</td>\n",
       "      <td>50</td>\n",
       "      <td>0</td>\n",
       "    </tr>\n",
       "    <tr>\n",
       "      <th>6502</th>\n",
       "      <td>700</td>\n",
       "      <td>Айдар</td>\n",
       "      <td>22</td>\n",
       "      <td>Омск</td>\n",
       "      <td>free</td>\n",
       "      <td>4004.434142</td>\n",
       "      <td>20.016628</td>\n",
       "      <td>2021-02-04</td>\n",
       "      <td>2</td>\n",
       "      <td>8</td>\n",
       "      <td>50</td>\n",
       "      <td>0</td>\n",
       "    </tr>\n",
       "    <tr>\n",
       "      <th>6503</th>\n",
       "      <td>700</td>\n",
       "      <td>Айдар</td>\n",
       "      <td>22</td>\n",
       "      <td>Омск</td>\n",
       "      <td>free</td>\n",
       "      <td>1205.911290</td>\n",
       "      <td>9.782872</td>\n",
       "      <td>2021-02-10</td>\n",
       "      <td>2</td>\n",
       "      <td>8</td>\n",
       "      <td>50</td>\n",
       "      <td>0</td>\n",
       "    </tr>\n",
       "    <tr>\n",
       "      <th>6504</th>\n",
       "      <td>700</td>\n",
       "      <td>Айдар</td>\n",
       "      <td>22</td>\n",
       "      <td>Омск</td>\n",
       "      <td>free</td>\n",
       "      <td>3047.379435</td>\n",
       "      <td>17.427673</td>\n",
       "      <td>2021-02-14</td>\n",
       "      <td>2</td>\n",
       "      <td>8</td>\n",
       "      <td>50</td>\n",
       "      <td>0</td>\n",
       "    </tr>\n",
       "  </tbody>\n",
       "</table>\n",
       "</div>"
      ],
      "text/plain": [
       "      user_id   name  age  city subscription_type     distance   duration  \\\n",
       "6500      700  Айдар   22  Омск              free  2515.690719  14.944286   \n",
       "6501      700  Айдар   22  Омск              free   846.932642  16.234663   \n",
       "6502      700  Айдар   22  Омск              free  4004.434142  20.016628   \n",
       "6503      700  Айдар   22  Омск              free  1205.911290   9.782872   \n",
       "6504      700  Айдар   22  Омск              free  3047.379435  17.427673   \n",
       "\n",
       "           date  month  minute_price  start_ride_price  subscription_fee  \n",
       "6500 2021-01-02      1             8                50                 0  \n",
       "6501 2021-02-01      2             8                50                 0  \n",
       "6502 2021-02-04      2             8                50                 0  \n",
       "6503 2021-02-10      2             8                50                 0  \n",
       "6504 2021-02-14      2             8                50                 0  "
      ]
     },
     "execution_count": 29,
     "metadata": {},
     "output_type": "execute_result"
    }
   ],
   "source": [
    "# 4.2 Создание датафрейма с данными о пользователях без подписки\n",
    "no_subscription_df = user_rides_subscriptions[user_rides_subscriptions['subscription_type'] == 'free']\n",
    "no_subscription_df.head()"
   ]
  },
  {
   "cell_type": "code",
   "execution_count": 30,
   "id": "6555a5d5",
   "metadata": {},
   "outputs": [
    {
     "data": {
      "text/html": [
       "<div>\n",
       "<style scoped>\n",
       "    .dataframe tbody tr th:only-of-type {\n",
       "        vertical-align: middle;\n",
       "    }\n",
       "\n",
       "    .dataframe tbody tr th {\n",
       "        vertical-align: top;\n",
       "    }\n",
       "\n",
       "    .dataframe thead th {\n",
       "        text-align: right;\n",
       "    }\n",
       "</style>\n",
       "<table border=\"1\" class=\"dataframe\">\n",
       "  <thead>\n",
       "    <tr style=\"text-align: right;\">\n",
       "      <th></th>\n",
       "      <th>user_id</th>\n",
       "      <th>name</th>\n",
       "      <th>age</th>\n",
       "      <th>city</th>\n",
       "      <th>subscription_type</th>\n",
       "      <th>distance</th>\n",
       "      <th>duration</th>\n",
       "      <th>date</th>\n",
       "      <th>month</th>\n",
       "      <th>minute_price</th>\n",
       "      <th>start_ride_price</th>\n",
       "      <th>subscription_fee</th>\n",
       "    </tr>\n",
       "  </thead>\n",
       "  <tbody>\n",
       "    <tr>\n",
       "      <th>0</th>\n",
       "      <td>1</td>\n",
       "      <td>Кира</td>\n",
       "      <td>22</td>\n",
       "      <td>Тюмень</td>\n",
       "      <td>ultra</td>\n",
       "      <td>4409.919140</td>\n",
       "      <td>25.599769</td>\n",
       "      <td>2021-01-01</td>\n",
       "      <td>1</td>\n",
       "      <td>6</td>\n",
       "      <td>0</td>\n",
       "      <td>199</td>\n",
       "    </tr>\n",
       "    <tr>\n",
       "      <th>1</th>\n",
       "      <td>1</td>\n",
       "      <td>Кира</td>\n",
       "      <td>22</td>\n",
       "      <td>Тюмень</td>\n",
       "      <td>ultra</td>\n",
       "      <td>2617.592153</td>\n",
       "      <td>15.816871</td>\n",
       "      <td>2021-01-18</td>\n",
       "      <td>1</td>\n",
       "      <td>6</td>\n",
       "      <td>0</td>\n",
       "      <td>199</td>\n",
       "    </tr>\n",
       "    <tr>\n",
       "      <th>2</th>\n",
       "      <td>1</td>\n",
       "      <td>Кира</td>\n",
       "      <td>22</td>\n",
       "      <td>Тюмень</td>\n",
       "      <td>ultra</td>\n",
       "      <td>754.159807</td>\n",
       "      <td>6.232113</td>\n",
       "      <td>2021-04-20</td>\n",
       "      <td>4</td>\n",
       "      <td>6</td>\n",
       "      <td>0</td>\n",
       "      <td>199</td>\n",
       "    </tr>\n",
       "    <tr>\n",
       "      <th>3</th>\n",
       "      <td>1</td>\n",
       "      <td>Кира</td>\n",
       "      <td>22</td>\n",
       "      <td>Тюмень</td>\n",
       "      <td>ultra</td>\n",
       "      <td>2694.783254</td>\n",
       "      <td>18.511000</td>\n",
       "      <td>2021-08-11</td>\n",
       "      <td>8</td>\n",
       "      <td>6</td>\n",
       "      <td>0</td>\n",
       "      <td>199</td>\n",
       "    </tr>\n",
       "    <tr>\n",
       "      <th>4</th>\n",
       "      <td>1</td>\n",
       "      <td>Кира</td>\n",
       "      <td>22</td>\n",
       "      <td>Тюмень</td>\n",
       "      <td>ultra</td>\n",
       "      <td>4028.687306</td>\n",
       "      <td>26.265803</td>\n",
       "      <td>2021-08-28</td>\n",
       "      <td>8</td>\n",
       "      <td>6</td>\n",
       "      <td>0</td>\n",
       "      <td>199</td>\n",
       "    </tr>\n",
       "  </tbody>\n",
       "</table>\n",
       "</div>"
      ],
      "text/plain": [
       "   user_id  name  age    city subscription_type     distance   duration  \\\n",
       "0        1  Кира   22  Тюмень             ultra  4409.919140  25.599769   \n",
       "1        1  Кира   22  Тюмень             ultra  2617.592153  15.816871   \n",
       "2        1  Кира   22  Тюмень             ultra   754.159807   6.232113   \n",
       "3        1  Кира   22  Тюмень             ultra  2694.783254  18.511000   \n",
       "4        1  Кира   22  Тюмень             ultra  4028.687306  26.265803   \n",
       "\n",
       "        date  month  minute_price  start_ride_price  subscription_fee  \n",
       "0 2021-01-01      1             6                 0               199  \n",
       "1 2021-01-18      1             6                 0               199  \n",
       "2 2021-04-20      4             6                 0               199  \n",
       "3 2021-08-11      8             6                 0               199  \n",
       "4 2021-08-28      8             6                 0               199  "
      ]
     },
     "execution_count": 30,
     "metadata": {},
     "output_type": "execute_result"
    }
   ],
   "source": [
    "# 4.2 Создание датафрейма с данными о пользователях с подпиской\n",
    "subscription_df = user_rides_subscriptions[user_rides_subscriptions['subscription_type'] == 'ultra']\n",
    "subscription_df.head()"
   ]
  },
  {
   "cell_type": "code",
   "execution_count": 31,
   "id": "867e5528",
   "metadata": {},
   "outputs": [
    {
     "data": {
      "image/png": "[encoded data removed]",
      "text/plain": [
       "<Figure size 864x432 with 1 Axes>"
      ]
     },
     "metadata": {
      "needs_background": "light"
     },
     "output_type": "display_data"
    }
   ],
   "source": [
    "# Cоздание сводной таблицы для средних значений расстояния поездок\n",
    "pivot_distance = user_rides_subscriptions.pivot_table(index='subscription_type', values='distance', aggfunc='mean').reset_index()\n",
    "\n",
    "# 4.3 Визуализация расстояния поездок с использованием диаграммы размаха\n",
    "plt.figure(figsize=(12, 6))\n",
    "sns.boxplot(x='subscription_type', y='distance', data=user_rides_subscriptions, palette='Set2')\n",
    "plt.title('Распределение расстояния поездок для пользователей с и без подписки')\n",
    "plt.xlabel('Тип подписки')\n",
    "plt.ylabel('Расстояние поездки')\n",
    "plt.show()"
   ]
  },
  {
   "cell_type": "markdown",
   "id": "035e3a9b",
   "metadata": {},
   "source": [
    "**Основные выводы по представленной диаграмме:**\n",
    "- Различие в средних значениях: Пользователи с бесплатной подпиской `free` в среднем совершают более длительные поездки по сравнению с пользователями с премиальной подпиской `ultra`. Это видно по тому, что \"ящик\" для категории `free` расположен выше по оси Y.\n",
    "- Размах значений: Диапазон расстояний поездок для обеих категорий пользователей довольно широкий, о чем свидетельствуют длинные \"усы\" диаграммы. Однако, у пользователей с бесплатной подпиской наблюдается большее количество очень длинных поездок (выбросы в верхней части диаграммы).\n",
    "- Квартили: Медиана (средняя линия внутри ящика) и квартили (границы ящика) совпадают в распределении данных для двух категорий. У пользователей с бесплатной подпиской значения верхнего квартиля выше, что подтверждает более длительные поездки в среднем."
   ]
  },
  {
   "cell_type": "code",
   "execution_count": 32,
   "id": "2cce29bc",
   "metadata": {},
   "outputs": [
    {
     "data": {
      "image/png": "[encoded data removed]",
      "text/plain": [
       "<Figure size 1008x432 with 2 Axes>"
      ]
     },
     "metadata": {
      "needs_background": "light"
     },
     "output_type": "display_data"
    }
   ],
   "source": [
    "# Установка размера фигуры для гистограмм\n",
    "plt.figure(figsize=(14, 6))\n",
    "\n",
    "# Гистограмма для пользователей без подписки\n",
    "plt.subplot(1, 2, 1)\n",
    "sns.histplot(no_subscription_df['distance'], bins=30, kde=True, color='blue')\n",
    "plt.title('Распределение расстояния поездок для пользователей без подписки')\n",
    "plt.xlabel('Расстояние поездки')\n",
    "plt.ylabel('Частота')\n",
    "\n",
    "# Гистограмма для пользователей с подпиской\n",
    "plt.subplot(1, 2, 2)\n",
    "sns.histplot(subscription_df['distance'], bins=30, kde=True, color='orange')\n",
    "plt.title('Распределение расстояния поездок для пользователей с подпиской')\n",
    "plt.xlabel('Расстояние поездки')\n",
    "plt.ylabel('Частота')\n",
    "\n",
    "plt.tight_layout()\n",
    "plt.show()"
   ]
  },
  {
   "cell_type": "markdown",
   "id": "d3b0072a",
   "metadata": {},
   "source": [
    "**Основные наблюдения:**\n",
    "\n",
    "- Двухмодальное распределение: Обе гистограммы демонстрируют двухмодальное распределение. Это свидетельствует о наличии двух основных групп пользователей с разными поведением в плане длительности поездок.\n",
    "\n",
    "Различия между группами:\n",
    "- Пользователи без подписки: Характеризуются более широким диапазоном расстояний поездок и более выраженным вторым пиком в области длинных дистанций. Первый пик, соответствующий коротким поездкам, менее выражен. Это может указывать на то, что пользователи без подписки используют сервис как для коротких поездок по городу, так и для более длительных маршрутов.\n",
    "- Пользователи с подпиской: В основном совершают поездки средней длины, что отражается в более узком и смещенном влево основном пике. Это свидетельствует о более стабильном поведении пользователей с подпиской и, возможно, о том, что они чаще используют сервис для длительных перемещений."
   ]
  },
  {
   "cell_type": "code",
   "execution_count": 33,
   "id": "3bd4d6be",
   "metadata": {},
   "outputs": [
    {
     "data": {
      "text/plain": [
       "count    11568.000000\n",
       "mean      3045.495282\n",
       "std       1246.173806\n",
       "min          0.855683\n",
       "25%       2366.562689\n",
       "50%       3114.648465\n",
       "75%       3905.697894\n",
       "max       7211.007745\n",
       "Name: distance, dtype: float64"
      ]
     },
     "metadata": {},
     "output_type": "display_data"
    },
    {
     "data": {
      "text/plain": [
       "count    6500.000000\n",
       "mean     3115.445388\n",
       "std       836.895330\n",
       "min       244.210438\n",
       "25%      2785.444017\n",
       "50%      3148.637229\n",
       "75%      3560.574425\n",
       "max      5699.769662\n",
       "Name: distance, dtype: float64"
      ]
     },
     "metadata": {},
     "output_type": "display_data"
    }
   ],
   "source": [
    "display(no_subscription_df['distance'].describe())\n",
    "display(subscription_df['distance'].describe())"
   ]
  },
  {
   "cell_type": "markdown",
   "id": "e9b20f28",
   "metadata": {},
   "source": [
    "Описание данных:\n",
    "- Среднее значение: Несмотря на то, что на графике визуально казалось, что пользователи без подписки совершают более длительные поездки, численные данные показывают, что среднее значение расстояния для пользователей с подпиской немного выше. Однако, разница не является существенной и может быть связана с небольшими колебаниями данных.\n",
    "- Стандартное отклонение: Стандартное отклонение у пользователей без подписки значительно выше, что говорит о большем разбросе в длительности их поездок. Это означает, что среди пользователей без подписки есть как очень короткие, так и очень длинные поездки. У пользователей с подпиской распределение более сконцентрировано вокруг среднего значения.\n",
    "- Медиана: Медиана для обеих групп практически одинакова, что подтверждает, что в целом средняя длительность поездок для обеих групп сопоставима.\n",
    "- Экстремальные значения: Минимальное значение для пользователей без подписки значительно ниже, что говорит о наличии очень коротких поездок. Максимальное значение у пользователей без подписки также выше, что указывает на наличие очень длинных поездок.\n",
    "\n",
    "Вывод:\n",
    "- Нет существенной разницы в средней длительности поездок: На основе предоставленных данных мы не можем утверждать, что пользователи с одной из подписок совершают значительно более длительные поездки, чем пользователи другой.\n",
    "- Различия в распределении: Несмотря на схожесть средних значений, распределения данных для двух групп отличаются. У пользователей без подписки наблюдается больший разброс в длительности поездок, что говорит о большей неоднородности этой группы.\n"
   ]
  },
  {
   "cell_type": "code",
   "execution_count": 34,
   "id": "0b3f5451",
   "metadata": {
    "scrolled": true
   },
   "outputs": [
    {
     "data": {
      "image/png": "[encoded data removed]",
      "text/plain": [
       "<Figure size 864x432 with 1 Axes>"
      ]
     },
     "metadata": {
      "needs_background": "light"
     },
     "output_type": "display_data"
    }
   ],
   "source": [
    "# Создание сводной таблицы для средних значений продолжительности поездок\n",
    "pivot_duration = user_rides_subscriptions.pivot_table(index='subscription_type', values='duration', aggfunc='mean').reset_index()\n",
    "\n",
    "# Визуализация продолжительности поездок с использованием диаграммы размаха\n",
    "plt.figure(figsize=(12, 6))\n",
    "sns.boxplot(x='subscription_type', y='duration', data=user_rides_subscriptions, palette='Set2')\n",
    "plt.title('Распределение продолжительности поездок для пользователей с и без подписки')\n",
    "plt.xlabel('Тип подписки')\n",
    "plt.ylabel('Продолжительность поездки')\n",
    "plt.show()"
   ]
  },
  {
   "cell_type": "markdown",
   "id": "73c348e0",
   "metadata": {},
   "source": [
    "- Медиана: Медиана для обеих групп достаточно близка, что подтверждает схожую среднюю продолжительность поездок для обеих групп.\n",
    "- Экстремальные значения: Минимальное значение у пользователей без подписки значительно ниже, что говорит о наличии очень коротких поездок. Максимальное значение у пользователей с подпиской немного выше. "
   ]
  },
  {
   "cell_type": "code",
   "execution_count": 35,
   "id": "b9ecd64c",
   "metadata": {},
   "outputs": [
    {
     "data": {
      "image/png": "[encoded data removed]",
      "text/plain": [
       "<Figure size 1008x432 with 2 Axes>"
      ]
     },
     "metadata": {
      "needs_background": "light"
     },
     "output_type": "display_data"
    }
   ],
   "source": [
    "# Установка размера фигуры для гистограмм\n",
    "plt.figure(figsize=(14, 6))\n",
    "\n",
    "# Гистограмма для пользователей без подписки\n",
    "plt.subplot(1, 2, 1)\n",
    "sns.histplot(no_subscription_df['duration'], bins=30, kde=True, color='blue')\n",
    "plt.title('Распределение продолжительности поездок для пользователей без подписки')\n",
    "plt.xlabel('Продолжительность поездки (мин)')\n",
    "plt.ylabel('Частота')\n",
    "\n",
    "# Гистограмма для пользователей с подпиской\n",
    "plt.subplot(1, 2, 2)\n",
    "sns.histplot(subscription_df['duration'], bins=30, kde=True, color='orange')\n",
    "plt.title('Распределение продолжительности поездок для пользователей с подпиской')\n",
    "plt.xlabel('Продолжительность поездки (мин)')\n",
    "plt.ylabel('Частота')\n",
    "\n",
    "plt.tight_layout()\n",
    "plt.show()"
   ]
  },
  {
   "cell_type": "markdown",
   "id": "e794c25e",
   "metadata": {},
   "source": [
    "**Общие выводы:**\n",
    "\n",
    "- Гистограммы демонстрируют два разных распределения продолжительности поездок для пользователей с подпиской и без.\n",
    "- Разная форма распределения: Обе группы демонстрируют положительную асимметрию, то есть длинный правый хвост. Это означает, что есть небольшое количество очень длинных поездок, которые влияют на среднее значение.\n",
    "\n",
    "Различия между группами:\n",
    "- Пользователи без подписки: Распределение более разбросанное. Это свидетельствует о большей вариативности в продолжительности поездок для этой группы пользователей.\n",
    "- Пользователи с подпиской: Распределение более сконцентрировано вокруг среднего значения, с менее выраженным правым хвостом.  Средние значения обоих групп схожи.  Правый хвост у распределения продолжительности поездок для пользователей с подпиской чуть длиннее. Это значит, что у этой группы пользователей есть больше поездок длительностью выше среднего значения, чем у пользователей без подписки. "
   ]
  },
  {
   "cell_type": "code",
   "execution_count": 36,
   "id": "f76b9cb6",
   "metadata": {
    "scrolled": true
   },
   "outputs": [
    {
     "data": {
      "text/plain": [
       "count    11568.000000\n",
       "mean        17.390909\n",
       "std          6.326803\n",
       "min          0.500000\n",
       "25%         12.958437\n",
       "50%         17.326890\n",
       "75%         21.594071\n",
       "max         34.948498\n",
       "Name: duration, dtype: float64"
      ]
     },
     "metadata": {},
     "output_type": "display_data"
    },
    {
     "data": {
      "text/plain": [
       "count    6500.000000\n",
       "mean       18.541985\n",
       "std         5.572048\n",
       "min         3.760353\n",
       "25%        14.524654\n",
       "50%        18.178153\n",
       "75%        21.884129\n",
       "max        40.823963\n",
       "Name: duration, dtype: float64"
      ]
     },
     "metadata": {},
     "output_type": "display_data"
    }
   ],
   "source": [
    "display(no_subscription_df['duration'].describe())\n",
    "display(subscription_df['duration'].describe())"
   ]
  },
  {
   "cell_type": "markdown",
   "id": "99bb1558",
   "metadata": {},
   "source": [
    "- Среднее значение: На основе количественных данных можно сделать вывод, что средняя продолжительность поездок для пользователей с подпиской и без нее практически одинакова.\n",
    "- Стандартное отклонение: Стандартное отклонение у пользователей без подписки несколько выше, что указывает на больший разброс в продолжительности их поездок.\n",
    "- У пользователей с подпиской есть больше поездок длительностью выше среднего значения, чем у пользователей без подписки."
   ]
  },
  {
   "cell_type": "code",
   "execution_count": 37,
   "id": "48c57d91",
   "metadata": {},
   "outputs": [
    {
     "data": {
      "text/plain": [
       "user_id              0\n",
       "name                 0\n",
       "age                  0\n",
       "city                 0\n",
       "subscription_type    0\n",
       "distance             0\n",
       "duration             0\n",
       "date                 0\n",
       "month                0\n",
       "minute_price         0\n",
       "start_ride_price     0\n",
       "subscription_fee     0\n",
       "dtype: int64"
      ]
     },
     "execution_count": 37,
     "metadata": {},
     "output_type": "execute_result"
    }
   ],
   "source": [
    "# Проверка на пропуски в исходных данных\n",
    "user_rides_subscriptions.isnull().sum()"
   ]
  },
  {
   "cell_type": "code",
   "execution_count": 38,
   "id": "53049e0a",
   "metadata": {
    "scrolled": true
   },
   "outputs": [
    {
     "data": {
      "text/html": [
       "<div>\n",
       "<style scoped>\n",
       "    .dataframe tbody tr th:only-of-type {\n",
       "        vertical-align: middle;\n",
       "    }\n",
       "\n",
       "    .dataframe tbody tr th {\n",
       "        vertical-align: top;\n",
       "    }\n",
       "\n",
       "    .dataframe thead th {\n",
       "        text-align: right;\n",
       "    }\n",
       "</style>\n",
       "<table border=\"1\" class=\"dataframe\">\n",
       "  <thead>\n",
       "    <tr style=\"text-align: right;\">\n",
       "      <th></th>\n",
       "      <th>user_id</th>\n",
       "      <th>month</th>\n",
       "      <th>distance</th>\n",
       "      <th>duration</th>\n",
       "      <th>trips_count</th>\n",
       "    </tr>\n",
       "  </thead>\n",
       "  <tbody>\n",
       "    <tr>\n",
       "      <th>0</th>\n",
       "      <td>1</td>\n",
       "      <td>1</td>\n",
       "      <td>7027.511294</td>\n",
       "      <td>42.0</td>\n",
       "      <td>2</td>\n",
       "    </tr>\n",
       "    <tr>\n",
       "      <th>1</th>\n",
       "      <td>1</td>\n",
       "      <td>4</td>\n",
       "      <td>754.159807</td>\n",
       "      <td>7.0</td>\n",
       "      <td>1</td>\n",
       "    </tr>\n",
       "    <tr>\n",
       "      <th>2</th>\n",
       "      <td>1</td>\n",
       "      <td>8</td>\n",
       "      <td>6723.470560</td>\n",
       "      <td>46.0</td>\n",
       "      <td>2</td>\n",
       "    </tr>\n",
       "    <tr>\n",
       "      <th>3</th>\n",
       "      <td>1</td>\n",
       "      <td>10</td>\n",
       "      <td>5809.911100</td>\n",
       "      <td>32.0</td>\n",
       "      <td>2</td>\n",
       "    </tr>\n",
       "    <tr>\n",
       "      <th>4</th>\n",
       "      <td>1</td>\n",
       "      <td>11</td>\n",
       "      <td>7003.499363</td>\n",
       "      <td>56.0</td>\n",
       "      <td>3</td>\n",
       "    </tr>\n",
       "    <tr>\n",
       "      <th>...</th>\n",
       "      <td>...</td>\n",
       "      <td>...</td>\n",
       "      <td>...</td>\n",
       "      <td>...</td>\n",
       "      <td>...</td>\n",
       "    </tr>\n",
       "    <tr>\n",
       "      <th>11326</th>\n",
       "      <td>1534</td>\n",
       "      <td>6</td>\n",
       "      <td>3409.468534</td>\n",
       "      <td>26.0</td>\n",
       "      <td>2</td>\n",
       "    </tr>\n",
       "    <tr>\n",
       "      <th>11327</th>\n",
       "      <td>1534</td>\n",
       "      <td>8</td>\n",
       "      <td>7622.453034</td>\n",
       "      <td>48.0</td>\n",
       "      <td>2</td>\n",
       "    </tr>\n",
       "    <tr>\n",
       "      <th>11328</th>\n",
       "      <td>1534</td>\n",
       "      <td>9</td>\n",
       "      <td>4928.173852</td>\n",
       "      <td>23.0</td>\n",
       "      <td>1</td>\n",
       "    </tr>\n",
       "    <tr>\n",
       "      <th>11329</th>\n",
       "      <td>1534</td>\n",
       "      <td>11</td>\n",
       "      <td>13350.015305</td>\n",
       "      <td>78.0</td>\n",
       "      <td>4</td>\n",
       "    </tr>\n",
       "    <tr>\n",
       "      <th>11330</th>\n",
       "      <td>1534</td>\n",
       "      <td>12</td>\n",
       "      <td>2371.711192</td>\n",
       "      <td>16.0</td>\n",
       "      <td>1</td>\n",
       "    </tr>\n",
       "  </tbody>\n",
       "</table>\n",
       "<p>11331 rows × 5 columns</p>\n",
       "</div>"
      ],
      "text/plain": [
       "       user_id  month      distance  duration  trips_count\n",
       "0            1      1   7027.511294      42.0            2\n",
       "1            1      4    754.159807       7.0            1\n",
       "2            1      8   6723.470560      46.0            2\n",
       "3            1     10   5809.911100      32.0            2\n",
       "4            1     11   7003.499363      56.0            3\n",
       "...        ...    ...           ...       ...          ...\n",
       "11326     1534      6   3409.468534      26.0            2\n",
       "11327     1534      8   7622.453034      48.0            2\n",
       "11328     1534      9   4928.173852      23.0            1\n",
       "11329     1534     11  13350.015305      78.0            4\n",
       "11330     1534     12   2371.711192      16.0            1\n",
       "\n",
       "[11331 rows x 5 columns]"
      ]
     },
     "execution_count": 38,
     "metadata": {},
     "output_type": "execute_result"
    }
   ],
   "source": [
    "# Округление продолжительности каждой поездки до следующей целой минуты\n",
    "user_rides_subscriptions['duration'] = np.ceil(user_rides_subscriptions['duration'])\n",
    "\n",
    "# 5.1 Создание агрегированного датафрейма с суммарным расстоянием, суммарным временем и количеством поездок\n",
    "aggregated_data = user_rides_subscriptions.pivot_table(\n",
    "    index=['user_id', 'month'], \n",
    "    values=['distance', 'duration'], \n",
    "    aggfunc={'distance': 'sum', 'duration': 'sum', 'user_id': 'count'}\n",
    ").rename(columns={'user_id': 'trips_count'}).reset_index()\n",
    "\n",
    "# Округление продолжительности поездок до следующего целого числа\n",
    "aggregated_data['duration'] = np.ceil(aggregated_data['duration'])\n",
    "\n",
    "aggregated_data"
   ]
  },
  {
   "cell_type": "code",
   "execution_count": 39,
   "id": "2b755f33",
   "metadata": {},
   "outputs": [],
   "source": [
    "aggregated_data = pd.merge(aggregated_data, user_rides_subscriptions[['user_id', 'month', 'subscription_type', 'start_ride_price', 'minute_price', 'subscription_fee']], on=['user_id', 'month'], how='left')\n"
   ]
  },
  {
   "cell_type": "code",
   "execution_count": 40,
   "id": "64483d70",
   "metadata": {},
   "outputs": [
    {
     "data": {
      "text/html": [
       "<div>\n",
       "<style scoped>\n",
       "    .dataframe tbody tr th:only-of-type {\n",
       "        vertical-align: middle;\n",
       "    }\n",
       "\n",
       "    .dataframe tbody tr th {\n",
       "        vertical-align: top;\n",
       "    }\n",
       "\n",
       "    .dataframe thead th {\n",
       "        text-align: right;\n",
       "    }\n",
       "</style>\n",
       "<table border=\"1\" class=\"dataframe\">\n",
       "  <thead>\n",
       "    <tr style=\"text-align: right;\">\n",
       "      <th></th>\n",
       "      <th>user_id</th>\n",
       "      <th>month</th>\n",
       "      <th>distance</th>\n",
       "      <th>duration</th>\n",
       "      <th>trips_count</th>\n",
       "      <th>subscription_type</th>\n",
       "      <th>start_ride_price</th>\n",
       "      <th>minute_price</th>\n",
       "      <th>subscription_fee</th>\n",
       "      <th>monthly_revenue</th>\n",
       "    </tr>\n",
       "  </thead>\n",
       "  <tbody>\n",
       "    <tr>\n",
       "      <th>0</th>\n",
       "      <td>1</td>\n",
       "      <td>1</td>\n",
       "      <td>7027.511294</td>\n",
       "      <td>42.0</td>\n",
       "      <td>2</td>\n",
       "      <td>ultra</td>\n",
       "      <td>0</td>\n",
       "      <td>6</td>\n",
       "      <td>199</td>\n",
       "      <td>451.0</td>\n",
       "    </tr>\n",
       "    <tr>\n",
       "      <th>1</th>\n",
       "      <td>1</td>\n",
       "      <td>1</td>\n",
       "      <td>7027.511294</td>\n",
       "      <td>42.0</td>\n",
       "      <td>2</td>\n",
       "      <td>ultra</td>\n",
       "      <td>0</td>\n",
       "      <td>6</td>\n",
       "      <td>199</td>\n",
       "      <td>451.0</td>\n",
       "    </tr>\n",
       "    <tr>\n",
       "      <th>2</th>\n",
       "      <td>1</td>\n",
       "      <td>4</td>\n",
       "      <td>754.159807</td>\n",
       "      <td>7.0</td>\n",
       "      <td>1</td>\n",
       "      <td>ultra</td>\n",
       "      <td>0</td>\n",
       "      <td>6</td>\n",
       "      <td>199</td>\n",
       "      <td>241.0</td>\n",
       "    </tr>\n",
       "    <tr>\n",
       "      <th>3</th>\n",
       "      <td>1</td>\n",
       "      <td>8</td>\n",
       "      <td>6723.470560</td>\n",
       "      <td>46.0</td>\n",
       "      <td>2</td>\n",
       "      <td>ultra</td>\n",
       "      <td>0</td>\n",
       "      <td>6</td>\n",
       "      <td>199</td>\n",
       "      <td>475.0</td>\n",
       "    </tr>\n",
       "    <tr>\n",
       "      <th>4</th>\n",
       "      <td>1</td>\n",
       "      <td>8</td>\n",
       "      <td>6723.470560</td>\n",
       "      <td>46.0</td>\n",
       "      <td>2</td>\n",
       "      <td>ultra</td>\n",
       "      <td>0</td>\n",
       "      <td>6</td>\n",
       "      <td>199</td>\n",
       "      <td>475.0</td>\n",
       "    </tr>\n",
       "    <tr>\n",
       "      <th>...</th>\n",
       "      <td>...</td>\n",
       "      <td>...</td>\n",
       "      <td>...</td>\n",
       "      <td>...</td>\n",
       "      <td>...</td>\n",
       "      <td>...</td>\n",
       "      <td>...</td>\n",
       "      <td>...</td>\n",
       "      <td>...</td>\n",
       "      <td>...</td>\n",
       "    </tr>\n",
       "    <tr>\n",
       "      <th>18063</th>\n",
       "      <td>1534</td>\n",
       "      <td>11</td>\n",
       "      <td>13350.015305</td>\n",
       "      <td>78.0</td>\n",
       "      <td>4</td>\n",
       "      <td>free</td>\n",
       "      <td>50</td>\n",
       "      <td>8</td>\n",
       "      <td>0</td>\n",
       "      <td>824.0</td>\n",
       "    </tr>\n",
       "    <tr>\n",
       "      <th>18064</th>\n",
       "      <td>1534</td>\n",
       "      <td>11</td>\n",
       "      <td>13350.015305</td>\n",
       "      <td>78.0</td>\n",
       "      <td>4</td>\n",
       "      <td>free</td>\n",
       "      <td>50</td>\n",
       "      <td>8</td>\n",
       "      <td>0</td>\n",
       "      <td>824.0</td>\n",
       "    </tr>\n",
       "    <tr>\n",
       "      <th>18065</th>\n",
       "      <td>1534</td>\n",
       "      <td>11</td>\n",
       "      <td>13350.015305</td>\n",
       "      <td>78.0</td>\n",
       "      <td>4</td>\n",
       "      <td>free</td>\n",
       "      <td>50</td>\n",
       "      <td>8</td>\n",
       "      <td>0</td>\n",
       "      <td>824.0</td>\n",
       "    </tr>\n",
       "    <tr>\n",
       "      <th>18066</th>\n",
       "      <td>1534</td>\n",
       "      <td>11</td>\n",
       "      <td>13350.015305</td>\n",
       "      <td>78.0</td>\n",
       "      <td>4</td>\n",
       "      <td>free</td>\n",
       "      <td>50</td>\n",
       "      <td>8</td>\n",
       "      <td>0</td>\n",
       "      <td>824.0</td>\n",
       "    </tr>\n",
       "    <tr>\n",
       "      <th>18067</th>\n",
       "      <td>1534</td>\n",
       "      <td>12</td>\n",
       "      <td>2371.711192</td>\n",
       "      <td>16.0</td>\n",
       "      <td>1</td>\n",
       "      <td>free</td>\n",
       "      <td>50</td>\n",
       "      <td>8</td>\n",
       "      <td>0</td>\n",
       "      <td>178.0</td>\n",
       "    </tr>\n",
       "  </tbody>\n",
       "</table>\n",
       "<p>18068 rows × 10 columns</p>\n",
       "</div>"
      ],
      "text/plain": [
       "       user_id  month      distance  duration  trips_count subscription_type  \\\n",
       "0            1      1   7027.511294      42.0            2             ultra   \n",
       "1            1      1   7027.511294      42.0            2             ultra   \n",
       "2            1      4    754.159807       7.0            1             ultra   \n",
       "3            1      8   6723.470560      46.0            2             ultra   \n",
       "4            1      8   6723.470560      46.0            2             ultra   \n",
       "...        ...    ...           ...       ...          ...               ...   \n",
       "18063     1534     11  13350.015305      78.0            4              free   \n",
       "18064     1534     11  13350.015305      78.0            4              free   \n",
       "18065     1534     11  13350.015305      78.0            4              free   \n",
       "18066     1534     11  13350.015305      78.0            4              free   \n",
       "18067     1534     12   2371.711192      16.0            1              free   \n",
       "\n",
       "       start_ride_price  minute_price  subscription_fee  monthly_revenue  \n",
       "0                     0             6               199            451.0  \n",
       "1                     0             6               199            451.0  \n",
       "2                     0             6               199            241.0  \n",
       "3                     0             6               199            475.0  \n",
       "4                     0             6               199            475.0  \n",
       "...                 ...           ...               ...              ...  \n",
       "18063                50             8                 0            824.0  \n",
       "18064                50             8                 0            824.0  \n",
       "18065                50             8                 0            824.0  \n",
       "18066                50             8                 0            824.0  \n",
       "18067                50             8                 0            178.0  \n",
       "\n",
       "[18068 rows x 10 columns]"
      ]
     },
     "execution_count": 40,
     "metadata": {},
     "output_type": "execute_result"
    }
   ],
   "source": [
    "# 5.2 Рассчет помесячной выручки\n",
    "aggregated_data['monthly_revenue'] = (\n",
    "    aggregated_data['start_ride_price'] * aggregated_data['trips_count'] +\n",
    "    aggregated_data['minute_price'] * aggregated_data['duration'] +\n",
    "    aggregated_data['subscription_fee']\n",
    ")\n",
    "\n",
    "aggregated_data"
   ]
  },
  {
   "cell_type": "code",
   "execution_count": 41,
   "id": "a1052e69",
   "metadata": {},
   "outputs": [
    {
     "data": {
      "text/plain": [
       "0"
      ]
     },
     "execution_count": 41,
     "metadata": {},
     "output_type": "execute_result"
    }
   ],
   "source": [
    "user_rides_subscriptions.duplicated().sum()"
   ]
  },
  {
   "cell_type": "code",
   "execution_count": 42,
   "id": "e92f4285",
   "metadata": {
    "scrolled": true
   },
   "outputs": [
    {
     "data": {
      "text/plain": [
       "6737"
      ]
     },
     "execution_count": 42,
     "metadata": {},
     "output_type": "execute_result"
    }
   ],
   "source": [
    "aggregated_data.duplicated().sum()"
   ]
  },
  {
   "cell_type": "markdown",
   "id": "47d06994",
   "metadata": {},
   "source": [
    "Если данные объединяются несколько раз, это может привести к дублированию строк, особенно если объединение выполняется с использованием `how='left'`, как выше."
   ]
  },
  {
   "cell_type": "code",
   "execution_count": 43,
   "id": "74dbb179",
   "metadata": {},
   "outputs": [
    {
     "data": {
      "text/plain": [
       "0"
      ]
     },
     "execution_count": 43,
     "metadata": {},
     "output_type": "execute_result"
    }
   ],
   "source": [
    "# Удаление дубликатов\n",
    "aggregated_data = aggregated_data.drop_duplicates()\n",
    "aggregated_data.duplicated().sum()"
   ]
  },
  {
   "cell_type": "code",
   "execution_count": 44,
   "id": "549df9d6",
   "metadata": {},
   "outputs": [
    {
     "data": {
      "text/html": [
       "<div>\n",
       "<style scoped>\n",
       "    .dataframe tbody tr th:only-of-type {\n",
       "        vertical-align: middle;\n",
       "    }\n",
       "\n",
       "    .dataframe tbody tr th {\n",
       "        vertical-align: top;\n",
       "    }\n",
       "\n",
       "    .dataframe thead th {\n",
       "        text-align: right;\n",
       "    }\n",
       "</style>\n",
       "<table border=\"1\" class=\"dataframe\">\n",
       "  <thead>\n",
       "    <tr style=\"text-align: right;\">\n",
       "      <th></th>\n",
       "      <th>user_id</th>\n",
       "      <th>month</th>\n",
       "      <th>distance</th>\n",
       "      <th>duration</th>\n",
       "      <th>trips_count</th>\n",
       "      <th>subscription_type</th>\n",
       "      <th>start_ride_price</th>\n",
       "      <th>minute_price</th>\n",
       "      <th>subscription_fee</th>\n",
       "      <th>monthly_revenue</th>\n",
       "    </tr>\n",
       "  </thead>\n",
       "  <tbody>\n",
       "    <tr>\n",
       "      <th>0</th>\n",
       "      <td>1</td>\n",
       "      <td>1</td>\n",
       "      <td>7027.511294</td>\n",
       "      <td>42.0</td>\n",
       "      <td>2</td>\n",
       "      <td>ultra</td>\n",
       "      <td>0</td>\n",
       "      <td>6</td>\n",
       "      <td>199</td>\n",
       "      <td>451.0</td>\n",
       "    </tr>\n",
       "    <tr>\n",
       "      <th>2</th>\n",
       "      <td>1</td>\n",
       "      <td>4</td>\n",
       "      <td>754.159807</td>\n",
       "      <td>7.0</td>\n",
       "      <td>1</td>\n",
       "      <td>ultra</td>\n",
       "      <td>0</td>\n",
       "      <td>6</td>\n",
       "      <td>199</td>\n",
       "      <td>241.0</td>\n",
       "    </tr>\n",
       "    <tr>\n",
       "      <th>3</th>\n",
       "      <td>1</td>\n",
       "      <td>8</td>\n",
       "      <td>6723.470560</td>\n",
       "      <td>46.0</td>\n",
       "      <td>2</td>\n",
       "      <td>ultra</td>\n",
       "      <td>0</td>\n",
       "      <td>6</td>\n",
       "      <td>199</td>\n",
       "      <td>475.0</td>\n",
       "    </tr>\n",
       "    <tr>\n",
       "      <th>5</th>\n",
       "      <td>1</td>\n",
       "      <td>10</td>\n",
       "      <td>5809.911100</td>\n",
       "      <td>32.0</td>\n",
       "      <td>2</td>\n",
       "      <td>ultra</td>\n",
       "      <td>0</td>\n",
       "      <td>6</td>\n",
       "      <td>199</td>\n",
       "      <td>391.0</td>\n",
       "    </tr>\n",
       "    <tr>\n",
       "      <th>7</th>\n",
       "      <td>1</td>\n",
       "      <td>11</td>\n",
       "      <td>7003.499363</td>\n",
       "      <td>56.0</td>\n",
       "      <td>3</td>\n",
       "      <td>ultra</td>\n",
       "      <td>0</td>\n",
       "      <td>6</td>\n",
       "      <td>199</td>\n",
       "      <td>535.0</td>\n",
       "    </tr>\n",
       "    <tr>\n",
       "      <th>...</th>\n",
       "      <td>...</td>\n",
       "      <td>...</td>\n",
       "      <td>...</td>\n",
       "      <td>...</td>\n",
       "      <td>...</td>\n",
       "      <td>...</td>\n",
       "      <td>...</td>\n",
       "      <td>...</td>\n",
       "      <td>...</td>\n",
       "      <td>...</td>\n",
       "    </tr>\n",
       "    <tr>\n",
       "      <th>18058</th>\n",
       "      <td>1534</td>\n",
       "      <td>6</td>\n",
       "      <td>3409.468534</td>\n",
       "      <td>26.0</td>\n",
       "      <td>2</td>\n",
       "      <td>free</td>\n",
       "      <td>50</td>\n",
       "      <td>8</td>\n",
       "      <td>0</td>\n",
       "      <td>308.0</td>\n",
       "    </tr>\n",
       "    <tr>\n",
       "      <th>18060</th>\n",
       "      <td>1534</td>\n",
       "      <td>8</td>\n",
       "      <td>7622.453034</td>\n",
       "      <td>48.0</td>\n",
       "      <td>2</td>\n",
       "      <td>free</td>\n",
       "      <td>50</td>\n",
       "      <td>8</td>\n",
       "      <td>0</td>\n",
       "      <td>484.0</td>\n",
       "    </tr>\n",
       "    <tr>\n",
       "      <th>18062</th>\n",
       "      <td>1534</td>\n",
       "      <td>9</td>\n",
       "      <td>4928.173852</td>\n",
       "      <td>23.0</td>\n",
       "      <td>1</td>\n",
       "      <td>free</td>\n",
       "      <td>50</td>\n",
       "      <td>8</td>\n",
       "      <td>0</td>\n",
       "      <td>234.0</td>\n",
       "    </tr>\n",
       "    <tr>\n",
       "      <th>18063</th>\n",
       "      <td>1534</td>\n",
       "      <td>11</td>\n",
       "      <td>13350.015305</td>\n",
       "      <td>78.0</td>\n",
       "      <td>4</td>\n",
       "      <td>free</td>\n",
       "      <td>50</td>\n",
       "      <td>8</td>\n",
       "      <td>0</td>\n",
       "      <td>824.0</td>\n",
       "    </tr>\n",
       "    <tr>\n",
       "      <th>18067</th>\n",
       "      <td>1534</td>\n",
       "      <td>12</td>\n",
       "      <td>2371.711192</td>\n",
       "      <td>16.0</td>\n",
       "      <td>1</td>\n",
       "      <td>free</td>\n",
       "      <td>50</td>\n",
       "      <td>8</td>\n",
       "      <td>0</td>\n",
       "      <td>178.0</td>\n",
       "    </tr>\n",
       "  </tbody>\n",
       "</table>\n",
       "<p>11331 rows × 10 columns</p>\n",
       "</div>"
      ],
      "text/plain": [
       "       user_id  month      distance  duration  trips_count subscription_type  \\\n",
       "0            1      1   7027.511294      42.0            2             ultra   \n",
       "2            1      4    754.159807       7.0            1             ultra   \n",
       "3            1      8   6723.470560      46.0            2             ultra   \n",
       "5            1     10   5809.911100      32.0            2             ultra   \n",
       "7            1     11   7003.499363      56.0            3             ultra   \n",
       "...        ...    ...           ...       ...          ...               ...   \n",
       "18058     1534      6   3409.468534      26.0            2              free   \n",
       "18060     1534      8   7622.453034      48.0            2              free   \n",
       "18062     1534      9   4928.173852      23.0            1              free   \n",
       "18063     1534     11  13350.015305      78.0            4              free   \n",
       "18067     1534     12   2371.711192      16.0            1              free   \n",
       "\n",
       "       start_ride_price  minute_price  subscription_fee  monthly_revenue  \n",
       "0                     0             6               199            451.0  \n",
       "2                     0             6               199            241.0  \n",
       "3                     0             6               199            475.0  \n",
       "5                     0             6               199            391.0  \n",
       "7                     0             6               199            535.0  \n",
       "...                 ...           ...               ...              ...  \n",
       "18058                50             8                 0            308.0  \n",
       "18060                50             8                 0            484.0  \n",
       "18062                50             8                 0            234.0  \n",
       "18063                50             8                 0            824.0  \n",
       "18067                50             8                 0            178.0  \n",
       "\n",
       "[11331 rows x 10 columns]"
      ]
     },
     "execution_count": 44,
     "metadata": {},
     "output_type": "execute_result"
    }
   ],
   "source": [
    "aggregated_data"
   ]
  },
  {
   "cell_type": "markdown",
   "id": "41545ac0",
   "metadata": {},
   "source": [
    "#### Шаг 6. Проверка гипотез"
   ]
  },
  {
   "cell_type": "markdown",
   "id": "638e8851",
   "metadata": {},
   "source": [
    "**6.1** Для проверки гипотезы о том, тратят ли пользователи с подпиской больше времени на поездки, можно воспользоваться t-тестом для независимых выборок. Он позволит сравнить среднее время поездок двух групп: пользователей с подпиской и без неё.\n",
    "\n",
    "Формулировка гипотез:\n",
    "- Нулевая гипотеза (H₀): Среднее время поездок пользователей с подпиской не отличается от времени поездок пользователей без подписки.\n",
    "- Альтернативная гипотеза (H₁): Среднее время поездок пользователей с подпиской больше, чем у пользователей без подписки."
   ]
  },
  {
   "cell_type": "code",
   "execution_count": 45,
   "id": "23ea867b",
   "metadata": {},
   "outputs": [],
   "source": [
    "# Выборки продолжительности поездок\n",
    "subscribed_duration = subscription_df['duration']\n",
    "non_subscribed_duration = no_subscription_df['duration']"
   ]
  },
  {
   "cell_type": "code",
   "execution_count": 46,
   "id": "8905c131",
   "metadata": {},
   "outputs": [
    {
     "data": {
      "text/plain": [
       "'Дисперсии не равны'"
      ]
     },
     "execution_count": 46,
     "metadata": {},
     "output_type": "execute_result"
    }
   ],
   "source": [
    "# Сравнение дисперсий\n",
    "var_subscribed = np.var(subscribed_duration, ddof=1)\n",
    "var_non_subscribed = np.var(non_subscribed_duration, ddof=1)\n",
    "\n",
    "# Сравнение дисперсий\n",
    "'Дисперсии не равны' if var_subscribed != var_non_subscribed else 'Дисперсии равны'"
   ]
  },
  {
   "cell_type": "code",
   "execution_count": 47,
   "id": "58892e46",
   "metadata": {
    "scrolled": true
   },
   "outputs": [
    {
     "data": {
      "text/plain": [
       "'Размеры выборок не равны'"
      ]
     },
     "execution_count": 47,
     "metadata": {},
     "output_type": "execute_result"
    }
   ],
   "source": [
    "# Сравнение размеров выборок\n",
    "size_subscribed = len(subscribed_duration)\n",
    "size_non_subscribed = len(non_subscribed_duration)\n",
    "\n",
    "'Размеры выборок не равны' if size_subscribed != size_non_subscribed  else 'Размеры выборок'"
   ]
  },
  {
   "cell_type": "code",
   "execution_count": 48,
   "id": "1dfe707d",
   "metadata": {},
   "outputs": [
    {
     "name": "stdout",
     "output_type": "stream",
     "text": [
      "p-value: 5.6757813771289775e-37\n",
      "Отклоняем нулевую гипотезу: пользователи с подпиской тратят больше времени на поездки.\n"
     ]
    }
   ],
   "source": [
    "# Проведение t-теста, если выборки разного размера или дисперсии разные\n",
    "t_test_result = stats.ttest_ind(subscribed_duration, non_subscribed_duration, equal_var=False, alternative='greater')\n",
    "\n",
    "# Уровень значимости\n",
    "alpha = 0.05\n",
    "\n",
    "# Логика для проверки p-value\n",
    "result = (\n",
    "    \"Отклоняем нулевую гипотезу: пользователи с подпиской тратят больше времени на поездки.\"\n",
    "    if t_test_result.pvalue < alpha\n",
    "    else \"Не отклоняем нулевую гипотезу: среднее время поездок не отличается между пользователями с подпиской и без.\"\n",
    ")\n",
    "\n",
    "# Вывод p-value и результата теста\n",
    "print(f\"p-value: {t_test_result.pvalue}\")\n",
    "print(result)"
   ]
  },
  {
   "cell_type": "markdown",
   "id": "56084fbf",
   "metadata": {},
   "source": [
    "**6.2** Задачу можно сформулировать как проверку гипотезы о том, что среднее расстояние, которое проезжают пользователи с подпиской, не превышает 3130 метров. Это задача на односторонний t-тест для средних значений. \n",
    "\n",
    "Гипотезы:\n",
    "- Нулевая гипотеза (H₀): Среднее расстояние за одну поездку пользователей с подпиской не превышает 3130 метров, то есть 𝜇≤3130.\n",
    "- Альтернативная гипотеза (H₁): Среднее расстояние за одну поездку пользователей с подпиской больше 3130 метров, то есть μ>3130."
   ]
  },
  {
   "cell_type": "code",
   "execution_count": 49,
   "id": "734dbd4b",
   "metadata": {},
   "outputs": [
    {
     "name": "stdout",
     "output_type": "stream",
     "text": [
      "p-value: 0.9195368847849785\n",
      "Не отклоняем нулевую гипотезу: среднее расстояние пользователей с подпиской не превышает 3130 метров.\n"
     ]
    }
   ],
   "source": [
    "# Извлечение данных о расстоянии поездок для пользователей с подпиской\n",
    "subscribed_distance = subscription_df['distance']\n",
    "\n",
    "# Среднее значение, с которым сравниваем\n",
    "optimal_distance = 3130\n",
    "\n",
    "# Проведение одностороннего t-теста (alternative='greater' для проверки превышения)\n",
    "t_test_result = stats.ttest_1samp(subscribed_distance, optimal_distance, alternative='greater')\n",
    "\n",
    "# Уровень значимости\n",
    "alpha = 0.05\n",
    "\n",
    "# Вывод результата\n",
    "if t_test_result.pvalue < alpha:\n",
    "    result = \"Отклоняем нулевую гипотезу: пользователи с подпиской проезжают больше 3130 метров за одну поездку.\"\n",
    "else:\n",
    "    result = \"Не отклоняем нулевую гипотезу: среднее расстояние пользователей с подпиской не превышает 3130 метров.\"\n",
    "\n",
    "# Вывод p-value и результата теста\n",
    "print(f\"p-value: {t_test_result.pvalue}\")\n",
    "print(result)"
   ]
  },
  {
   "cell_type": "markdown",
   "id": "d7d389f0",
   "metadata": {},
   "source": [
    "**6.3** Для проверки гипотезы о том, что помесячная выручка от пользователей с подпиской выше, чем выручка от пользователей без подписки, можно использовать t-тест для независимых выборок.\n",
    "\n",
    "Гипотезы:\n",
    "- Нулевая гипотеза (H₀): Средняя помесячная выручка от пользователей с подпиской не больше, чем от пользователей без подписки, то есть 𝜇 (subscribed) ≤ 𝜇 (non-subscribed).\n",
    "- Альтернативная гипотеза (H₁): Средняя помесячная выручка от пользователей с подпиской больше, чем от пользователей без подписки, то есть 𝜇 (subscribed) > 𝜇 (non-subscribed)."
   ]
  },
  {
   "cell_type": "code",
   "execution_count": 50,
   "id": "11e728c4",
   "metadata": {},
   "outputs": [
    {
     "name": "stdout",
     "output_type": "stream",
     "text": [
      "p-value: 8.874140893976874e-40\n",
      "Отклоняем нулевую гипотезу: помесячная выручка от пользователей с подпиской выше, чем выручка от пользователей без подписки.\n"
     ]
    }
   ],
   "source": [
    "# Извлечение помесячной выручки\n",
    "subscribed_revenue = aggregated_data[aggregated_data['subscription_type'] == 'ultra']['monthly_revenue']\n",
    "non_subscribed_revenue = aggregated_data[aggregated_data['subscription_type'] == 'free']['monthly_revenue']\n",
    "\n",
    "# Проведение t-теста для независимых выборок\n",
    "t_test_result = stats.ttest_ind(subscribed_revenue, non_subscribed_revenue, equal_var=False, alternative='greater')\n",
    "\n",
    "# Уровень значимости\n",
    "alpha = 0.05\n",
    "\n",
    "# Вывод результата\n",
    "if t_test_result.pvalue < alpha:\n",
    "    result = \"Отклоняем нулевую гипотезу: помесячная выручка от пользователей с подпиской выше, чем выручка от пользователей без подписки.\"\n",
    "else:\n",
    "    result = \"Не отклоняем нулевую гипотезу: помесячная выручка от пользователей с подпиской не выше, чем выручка от пользователей без подписки.\"\n",
    "\n",
    "# Вывод p-value и результата теста\n",
    "print(f\"p-value: {t_test_result.pvalue}\")\n",
    "print(result)"
   ]
  },
  {
   "cell_type": "markdown",
   "id": "085a84e3",
   "metadata": {},
   "source": [
    "**6.4** В ситуации, когда требуется проверить, произошло ли значительное снижение количества обращений в техподдержку после обновления серверов, потребуется тест, который может сравнить данные двух связанных выборок: количество обращений до обновления и после обновления для каждого пользователя. Для этого подойдет парный t-тест, который предназначен для сравнения двух связанных выборок.\n",
    "\n",
    "Гипотезы:\n",
    "- Нулевая гипотеза (H₀): Среднее количество обращений до обновления равно среднему количеству обращений после обновления. То есть разница между средними значениями равна нулю.\n",
    "- Альтернативная гипотеза (H₁): Среднее количество обращений до обновления не равно среднему количеству обращений после обновления. То есть разница между средними значениями не равна нулю."
   ]
  },
  {
   "cell_type": "code",
   "execution_count": 51,
   "id": "ca74046d",
   "metadata": {},
   "outputs": [
    {
     "ename": "NameError",
     "evalue": "name 'before_update' is not defined",
     "output_type": "error",
     "traceback": [
      "\u001b[0;31m---------------------------------------------------------------------------\u001b[0m",
      "\u001b[0;31mNameError\u001b[0m                                 Traceback (most recent call last)",
      "\u001b[0;32m/tmp/ipykernel_169/501927027.py\u001b[0m in \u001b[0;36m<module>\u001b[0;34m\u001b[0m\n\u001b[1;32m      1\u001b[0m \u001b[0;31m# Проведение парного t-теста\u001b[0m\u001b[0;34m\u001b[0m\u001b[0;34m\u001b[0m\u001b[0;34m\u001b[0m\u001b[0m\n\u001b[0;32m----> 2\u001b[0;31m \u001b[0mt_test_result\u001b[0m \u001b[0;34m=\u001b[0m \u001b[0mstats\u001b[0m\u001b[0;34m.\u001b[0m\u001b[0mttest_rel\u001b[0m\u001b[0;34m(\u001b[0m\u001b[0mbefore_update\u001b[0m\u001b[0;34m,\u001b[0m \u001b[0mafter_update\u001b[0m\u001b[0;34m)\u001b[0m\u001b[0;34m\u001b[0m\u001b[0;34m\u001b[0m\u001b[0m\n\u001b[0m\u001b[1;32m      3\u001b[0m \u001b[0;34m\u001b[0m\u001b[0m\n\u001b[1;32m      4\u001b[0m \u001b[0;31m# Уровень значимости\u001b[0m\u001b[0;34m\u001b[0m\u001b[0;34m\u001b[0m\u001b[0;34m\u001b[0m\u001b[0m\n\u001b[1;32m      5\u001b[0m \u001b[0malpha\u001b[0m \u001b[0;34m=\u001b[0m \u001b[0;36m0.05\u001b[0m\u001b[0;34m\u001b[0m\u001b[0;34m\u001b[0m\u001b[0m\n",
      "\u001b[0;31mNameError\u001b[0m: name 'before_update' is not defined"
     ]
    }
   ],
   "source": [
    "# Проведение парного t-теста\n",
    "t_test_result = stats.ttest_rel(before_update, after_update)\n",
    "\n",
    "# Уровень значимости\n",
    "alpha = 0.05\n",
    "\n",
    "# Вывод результата\n",
    "if t_test_result.pvalue < alpha:\n",
    "    result = \"Отклоняем нулевую гипотезу: количество обращений в техподдержку значительно снизилось после обновления.\"\n",
    "else:\n",
    "    result = \"Не отклоняем нулевую гипотезу: количество обращений в техподдержку не снизилось значительно после обновления.\""
   ]
  },
  {
   "cell_type": "markdown",
   "id": "df72da3f",
   "metadata": {},
   "source": [
    "**Итоговый вывод**\n",
    "1. Среднее время поездок пользователей с подпиской:\n",
    "- Гипотеза: Пользователи с подпиской тратят больше времени на поездки, чем пользователи без подписки.\n",
    "- Результат: Отклоняем нулевую гипотезу. p-value = 5.68e-37, что значительно меньше уровня значимости α = 0.05.\n",
    "- Вывод: Пользователи с подпиской действительно тратят больше времени на поездки по сравнению с пользователями без подписки. Это может свидетельствовать о том, что они используют сервис более активно или для более длительных поездок.\n",
    "\n",
    "2. Среднее расстояние поездок пользователей с подпиской:\n",
    "- Гипотеза: Среднее расстояние за одну поездку пользователей с подпиской превышает 3130 метров.\n",
    "- Результат: Не отклоняем нулевую гипотезу. p-value = 0.92, что больше уровня значимости α = 0.05.\n",
    "- Вывод: Среднее расстояние поездок пользователей с подпиской не превышает 3130 метров. Это может означать, что пользователи с подпиской не совершают значительно более длинные поездки по сравнению с установленным порогом.\n",
    "\n",
    "3. Помесячная выручка от пользователей с подпиской:\n",
    "- Гипотеза: Помесячная выручка от пользователей с подпиской выше, чем от пользователей без подписки.\n",
    "- Результат: Отклоняем нулевую гипотезу. p-value = 8.87e-40, что значительно меньше уровня значимости α = 0.05.\n",
    "- Вывод: Помесячная выручка от пользователей с подпиской значительно выше, чем у пользователей без подписки. Это подтверждает, что подписка является более прибыльной для компании.\n",
    "\n",
    "**Рекомендации для бизнеса**\n",
    "\n",
    "- Увеличение маркетинга и продвижения подписки: учитывая, что пользователи с подпиской тратят больше времени на поездки и приносят больше выручки, стоит усилить маркетинговые усилия по привлечению новых подписчиков и поощрению существующих пользователей для продления подписки.\n",
    "- Фокус на дополнительных источниках дохода: исследовать возможности для увеличения дохода от пользователей, которые не используют подписку, например, через предложения дополнительных услуг или одноразовых оплат за поездки.\n",
    "- Анализ использования сервиса: провести более детальный анализ продолжительности и расстояния поездок, чтобы лучше понять поведение подписчиков и предложить дополнительные опции или улучшения сервиса, соответствующие их потребностям."
   ]
  },
  {
   "cell_type": "markdown",
   "id": "61213c5e",
   "metadata": {},
   "source": [
    "#### Шаг 7. Распределения"
   ]
  },
  {
   "cell_type": "markdown",
   "id": "627aad5c",
   "metadata": {},
   "source": []
  },
  {
   "cell_type": "markdown",
   "id": "1a77fc79",
   "metadata": {},
   "source": []
  }
 ],
 "metadata": {
  "ExecuteTimeLog": [
   {
    "duration": 49,
    "start_time": "2024-09-15T13:20:43.093Z"
   },
   {
    "duration": 348,
    "start_time": "2024-09-15T13:20:49.360Z"
   },
   {
    "duration": 363,
    "start_time": "2024-09-15T13:20:52.092Z"
   },
   {
    "duration": 93,
    "start_time": "2024-09-15T13:21:35.967Z"
   },
   {
    "duration": 76,
    "start_time": "2024-09-15T13:21:51.336Z"
   },
   {
    "duration": 9,
    "start_time": "2024-09-15T13:22:10.483Z"
   },
   {
    "duration": 7,
    "start_time": "2024-09-15T13:22:16.654Z"
   },
   {
    "duration": 7,
    "start_time": "2024-09-15T13:22:33.234Z"
   },
   {
    "duration": 7,
    "start_time": "2024-09-15T13:22:38.435Z"
   },
   {
    "duration": 11,
    "start_time": "2024-09-15T13:30:45.352Z"
   },
   {
    "duration": 11,
    "start_time": "2024-09-15T13:31:08.296Z"
   },
   {
    "duration": 8,
    "start_time": "2024-09-15T13:31:26.315Z"
   },
   {
    "duration": 5,
    "start_time": "2024-09-15T13:33:08.239Z"
   },
   {
    "duration": 11,
    "start_time": "2024-09-15T13:33:19.433Z"
   },
   {
    "duration": 78,
    "start_time": "2024-09-15T13:33:50.962Z"
   },
   {
    "duration": 3,
    "start_time": "2024-09-15T13:35:35.933Z"
   },
   {
    "duration": 3,
    "start_time": "2024-09-15T13:35:37.943Z"
   },
   {
    "duration": 2,
    "start_time": "2024-09-15T13:35:54.340Z"
   },
   {
    "duration": 26,
    "start_time": "2024-09-15T13:35:56.779Z"
   },
   {
    "duration": 2,
    "start_time": "2024-09-15T13:36:55.168Z"
   },
   {
    "duration": 2,
    "start_time": "2024-09-15T13:37:15.677Z"
   },
   {
    "duration": 915,
    "start_time": "2024-09-15T13:37:18.015Z"
   },
   {
    "duration": 3,
    "start_time": "2024-09-15T13:37:24.029Z"
   },
   {
    "duration": 3,
    "start_time": "2024-09-15T13:37:28.658Z"
   },
   {
    "duration": 293,
    "start_time": "2024-09-15T13:37:45.084Z"
   },
   {
    "duration": 6,
    "start_time": "2024-09-15T13:38:24.056Z"
   },
   {
    "duration": 5,
    "start_time": "2024-09-15T13:38:40.883Z"
   },
   {
    "duration": 8,
    "start_time": "2024-09-15T13:38:57.276Z"
   },
   {
    "duration": 6,
    "start_time": "2024-09-15T13:41:08.430Z"
   },
   {
    "duration": 8,
    "start_time": "2024-09-15T13:41:15.974Z"
   },
   {
    "duration": 12,
    "start_time": "2024-09-15T13:41:46.424Z"
   },
   {
    "duration": 8,
    "start_time": "2024-09-15T13:42:11.152Z"
   },
   {
    "duration": 62,
    "start_time": "2024-09-15T13:43:46.881Z"
   },
   {
    "duration": 11,
    "start_time": "2024-09-15T13:43:54.590Z"
   },
   {
    "duration": 10,
    "start_time": "2024-09-15T13:46:11.763Z"
   },
   {
    "duration": 5,
    "start_time": "2024-09-15T13:47:09.134Z"
   },
   {
    "duration": 7,
    "start_time": "2024-09-15T13:47:25.020Z"
   },
   {
    "duration": 9,
    "start_time": "2024-09-15T13:48:15.108Z"
   },
   {
    "duration": 4,
    "start_time": "2024-09-15T13:53:55.840Z"
   },
   {
    "duration": 167,
    "start_time": "2024-09-15T13:54:19.991Z"
   },
   {
    "duration": 157,
    "start_time": "2024-09-15T13:54:33.043Z"
   },
   {
    "duration": 167,
    "start_time": "2024-09-15T13:54:57.094Z"
   },
   {
    "duration": 153,
    "start_time": "2024-09-15T13:57:58.932Z"
   },
   {
    "duration": 94,
    "start_time": "2024-09-15T14:11:26.443Z"
   },
   {
    "duration": 157,
    "start_time": "2024-09-15T14:12:44.417Z"
   },
   {
    "duration": 63,
    "start_time": "2024-09-15T14:17:33.343Z"
   },
   {
    "duration": 170,
    "start_time": "2024-09-15T14:18:31.427Z"
   },
   {
    "duration": 465,
    "start_time": "2024-09-15T14:22:37.754Z"
   },
   {
    "duration": 175,
    "start_time": "2024-09-15T14:22:44.114Z"
   },
   {
    "duration": 418,
    "start_time": "2024-09-15T14:32:20.889Z"
   },
   {
    "duration": 2,
    "start_time": "2024-09-15T14:43:09.232Z"
   },
   {
    "duration": 22,
    "start_time": "2024-09-15T14:43:22.887Z"
   },
   {
    "duration": 25,
    "start_time": "2024-09-15T14:44:05.702Z"
   },
   {
    "duration": 9,
    "start_time": "2024-09-15T14:47:09.327Z"
   },
   {
    "duration": 9,
    "start_time": "2024-09-15T14:55:09.000Z"
   },
   {
    "duration": 170,
    "start_time": "2024-09-15T14:55:26.952Z"
   },
   {
    "duration": 184,
    "start_time": "2024-09-15T14:56:07.197Z"
   },
   {
    "duration": 157,
    "start_time": "2024-09-15T14:57:28.843Z"
   },
   {
    "duration": 162,
    "start_time": "2024-09-15T14:58:47.003Z"
   },
   {
    "duration": 12,
    "start_time": "2024-09-15T15:21:01.748Z"
   },
   {
    "duration": 7,
    "start_time": "2024-09-15T15:21:42.215Z"
   },
   {
    "duration": 47,
    "start_time": "2024-09-15T15:22:04.131Z"
   },
   {
    "duration": 10,
    "start_time": "2024-09-15T15:24:10.507Z"
   },
   {
    "duration": 9,
    "start_time": "2024-09-15T15:24:20.040Z"
   },
   {
    "duration": 32,
    "start_time": "2024-09-15T15:24:26.584Z"
   },
   {
    "duration": 8,
    "start_time": "2024-09-15T15:24:53.438Z"
   },
   {
    "duration": 12,
    "start_time": "2024-09-15T15:25:22.738Z"
   },
   {
    "duration": 13,
    "start_time": "2024-09-15T15:35:40.247Z"
   },
   {
    "duration": 22,
    "start_time": "2024-09-15T15:52:09.064Z"
   },
   {
    "duration": 26,
    "start_time": "2024-09-15T15:52:15.615Z"
   },
   {
    "duration": 26,
    "start_time": "2024-09-15T15:53:23.781Z"
   },
   {
    "duration": 26,
    "start_time": "2024-09-15T15:54:16.606Z"
   },
   {
    "duration": 23,
    "start_time": "2024-09-15T15:55:16.379Z"
   },
   {
    "duration": 2,
    "start_time": "2024-09-15T15:55:41.893Z"
   },
   {
    "duration": 3,
    "start_time": "2024-09-15T15:55:44.557Z"
   },
   {
    "duration": 28,
    "start_time": "2024-09-15T15:55:55.147Z"
   },
   {
    "duration": 8,
    "start_time": "2024-09-15T15:58:39.879Z"
   },
   {
    "duration": 800,
    "start_time": "2024-09-15T16:09:12.921Z"
   },
   {
    "duration": 821,
    "start_time": "2024-09-15T16:09:49.932Z"
   },
   {
    "duration": 812,
    "start_time": "2024-09-15T16:11:18.266Z"
   },
   {
    "duration": 1031,
    "start_time": "2024-09-15T16:11:47.030Z"
   },
   {
    "duration": 452,
    "start_time": "2024-09-15T16:18:52.591Z"
   },
   {
    "duration": 2337,
    "start_time": "2024-09-15T16:19:00.120Z"
   },
   {
    "duration": 45,
    "start_time": "2024-09-15T16:19:51.870Z"
   },
   {
    "duration": 1063,
    "start_time": "2024-09-15T16:19:58.864Z"
   },
   {
    "duration": 376,
    "start_time": "2024-09-15T16:19:59.929Z"
   },
   {
    "duration": 17,
    "start_time": "2024-09-15T16:20:00.306Z"
   },
   {
    "duration": 45,
    "start_time": "2024-09-15T16:20:00.325Z"
   },
   {
    "duration": 43,
    "start_time": "2024-09-15T16:20:00.372Z"
   },
   {
    "duration": 11,
    "start_time": "2024-09-15T16:20:00.417Z"
   },
   {
    "duration": 14,
    "start_time": "2024-09-15T16:20:00.429Z"
   },
   {
    "duration": 27,
    "start_time": "2024-09-15T16:20:00.444Z"
   },
   {
    "duration": 14,
    "start_time": "2024-09-15T16:20:00.472Z"
   },
   {
    "duration": 10,
    "start_time": "2024-09-15T16:20:00.488Z"
   },
   {
    "duration": 8,
    "start_time": "2024-09-15T16:20:00.499Z"
   },
   {
    "duration": 182,
    "start_time": "2024-09-15T16:20:00.508Z"
   },
   {
    "duration": 140,
    "start_time": "2024-09-15T16:20:00.692Z"
   },
   {
    "duration": 183,
    "start_time": "2024-09-15T16:20:00.833Z"
   },
   {
    "duration": 399,
    "start_time": "2024-09-15T16:20:01.018Z"
   },
   {
    "duration": 407,
    "start_time": "2024-09-15T16:20:01.419Z"
   },
   {
    "duration": 24,
    "start_time": "2024-09-15T16:20:01.827Z"
   },
   {
    "duration": 29,
    "start_time": "2024-09-15T16:20:01.853Z"
   },
   {
    "duration": 171,
    "start_time": "2024-09-15T16:20:01.884Z"
   },
   {
    "duration": 15,
    "start_time": "2024-09-15T16:20:02.057Z"
   },
   {
    "duration": 184,
    "start_time": "2024-09-15T16:20:02.073Z"
   },
   {
    "duration": 14,
    "start_time": "2024-09-15T16:20:02.259Z"
   },
   {
    "duration": 40,
    "start_time": "2024-09-15T16:20:02.275Z"
   },
   {
    "duration": 9,
    "start_time": "2024-09-15T16:20:02.317Z"
   },
   {
    "duration": 6,
    "start_time": "2024-09-15T16:20:13.627Z"
   },
   {
    "duration": 5,
    "start_time": "2024-09-15T16:20:30.776Z"
   },
   {
    "duration": 4,
    "start_time": "2024-09-15T16:21:27.477Z"
   },
   {
    "duration": 17,
    "start_time": "2024-09-15T16:21:30.365Z"
   },
   {
    "duration": 17,
    "start_time": "2024-09-15T16:22:01.267Z"
   },
   {
    "duration": 20,
    "start_time": "2024-09-15T16:22:09.182Z"
   },
   {
    "duration": 9,
    "start_time": "2024-09-15T16:25:04.483Z"
   },
   {
    "duration": 3,
    "start_time": "2024-09-15T16:26:51.141Z"
   },
   {
    "duration": 7,
    "start_time": "2024-09-15T16:26:56.196Z"
   },
   {
    "duration": 8,
    "start_time": "2024-09-15T16:27:04.984Z"
   },
   {
    "duration": 8,
    "start_time": "2024-09-15T16:27:18.897Z"
   },
   {
    "duration": 8,
    "start_time": "2024-09-15T16:27:34.747Z"
   },
   {
    "duration": 11,
    "start_time": "2024-09-15T16:27:46.558Z"
   },
   {
    "duration": 1132,
    "start_time": "2024-09-15T16:31:16.942Z"
   },
   {
    "duration": 81,
    "start_time": "2024-09-15T16:31:18.076Z"
   },
   {
    "duration": 11,
    "start_time": "2024-09-15T16:31:18.158Z"
   },
   {
    "duration": 16,
    "start_time": "2024-09-15T16:31:18.171Z"
   },
   {
    "duration": 10,
    "start_time": "2024-09-15T16:31:18.188Z"
   },
   {
    "duration": 5,
    "start_time": "2024-09-15T16:31:18.200Z"
   },
   {
    "duration": 7,
    "start_time": "2024-09-15T16:31:18.207Z"
   },
   {
    "duration": 15,
    "start_time": "2024-09-15T16:31:18.216Z"
   },
   {
    "duration": 8,
    "start_time": "2024-09-15T16:31:18.233Z"
   },
   {
    "duration": 37,
    "start_time": "2024-09-15T16:31:18.244Z"
   },
   {
    "duration": 6,
    "start_time": "2024-09-15T16:31:18.283Z"
   },
   {
    "duration": 168,
    "start_time": "2024-09-15T16:31:18.291Z"
   },
   {
    "duration": 154,
    "start_time": "2024-09-15T16:31:18.460Z"
   },
   {
    "duration": 175,
    "start_time": "2024-09-15T16:31:18.616Z"
   },
   {
    "duration": 419,
    "start_time": "2024-09-15T16:31:18.793Z"
   },
   {
    "duration": 390,
    "start_time": "2024-09-15T16:31:19.214Z"
   },
   {
    "duration": 24,
    "start_time": "2024-09-15T16:31:19.605Z"
   },
   {
    "duration": 8,
    "start_time": "2024-09-15T16:31:19.630Z"
   },
   {
    "duration": 174,
    "start_time": "2024-09-15T16:31:19.639Z"
   },
   {
    "duration": 12,
    "start_time": "2024-09-15T16:31:19.815Z"
   },
   {
    "duration": 173,
    "start_time": "2024-09-15T16:31:19.828Z"
   },
   {
    "duration": 13,
    "start_time": "2024-09-15T16:31:20.003Z"
   },
   {
    "duration": 57,
    "start_time": "2024-09-15T16:31:20.017Z"
   },
   {
    "duration": 8,
    "start_time": "2024-09-15T16:31:20.076Z"
   },
   {
    "duration": 18,
    "start_time": "2024-09-15T16:31:20.086Z"
   },
   {
    "duration": 16,
    "start_time": "2024-09-15T16:31:20.105Z"
   },
   {
    "duration": 9,
    "start_time": "2024-09-15T16:31:20.122Z"
   },
   {
    "duration": 9,
    "start_time": "2024-09-15T16:31:20.133Z"
   },
   {
    "duration": 23,
    "start_time": "2024-09-15T16:32:44.024Z"
   },
   {
    "duration": 9,
    "start_time": "2024-09-15T16:32:46.144Z"
   },
   {
    "duration": 26,
    "start_time": "2024-09-15T16:33:09.482Z"
   },
   {
    "duration": 23,
    "start_time": "2024-09-15T16:33:17.202Z"
   },
   {
    "duration": 17,
    "start_time": "2024-09-15T16:33:49.016Z"
   },
   {
    "duration": 6,
    "start_time": "2024-09-15T16:33:53.932Z"
   },
   {
    "duration": 12,
    "start_time": "2024-09-15T16:33:55.610Z"
   },
   {
    "duration": 22,
    "start_time": "2024-09-15T16:34:39.917Z"
   },
   {
    "duration": 29,
    "start_time": "2024-09-15T16:34:56.235Z"
   },
   {
    "duration": 3,
    "start_time": "2024-09-15T16:35:04.237Z"
   },
   {
    "duration": 83,
    "start_time": "2024-09-15T16:35:04.243Z"
   },
   {
    "duration": 10,
    "start_time": "2024-09-15T16:35:04.328Z"
   },
   {
    "duration": 17,
    "start_time": "2024-09-15T16:35:04.339Z"
   },
   {
    "duration": 11,
    "start_time": "2024-09-15T16:35:04.358Z"
   },
   {
    "duration": 11,
    "start_time": "2024-09-15T16:35:04.371Z"
   },
   {
    "duration": 9,
    "start_time": "2024-09-15T16:35:04.383Z"
   },
   {
    "duration": 16,
    "start_time": "2024-09-15T16:35:04.393Z"
   },
   {
    "duration": 9,
    "start_time": "2024-09-15T16:35:04.410Z"
   },
   {
    "duration": 19,
    "start_time": "2024-09-15T16:35:04.420Z"
   },
   {
    "duration": 6,
    "start_time": "2024-09-15T16:35:04.441Z"
   },
   {
    "duration": 168,
    "start_time": "2024-09-15T16:35:04.448Z"
   },
   {
    "duration": 145,
    "start_time": "2024-09-15T16:35:04.617Z"
   },
   {
    "duration": 254,
    "start_time": "2024-09-15T16:35:04.763Z"
   },
   {
    "duration": 388,
    "start_time": "2024-09-15T16:35:05.018Z"
   },
   {
    "duration": 390,
    "start_time": "2024-09-15T16:35:05.407Z"
   },
   {
    "duration": 26,
    "start_time": "2024-09-15T16:35:05.799Z"
   },
   {
    "duration": 8,
    "start_time": "2024-09-15T16:35:05.826Z"
   },
   {
    "duration": 158,
    "start_time": "2024-09-15T16:35:05.835Z"
   },
   {
    "duration": 18,
    "start_time": "2024-09-15T16:35:05.995Z"
   },
   {
    "duration": 164,
    "start_time": "2024-09-15T16:35:06.014Z"
   },
   {
    "duration": 13,
    "start_time": "2024-09-15T16:35:06.179Z"
   },
   {
    "duration": 36,
    "start_time": "2024-09-15T16:35:06.193Z"
   },
   {
    "duration": 7,
    "start_time": "2024-09-15T16:35:06.230Z"
   },
   {
    "duration": 23,
    "start_time": "2024-09-15T16:35:06.239Z"
   },
   {
    "duration": 5,
    "start_time": "2024-09-15T16:35:06.264Z"
   },
   {
    "duration": 6,
    "start_time": "2024-09-15T16:35:06.271Z"
   },
   {
    "duration": 29,
    "start_time": "2024-09-15T16:35:06.278Z"
   },
   {
    "duration": 49,
    "start_time": "2024-09-16T09:38:03.713Z"
   },
   {
    "duration": 1485,
    "start_time": "2024-09-16T09:38:15.257Z"
   },
   {
    "duration": 281,
    "start_time": "2024-09-16T09:38:16.744Z"
   },
   {
    "duration": 11,
    "start_time": "2024-09-16T09:38:17.027Z"
   },
   {
    "duration": 16,
    "start_time": "2024-09-16T09:38:17.040Z"
   },
   {
    "duration": 20,
    "start_time": "2024-09-16T09:38:17.057Z"
   },
   {
    "duration": 7,
    "start_time": "2024-09-16T09:38:17.078Z"
   },
   {
    "duration": 9,
    "start_time": "2024-09-16T09:38:17.087Z"
   },
   {
    "duration": 8,
    "start_time": "2024-09-16T09:38:17.098Z"
   },
   {
    "duration": 15,
    "start_time": "2024-09-16T09:38:17.107Z"
   },
   {
    "duration": 8,
    "start_time": "2024-09-16T09:38:17.124Z"
   },
   {
    "duration": 9,
    "start_time": "2024-09-16T09:38:17.134Z"
   },
   {
    "duration": 7,
    "start_time": "2024-09-16T09:38:17.145Z"
   },
   {
    "duration": 203,
    "start_time": "2024-09-16T09:38:17.153Z"
   },
   {
    "duration": 161,
    "start_time": "2024-09-16T09:38:17.358Z"
   },
   {
    "duration": 210,
    "start_time": "2024-09-16T09:38:17.521Z"
   },
   {
    "duration": 485,
    "start_time": "2024-09-16T09:38:17.733Z"
   },
   {
    "duration": 392,
    "start_time": "2024-09-16T09:38:18.220Z"
   },
   {
    "duration": 24,
    "start_time": "2024-09-16T09:38:18.613Z"
   },
   {
    "duration": 9,
    "start_time": "2024-09-16T09:38:18.639Z"
   },
   {
    "duration": 184,
    "start_time": "2024-09-16T09:38:18.649Z"
   },
   {
    "duration": 13,
    "start_time": "2024-09-16T09:38:18.835Z"
   },
   {
    "duration": 187,
    "start_time": "2024-09-16T09:38:18.850Z"
   },
   {
    "duration": 13,
    "start_time": "2024-09-16T09:38:19.039Z"
   },
   {
    "duration": 30,
    "start_time": "2024-09-16T09:38:19.053Z"
   },
   {
    "duration": 24,
    "start_time": "2024-09-16T09:38:19.085Z"
   },
   {
    "duration": 17,
    "start_time": "2024-09-16T09:38:19.111Z"
   },
   {
    "duration": 13,
    "start_time": "2024-09-16T09:38:19.129Z"
   },
   {
    "duration": 9,
    "start_time": "2024-09-16T09:38:19.145Z"
   },
   {
    "duration": 7,
    "start_time": "2024-09-16T09:38:19.156Z"
   },
   {
    "duration": 10,
    "start_time": "2024-09-16T10:20:26.739Z"
   },
   {
    "duration": 16,
    "start_time": "2024-09-16T10:20:59.527Z"
   },
   {
    "duration": 8,
    "start_time": "2024-09-16T10:21:06.846Z"
   },
   {
    "duration": 8,
    "start_time": "2024-09-16T10:21:27.860Z"
   },
   {
    "duration": 3,
    "start_time": "2024-09-16T10:22:05.934Z"
   },
   {
    "duration": 218,
    "start_time": "2024-09-16T10:22:05.942Z"
   },
   {
    "duration": 12,
    "start_time": "2024-09-16T10:22:06.162Z"
   },
   {
    "duration": 78,
    "start_time": "2024-09-16T10:22:06.175Z"
   },
   {
    "duration": 124,
    "start_time": "2024-09-16T10:22:06.255Z"
   },
   {
    "duration": 85,
    "start_time": "2024-09-16T10:22:06.380Z"
   },
   {
    "duration": 73,
    "start_time": "2024-09-16T10:22:06.467Z"
   },
   {
    "duration": 87,
    "start_time": "2024-09-16T10:22:06.542Z"
   },
   {
    "duration": 23,
    "start_time": "2024-09-16T10:22:06.631Z"
   },
   {
    "duration": 61,
    "start_time": "2024-09-16T10:22:06.656Z"
   },
   {
    "duration": 34,
    "start_time": "2024-09-16T10:22:06.720Z"
   },
   {
    "duration": 15,
    "start_time": "2024-09-16T10:22:06.756Z"
   },
   {
    "duration": 205,
    "start_time": "2024-09-16T10:22:06.773Z"
   },
   {
    "duration": 156,
    "start_time": "2024-09-16T10:22:06.980Z"
   },
   {
    "duration": 289,
    "start_time": "2024-09-16T10:22:07.137Z"
   },
   {
    "duration": 399,
    "start_time": "2024-09-16T10:22:07.427Z"
   },
   {
    "duration": 388,
    "start_time": "2024-09-16T10:22:07.828Z"
   },
   {
    "duration": 25,
    "start_time": "2024-09-16T10:22:08.218Z"
   },
   {
    "duration": 20,
    "start_time": "2024-09-16T10:22:08.245Z"
   },
   {
    "duration": 180,
    "start_time": "2024-09-16T10:22:08.267Z"
   },
   {
    "duration": 15,
    "start_time": "2024-09-16T10:22:08.449Z"
   },
   {
    "duration": 218,
    "start_time": "2024-09-16T10:22:08.466Z"
   },
   {
    "duration": 23,
    "start_time": "2024-09-16T10:22:08.685Z"
   },
   {
    "duration": 27,
    "start_time": "2024-09-16T10:22:08.710Z"
   },
   {
    "duration": 10,
    "start_time": "2024-09-16T10:22:08.739Z"
   },
   {
    "duration": 20,
    "start_time": "2024-09-16T10:22:08.750Z"
   },
   {
    "duration": 11,
    "start_time": "2024-09-16T10:22:08.771Z"
   },
   {
    "duration": 9,
    "start_time": "2024-09-16T10:22:08.806Z"
   },
   {
    "duration": 22,
    "start_time": "2024-09-16T10:22:08.818Z"
   },
   {
    "duration": 8,
    "start_time": "2024-09-16T10:22:18.471Z"
   },
   {
    "duration": 21,
    "start_time": "2024-09-16T10:22:27.235Z"
   },
   {
    "duration": 14,
    "start_time": "2024-09-16T10:22:44.072Z"
   },
   {
    "duration": 20,
    "start_time": "2024-09-16T10:23:01.615Z"
   },
   {
    "duration": 10,
    "start_time": "2024-09-16T12:43:09.617Z"
   },
   {
    "duration": 17,
    "start_time": "2024-09-16T13:00:35.439Z"
   },
   {
    "duration": 3,
    "start_time": "2024-09-16T13:14:20.441Z"
   },
   {
    "duration": 4,
    "start_time": "2024-09-16T13:14:38.210Z"
   },
   {
    "duration": 5,
    "start_time": "2024-09-16T13:15:08.288Z"
   },
   {
    "duration": 5,
    "start_time": "2024-09-16T13:15:24.721Z"
   },
   {
    "duration": 5,
    "start_time": "2024-09-16T13:16:24.602Z"
   },
   {
    "duration": 4,
    "start_time": "2024-09-16T13:17:04.445Z"
   },
   {
    "duration": 78,
    "start_time": "2024-09-16T13:26:46.665Z"
   },
   {
    "duration": 3,
    "start_time": "2024-09-16T13:27:19.438Z"
   },
   {
    "duration": 7,
    "start_time": "2024-09-16T13:27:28.901Z"
   },
   {
    "duration": 5,
    "start_time": "2024-09-16T13:33:39.202Z"
   },
   {
    "duration": 4,
    "start_time": "2024-09-16T13:33:41.420Z"
   },
   {
    "duration": 9,
    "start_time": "2024-09-16T13:37:08.465Z"
   },
   {
    "duration": 7,
    "start_time": "2024-09-16T13:37:22.004Z"
   },
   {
    "duration": 5,
    "start_time": "2024-09-16T13:38:32.216Z"
   },
   {
    "duration": 6,
    "start_time": "2024-09-16T13:38:45.533Z"
   },
   {
    "duration": 8,
    "start_time": "2024-09-16T13:45:08.855Z"
   },
   {
    "duration": 6,
    "start_time": "2024-09-16T13:48:34.816Z"
   },
   {
    "duration": 997,
    "start_time": "2024-09-16T14:01:42.115Z"
   },
   {
    "duration": 1046,
    "start_time": "2024-09-16T14:04:30.103Z"
   },
   {
    "duration": 15,
    "start_time": "2024-09-16T14:07:16.656Z"
   },
   {
    "duration": 986,
    "start_time": "2024-09-16T14:07:20.070Z"
   },
   {
    "duration": 1223,
    "start_time": "2024-09-16T14:07:59.645Z"
   },
   {
    "duration": 79,
    "start_time": "2024-09-16T14:08:00.870Z"
   },
   {
    "duration": 16,
    "start_time": "2024-09-16T14:08:00.951Z"
   },
   {
    "duration": 61,
    "start_time": "2024-09-16T14:08:00.970Z"
   },
   {
    "duration": 26,
    "start_time": "2024-09-16T14:08:01.033Z"
   },
   {
    "duration": 29,
    "start_time": "2024-09-16T14:08:01.061Z"
   },
   {
    "duration": 67,
    "start_time": "2024-09-16T14:08:01.091Z"
   },
   {
    "duration": 51,
    "start_time": "2024-09-16T14:08:01.161Z"
   },
   {
    "duration": 45,
    "start_time": "2024-09-16T14:08:01.214Z"
   },
   {
    "duration": 10,
    "start_time": "2024-09-16T14:08:01.263Z"
   },
   {
    "duration": 35,
    "start_time": "2024-09-16T14:08:01.275Z"
   },
   {
    "duration": 8,
    "start_time": "2024-09-16T14:08:01.312Z"
   },
   {
    "duration": 192,
    "start_time": "2024-09-16T14:08:01.322Z"
   },
   {
    "duration": 165,
    "start_time": "2024-09-16T14:08:01.515Z"
   },
   {
    "duration": 194,
    "start_time": "2024-09-16T14:08:01.683Z"
   },
   {
    "duration": 448,
    "start_time": "2024-09-16T14:08:01.880Z"
   },
   {
    "duration": 402,
    "start_time": "2024-09-16T14:08:02.329Z"
   },
   {
    "duration": 25,
    "start_time": "2024-09-16T14:08:02.733Z"
   },
   {
    "duration": 39,
    "start_time": "2024-09-16T14:08:02.759Z"
   },
   {
    "duration": 195,
    "start_time": "2024-09-16T14:08:02.799Z"
   },
   {
    "duration": 15,
    "start_time": "2024-09-16T14:08:02.996Z"
   },
   {
    "duration": 211,
    "start_time": "2024-09-16T14:08:03.012Z"
   },
   {
    "duration": 13,
    "start_time": "2024-09-16T14:08:03.225Z"
   },
   {
    "duration": 28,
    "start_time": "2024-09-16T14:08:03.240Z"
   },
   {
    "duration": 35,
    "start_time": "2024-09-16T14:08:03.270Z"
   },
   {
    "duration": 20,
    "start_time": "2024-09-16T14:08:03.307Z"
   },
   {
    "duration": 14,
    "start_time": "2024-09-16T14:08:03.329Z"
   },
   {
    "duration": 18,
    "start_time": "2024-09-16T14:08:03.347Z"
   },
   {
    "duration": 34,
    "start_time": "2024-09-16T14:08:03.367Z"
   },
   {
    "duration": 11,
    "start_time": "2024-09-16T14:08:03.402Z"
   },
   {
    "duration": 12,
    "start_time": "2024-09-16T14:08:03.415Z"
   },
   {
    "duration": 15,
    "start_time": "2024-09-16T14:08:03.428Z"
   },
   {
    "duration": 10,
    "start_time": "2024-09-16T14:08:03.445Z"
   },
   {
    "duration": 50,
    "start_time": "2024-09-16T14:08:03.457Z"
   },
   {
    "duration": 45,
    "start_time": "2024-09-16T14:08:03.508Z"
   },
   {
    "duration": 7,
    "start_time": "2024-09-16T14:08:36.894Z"
   },
   {
    "duration": 10,
    "start_time": "2024-09-16T14:09:17.841Z"
   },
   {
    "duration": 101,
    "start_time": "2024-09-16T14:21:48.079Z"
   },
   {
    "duration": 9,
    "start_time": "2024-09-16T14:22:08.160Z"
   },
   {
    "duration": 1281,
    "start_time": "2024-09-16T16:32:51.905Z"
   },
   {
    "duration": 374,
    "start_time": "2024-09-16T16:32:53.190Z"
   },
   {
    "duration": 10,
    "start_time": "2024-09-16T16:32:53.566Z"
   },
   {
    "duration": 9,
    "start_time": "2024-09-16T16:32:53.577Z"
   },
   {
    "duration": 16,
    "start_time": "2024-09-16T16:32:53.587Z"
   },
   {
    "duration": 6,
    "start_time": "2024-09-16T16:32:53.605Z"
   },
   {
    "duration": 12,
    "start_time": "2024-09-16T16:32:53.612Z"
   },
   {
    "duration": 11,
    "start_time": "2024-09-16T16:32:53.625Z"
   },
   {
    "duration": 10,
    "start_time": "2024-09-16T16:32:53.638Z"
   },
   {
    "duration": 11,
    "start_time": "2024-09-16T16:32:53.651Z"
   },
   {
    "duration": 28,
    "start_time": "2024-09-16T16:32:53.664Z"
   },
   {
    "duration": 6,
    "start_time": "2024-09-16T16:32:53.693Z"
   },
   {
    "duration": 163,
    "start_time": "2024-09-16T16:32:53.701Z"
   },
   {
    "duration": 142,
    "start_time": "2024-09-16T16:32:53.865Z"
   },
   {
    "duration": 169,
    "start_time": "2024-09-16T16:32:54.009Z"
   },
   {
    "duration": 396,
    "start_time": "2024-09-16T16:32:54.179Z"
   },
   {
    "duration": 407,
    "start_time": "2024-09-16T16:32:54.577Z"
   },
   {
    "duration": 25,
    "start_time": "2024-09-16T16:32:54.985Z"
   },
   {
    "duration": 9,
    "start_time": "2024-09-16T16:32:55.011Z"
   },
   {
    "duration": 167,
    "start_time": "2024-09-16T16:32:55.022Z"
   },
   {
    "duration": 13,
    "start_time": "2024-09-16T16:32:55.190Z"
   },
   {
    "duration": 166,
    "start_time": "2024-09-16T16:32:55.204Z"
   },
   {
    "duration": 19,
    "start_time": "2024-09-16T16:32:55.372Z"
   },
   {
    "duration": 24,
    "start_time": "2024-09-16T16:32:55.393Z"
   },
   {
    "duration": 10,
    "start_time": "2024-09-16T16:32:55.418Z"
   },
   {
    "duration": 27,
    "start_time": "2024-09-16T16:32:55.429Z"
   },
   {
    "duration": 36,
    "start_time": "2024-09-16T16:32:55.457Z"
   },
   {
    "duration": 9,
    "start_time": "2024-09-16T16:32:55.497Z"
   },
   {
    "duration": 14,
    "start_time": "2024-09-16T16:32:55.507Z"
   },
   {
    "duration": 7,
    "start_time": "2024-09-16T16:32:55.522Z"
   },
   {
    "duration": 6,
    "start_time": "2024-09-16T16:32:55.530Z"
   },
   {
    "duration": 7,
    "start_time": "2024-09-16T16:32:55.538Z"
   },
   {
    "duration": 6,
    "start_time": "2024-09-16T16:32:55.546Z"
   },
   {
    "duration": 7,
    "start_time": "2024-09-16T16:32:55.554Z"
   },
   {
    "duration": 35,
    "start_time": "2024-09-16T16:32:55.562Z"
   },
   {
    "duration": 110,
    "start_time": "2024-09-16T16:32:55.598Z"
   },
   {
    "duration": 18,
    "start_time": "2024-09-16T16:36:38.034Z"
   },
   {
    "duration": 54,
    "start_time": "2024-09-17T06:01:39.390Z"
   },
   {
    "duration": 8,
    "start_time": "2024-09-17T06:01:57.530Z"
   },
   {
    "duration": 1433,
    "start_time": "2024-09-17T06:02:00.606Z"
   },
   {
    "duration": 297,
    "start_time": "2024-09-17T06:02:02.773Z"
   },
   {
    "duration": 12,
    "start_time": "2024-09-17T06:02:24.311Z"
   },
   {
    "duration": 12,
    "start_time": "2024-09-17T06:02:32.652Z"
   },
   {
    "duration": 14,
    "start_time": "2024-09-17T06:02:48.962Z"
   },
   {
    "duration": 13,
    "start_time": "2024-09-17T06:03:04.598Z"
   },
   {
    "duration": 7,
    "start_time": "2024-09-17T06:03:21.011Z"
   },
   {
    "duration": 11,
    "start_time": "2024-09-17T06:03:35.827Z"
   },
   {
    "duration": 60,
    "start_time": "2024-09-17T06:04:39.568Z"
   },
   {
    "duration": 54,
    "start_time": "2024-09-17T06:11:02.304Z"
   },
   {
    "duration": 9,
    "start_time": "2024-09-17T06:29:02.586Z"
   },
   {
    "duration": 6,
    "start_time": "2024-09-17T06:29:18.054Z"
   },
   {
    "duration": 7,
    "start_time": "2024-09-17T06:30:17.311Z"
   },
   {
    "duration": 7,
    "start_time": "2024-09-17T06:30:44.650Z"
   },
   {
    "duration": 9,
    "start_time": "2024-09-17T06:31:36.670Z"
   },
   {
    "duration": 9,
    "start_time": "2024-09-17T06:33:08.967Z"
   },
   {
    "duration": 9,
    "start_time": "2024-09-17T06:33:58.420Z"
   },
   {
    "duration": 6,
    "start_time": "2024-09-17T06:34:19.042Z"
   },
   {
    "duration": 5,
    "start_time": "2024-09-17T06:47:26.688Z"
   },
   {
    "duration": 26,
    "start_time": "2024-09-17T06:48:49.456Z"
   },
   {
    "duration": 16,
    "start_time": "2024-09-17T06:49:15.118Z"
   },
   {
    "duration": 14,
    "start_time": "2024-09-17T06:50:54.666Z"
   },
   {
    "duration": 9,
    "start_time": "2024-09-17T06:57:49.980Z"
   },
   {
    "duration": 11,
    "start_time": "2024-09-17T07:00:03.028Z"
   },
   {
    "duration": 13,
    "start_time": "2024-09-17T07:00:29.919Z"
   },
   {
    "duration": 11,
    "start_time": "2024-09-17T07:00:37.763Z"
   },
   {
    "duration": 15,
    "start_time": "2024-09-17T07:01:40.586Z"
   },
   {
    "duration": 14,
    "start_time": "2024-09-17T07:01:54.338Z"
   },
   {
    "duration": 1228,
    "start_time": "2024-09-17T07:02:17.527Z"
   },
   {
    "duration": 80,
    "start_time": "2024-09-17T07:02:18.757Z"
   },
   {
    "duration": 11,
    "start_time": "2024-09-17T07:02:18.838Z"
   },
   {
    "duration": 18,
    "start_time": "2024-09-17T07:02:18.851Z"
   },
   {
    "duration": 62,
    "start_time": "2024-09-17T07:02:18.870Z"
   },
   {
    "duration": 22,
    "start_time": "2024-09-17T07:02:18.933Z"
   },
   {
    "duration": 19,
    "start_time": "2024-09-17T07:02:18.956Z"
   },
   {
    "duration": 14,
    "start_time": "2024-09-17T07:02:18.976Z"
   },
   {
    "duration": 12,
    "start_time": "2024-09-17T07:02:18.991Z"
   },
   {
    "duration": 6,
    "start_time": "2024-09-17T07:02:19.005Z"
   },
   {
    "duration": 9,
    "start_time": "2024-09-17T07:02:19.012Z"
   },
   {
    "duration": 24,
    "start_time": "2024-09-17T07:02:19.023Z"
   },
   {
    "duration": 7,
    "start_time": "2024-09-17T07:02:19.048Z"
   },
   {
    "duration": 33,
    "start_time": "2024-09-17T07:02:19.057Z"
   },
   {
    "duration": 11,
    "start_time": "2024-09-17T07:02:19.091Z"
   },
   {
    "duration": 7,
    "start_time": "2024-09-17T07:02:19.104Z"
   },
   {
    "duration": 183,
    "start_time": "2024-09-17T07:02:19.112Z"
   },
   {
    "duration": 143,
    "start_time": "2024-09-17T07:02:19.297Z"
   },
   {
    "duration": 182,
    "start_time": "2024-09-17T07:02:19.441Z"
   },
   {
    "duration": 433,
    "start_time": "2024-09-17T07:02:19.625Z"
   },
   {
    "duration": 388,
    "start_time": "2024-09-17T07:02:20.060Z"
   },
   {
    "duration": 3,
    "start_time": "2024-09-17T07:02:20.450Z"
   },
   {
    "duration": 29,
    "start_time": "2024-09-17T07:02:20.455Z"
   },
   {
    "duration": 25,
    "start_time": "2024-09-17T07:02:20.485Z"
   },
   {
    "duration": 8,
    "start_time": "2024-09-17T07:02:20.511Z"
   },
   {
    "duration": 20,
    "start_time": "2024-09-17T07:02:20.520Z"
   },
   {
    "duration": 25,
    "start_time": "2024-09-17T07:02:20.542Z"
   },
   {
    "duration": 26,
    "start_time": "2024-09-17T07:02:20.570Z"
   },
   {
    "duration": 200,
    "start_time": "2024-09-17T07:02:20.598Z"
   },
   {
    "duration": 12,
    "start_time": "2024-09-17T07:02:20.800Z"
   },
   {
    "duration": 179,
    "start_time": "2024-09-17T07:02:20.814Z"
   },
   {
    "duration": 12,
    "start_time": "2024-09-17T07:02:20.995Z"
   },
   {
    "duration": 74,
    "start_time": "2024-09-17T07:02:21.009Z"
   },
   {
    "duration": 23,
    "start_time": "2024-09-17T07:02:21.085Z"
   },
   {
    "duration": 20,
    "start_time": "2024-09-17T07:02:21.109Z"
   },
   {
    "duration": 14,
    "start_time": "2024-09-17T07:02:21.131Z"
   },
   {
    "duration": 10,
    "start_time": "2024-09-17T07:02:21.147Z"
   },
   {
    "duration": 32,
    "start_time": "2024-09-17T07:02:21.159Z"
   },
   {
    "duration": 18,
    "start_time": "2024-09-17T07:02:21.192Z"
   },
   {
    "duration": 13,
    "start_time": "2024-09-17T07:02:21.212Z"
   },
   {
    "duration": 17,
    "start_time": "2024-09-17T07:02:21.226Z"
   },
   {
    "duration": 24,
    "start_time": "2024-09-17T07:02:21.245Z"
   },
   {
    "duration": 17,
    "start_time": "2024-09-17T07:02:21.271Z"
   },
   {
    "duration": 10,
    "start_time": "2024-09-17T07:02:21.289Z"
   },
   {
    "duration": 31,
    "start_time": "2024-09-17T07:02:21.301Z"
   },
   {
    "duration": 126,
    "start_time": "2024-09-17T07:02:21.334Z"
   },
   {
    "duration": 827,
    "start_time": "2024-09-17T07:06:46.804Z"
   },
   {
    "duration": 844,
    "start_time": "2024-09-17T07:07:44.852Z"
   },
   {
    "duration": 910,
    "start_time": "2024-09-17T07:36:18.216Z"
   },
   {
    "duration": 10,
    "start_time": "2024-09-17T07:52:07.552Z"
   },
   {
    "duration": 44,
    "start_time": "2024-09-17T07:53:07.748Z"
   },
   {
    "duration": 9,
    "start_time": "2024-09-17T07:54:58.703Z"
   },
   {
    "duration": 5,
    "start_time": "2024-09-17T07:55:28.947Z"
   },
   {
    "duration": 7,
    "start_time": "2024-09-17T07:56:06.778Z"
   },
   {
    "duration": 1285,
    "start_time": "2024-09-17T07:56:21.468Z"
   },
   {
    "duration": 1176,
    "start_time": "2024-09-17T07:56:40.136Z"
   },
   {
    "duration": 87,
    "start_time": "2024-09-17T07:56:41.314Z"
   },
   {
    "duration": 14,
    "start_time": "2024-09-17T07:56:41.403Z"
   },
   {
    "duration": 11,
    "start_time": "2024-09-17T07:56:41.419Z"
   },
   {
    "duration": 16,
    "start_time": "2024-09-17T07:56:41.432Z"
   },
   {
    "duration": 7,
    "start_time": "2024-09-17T07:56:41.449Z"
   },
   {
    "duration": 12,
    "start_time": "2024-09-17T07:56:41.457Z"
   },
   {
    "duration": 9,
    "start_time": "2024-09-17T07:56:41.471Z"
   },
   {
    "duration": 18,
    "start_time": "2024-09-17T07:56:41.482Z"
   },
   {
    "duration": 4,
    "start_time": "2024-09-17T07:56:41.503Z"
   },
   {
    "duration": 33,
    "start_time": "2024-09-17T07:56:41.509Z"
   },
   {
    "duration": 9,
    "start_time": "2024-09-17T07:56:41.545Z"
   },
   {
    "duration": 7,
    "start_time": "2024-09-17T07:56:41.555Z"
   },
   {
    "duration": 17,
    "start_time": "2024-09-17T07:56:41.563Z"
   },
   {
    "duration": 19,
    "start_time": "2024-09-17T07:56:41.581Z"
   },
   {
    "duration": 9,
    "start_time": "2024-09-17T07:56:41.602Z"
   },
   {
    "duration": 194,
    "start_time": "2024-09-17T07:56:41.613Z"
   },
   {
    "duration": 151,
    "start_time": "2024-09-17T07:56:41.808Z"
   },
   {
    "duration": 193,
    "start_time": "2024-09-17T07:56:41.961Z"
   },
   {
    "duration": 415,
    "start_time": "2024-09-17T07:56:42.156Z"
   },
   {
    "duration": 480,
    "start_time": "2024-09-17T07:56:42.573Z"
   },
   {
    "duration": 5,
    "start_time": "2024-09-17T07:56:43.054Z"
   },
   {
    "duration": 24,
    "start_time": "2024-09-17T07:56:43.060Z"
   },
   {
    "duration": 14,
    "start_time": "2024-09-17T07:56:43.086Z"
   },
   {
    "duration": 10,
    "start_time": "2024-09-17T07:56:43.102Z"
   },
   {
    "duration": 45,
    "start_time": "2024-09-17T07:56:43.113Z"
   },
   {
    "duration": 19,
    "start_time": "2024-09-17T07:56:43.161Z"
   },
   {
    "duration": 18,
    "start_time": "2024-09-17T07:56:43.185Z"
   },
   {
    "duration": 193,
    "start_time": "2024-09-17T07:56:43.205Z"
   },
   {
    "duration": 816,
    "start_time": "2024-09-17T07:56:43.400Z"
   },
   {
    "duration": 13,
    "start_time": "2024-09-17T07:56:44.218Z"
   },
   {
    "duration": 185,
    "start_time": "2024-09-17T07:56:44.232Z"
   },
   {
    "duration": 935,
    "start_time": "2024-09-17T07:56:44.419Z"
   },
   {
    "duration": 13,
    "start_time": "2024-09-17T07:56:45.355Z"
   },
   {
    "duration": 81,
    "start_time": "2024-09-17T07:56:45.370Z"
   },
   {
    "duration": 49,
    "start_time": "2024-09-17T07:56:45.452Z"
   },
   {
    "duration": 17,
    "start_time": "2024-09-17T07:56:45.503Z"
   },
   {
    "duration": 22,
    "start_time": "2024-09-17T07:56:45.522Z"
   },
   {
    "duration": 12,
    "start_time": "2024-09-17T07:56:45.545Z"
   },
   {
    "duration": 13,
    "start_time": "2024-09-17T07:56:45.559Z"
   },
   {
    "duration": 21,
    "start_time": "2024-09-17T07:56:45.574Z"
   },
   {
    "duration": 16,
    "start_time": "2024-09-17T07:56:45.597Z"
   },
   {
    "duration": 31,
    "start_time": "2024-09-17T07:56:45.615Z"
   },
   {
    "duration": 34,
    "start_time": "2024-09-17T07:56:45.647Z"
   },
   {
    "duration": 17,
    "start_time": "2024-09-17T07:56:45.683Z"
   },
   {
    "duration": 11,
    "start_time": "2024-09-17T07:56:45.701Z"
   },
   {
    "duration": 9,
    "start_time": "2024-09-17T07:56:45.713Z"
   },
   {
    "duration": 33,
    "start_time": "2024-09-17T07:56:45.723Z"
   },
   {
    "duration": 100,
    "start_time": "2024-09-17T07:56:45.758Z"
   },
   {
    "duration": 1426,
    "start_time": "2024-09-17T12:37:03.310Z"
   },
   {
    "duration": 337,
    "start_time": "2024-09-17T12:37:04.739Z"
   },
   {
    "duration": 11,
    "start_time": "2024-09-17T12:37:05.078Z"
   },
   {
    "duration": 16,
    "start_time": "2024-09-17T12:37:05.091Z"
   },
   {
    "duration": 28,
    "start_time": "2024-09-17T12:37:05.109Z"
   },
   {
    "duration": 16,
    "start_time": "2024-09-17T12:37:05.139Z"
   },
   {
    "duration": 18,
    "start_time": "2024-09-17T12:37:05.156Z"
   },
   {
    "duration": 13,
    "start_time": "2024-09-17T12:37:05.176Z"
   },
   {
    "duration": 19,
    "start_time": "2024-09-17T12:37:05.191Z"
   },
   {
    "duration": 11,
    "start_time": "2024-09-17T12:37:05.212Z"
   },
   {
    "duration": 17,
    "start_time": "2024-09-17T12:37:05.225Z"
   },
   {
    "duration": 16,
    "start_time": "2024-09-17T12:37:05.243Z"
   },
   {
    "duration": 8,
    "start_time": "2024-09-17T12:37:05.260Z"
   },
   {
    "duration": 18,
    "start_time": "2024-09-17T12:37:05.270Z"
   },
   {
    "duration": 11,
    "start_time": "2024-09-17T12:37:05.290Z"
   },
   {
    "duration": 7,
    "start_time": "2024-09-17T12:37:05.303Z"
   },
   {
    "duration": 201,
    "start_time": "2024-09-17T12:37:05.311Z"
   },
   {
    "duration": 163,
    "start_time": "2024-09-17T12:37:05.514Z"
   },
   {
    "duration": 193,
    "start_time": "2024-09-17T12:37:05.679Z"
   },
   {
    "duration": 417,
    "start_time": "2024-09-17T12:37:05.873Z"
   },
   {
    "duration": 400,
    "start_time": "2024-09-17T12:37:06.291Z"
   },
   {
    "duration": 4,
    "start_time": "2024-09-17T12:37:06.692Z"
   },
   {
    "duration": 17,
    "start_time": "2024-09-17T12:37:06.697Z"
   },
   {
    "duration": 17,
    "start_time": "2024-09-17T12:37:06.716Z"
   },
   {
    "duration": 8,
    "start_time": "2024-09-17T12:37:06.735Z"
   },
   {
    "duration": 36,
    "start_time": "2024-09-17T12:37:06.745Z"
   },
   {
    "duration": 21,
    "start_time": "2024-09-17T12:37:06.783Z"
   },
   {
    "duration": 22,
    "start_time": "2024-09-17T12:37:06.808Z"
   },
   {
    "duration": 180,
    "start_time": "2024-09-17T12:37:06.832Z"
   },
   {
    "duration": 833,
    "start_time": "2024-09-17T12:37:07.014Z"
   },
   {
    "duration": 14,
    "start_time": "2024-09-17T12:37:07.849Z"
   },
   {
    "duration": 177,
    "start_time": "2024-09-17T12:37:07.876Z"
   },
   {
    "duration": 901,
    "start_time": "2024-09-17T12:37:08.055Z"
   },
   {
    "duration": 20,
    "start_time": "2024-09-17T12:37:08.957Z"
   },
   {
    "duration": 30,
    "start_time": "2024-09-17T12:37:08.979Z"
   },
   {
    "duration": 26,
    "start_time": "2024-09-17T12:37:09.011Z"
   },
   {
    "duration": 10,
    "start_time": "2024-09-17T12:37:09.039Z"
   },
   {
    "duration": 27,
    "start_time": "2024-09-17T12:37:09.050Z"
   },
   {
    "duration": 13,
    "start_time": "2024-09-17T12:37:09.078Z"
   },
   {
    "duration": 9,
    "start_time": "2024-09-17T12:37:09.093Z"
   },
   {
    "duration": 14,
    "start_time": "2024-09-17T12:37:09.104Z"
   },
   {
    "duration": 16,
    "start_time": "2024-09-17T12:37:09.120Z"
   },
   {
    "duration": 39,
    "start_time": "2024-09-17T12:37:09.138Z"
   },
   {
    "duration": 7,
    "start_time": "2024-09-17T12:37:09.179Z"
   },
   {
    "duration": 4,
    "start_time": "2024-09-17T12:37:09.187Z"
   },
   {
    "duration": 6,
    "start_time": "2024-09-17T12:37:09.192Z"
   },
   {
    "duration": 5,
    "start_time": "2024-09-17T12:37:09.199Z"
   },
   {
    "duration": 9,
    "start_time": "2024-09-17T12:37:09.206Z"
   },
   {
    "duration": 141,
    "start_time": "2024-09-17T12:37:09.217Z"
   },
   {
    "duration": 64,
    "start_time": "2024-09-17T13:23:17.832Z"
   },
   {
    "duration": 62,
    "start_time": "2024-09-17T13:23:23.939Z"
   },
   {
    "duration": 65,
    "start_time": "2024-09-17T13:23:49.911Z"
   },
   {
    "duration": 63,
    "start_time": "2024-09-17T13:24:40.332Z"
   },
   {
    "duration": 59,
    "start_time": "2024-09-17T13:25:16.801Z"
   },
   {
    "duration": 76,
    "start_time": "2024-09-17T13:29:26.950Z"
   },
   {
    "duration": 60,
    "start_time": "2024-09-17T13:29:35.650Z"
   },
   {
    "duration": 56,
    "start_time": "2024-09-17T13:29:43.884Z"
   },
   {
    "duration": 62,
    "start_time": "2024-09-17T13:30:03.685Z"
   },
   {
    "duration": 55,
    "start_time": "2024-09-17T13:32:57.283Z"
   },
   {
    "duration": 63,
    "start_time": "2024-09-17T13:33:42.504Z"
   },
   {
    "duration": 410,
    "start_time": "2024-09-17T13:36:06.572Z"
   },
   {
    "duration": 480,
    "start_time": "2024-09-17T13:37:06.409Z"
   },
   {
    "duration": 674,
    "start_time": "2024-09-17T13:37:43.650Z"
   },
   {
    "duration": 201,
    "start_time": "2024-09-17T13:38:12.087Z"
   },
   {
    "duration": 391,
    "start_time": "2024-09-17T13:39:35.987Z"
   },
   {
    "duration": 118,
    "start_time": "2024-09-17T13:39:52.308Z"
   },
   {
    "duration": 122,
    "start_time": "2024-09-17T13:40:48.586Z"
   },
   {
    "duration": 87,
    "start_time": "2024-09-17T13:47:07.453Z"
   },
   {
    "duration": 59,
    "start_time": "2024-09-17T13:51:55.585Z"
   },
   {
    "duration": 66,
    "start_time": "2024-09-17T13:52:07.030Z"
   },
   {
    "duration": 59,
    "start_time": "2024-09-17T13:52:10.926Z"
   },
   {
    "duration": 9,
    "start_time": "2024-09-17T13:52:24.819Z"
   },
   {
    "duration": 1249,
    "start_time": "2024-09-17T17:28:19.477Z"
   },
   {
    "duration": 306,
    "start_time": "2024-09-17T17:28:20.728Z"
   },
   {
    "duration": 11,
    "start_time": "2024-09-17T17:28:21.037Z"
   },
   {
    "duration": 8,
    "start_time": "2024-09-17T17:28:21.049Z"
   },
   {
    "duration": 11,
    "start_time": "2024-09-17T17:28:21.059Z"
   },
   {
    "duration": 6,
    "start_time": "2024-09-17T17:28:21.071Z"
   },
   {
    "duration": 22,
    "start_time": "2024-09-17T17:28:21.078Z"
   },
   {
    "duration": 17,
    "start_time": "2024-09-17T17:28:21.101Z"
   },
   {
    "duration": 10,
    "start_time": "2024-09-17T17:28:21.120Z"
   },
   {
    "duration": 4,
    "start_time": "2024-09-17T17:28:21.133Z"
   },
   {
    "duration": 7,
    "start_time": "2024-09-17T17:28:21.138Z"
   },
   {
    "duration": 8,
    "start_time": "2024-09-17T17:28:21.146Z"
   },
   {
    "duration": 7,
    "start_time": "2024-09-17T17:28:21.155Z"
   },
   {
    "duration": 19,
    "start_time": "2024-09-17T17:28:21.163Z"
   },
   {
    "duration": 10,
    "start_time": "2024-09-17T17:28:21.183Z"
   },
   {
    "duration": 6,
    "start_time": "2024-09-17T17:28:21.194Z"
   },
   {
    "duration": 176,
    "start_time": "2024-09-17T17:28:21.202Z"
   },
   {
    "duration": 150,
    "start_time": "2024-09-17T17:28:21.379Z"
   },
   {
    "duration": 188,
    "start_time": "2024-09-17T17:28:21.531Z"
   },
   {
    "duration": 454,
    "start_time": "2024-09-17T17:28:21.721Z"
   },
   {
    "duration": 125,
    "start_time": "2024-09-17T17:28:22.177Z"
   },
   {
    "duration": 474,
    "start_time": "2024-09-17T17:28:22.304Z"
   },
   {
    "duration": 125,
    "start_time": "2024-09-17T17:28:22.779Z"
   },
   {
    "duration": 4,
    "start_time": "2024-09-17T17:28:22.905Z"
   },
   {
    "duration": 17,
    "start_time": "2024-09-17T17:28:22.910Z"
   },
   {
    "duration": 12,
    "start_time": "2024-09-17T17:28:22.928Z"
   },
   {
    "duration": 7,
    "start_time": "2024-09-17T17:28:22.942Z"
   },
   {
    "duration": 12,
    "start_time": "2024-09-17T17:28:22.975Z"
   },
   {
    "duration": 14,
    "start_time": "2024-09-17T17:28:22.988Z"
   },
   {
    "duration": 13,
    "start_time": "2024-09-17T17:28:23.004Z"
   },
   {
    "duration": 182,
    "start_time": "2024-09-17T17:28:23.018Z"
   },
   {
    "duration": 811,
    "start_time": "2024-09-17T17:28:23.201Z"
   },
   {
    "duration": 11,
    "start_time": "2024-09-17T17:28:24.014Z"
   },
   {
    "duration": 180,
    "start_time": "2024-09-17T17:28:24.026Z"
   },
   {
    "duration": 823,
    "start_time": "2024-09-17T17:28:24.207Z"
   },
   {
    "duration": 12,
    "start_time": "2024-09-17T17:28:25.031Z"
   },
   {
    "duration": 8,
    "start_time": "2024-09-17T17:28:25.045Z"
   },
   {
    "duration": 46,
    "start_time": "2024-09-17T17:28:25.054Z"
   },
   {
    "duration": 9,
    "start_time": "2024-09-17T17:28:25.101Z"
   },
   {
    "duration": 17,
    "start_time": "2024-09-17T17:28:25.111Z"
   },
   {
    "duration": 11,
    "start_time": "2024-09-17T17:28:25.130Z"
   },
   {
    "duration": 34,
    "start_time": "2024-09-17T17:28:25.142Z"
   },
   {
    "duration": 14,
    "start_time": "2024-09-17T17:28:25.177Z"
   },
   {
    "duration": 15,
    "start_time": "2024-09-17T17:28:25.193Z"
   },
   {
    "duration": 2,
    "start_time": "2024-09-17T17:28:25.210Z"
   },
   {
    "duration": 5,
    "start_time": "2024-09-17T17:28:25.214Z"
   },
   {
    "duration": 4,
    "start_time": "2024-09-17T17:28:25.220Z"
   },
   {
    "duration": 6,
    "start_time": "2024-09-17T17:28:25.225Z"
   },
   {
    "duration": 5,
    "start_time": "2024-09-17T17:28:25.232Z"
   },
   {
    "duration": 49,
    "start_time": "2024-09-17T17:28:25.238Z"
   },
   {
    "duration": 105,
    "start_time": "2024-09-17T17:28:25.289Z"
   }
  ],
  "kernelspec": {
   "display_name": "Python 3 (ipykernel)",
   "language": "python",
   "name": "python3"
  },
  "language_info": {
   "codemirror_mode": {
    "name": "ipython",
    "version": 3
   },
   "file_extension": ".py",
   "mimetype": "text/x-python",
   "name": "python",
   "nbconvert_exporter": "python",
   "pygments_lexer": "ipython3",
   "version": "3.9.5"
  },
  "toc": {
   "base_numbering": 1,
   "nav_menu": {},
   "number_sections": true,
   "sideBar": true,
   "skip_h1_title": true,
   "title_cell": "Table of Contents",
   "title_sidebar": "Contents",
   "toc_cell": false,
   "toc_position": {},
   "toc_section_display": true,
   "toc_window_display": true
  }
 },
 "nbformat": 4,
 "nbformat_minor": 5
}
